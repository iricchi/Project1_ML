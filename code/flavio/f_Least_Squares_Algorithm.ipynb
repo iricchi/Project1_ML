{
 "cells": [
  {
   "cell_type": "markdown",
   "metadata": {},
   "source": [
    "# LEAST SQUARES POLYNOMIAL IMPLEMENTATION"
   ]
  },
  {
   "cell_type": "markdown",
   "metadata": {},
   "source": [
    "# Load data"
   ]
  },
  {
   "cell_type": "code",
   "execution_count": 1,
   "metadata": {
    "collapsed": true
   },
   "outputs": [],
   "source": [
    "import sys\n",
    "my_path = r'C:\\Users\\utente\\Documents\\GitHub\\Project1_ML'\n",
    "sys.path.insert(0,my_path + r'\\code\\COMMON')\n",
    "\n",
    "# import external modules\n",
    "import numpy as np\n",
    "import matplotlib.pyplot as plt\n",
    "\n",
    "# import internal modules\n",
    "from proj1_helpers import *\n",
    "from implementations import *\n",
    "from standard import standardize"
   ]
  },
  {
   "cell_type": "code",
   "execution_count": 2,
   "metadata": {},
   "outputs": [
    {
     "name": "stdout",
     "output_type": "stream",
     "text": [
      "Data loaded! Shape: \n",
      "(250000, 30)\n"
     ]
    }
   ],
   "source": [
    "yb, input_data, ids = load_csv_data(my_path + r'\\data\\train.csv', sub_sample=False)\n",
    "\n",
    "print(\"Data loaded! Shape: \")\n",
    "print(np.shape(input_data))"
   ]
  },
  {
   "cell_type": "markdown",
   "metadata": {},
   "source": [
    "# Remove -999 or substitution with mean"
   ]
  },
  {
   "cell_type": "code",
   "execution_count": 3,
   "metadata": {},
   "outputs": [
    {
     "name": "stdout",
     "output_type": "stream",
     "text": [
      "[38114, 0, 0, 0, 177457, 177457, 177457, 0, 0, 0, 0, 0, 177457, 0, 0, 0, 0, 0, 0, 0, 0, 0, 0, 99913, 99913, 99913, 177457, 177457, 177457, 0]\n"
     ]
    }
   ],
   "source": [
    "X = input_data\n",
    "nine_count=[]\n",
    "\n",
    "for i in range(0, np.shape(input_data)[1],1):\n",
    "    nine_count.append(np.shape(np.where((input_data.T)[i]==-999))[1])\n",
    "    \n",
    "print(nine_count)"
   ]
  },
  {
   "cell_type": "code",
   "execution_count": 4,
   "metadata": {},
   "outputs": [
    {
     "name": "stdout",
     "output_type": "stream",
     "text": [
      "-999 Deleted! Shape:\n",
      "(68114, 30)\n"
     ]
    }
   ],
   "source": [
    "DELETE = 1;\n",
    "MEAN_SUB = 0;\n",
    "\n",
    "delete_method = DELETE\n",
    "\n",
    "if delete_method:\n",
    "    Y = yb\n",
    "    for i in range(input_data.shape[1]):\n",
    "        del_idx = np.where(X[:,i] == -999)\n",
    "        X = np.delete(X, del_idx, 0)      \n",
    "        Y = np.delete(Y, del_idx, 0)\n",
    "    print(\"-999 Deleted! Shape:\")\n",
    "    \n",
    "else:\n",
    "    for i in range(input_data.shape[1]):\n",
    "        X = np.delete(X, np.where(X[:,i] == -999), 0)\n",
    "\n",
    "    means = np.mean(X, axis=0)\n",
    "\n",
    "    for i in range(input_data.shape[1]):\n",
    "        input_data[np.where(input_data[:,i]==-999),i] = means[i]\n",
    "    X = input_data\n",
    "    Y = yb\n",
    "    \n",
    "    print(\"-999 Substituted with the mean! Shape\")\n",
    "    \n",
    "print(np.shape(X))"
   ]
  },
  {
   "cell_type": "code",
   "execution_count": 5,
   "metadata": {},
   "outputs": [
    {
     "name": "stdout",
     "output_type": "stream",
     "text": [
      "[0, 0, 0, 0, 0, 0, 0, 0, 0, 0, 0, 0, 0, 0, 0, 0, 0, 0, 0, 0, 0, 0, 0, 0, 0, 0, 0, 0, 0, 0]\n"
     ]
    }
   ],
   "source": [
    "nine_count=[]\n",
    "\n",
    "for i in range(0, np.shape(X)[1],1):\n",
    "    nine_count.append(np.shape(np.where((X.T)[i]==-999))[1])\n",
    "\n",
    "print(nine_count)"
   ]
  },
  {
   "cell_type": "markdown",
   "metadata": {},
   "source": [
    "# Standardization"
   ]
  },
  {
   "cell_type": "code",
   "execution_count": 6,
   "metadata": {},
   "outputs": [],
   "source": [
    "Xstd, mean_X, std_X = standardize(X)    \n",
    "Xstd.shape\n",
    "\n",
    "X = Xstd"
   ]
  },
  {
   "cell_type": "markdown",
   "metadata": {},
   "source": [
    "# Build_poly"
   ]
  },
  {
   "cell_type": "code",
   "execution_count": 7,
   "metadata": {
    "collapsed": true
   },
   "outputs": [],
   "source": [
    "def build_poly(x, degree):\n",
    "    \"\"\"polynomial basis functions for input data x, for j=0 up to j=degree.\"\"\"\n",
    "    \n",
    "    X = np.vander((x[:,0]).T, degree+1, increasing=True)\n",
    "    \n",
    "    for i in range(1,np.shape(x)[1],1):\n",
    "        feat = (x[:,i]).T\n",
    "        vander = np.vander(feat, degree+1, increasing=True)\n",
    "        #remove the column of 1 at the beginning of each vander\n",
    "        vander = np.delete(vander, 0,axis = 1)\n",
    "        #concatenation\n",
    "        X = np.concatenate((X, vander), axis=1)\n",
    "    \n",
    "    return X"
   ]
  },
  {
   "cell_type": "markdown",
   "metadata": {},
   "source": [
    "Build_poly testing"
   ]
  },
  {
   "cell_type": "code",
   "execution_count": 8,
   "metadata": {},
   "outputs": [
    {
     "name": "stdout",
     "output_type": "stream",
     "text": [
      "[[2 3]]\n"
     ]
    },
    {
     "data": {
      "text/plain": [
       "array([[  1,   2,   4,   8,   3,   9,  27,   4,  16,  64],\n",
       "       [  1,   5,  25, 125,   6,  36, 216,   7,  49, 343]])"
      ]
     },
     "execution_count": 8,
     "metadata": {},
     "output_type": "execute_result"
    }
   ],
   "source": [
    "A = np.array([[2, 3, 4], [5, 6, 7]])\n",
    "b = np.array([[2,3]])\n",
    "\n",
    "print(b)\n",
    "\n",
    "build_poly(A, 3)\n"
   ]
  },
  {
   "cell_type": "markdown",
   "metadata": {},
   "source": [
    "# Least Squares"
   ]
  },
  {
   "cell_type": "code",
   "execution_count": 9,
   "metadata": {},
   "outputs": [],
   "source": [
    "w, loss = least_squares(Y, X)"
   ]
  },
  {
   "cell_type": "code",
   "execution_count": 10,
   "metadata": {},
   "outputs": [
    {
     "data": {
      "text/plain": [
       "array([ -1.17640522e-01,  -5.52123243e-01,  -3.66659340e-01,\n",
       "         4.28408519e-01,  -9.39054796e-01,   6.92131844e-02,\n",
       "         4.44975426e-01,   4.94896674e+01,  -2.95168677e-01,\n",
       "         3.40608586e+01,  -2.32999113e+01,   1.64630980e+01,\n",
       "         5.24609139e+01,  -3.34666729e+01,  -5.23000787e-01,\n",
       "         3.45788920e-02,  -3.30479148e+01,  -6.94110475e-01,\n",
       "         2.78263357e-01,   1.68820197e-01,   4.16889440e-01,\n",
       "        -1.20236231e-01,  -2.64256662e+01,  -3.99506855e-01,\n",
       "         4.40256269e-01,   4.73198246e-01,   5.66094975e-02,\n",
       "         3.38788428e-01,  -2.30033136e-01,  -3.39704798e+01])"
      ]
     },
     "execution_count": 10,
     "metadata": {},
     "output_type": "execute_result"
    }
   ],
   "source": [
    "w"
   ]
  },
  {
   "cell_type": "code",
   "execution_count": 11,
   "metadata": {},
   "outputs": [
    {
     "data": {
      "text/plain": [
       "0.36788093286707663"
      ]
     },
     "execution_count": 11,
     "metadata": {},
     "output_type": "execute_result"
    }
   ],
   "source": [
    "loss"
   ]
  },
  {
   "cell_type": "code",
   "execution_count": 12,
   "metadata": {
    "collapsed": true
   },
   "outputs": [],
   "source": [
    "y_model = np.sign(X.dot(w))"
   ]
  },
  {
   "cell_type": "code",
   "execution_count": 13,
   "metadata": {},
   "outputs": [
    {
     "data": {
      "text/plain": [
       "(68114,)"
      ]
     },
     "execution_count": 13,
     "metadata": {},
     "output_type": "execute_result"
    }
   ],
   "source": [
    "np.shape(y_model)"
   ]
  },
  {
   "cell_type": "code",
   "execution_count": 14,
   "metadata": {},
   "outputs": [
    {
     "name": "stdout",
     "output_type": "stream",
     "text": [
      "49439\n",
      "18675\n"
     ]
    }
   ],
   "source": [
    "pos = 0\n",
    "neg = 0\n",
    "for i in range (len(Y)):\n",
    "    if Y[i] == y_model[i]:\n",
    "        pos += 1\n",
    "    else:\n",
    "        neg += 1\n",
    "print(pos)\n",
    "print(neg)"
   ]
  },
  {
   "cell_type": "code",
   "execution_count": 15,
   "metadata": {},
   "outputs": [
    {
     "name": "stdout",
     "output_type": "stream",
     "text": [
      "0.7258272895439998\n"
     ]
    }
   ],
   "source": [
    "success_rate = pos/(pos+neg)\n",
    "print(success_rate)"
   ]
  },
  {
   "cell_type": "markdown",
   "metadata": {},
   "source": [
    "# Least Squares Poly"
   ]
  },
  {
   "cell_type": "code",
   "execution_count": 9,
   "metadata": {},
   "outputs": [
    {
     "name": "stdout",
     "output_type": "stream",
     "text": [
      "[[  1.00000000e+00   5.65377932e-01   3.19652207e-01 ...,   3.79160453e-01\n",
      "    1.43762649e-01   5.45091112e-02]\n",
      " [  1.00000000e+00   2.02040212e-01   4.08202471e-02 ...,   9.76916101e-01\n",
      "    9.54365069e-01   9.32334603e-01]\n",
      " [  1.00000000e+00   6.42063175e-01   4.12245121e-01 ...,   8.74139682e-01\n",
      "    7.64120184e-01   6.67947775e-01]\n",
      " ..., \n",
      " [  1.00000000e+00   4.73518199e-01   2.24219485e-01 ...,   9.72732863e-01\n",
      "    9.46209223e-01   9.20408807e-01]\n",
      " [  1.00000000e+00   5.02778495e-01   2.52786216e-01 ...,   3.60472041e+00\n",
      "    1.29940093e+01   4.68397704e+01]\n",
      " [  1.00000000e+00   1.15110584e+00   1.32504465e+00 ...,   8.31628736e-01\n",
      "    6.91606355e-01   5.75159719e-01]]\n"
     ]
    }
   ],
   "source": [
    "X = build_poly(X, 3)\n",
    "print(X)"
   ]
  },
  {
   "cell_type": "code",
   "execution_count": 10,
   "metadata": {},
   "outputs": [],
   "source": [
    "w, loss = least_squares(Y, X)"
   ]
  },
  {
   "cell_type": "code",
   "execution_count": 11,
   "metadata": {},
   "outputs": [
    {
     "data": {
      "text/plain": [
       "(91,)"
      ]
     },
     "execution_count": 11,
     "metadata": {},
     "output_type": "execute_result"
    }
   ],
   "source": [
    "np.shape(w)"
   ]
  },
  {
   "cell_type": "code",
   "execution_count": 12,
   "metadata": {},
   "outputs": [
    {
     "data": {
      "text/plain": [
       "(68114,)"
      ]
     },
     "execution_count": 12,
     "metadata": {},
     "output_type": "execute_result"
    }
   ],
   "source": [
    "y_model = np.sign(X.dot(w))\n",
    "np.shape(y_model)"
   ]
  },
  {
   "cell_type": "code",
   "execution_count": 13,
   "metadata": {},
   "outputs": [
    {
     "name": "stdout",
     "output_type": "stream",
     "text": [
      "53700\n",
      "14414\n",
      "0.78838417946384\n"
     ]
    }
   ],
   "source": [
    "pos = 0\n",
    "neg = 0\n",
    "for i in range (len(Y)):\n",
    "    if Y[i] == y_model[i]:\n",
    "        pos += 1\n",
    "    else:\n",
    "        neg += 1\n",
    "print(pos)\n",
    "print(neg)\n",
    "\n",
    "success_rate = pos/(pos+neg)\n",
    "print(success_rate)"
   ]
  },
  {
   "cell_type": "markdown",
   "metadata": {},
   "source": [
    "# Load data for the test"
   ]
  },
  {
   "cell_type": "code",
   "execution_count": 14,
   "metadata": {},
   "outputs": [
    {
     "name": "stdout",
     "output_type": "stream",
     "text": [
      "Data loaded! Shape: \n",
      "(568238, 30)\n"
     ]
    }
   ],
   "source": [
    "nope, test_data, ids = load_csv_data(my_path + r'\\data\\test.csv', sub_sample=False)\n",
    "\n",
    "print(\"Data loaded! Shape: \")\n",
    "print(np.shape(test_data))"
   ]
  },
  {
   "cell_type": "code",
   "execution_count": 15,
   "metadata": {},
   "outputs": [
    {
     "data": {
      "text/plain": [
       "(568238,)"
      ]
     },
     "execution_count": 15,
     "metadata": {},
     "output_type": "execute_result"
    }
   ],
   "source": [
    "test_X = build_poly(test_data, 3)\n",
    "\n",
    "y_predictions = np.sign(test_X.dot(w))\n",
    "np.shape(y_predictions)"
   ]
  },
  {
   "cell_type": "code",
   "execution_count": 16,
   "metadata": {},
   "outputs": [
    {
     "data": {
      "text/plain": [
       "array([ 1.,  1.,  1., ...,  1.,  1.,  1.])"
      ]
     },
     "execution_count": 16,
     "metadata": {},
     "output_type": "execute_result"
    }
   ],
   "source": [
    "y_predictions"
   ]
  },
  {
   "cell_type": "code",
   "execution_count": 17,
   "metadata": {
    "collapsed": true
   },
   "outputs": [],
   "source": [
    "create_csv_submission(ids, y_predictions, \"third_sub\")"
   ]
  }
 ],
 "metadata": {
  "kernelspec": {
   "display_name": "Python 3",
   "language": "python",
   "name": "python3"
  },
  "language_info": {
   "codemirror_mode": {
    "name": "ipython",
    "version": 3
   },
   "file_extension": ".py",
   "mimetype": "text/x-python",
   "name": "python",
   "nbconvert_exporter": "python",
   "pygments_lexer": "ipython3",
   "version": "3.6.2"
  }
 },
 "nbformat": 4,
 "nbformat_minor": 2
}
