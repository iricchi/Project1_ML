{
 "cells": [
  {
   "cell_type": "code",
   "execution_count": 30,
   "metadata": {},
   "outputs": [
    {
     "name": "stdout",
     "output_type": "stream",
     "text": [
      "The autoreload extension is already loaded. To reload it, use:\n",
      "  %reload_ext autoreload\n"
     ]
    }
   ],
   "source": [
    "# -*- coding: utf-8 -*-\n",
    "%matplotlib inline\n",
    "%load_ext autoreload\n",
    "%autoreload 2\n",
    "\n",
    "# add path of import\n",
    "import sys\n",
    "my_path = r'C:\\Users\\utente\\Documents\\GitHub\\Project1_ML'\n",
    "sys.path.insert(0,my_path + r'\\code\\COMMON')\n",
    "\n",
    "# import\n",
    "import numpy as np\n",
    "import random\n",
    "import matplotlib.pyplot as plt\n",
    "from cross_validation import *\n",
    "\n",
    "# import external modules\n",
    "import numpy as np\n",
    "import matplotlib.pyplot as plt\n",
    "\n",
    "# import internal modules\n",
    "from proj1_helpers import *\n",
    "from implementations import *\n",
    "from standard import standardize\n",
    "from outliers import handle_outliers"
   ]
  },
  {
   "cell_type": "markdown",
   "metadata": {},
   "source": [
    "# Load and Process Data"
   ]
  },
  {
   "cell_type": "code",
   "execution_count": 67,
   "metadata": {},
   "outputs": [
    {
     "name": "stdout",
     "output_type": "stream",
     "text": [
      "Data loaded! Shape: (250000, 30)\n",
      "Means:  [ -4.90230794e+01   4.92398193e+01   8.11819816e+01   5.78959617e+01\n",
      "  -7.08420675e+02  -6.01237051e+02  -7.09356603e+02   2.37309984e+00\n",
      "   1.89173324e+01   1.58432217e+02   1.43760943e+00  -1.28304708e-01\n",
      "  -7.08985189e+02   3.87074191e+01  -1.09730480e-02  -8.17107200e-03\n",
      "   4.66602072e+01  -1.95074680e-02   4.35429640e-02   4.17172345e+01\n",
      "  -1.01191920e-02   2.09797178e+02   9.79176000e-01  -3.48329567e+02\n",
      "  -3.99254314e+02  -3.99259788e+02  -6.92381204e+02  -7.09121609e+02\n",
      "  -7.09118631e+02   7.30645914e+01]   \n",
      "shape of the mean: (30,) \n",
      "\n",
      "-999 are replaced by the median value of the feature\n",
      "New shape: (250000, 30)\n",
      "\n",
      "Means:  [  1.20543057e+02   4.92398193e+01   8.11819816e+01   5.78959617e+01\n",
      "   2.22114240e+00   2.72824209e+02  -4.40022052e-01   2.37309984e+00\n",
      "   1.89173324e+01   1.58432217e+02   1.43760943e+00  -1.28304708e-01\n",
      "   4.65892200e-01   3.87074191e+01  -1.09730480e-02  -8.17107200e-03\n",
      "   4.66602072e+01  -1.95074680e-02   4.35429640e-02   4.17172345e+01\n",
      "  -1.01191920e-02   2.09797178e+02   9.79176000e-01   8.58399764e+01\n",
      "  -1.96589200e-03  -2.02288720e-02   5.08835993e+01  -1.33747560e-02\n",
      "  -6.13776000e-03   7.30645914e+01]\n"
     ]
    }
   ],
   "source": [
    "yb, input_data, ids = load_csv_data(my_path + r'\\data\\train.csv', sub_sample=False)\n",
    "\n",
    "print(\"Data loaded! Shape:\", np.shape(input_data))\n",
    "print(\"Means: \", np.mean(input_data, axis=0), \"  \\nshape of the mean:\", np.shape(np.mean(input_data, axis=0)), \"\\n\")\n",
    "\n",
    "#Outliers management\n",
    "X, Y = handle_outliers(input_data, yb, -999, 'median')\n",
    "print(\"New shape:\",np.shape(X))\n",
    "print(\"\\nMeans: \", np.mean(X, axis=0))"
   ]
  },
  {
   "cell_type": "code",
   "execution_count": 68,
   "metadata": {},
   "outputs": [
    {
     "name": "stdout",
     "output_type": "stream",
     "text": [
      "\n",
      "Data standardized\n",
      "Means:  [ -9.60049545e-13   2.67172084e-15  -2.43881304e-15   7.66525110e-15\n",
      "   1.17621763e-13   1.46730701e-11  -4.17518728e-15   3.25434287e-16\n",
      "   2.42094089e-15   5.62310642e-15  -1.00377179e-16   9.38739225e-17\n",
      "   2.22755415e-14  -2.25705166e-15   2.35569897e-18   1.88693505e-18\n",
      "   9.68207675e-15  -1.79774251e-18  -4.67269279e-18   4.62055343e-15\n",
      "   4.40042447e-18  -1.93682643e-14  -1.18006160e-17  -7.63849132e-13\n",
      "   9.38587391e-18   6.00154667e-16   3.08533772e-12   2.04648218e-17\n",
      "   2.65942336e-16  -3.97370314e-15]\n"
     ]
    }
   ],
   "source": [
    "#Standardization\n",
    "X, mean_X, std_X = standardize(X)    \n",
    "print(\"\\nData standardized\")\n",
    "print(\"Means: \", np.mean(X_std, axis=0))"
   ]
  },
  {
   "cell_type": "markdown",
   "metadata": {},
   "source": [
    "# Adding Features"
   ]
  },
  {
   "cell_type": "code",
   "execution_count": 75,
   "metadata": {},
   "outputs": [
    {
     "name": "stdout",
     "output_type": "stream",
     "text": [
      "(250000, 30)\n",
      "(250000, 31)\n"
     ]
    }
   ],
   "source": [
    "#Adding pure random feature column\n",
    "\n",
    "def add_random_feature(X):\n",
    "    \n",
    "    randoms = np.array([random.gauss(0,1) for i in range(np.shape(X)[0])], ndmin=2).T\n",
    "    X_ = np.concatenate((X, randoms), axis=1);\n",
    "    \n",
    "    return X_\n",
    "\n",
    "print(np.shape(X))\n",
    "X_f = add_random_feature(X)\n",
    "print(np.shape(X_f))\n"
   ]
  },
  {
   "cell_type": "markdown",
   "metadata": {},
   "source": [
    "# From now on the sample matrix is called X_f"
   ]
  },
  {
   "cell_type": "markdown",
   "metadata": {},
   "source": [
    "# Removing Useless Features"
   ]
  },
  {
   "cell_type": "code",
   "execution_count": 86,
   "metadata": {},
   "outputs": [
    {
     "name": "stdout",
     "output_type": "stream",
     "text": [
      "Number of samples in total:  250000\n",
      "Number of folds:  10  of 25000 samples.\n",
      "Mean training loss:  0.780152979092\n",
      "Mean testing loss:  1.84084962337\n"
     ]
    },
    {
     "data": {
      "image/png": "[encoded data removed]",
      "text/plain": [
       "<matplotlib.figure.Figure at 0x1fa574e2390>"
      ]
     },
     "metadata": {},
     "output_type": "display_data"
    },
    {
     "name": "stdout",
     "output_type": "stream",
     "text": [
      "(10, 94)\n",
      "[ -2.65199048e-01   2.43067862e-01  -1.04520140e-01   6.74757073e-03\n",
      "  -3.87589421e-01   1.73835154e-01  -1.35774753e-02  -5.55892113e-01\n",
      "   7.83679919e-02  -3.19295817e-03   1.12033279e-01   1.90537580e-02\n",
      "  -1.70315996e-03   6.67839832e-01   1.06649437e+02  -3.65352660e+03\n",
      "  -4.03153506e-02   2.13089181e-03  -3.00396922e-05  -3.86695427e+00\n",
      "   1.02073974e+01  -2.87311160e+01   1.59580950e+01  -2.90424317e+02\n",
      "   1.14928880e+04  -6.52871194e-02   3.33348167e-02   5.01043763e-03\n",
      "  -2.38201470e+02  -1.26860272e-03   3.34264132e-04  -1.41166176e+01\n",
      "   1.86075179e+02  -5.70652266e+02  -5.03502618e+00   1.28400435e+01\n",
      "   1.37848511e+04   2.78762855e+01   1.31663716e+03  -1.58494426e+05\n",
      "   2.38816451e+02  -2.41652818e-01   1.83881110e-02  -9.17128402e-02\n",
      "  -8.07175060e+01   7.97694524e+01  -9.35618686e-02  -1.89789193e+00\n",
      "   3.97863127e+01   2.38867479e+02  -2.54975598e-01   2.62800230e-02\n",
      "   1.05919056e-01  -1.19956838e+02  -1.02792174e+02   1.26286821e-01\n",
      "  -9.22846836e-01  -5.56725687e+01  -8.71025618e-02   3.86062512e-02\n",
      "  -5.32413717e-03   5.40110935e-02  -1.56286339e+00  -4.74218430e+01\n",
      "  -4.13066021e-03  -8.77673479e-03   4.07837017e-04  -5.89899597e+00\n",
      "  -3.37283501e+02   6.64928898e+03   1.50729871e-01  -5.89360300e-02\n",
      "   5.62933323e-03  -2.22361997e-01   1.41067539e+02   9.37232779e+01\n",
      "  -2.67946181e-01  -1.23073245e+00   1.61012121e+02   1.96550313e-01\n",
      "  -2.15863338e-02   5.04480495e-04  -7.33075413e-02   1.33601290e+02\n",
      "   4.59780824e+01  -5.37799911e-02  -6.15153579e+00   3.78051530e+01\n",
      "   2.38163023e+02   5.45986986e-03  -6.99208657e-04   2.55310991e-03\n",
      "  -3.05924664e-04  -1.25390574e-03]\n"
     ]
    }
   ],
   "source": [
    "#Testing the noise feat against the others, least squares\n",
    "\n",
    "deg = 3\n",
    "\n",
    "# parameters\n",
    "arg_ls = dict()\n",
    "arg_ls['method'] = 'ls'\n",
    "arg_ls['loss'] = 'rmse'\n",
    "arg_ls['degree'] = deg\n",
    "arg_ls['k_fold'] = 10\n",
    "\n",
    "# cross validation\n",
    "w_tr_tot, loss_tr_tot, loss_te_tot = cross_validation(Y, X_f, arg_ls)\n",
    "\n",
    "# optimal weights minimize the testing error\n",
    "w_opt = w_tr_tot[np.argmin(loss_te_tot)]\n",
    "\n",
    "# plot training and testing losses \n",
    "plt.figure\n",
    "plt.boxplot(np.column_stack((np.array(loss_tr_tot), np.array(loss_te_tot))), labels=['training','testing'])\n",
    "plt.ylabel('loss')\n",
    "plt.title('boxplot')\n",
    "plt.show()\n",
    "\n",
    "print(np.shape(w_tr_tot))\n",
    "\n",
    "print(w_opt)"
   ]
  },
  {
   "cell_type": "code",
   "execution_count": 106,
   "metadata": {},
   "outputs": [
    {
     "name": "stdout",
     "output_type": "stream",
     "text": [
      "(250000, 94)\n",
      "\n",
      "w_opt [ 1 ] =  0.243067862127 and w_opt[np.shape(w_opt)[0] - deg + (i-1)%deg] =  0.00255310990505\n",
      "\n",
      "w_opt [ 2 ] =  0.104520139572 and w_opt[np.shape(w_opt)[0] - deg + (i-1)%deg] =  0.000305924664122\n",
      "\n",
      "w_opt [ 3 ] =  0.00674757073274 and w_opt[np.shape(w_opt)[0] - deg + (i-1)%deg] =  0.00125390574313\n",
      "\n",
      "w_opt [ 4 ] =  0.38758942123 and w_opt[np.shape(w_opt)[0] - deg + (i-1)%deg] =  0.00255310990505\n",
      "\n",
      "w_opt [ 5 ] =  0.17383515442 and w_opt[np.shape(w_opt)[0] - deg + (i-1)%deg] =  0.000305924664122\n",
      "\n",
      "w_opt [ 6 ] =  0.0135774753003 and w_opt[np.shape(w_opt)[0] - deg + (i-1)%deg] =  0.00125390574313\n",
      "\n",
      "w_opt [ 7 ] =  0.555892113477 and w_opt[np.shape(w_opt)[0] - deg + (i-1)%deg] =  0.00255310990505\n",
      "\n",
      "w_opt [ 8 ] =  0.0783679918516 and w_opt[np.shape(w_opt)[0] - deg + (i-1)%deg] =  0.000305924664122\n",
      "\n",
      "w_opt [ 9 ] =  0.00319295816763 and w_opt[np.shape(w_opt)[0] - deg + (i-1)%deg] =  0.00125390574313\n",
      "\n",
      "w_opt [ 10 ] =  0.11203327901 and w_opt[np.shape(w_opt)[0] - deg + (i-1)%deg] =  0.00255310990505\n",
      "\n",
      "w_opt [ 11 ] =  0.0190537580176 and w_opt[np.shape(w_opt)[0] - deg + (i-1)%deg] =  0.000305924664122\n",
      "\n",
      "w_opt [ 12 ] =  0.00170315995829 and w_opt[np.shape(w_opt)[0] - deg + (i-1)%deg] =  0.00125390574313\n",
      "\n",
      "w_opt [ 13 ] =  0.667839832108 and w_opt[np.shape(w_opt)[0] - deg + (i-1)%deg] =  0.00255310990505\n",
      "\n",
      "w_opt [ 14 ] =  106.649437133 and w_opt[np.shape(w_opt)[0] - deg + (i-1)%deg] =  0.000305924664122\n",
      "\n",
      "w_opt [ 15 ] =  3653.52659675 and w_opt[np.shape(w_opt)[0] - deg + (i-1)%deg] =  0.00125390574313\n",
      "\n",
      "w_opt [ 16 ] =  0.040315350569 and w_opt[np.shape(w_opt)[0] - deg + (i-1)%deg] =  0.00255310990505\n",
      "\n",
      "w_opt [ 17 ] =  0.00213089180853 and w_opt[np.shape(w_opt)[0] - deg + (i-1)%deg] =  0.000305924664122\n",
      "\n",
      "w_opt [ 18 ] =  3.00396921911e-05 and w_opt[np.shape(w_opt)[0] - deg + (i-1)%deg] =  0.00125390574313\n",
      "AAAAAA\n",
      "\n",
      "w_opt [ 19 ] =  3.86695426927 and w_opt[np.shape(w_opt)[0] - deg + (i-1)%deg] =  0.00255310990505\n",
      "\n",
      "w_opt [ 20 ] =  10.2073974401 and w_opt[np.shape(w_opt)[0] - deg + (i-1)%deg] =  0.000305924664122\n",
      "\n",
      "w_opt [ 21 ] =  28.7311159899 and w_opt[np.shape(w_opt)[0] - deg + (i-1)%deg] =  0.00125390574313\n",
      "\n",
      "w_opt [ 22 ] =  15.9580950239 and w_opt[np.shape(w_opt)[0] - deg + (i-1)%deg] =  0.00255310990505\n",
      "\n",
      "w_opt [ 23 ] =  290.424316993 and w_opt[np.shape(w_opt)[0] - deg + (i-1)%deg] =  0.000305924664122\n",
      "\n",
      "w_opt [ 24 ] =  11492.8880003 and w_opt[np.shape(w_opt)[0] - deg + (i-1)%deg] =  0.00125390574313\n",
      "\n",
      "w_opt [ 25 ] =  0.0652871194234 and w_opt[np.shape(w_opt)[0] - deg + (i-1)%deg] =  0.00255310990505\n",
      "\n",
      "w_opt [ 26 ] =  0.0333348167136 and w_opt[np.shape(w_opt)[0] - deg + (i-1)%deg] =  0.000305924664122\n",
      "\n",
      "w_opt [ 27 ] =  0.00501043762739 and w_opt[np.shape(w_opt)[0] - deg + (i-1)%deg] =  0.00125390574313\n",
      "\n",
      "w_opt [ 28 ] =  238.201469796 and w_opt[np.shape(w_opt)[0] - deg + (i-1)%deg] =  0.00255310990505\n",
      "\n",
      "w_opt [ 29 ] =  0.00126860272037 and w_opt[np.shape(w_opt)[0] - deg + (i-1)%deg] =  0.000305924664122\n",
      "\n",
      "w_opt [ 30 ] =  0.000334264131622 and w_opt[np.shape(w_opt)[0] - deg + (i-1)%deg] =  0.00125390574313\n",
      "AAAAAA\n",
      "\n",
      "w_opt [ 31 ] =  14.1166176364 and w_opt[np.shape(w_opt)[0] - deg + (i-1)%deg] =  0.00255310990505\n",
      "\n",
      "w_opt [ 32 ] =  186.07517872 and w_opt[np.shape(w_opt)[0] - deg + (i-1)%deg] =  0.000305924664122\n",
      "\n",
      "w_opt [ 33 ] =  570.652266202 and w_opt[np.shape(w_opt)[0] - deg + (i-1)%deg] =  0.00125390574313\n",
      "\n",
      "w_opt [ 34 ] =  5.03502617887 and w_opt[np.shape(w_opt)[0] - deg + (i-1)%deg] =  0.00255310990505\n",
      "\n",
      "w_opt [ 35 ] =  12.8400435475 and w_opt[np.shape(w_opt)[0] - deg + (i-1)%deg] =  0.000305924664122\n",
      "\n",
      "w_opt [ 36 ] =  13784.8510983 and w_opt[np.shape(w_opt)[0] - deg + (i-1)%deg] =  0.00125390574313\n",
      "\n",
      "w_opt [ 37 ] =  27.8762855476 and w_opt[np.shape(w_opt)[0] - deg + (i-1)%deg] =  0.00255310990505\n",
      "\n",
      "w_opt [ 38 ] =  1316.63716337 and w_opt[np.shape(w_opt)[0] - deg + (i-1)%deg] =  0.000305924664122\n",
      "\n",
      "w_opt [ 39 ] =  158494.425977 and w_opt[np.shape(w_opt)[0] - deg + (i-1)%deg] =  0.00125390574313\n",
      "\n",
      "w_opt [ 40 ] =  238.81645095 and w_opt[np.shape(w_opt)[0] - deg + (i-1)%deg] =  0.00255310990505\n",
      "\n",
      "w_opt [ 41 ] =  0.241652817932 and w_opt[np.shape(w_opt)[0] - deg + (i-1)%deg] =  0.000305924664122\n",
      "\n",
      "w_opt [ 42 ] =  0.0183881110174 and w_opt[np.shape(w_opt)[0] - deg + (i-1)%deg] =  0.00125390574313\n",
      "\n",
      "w_opt [ 43 ] =  0.0917128402496 and w_opt[np.shape(w_opt)[0] - deg + (i-1)%deg] =  0.00255310990505\n",
      "\n",
      "w_opt [ 44 ] =  80.7175059702 and w_opt[np.shape(w_opt)[0] - deg + (i-1)%deg] =  0.000305924664122\n",
      "\n",
      "w_opt [ 45 ] =  79.769452435 and w_opt[np.shape(w_opt)[0] - deg + (i-1)%deg] =  0.00125390574313\n",
      "\n",
      "w_opt [ 46 ] =  0.093561868643 and w_opt[np.shape(w_opt)[0] - deg + (i-1)%deg] =  0.00255310990505\n",
      "\n",
      "w_opt [ 47 ] =  1.89789192564 and w_opt[np.shape(w_opt)[0] - deg + (i-1)%deg] =  0.000305924664122\n",
      "\n",
      "w_opt [ 48 ] =  39.7863126772 and w_opt[np.shape(w_opt)[0] - deg + (i-1)%deg] =  0.00125390574313\n",
      "\n",
      "w_opt [ 49 ] =  238.867479167 and w_opt[np.shape(w_opt)[0] - deg + (i-1)%deg] =  0.00255310990505\n",
      "\n",
      "w_opt [ 50 ] =  0.254975597574 and w_opt[np.shape(w_opt)[0] - deg + (i-1)%deg] =  0.000305924664122\n",
      "\n",
      "w_opt [ 51 ] =  0.0262800229512 and w_opt[np.shape(w_opt)[0] - deg + (i-1)%deg] =  0.00125390574313\n",
      "\n",
      "w_opt [ 52 ] =  0.105919055591 and w_opt[np.shape(w_opt)[0] - deg + (i-1)%deg] =  0.00255310990505\n",
      "\n",
      "w_opt [ 53 ] =  119.956838116 and w_opt[np.shape(w_opt)[0] - deg + (i-1)%deg] =  0.000305924664122\n",
      "\n",
      "w_opt [ 54 ] =  102.792173676 and w_opt[np.shape(w_opt)[0] - deg + (i-1)%deg] =  0.00125390574313\n",
      "\n",
      "w_opt [ 55 ] =  0.126286821341 and w_opt[np.shape(w_opt)[0] - deg + (i-1)%deg] =  0.00255310990505\n",
      "\n",
      "w_opt [ 56 ] =  0.922846836126 and w_opt[np.shape(w_opt)[0] - deg + (i-1)%deg] =  0.000305924664122\n",
      "\n",
      "w_opt [ 57 ] =  55.6725686616 and w_opt[np.shape(w_opt)[0] - deg + (i-1)%deg] =  0.00125390574313\n",
      "\n",
      "w_opt [ 58 ] =  0.0871025618445 and w_opt[np.shape(w_opt)[0] - deg + (i-1)%deg] =  0.00255310990505\n",
      "\n",
      "w_opt [ 59 ] =  0.0386062512246 and w_opt[np.shape(w_opt)[0] - deg + (i-1)%deg] =  0.000305924664122\n",
      "\n",
      "w_opt [ 60 ] =  0.00532413716763 and w_opt[np.shape(w_opt)[0] - deg + (i-1)%deg] =  0.00125390574313\n",
      "\n",
      "w_opt [ 61 ] =  0.0540110935451 and w_opt[np.shape(w_opt)[0] - deg + (i-1)%deg] =  0.00255310990505\n",
      "\n",
      "w_opt [ 62 ] =  1.56286339101 and w_opt[np.shape(w_opt)[0] - deg + (i-1)%deg] =  0.000305924664122\n",
      "\n",
      "w_opt [ 63 ] =  47.4218430114 and w_opt[np.shape(w_opt)[0] - deg + (i-1)%deg] =  0.00125390574313\n",
      "\n",
      "w_opt [ 64 ] =  0.00413066020955 and w_opt[np.shape(w_opt)[0] - deg + (i-1)%deg] =  0.00255310990505\n",
      "\n",
      "w_opt [ 65 ] =  0.00877673478758 and w_opt[np.shape(w_opt)[0] - deg + (i-1)%deg] =  0.000305924664122\n",
      "\n",
      "w_opt [ 66 ] =  0.00040783701683 and w_opt[np.shape(w_opt)[0] - deg + (i-1)%deg] =  0.00125390574313\n",
      "AAAAAA\n",
      "\n",
      "w_opt [ 67 ] =  5.89899597121 and w_opt[np.shape(w_opt)[0] - deg + (i-1)%deg] =  0.00255310990505\n",
      "\n",
      "w_opt [ 68 ] =  337.28350084 and w_opt[np.shape(w_opt)[0] - deg + (i-1)%deg] =  0.000305924664122\n",
      "\n",
      "w_opt [ 69 ] =  6649.28897664 and w_opt[np.shape(w_opt)[0] - deg + (i-1)%deg] =  0.00125390574313\n",
      "\n",
      "w_opt [ 70 ] =  0.150729870946 and w_opt[np.shape(w_opt)[0] - deg + (i-1)%deg] =  0.00255310990505\n",
      "\n",
      "w_opt [ 71 ] =  0.0589360299855 and w_opt[np.shape(w_opt)[0] - deg + (i-1)%deg] =  0.000305924664122\n",
      "\n",
      "w_opt [ 72 ] =  0.00562933323323 and w_opt[np.shape(w_opt)[0] - deg + (i-1)%deg] =  0.00125390574313\n",
      "\n",
      "w_opt [ 73 ] =  0.222361996897 and w_opt[np.shape(w_opt)[0] - deg + (i-1)%deg] =  0.00255310990505\n",
      "\n",
      "w_opt [ 74 ] =  141.067539278 and w_opt[np.shape(w_opt)[0] - deg + (i-1)%deg] =  0.000305924664122\n",
      "\n",
      "w_opt [ 75 ] =  93.7232778711 and w_opt[np.shape(w_opt)[0] - deg + (i-1)%deg] =  0.00125390574313\n",
      "\n",
      "w_opt [ 76 ] =  0.267946181115 and w_opt[np.shape(w_opt)[0] - deg + (i-1)%deg] =  0.00255310990505\n",
      "\n",
      "w_opt [ 77 ] =  1.2307324478 and w_opt[np.shape(w_opt)[0] - deg + (i-1)%deg] =  0.000305924664122\n",
      "\n",
      "w_opt [ 78 ] =  161.012120884 and w_opt[np.shape(w_opt)[0] - deg + (i-1)%deg] =  0.00125390574313\n",
      "\n",
      "w_opt [ 79 ] =  0.196550313407 and w_opt[np.shape(w_opt)[0] - deg + (i-1)%deg] =  0.00255310990505\n",
      "\n",
      "w_opt [ 80 ] =  0.0215863337794 and w_opt[np.shape(w_opt)[0] - deg + (i-1)%deg] =  0.000305924664122\n",
      "\n",
      "w_opt [ 81 ] =  0.000504480494951 and w_opt[np.shape(w_opt)[0] - deg + (i-1)%deg] =  0.00125390574313\n",
      "AAAAAA\n",
      "\n",
      "w_opt [ 82 ] =  0.0733075412905 and w_opt[np.shape(w_opt)[0] - deg + (i-1)%deg] =  0.00255310990505\n",
      "\n",
      "w_opt [ 83 ] =  133.60128983 and w_opt[np.shape(w_opt)[0] - deg + (i-1)%deg] =  0.000305924664122\n",
      "\n",
      "w_opt [ 84 ] =  45.9780824405 and w_opt[np.shape(w_opt)[0] - deg + (i-1)%deg] =  0.00125390574313\n",
      "\n",
      "w_opt [ 85 ] =  0.0537799911251 and w_opt[np.shape(w_opt)[0] - deg + (i-1)%deg] =  0.00255310990505\n",
      "\n",
      "w_opt [ 86 ] =  6.15153579086 and w_opt[np.shape(w_opt)[0] - deg + (i-1)%deg] =  0.000305924664122\n",
      "\n",
      "w_opt [ 87 ] =  37.8051530221 and w_opt[np.shape(w_opt)[0] - deg + (i-1)%deg] =  0.00125390574313\n",
      "\n",
      "w_opt [ 88 ] =  238.163023464 and w_opt[np.shape(w_opt)[0] - deg + (i-1)%deg] =  0.00255310990505\n",
      "\n",
      "w_opt [ 89 ] =  0.00545986986225 and w_opt[np.shape(w_opt)[0] - deg + (i-1)%deg] =  0.000305924664122\n",
      "\n",
      "w_opt [ 90 ] =  0.000699208656814 and w_opt[np.shape(w_opt)[0] - deg + (i-1)%deg] =  0.00125390574313\n",
      "AAAAAA\n",
      "\n",
      "w_opt [ 91 ] =  0.00255310990505 and w_opt[np.shape(w_opt)[0] - deg + (i-1)%deg] =  0.00255310990505\n",
      "\n",
      "w_opt [ 92 ] =  0.000305924664122 and w_opt[np.shape(w_opt)[0] - deg + (i-1)%deg] =  0.000305924664122\n",
      "\n",
      "w_opt [ 93 ] =  0.00125390574313 and w_opt[np.shape(w_opt)[0] - deg + (i-1)%deg] =  0.00125390574313\n"
     ]
    },
    {
     "name": "stdout",
     "output_type": "stream",
     "text": [
      "(250000, 89)\n"
     ]
    }
   ],
   "source": [
    "X_f_new = build_poly(X_f, deg)\n",
    "\n",
    "print(np.shape(X_f_new))\n",
    "\n",
    "indexes = []\n",
    "\n",
    "for i in range(1,np.shape(w_opt)[0],1):\n",
    "    \n",
    "    print(\"\\nw_opt [\", i, \"] = \",  np.abs(w_opt[i]), \"and w_opt[np.shape(w_opt)[0] - deg + (i-1)%deg] = \", np.abs(w_opt[np.shape(w_opt)[0] - deg + (i-1)%deg]))\n",
    "    \n",
    "    if np.abs(w_opt[i]) < np.abs(w_opt[np.shape(w_opt)[0] - deg + (i-1)%deg]):\n",
    "        print(\"AAAAAA\")\n",
    "        indexes.append(i)\n",
    "        \n",
    "X_f_new = np.delete(X_f_new, indexes, axis=1)\n",
    "        \n",
    "print(np.shape(X_f_new))\n",
    "\n",
    "#X_f_new = np.delete(X_f_new, 40, axis=1)\n",
    "#print(np.shape(X_f_new))\n"
   ]
  },
  {
   "cell_type": "code",
   "execution_count": null,
   "metadata": {
    "collapsed": true
   },
   "outputs": [],
   "source": []
  }
 ],
 "metadata": {
  "kernelspec": {
   "display_name": "Python 3",
   "language": "python",
   "name": "python3"
  },
  "language_info": {
   "codemirror_mode": {
    "name": "ipython",
    "version": 3
   },
   "file_extension": ".py",
   "mimetype": "text/x-python",
   "name": "python",
   "nbconvert_exporter": "python",
   "pygments_lexer": "ipython3",
   "version": "3.6.2"
  }
 },
 "nbformat": 4,
 "nbformat_minor": 2
}
