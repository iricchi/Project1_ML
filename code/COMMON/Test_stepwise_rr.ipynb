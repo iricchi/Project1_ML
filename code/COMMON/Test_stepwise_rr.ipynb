{
 "cells": [
  {
   "cell_type": "code",
   "execution_count": null,
   "metadata": {},
   "outputs": [],
   "source": [
    "# TO RUN IT: CHANGE MY PATH\n",
    "%matplotlib inline\n",
    "%load_ext autoreload\n",
    "%autoreload 2\n",
    "\n",
    "# change path if necessary\n",
    "import sys\n",
    "my_path = r'C:\\Users\\utente\\Documents\\GitHub\\Project1_ML'\n",
    "sys.path.insert(0,my_path + r'\\code\\COMMON')\n",
    "\n",
    "# imports\n",
    "import numpy as np \n",
    "import matplotlib.pyplot as plt\n",
    "\n",
    "from implementations import *\n",
    "from labels import idx_2labels\n",
    "from costs import *\n",
    "from optimize_hyperparams import *\n",
    "from cross_validation import *\n",
    "from step_wise import *\n",
    "from extend_features import *"
   ]
  },
  {
   "cell_type": "markdown",
   "metadata": {},
   "source": [
    "# Build dataset"
   ]
  },
  {
   "cell_type": "markdown",
   "metadata": {},
   "source": [
    "### Load raw data"
   ]
  },
  {
   "cell_type": "code",
   "execution_count": null,
   "metadata": {
    "collapsed": true
   },
   "outputs": [],
   "source": [
    "from proj1_helpers import load_csv_data \n",
    "y_raw, input_data_raw, ids = load_csv_data(my_path + r'\\data\\train.csv', sub_sample=False)"
   ]
  },
  {
   "cell_type": "markdown",
   "metadata": {},
   "source": [
    "### Handle outliers and Labels"
   ]
  },
  {
   "cell_type": "code",
   "execution_count": 3,
   "metadata": {},
   "outputs": [
    {
     "name": "stdout",
     "output_type": "stream",
     "text": [
      "-999 are replaced by the mean value of the feature\n"
     ]
    }
   ],
   "source": [
    "from outliers import handle_outliers\n",
    "X0, y = handle_outliers(input_data_raw, y_raw, -999, 'mean')\n",
    "\n",
    "y[np.where(y==-1)]=0"
   ]
  },
  {
   "cell_type": "markdown",
   "metadata": {},
   "source": [
    "### Features generation and Standardization"
   ]
  },
  {
   "cell_type": "code",
   "execution_count": 4,
   "metadata": {},
   "outputs": [
    {
     "name": "stdout",
     "output_type": "stream",
     "text": [
      "---------------------------\n",
      "Features have been set to the power(s): [1, 2, 3]\n",
      "16 Features of the momentum have been added\n",
      "Data have been standardized.\n",
      "---------------------------\n"
     ]
    }
   ],
   "source": [
    "# get feature names \n",
    "names = list(np.genfromtxt(my_path + r'/data/train.csv', delimiter=\",\", dtype=str, max_rows = 1)[2:])\n",
    "log = False\n",
    "degree = 3\n",
    "\n",
    "#Features extension\n",
    "all_candidates, feat_names = extend_features(X0, names, degree, log)"
   ]
  },
  {
   "cell_type": "code",
   "execution_count": 6,
   "metadata": {},
   "outputs": [
    {
     "name": "stdout",
     "output_type": "stream",
     "text": [
      "(250000, 106)\n",
      "106\n",
      "(0, 'DER_mass_MMC_power_1')\n",
      "(1, 'DER_mass_MMC_power_2')\n",
      "(2, 'DER_mass_MMC_power_3')\n",
      "(3, 'DER_mass_transverse_met_lep_power_1')\n",
      "(4, 'DER_mass_transverse_met_lep_power_2')\n",
      "(5, 'DER_mass_transverse_met_lep_power_3')\n",
      "(6, 'DER_mass_vis_power_1')\n",
      "(7, 'DER_mass_vis_power_2')\n",
      "(8, 'DER_mass_vis_power_3')\n",
      "(9, 'DER_pt_h_power_1')\n",
      "(10, 'DER_pt_h_power_2')\n",
      "(11, 'DER_pt_h_power_3')\n",
      "(12, 'DER_deltaeta_jet_jet_power_1')\n",
      "(13, 'DER_deltaeta_jet_jet_power_2')\n",
      "(14, 'DER_deltaeta_jet_jet_power_3')\n",
      "(15, 'DER_mass_jet_jet_power_1')\n",
      "(16, 'DER_mass_jet_jet_power_2')\n",
      "(17, 'DER_mass_jet_jet_power_3')\n",
      "(18, 'DER_prodeta_jet_jet_power_1')\n",
      "(19, 'DER_prodeta_jet_jet_power_2')\n",
      "(20, 'DER_prodeta_jet_jet_power_3')\n",
      "(21, 'DER_deltar_tau_lep_power_1')\n",
      "(22, 'DER_deltar_tau_lep_power_2')\n",
      "(23, 'DER_deltar_tau_lep_power_3')\n",
      "(24, 'DER_pt_tot_power_1')\n",
      "(25, 'DER_pt_tot_power_2')\n",
      "(26, 'DER_pt_tot_power_3')\n",
      "(27, 'DER_sum_pt_power_1')\n",
      "(28, 'DER_sum_pt_power_2')\n",
      "(29, 'DER_sum_pt_power_3')\n",
      "(30, 'DER_pt_ratio_lep_tau_power_1')\n",
      "(31, 'DER_pt_ratio_lep_tau_power_2')\n",
      "(32, 'DER_pt_ratio_lep_tau_power_3')\n",
      "(33, 'DER_met_phi_centrality_power_1')\n",
      "(34, 'DER_met_phi_centrality_power_2')\n",
      "(35, 'DER_met_phi_centrality_power_3')\n",
      "(36, 'DER_lep_eta_centrality_power_1')\n",
      "(37, 'DER_lep_eta_centrality_power_2')\n",
      "(38, 'DER_lep_eta_centrality_power_3')\n",
      "(39, 'PRI_tau_pt_power_1')\n",
      "(40, 'PRI_tau_pt_power_2')\n",
      "(41, 'PRI_tau_pt_power_3')\n",
      "(42, 'PRI_tau_eta_power_1')\n",
      "(43, 'PRI_tau_eta_power_2')\n",
      "(44, 'PRI_tau_eta_power_3')\n",
      "(45, 'PRI_tau_phi_power_1')\n",
      "(46, 'PRI_tau_phi_power_2')\n",
      "(47, 'PRI_tau_phi_power_3')\n",
      "(48, 'PRI_lep_pt_power_1')\n",
      "(49, 'PRI_lep_pt_power_2')\n",
      "(50, 'PRI_lep_pt_power_3')\n",
      "(51, 'PRI_lep_eta_power_1')\n",
      "(52, 'PRI_lep_eta_power_2')\n",
      "(53, 'PRI_lep_eta_power_3')\n",
      "(54, 'PRI_lep_phi_power_1')\n",
      "(55, 'PRI_lep_phi_power_2')\n",
      "(56, 'PRI_lep_phi_power_3')\n",
      "(57, 'PRI_met_power_1')\n",
      "(58, 'PRI_met_power_2')\n",
      "(59, 'PRI_met_power_3')\n",
      "(60, 'PRI_met_phi_power_1')\n",
      "(61, 'PRI_met_phi_power_2')\n",
      "(62, 'PRI_met_phi_power_3')\n",
      "(63, 'PRI_met_sumet_power_1')\n",
      "(64, 'PRI_met_sumet_power_2')\n",
      "(65, 'PRI_met_sumet_power_3')\n",
      "(66, 'PRI_jet_num_power_1')\n",
      "(67, 'PRI_jet_num_power_2')\n",
      "(68, 'PRI_jet_num_power_3')\n",
      "(69, 'PRI_jet_leading_pt_power_1')\n",
      "(70, 'PRI_jet_leading_pt_power_2')\n",
      "(71, 'PRI_jet_leading_pt_power_3')\n",
      "(72, 'PRI_jet_leading_eta_power_1')\n",
      "(73, 'PRI_jet_leading_eta_power_2')\n",
      "(74, 'PRI_jet_leading_eta_power_3')\n",
      "(75, 'PRI_jet_leading_phi_power_1')\n",
      "(76, 'PRI_jet_leading_phi_power_2')\n",
      "(77, 'PRI_jet_leading_phi_power_3')\n",
      "(78, 'PRI_jet_subleading_pt_power_1')\n",
      "(79, 'PRI_jet_subleading_pt_power_2')\n",
      "(80, 'PRI_jet_subleading_pt_power_3')\n",
      "(81, 'PRI_jet_subleading_eta_power_1')\n",
      "(82, 'PRI_jet_subleading_eta_power_2')\n",
      "(83, 'PRI_jet_subleading_eta_power_3')\n",
      "(84, 'PRI_jet_subleading_phi_power_1')\n",
      "(85, 'PRI_jet_subleading_phi_power_2')\n",
      "(86, 'PRI_jet_subleading_phi_power_3')\n",
      "(87, 'PRI_jet_all_pt_power_1')\n",
      "(88, 'PRI_jet_all_pt_power_2')\n",
      "(89, 'PRI_jet_all_pt_power_3')\n",
      "(90, 'PRI_tau_pt_mom_comp1')\n",
      "(91, 'PRI_lep_pt_mom_comp1')\n",
      "(92, 'PRI_jet_leading_pt_mom_comp1')\n",
      "(93, 'PRI_jet_subleading_pt_mom_comp1')\n",
      "(94, 'PRI_tau_pt_mom_comp2')\n",
      "(95, 'PRI_lep_pt_mom_comp2')\n",
      "(96, 'PRI_jet_leading_pt_mom_comp2')\n",
      "(97, 'PRI_jet_subleading_pt_mom_comp2')\n",
      "(98, 'PRI_tau_pt_mom_comp3')\n",
      "(99, 'PRI_lep_pt_mom_comp3')\n",
      "(100, 'PRI_jet_leading_pt_mom_comp3')\n",
      "(101, 'PRI_jet_subleading_pt_mom_comp3')\n",
      "(102, 'PRI_tau_pt_mom_module')\n",
      "(103, 'PRI_lep_pt_mom_module')\n",
      "(104, 'PRI_jet_leading_pt_mom_module')\n",
      "(105, 'PRI_jet_subleading_pt_mom_module')\n"
     ]
    }
   ],
   "source": [
    "print(all_candidates.shape)\n",
    "print(len(feat_names))\n",
    "print(*feat_names, sep='\\n')"
   ]
  },
  {
   "cell_type": "code",
   "execution_count": null,
   "metadata": {
    "collapsed": true
   },
   "outputs": [],
   "source": [
    "# model parameters\n",
    "model = dict()\n",
    "model['method'] = 'rr' \n",
    "model['loss'] = 'loglikelihood'\n",
    "model['lambda_'] = 0\n",
    "\n",
    "# model hyperparameter\n",
    "model['gamma'] = 0\n",
    "\n",
    "model['debug_mode'] = 1\n",
    "\n",
    "# R2 type\n",
    "R2_method = 'McFadden' # 'loss', 'Tjur' or 'McFadden' \n",
    "\n",
    "# estimate R2 error through cross validation (1 or 0)\n",
    "cv = 1\n",
    "model['k_fold'] = 10"
   ]
  },
  {
   "cell_type": "code",
   "execution_count": null,
   "metadata": {},
   "outputs": [],
   "source": [
    "best_R2adj, idx_features = stepwise(model, R2_method, all_candidates, features, y, cv)"
   ]
  },
  {
   "cell_type": "code",
   "execution_count": null,
   "metadata": {
    "collapsed": true
   },
   "outputs": [],
   "source": [
    "import winsound\n",
    "frequency = 2000  # Set Frequency To 2500 Hertz\n",
    "duration = 1000  # Set Duration To 1000 ms == 1 second\n",
    "winsound.Beep(frequency, duration)"
   ]
  },
  {
   "cell_type": "code",
   "execution_count": null,
   "metadata": {},
   "outputs": [],
   "source": [
    "results_r2_stepwise(best_R2adj[:len(best_R2adj)-1], idx_features)"
   ]
  },
  {
   "cell_type": "code",
   "execution_count": 7,
   "metadata": {},
   "outputs": [
    {
     "data": {
      "text/plain": [
       "(250000, 106)"
      ]
     },
     "execution_count": 7,
     "metadata": {},
     "output_type": "execute_result"
    }
   ],
   "source": [
    "phi = all_candidates \n",
    "np.shape(phi)"
   ]
  },
  {
   "cell_type": "code",
   "execution_count": 10,
   "metadata": {},
   "outputs": [
    {
     "name": "stdout",
     "output_type": "stream",
     "text": [
      "tested lambda_:  [  1.00000000e-09   1.29154967e-08   1.66810054e-07   2.15443469e-06\n",
      "   2.78255940e-05   3.59381366e-04   4.64158883e-03   5.99484250e-02\n",
      "   7.74263683e-01   1.00000000e+01] \n",
      "\n",
      "------------------------------------------ cross validation with lambda_ =  1e-09\n",
      "------------------------------------------ cross validation with lambda_ =  1.29154966501e-08\n",
      "------------------------------------------ cross validation with lambda_ =  1.6681005372e-07\n",
      "------------------------------------------ cross validation with lambda_ =  2.15443469003e-06\n",
      "------------------------------------------ cross validation with lambda_ =  2.78255940221e-05\n",
      "------------------------------------------ cross validation with lambda_ =  0.00035938136638\n",
      "------------------------------------------ cross validation with lambda_ =  0.00464158883361\n",
      "------------------------------------------ cross validation with lambda_ =  0.0599484250319\n",
      "------------------------------------------ cross validation with lambda_ =  0.774263682681\n",
      "------------------------------------------ cross validation with lambda_ =  10.0\n",
      "Optimal lambda:  1e-09\n",
      "Associated testing loss:  8.57211306505 \n",
      "\n"
     ]
    },
    {
     "data": {
      "image/png": "[encoded data removed]",
      "text/plain": [
       "<matplotlib.figure.Figure at 0x18b6f403048>"
      ]
     },
     "metadata": {},
     "output_type": "display_data"
    }
   ],
   "source": [
    "# ridge regression parameters\n",
    "arg_rr = dict()\n",
    "arg_rr['method'] = 'rr'\n",
    "arg_rr['loss'] = 'rmse'\n",
    "arg_rr['k_fold'] = 10\n",
    "\n",
    "# optimization parameters\n",
    "lambda_min = -9\n",
    "lambda_max = 1\n",
    "lambda_steps = 10\n",
    "\n",
    "# optimize lambda_\n",
    "w_opt, loss_tr, loss_te, lambda_opt, success_rate = optimize_lambda(y, phi, lambda_min, lambda_max, lambda_steps, arg_rr, debug_mode=1)\n"
   ]
  },
  {
   "cell_type": "code",
   "execution_count": 11,
   "metadata": {},
   "outputs": [
    {
     "name": "stdout",
     "output_type": "stream",
     "text": [
      "0.689172\n"
     ]
    }
   ],
   "source": [
    "print(success_rate)"
   ]
  },
  {
   "cell_type": "code",
   "execution_count": null,
   "metadata": {
    "collapsed": true
   },
   "outputs": [],
   "source": [
    "wrr, loss = ridge_regression(y, phi, 4.548777947e-05)\n",
    "\n",
    "Y = predict_labels(wrr, phi)\n"
   ]
  },
  {
   "cell_type": "code",
   "execution_count": null,
   "metadata": {},
   "outputs": [],
   "source": [
    "pos = 0\n",
    "neg = 0\n",
    "for i in range (len(y)):\n",
    "    if Y[i] == y[i]:\n",
    "        pos += 1\n",
    "    else:\n",
    "        neg += 1\n",
    "print(pos)\n",
    "print(neg)\n",
    "\n",
    "success_rate = pos/(pos+neg)\n",
    "print(success_rate)"
   ]
  },
  {
   "cell_type": "code",
   "execution_count": null,
   "metadata": {},
   "outputs": [],
   "source": [
    "from extend_features import *\n",
    "\n",
    "nope, test_data, ids = load_csv_data(my_path + r'\\data\\test.csv', sub_sample=False)\n",
    "\n",
    "feature_names= list(np.genfromtxt(my_path + r'\\data\\test.csv', delimiter=\",\", dtype=str, max_rows = 1)[2:])\n",
    "\n",
    "input_data, Y = handle_outliers(test_data,nope,-999,'median')\n",
    "\n",
    "X_test, _ = extend_features(test_data, feature_names, degree, is_add_log = True)\n",
    "\n",
    "print(\"Data loaded! Shape: \")\n",
    "print(np.shape(X_test))"
   ]
  },
  {
   "cell_type": "code",
   "execution_count": null,
   "metadata": {},
   "outputs": [],
   "source": [
    "X_test = X_test[:, idx_features]\n",
    "\n",
    "print(np.shape(X_test))\n",
    "\n",
    "y_pred = predict_labels(wrr,X_test)\n"
   ]
  },
  {
   "cell_type": "code",
   "execution_count": null,
   "metadata": {
    "collapsed": true
   },
   "outputs": [],
   "source": [
    "y_pred[np.where(y_pred==0)] = -1"
   ]
  },
  {
   "cell_type": "code",
   "execution_count": null,
   "metadata": {
    "collapsed": true
   },
   "outputs": [],
   "source": [
    "create_csv_submission(ids, y_pred, \"rov_sub\")"
   ]
  },
  {
   "cell_type": "code",
   "execution_count": null,
   "metadata": {
    "collapsed": true
   },
   "outputs": [],
   "source": []
  }
 ],
 "metadata": {
  "kernelspec": {
   "display_name": "Python 3",
   "language": "python",
   "name": "python3"
  },
  "language_info": {
   "codemirror_mode": {
    "name": "ipython",
    "version": 3
   },
   "file_extension": ".py",
   "mimetype": "text/x-python",
   "name": "python",
   "nbconvert_exporter": "python",
   "pygments_lexer": "ipython3",
   "version": "3.6.2"
  }
 },
 "nbformat": 4,
 "nbformat_minor": 2
}
