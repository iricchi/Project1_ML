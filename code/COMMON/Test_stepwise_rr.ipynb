{
 "cells": [
  {
   "cell_type": "code",
   "execution_count": 85,
   "metadata": {},
   "outputs": [
    {
     "name": "stdout",
     "output_type": "stream",
     "text": [
      "The autoreload extension is already loaded. To reload it, use:\n",
      "  %reload_ext autoreload\n"
     ]
    }
   ],
   "source": [
    "# TO RUN IT: CHANGE MY PATH\n",
    "%matplotlib inline\n",
    "%load_ext autoreload\n",
    "%autoreload 2\n",
    "\n",
    "# change path if necessary\n",
    "import sys\n",
    "my_path = r'C:\\Users\\utente\\Documents\\GitHub\\Project1_ML'\n",
    "sys.path.insert(0,my_path + r'\\code\\COMMON')\n",
    "\n",
    "# imports\n",
    "import numpy as np \n",
    "import matplotlib.pyplot as plt\n",
    "\n",
    "from implementations import *\n",
    "from labels import idx_2labels\n",
    "from costs import *\n",
    "from optimize_hyperparams import *\n",
    "from cross_validation import *\n",
    "from step_wise import *"
   ]
  },
  {
   "cell_type": "markdown",
   "metadata": {},
   "source": [
    "# Build dataset"
   ]
  },
  {
   "cell_type": "markdown",
   "metadata": {},
   "source": [
    "#### load raw data"
   ]
  },
  {
   "cell_type": "code",
   "execution_count": 86,
   "metadata": {
    "collapsed": true
   },
   "outputs": [],
   "source": [
    "from proj1_helpers import load_csv_data \n",
    "y_raw, input_data_raw, ids = load_csv_data(my_path + r'\\data\\train.csv', sub_sample=False)"
   ]
  },
  {
   "cell_type": "markdown",
   "metadata": {},
   "source": [
    "#### handle outliers"
   ]
  },
  {
   "cell_type": "code",
   "execution_count": 87,
   "metadata": {},
   "outputs": [
    {
     "name": "stdout",
     "output_type": "stream",
     "text": [
      "-999 are replaced by the median value of the feature\n"
     ]
    }
   ],
   "source": [
    "from outliers import handle_outliers\n",
    "X0, y = handle_outliers(input_data_raw, y_raw, -999, 'median')\n",
    "\n",
    "ind_back, ind_sig = idx_2labels(y, [-1,1])\n",
    "y[ind_back] = 0"
   ]
  },
  {
   "cell_type": "code",
   "execution_count": 88,
   "metadata": {
    "collapsed": true
   },
   "outputs": [],
   "source": [
    "# get feature names \n",
    "f_names_init = list(np.genfromtxt(my_path + r'/data/train.csv', delimiter=\",\", dtype=str, max_rows = 1)[2:])"
   ]
  },
  {
   "cell_type": "code",
   "execution_count": 89,
   "metadata": {},
   "outputs": [],
   "source": [
    "# adding power transformations\n",
    "degree = 6\n",
    "\n",
    "# build polynomial basis function\n",
    "phi = build_poly(X0, degree)\n",
    "\n",
    "all_candidates = np.delete(phi, 0, 1)  # delete first column of phi\n",
    "\n",
    "# adding logarithm names\n",
    "feat_names = []\n",
    "for i in range(len(f_names_init)):\n",
    "    for d in range(degree):\n",
    "        feat_names.append(f_names_init[i] + '_pw_' + str(d+1))"
   ]
  },
  {
   "cell_type": "code",
   "execution_count": 90,
   "metadata": {},
   "outputs": [],
   "source": [
    "# adding logarithmic transformation of masses\n",
    "all_candidates = np.concatenate((all_candidates, np.log(1+np.abs(X0[:,0])).reshape(len(X0),1)),axis =1)\n",
    "all_candidates = np.concatenate((all_candidates, np.log(1+np.abs(X0[:,1])).reshape(len(X0),1)),axis =1)\n",
    "all_candidates = np.concatenate((all_candidates, np.log(1+np.abs(X0[:,2])).reshape(len(X0),1)),axis =1)\n",
    "all_candidates = np.concatenate((all_candidates, np.log(1+np.abs(X0[:,5])).reshape(len(X0),1)),axis =1)\n",
    "\n",
    "# adding logarithm names\n",
    "feat_names.append('log(DER_mass_MMC)')\n",
    "feat_names.append('log(DER_mass_transverse_met_lep)')\n",
    "feat_names.append('log(DER_mass_vis)')\n",
    "feat_names.append('log(DER_mass_jet_jet)')"
   ]
  },
  {
   "cell_type": "code",
   "execution_count": 91,
   "metadata": {},
   "outputs": [
    {
     "name": "stdout",
     "output_type": "stream",
     "text": [
      "(250000, 184)\n",
      "184\n",
      "(0, 'DER_mass_MMC_pw_1')\n",
      "(1, 'DER_mass_MMC_pw_2')\n",
      "(2, 'DER_mass_MMC_pw_3')\n",
      "(3, 'DER_mass_MMC_pw_4')\n",
      "(4, 'DER_mass_MMC_pw_5')\n",
      "(5, 'DER_mass_MMC_pw_6')\n",
      "(6, 'DER_mass_transverse_met_lep_pw_1')\n",
      "(7, 'DER_mass_transverse_met_lep_pw_2')\n",
      "(8, 'DER_mass_transverse_met_lep_pw_3')\n",
      "(9, 'DER_mass_transverse_met_lep_pw_4')\n",
      "(10, 'DER_mass_transverse_met_lep_pw_5')\n",
      "(11, 'DER_mass_transverse_met_lep_pw_6')\n",
      "(12, 'DER_mass_vis_pw_1')\n",
      "(13, 'DER_mass_vis_pw_2')\n",
      "(14, 'DER_mass_vis_pw_3')\n",
      "(15, 'DER_mass_vis_pw_4')\n",
      "(16, 'DER_mass_vis_pw_5')\n",
      "(17, 'DER_mass_vis_pw_6')\n",
      "(18, 'DER_pt_h_pw_1')\n",
      "(19, 'DER_pt_h_pw_2')\n",
      "(20, 'DER_pt_h_pw_3')\n",
      "(21, 'DER_pt_h_pw_4')\n",
      "(22, 'DER_pt_h_pw_5')\n",
      "(23, 'DER_pt_h_pw_6')\n",
      "(24, 'DER_deltaeta_jet_jet_pw_1')\n",
      "(25, 'DER_deltaeta_jet_jet_pw_2')\n",
      "(26, 'DER_deltaeta_jet_jet_pw_3')\n",
      "(27, 'DER_deltaeta_jet_jet_pw_4')\n",
      "(28, 'DER_deltaeta_jet_jet_pw_5')\n",
      "(29, 'DER_deltaeta_jet_jet_pw_6')\n",
      "(30, 'DER_mass_jet_jet_pw_1')\n",
      "(31, 'DER_mass_jet_jet_pw_2')\n",
      "(32, 'DER_mass_jet_jet_pw_3')\n",
      "(33, 'DER_mass_jet_jet_pw_4')\n",
      "(34, 'DER_mass_jet_jet_pw_5')\n",
      "(35, 'DER_mass_jet_jet_pw_6')\n",
      "(36, 'DER_prodeta_jet_jet_pw_1')\n",
      "(37, 'DER_prodeta_jet_jet_pw_2')\n",
      "(38, 'DER_prodeta_jet_jet_pw_3')\n",
      "(39, 'DER_prodeta_jet_jet_pw_4')\n",
      "(40, 'DER_prodeta_jet_jet_pw_5')\n",
      "(41, 'DER_prodeta_jet_jet_pw_6')\n",
      "(42, 'DER_deltar_tau_lep_pw_1')\n",
      "(43, 'DER_deltar_tau_lep_pw_2')\n",
      "(44, 'DER_deltar_tau_lep_pw_3')\n",
      "(45, 'DER_deltar_tau_lep_pw_4')\n",
      "(46, 'DER_deltar_tau_lep_pw_5')\n",
      "(47, 'DER_deltar_tau_lep_pw_6')\n",
      "(48, 'DER_pt_tot_pw_1')\n",
      "(49, 'DER_pt_tot_pw_2')\n",
      "(50, 'DER_pt_tot_pw_3')\n",
      "(51, 'DER_pt_tot_pw_4')\n",
      "(52, 'DER_pt_tot_pw_5')\n",
      "(53, 'DER_pt_tot_pw_6')\n",
      "(54, 'DER_sum_pt_pw_1')\n",
      "(55, 'DER_sum_pt_pw_2')\n",
      "(56, 'DER_sum_pt_pw_3')\n",
      "(57, 'DER_sum_pt_pw_4')\n",
      "(58, 'DER_sum_pt_pw_5')\n",
      "(59, 'DER_sum_pt_pw_6')\n",
      "(60, 'DER_pt_ratio_lep_tau_pw_1')\n",
      "(61, 'DER_pt_ratio_lep_tau_pw_2')\n",
      "(62, 'DER_pt_ratio_lep_tau_pw_3')\n",
      "(63, 'DER_pt_ratio_lep_tau_pw_4')\n",
      "(64, 'DER_pt_ratio_lep_tau_pw_5')\n",
      "(65, 'DER_pt_ratio_lep_tau_pw_6')\n",
      "(66, 'DER_met_phi_centrality_pw_1')\n",
      "(67, 'DER_met_phi_centrality_pw_2')\n",
      "(68, 'DER_met_phi_centrality_pw_3')\n",
      "(69, 'DER_met_phi_centrality_pw_4')\n",
      "(70, 'DER_met_phi_centrality_pw_5')\n",
      "(71, 'DER_met_phi_centrality_pw_6')\n",
      "(72, 'DER_lep_eta_centrality_pw_1')\n",
      "(73, 'DER_lep_eta_centrality_pw_2')\n",
      "(74, 'DER_lep_eta_centrality_pw_3')\n",
      "(75, 'DER_lep_eta_centrality_pw_4')\n",
      "(76, 'DER_lep_eta_centrality_pw_5')\n",
      "(77, 'DER_lep_eta_centrality_pw_6')\n",
      "(78, 'PRI_tau_pt_pw_1')\n",
      "(79, 'PRI_tau_pt_pw_2')\n",
      "(80, 'PRI_tau_pt_pw_3')\n",
      "(81, 'PRI_tau_pt_pw_4')\n",
      "(82, 'PRI_tau_pt_pw_5')\n",
      "(83, 'PRI_tau_pt_pw_6')\n",
      "(84, 'PRI_tau_eta_pw_1')\n",
      "(85, 'PRI_tau_eta_pw_2')\n",
      "(86, 'PRI_tau_eta_pw_3')\n",
      "(87, 'PRI_tau_eta_pw_4')\n",
      "(88, 'PRI_tau_eta_pw_5')\n",
      "(89, 'PRI_tau_eta_pw_6')\n",
      "(90, 'PRI_tau_phi_pw_1')\n",
      "(91, 'PRI_tau_phi_pw_2')\n",
      "(92, 'PRI_tau_phi_pw_3')\n",
      "(93, 'PRI_tau_phi_pw_4')\n",
      "(94, 'PRI_tau_phi_pw_5')\n",
      "(95, 'PRI_tau_phi_pw_6')\n",
      "(96, 'PRI_lep_pt_pw_1')\n",
      "(97, 'PRI_lep_pt_pw_2')\n",
      "(98, 'PRI_lep_pt_pw_3')\n",
      "(99, 'PRI_lep_pt_pw_4')\n",
      "(100, 'PRI_lep_pt_pw_5')\n",
      "(101, 'PRI_lep_pt_pw_6')\n",
      "(102, 'PRI_lep_eta_pw_1')\n",
      "(103, 'PRI_lep_eta_pw_2')\n",
      "(104, 'PRI_lep_eta_pw_3')\n",
      "(105, 'PRI_lep_eta_pw_4')\n",
      "(106, 'PRI_lep_eta_pw_5')\n",
      "(107, 'PRI_lep_eta_pw_6')\n",
      "(108, 'PRI_lep_phi_pw_1')\n",
      "(109, 'PRI_lep_phi_pw_2')\n",
      "(110, 'PRI_lep_phi_pw_3')\n",
      "(111, 'PRI_lep_phi_pw_4')\n",
      "(112, 'PRI_lep_phi_pw_5')\n",
      "(113, 'PRI_lep_phi_pw_6')\n",
      "(114, 'PRI_met_pw_1')\n",
      "(115, 'PRI_met_pw_2')\n",
      "(116, 'PRI_met_pw_3')\n",
      "(117, 'PRI_met_pw_4')\n",
      "(118, 'PRI_met_pw_5')\n",
      "(119, 'PRI_met_pw_6')\n",
      "(120, 'PRI_met_phi_pw_1')\n",
      "(121, 'PRI_met_phi_pw_2')\n",
      "(122, 'PRI_met_phi_pw_3')\n",
      "(123, 'PRI_met_phi_pw_4')\n",
      "(124, 'PRI_met_phi_pw_5')\n",
      "(125, 'PRI_met_phi_pw_6')\n",
      "(126, 'PRI_met_sumet_pw_1')\n",
      "(127, 'PRI_met_sumet_pw_2')\n",
      "(128, 'PRI_met_sumet_pw_3')\n",
      "(129, 'PRI_met_sumet_pw_4')\n",
      "(130, 'PRI_met_sumet_pw_5')\n",
      "(131, 'PRI_met_sumet_pw_6')\n",
      "(132, 'PRI_jet_num_pw_1')\n",
      "(133, 'PRI_jet_num_pw_2')\n",
      "(134, 'PRI_jet_num_pw_3')\n",
      "(135, 'PRI_jet_num_pw_4')\n",
      "(136, 'PRI_jet_num_pw_5')\n",
      "(137, 'PRI_jet_num_pw_6')\n",
      "(138, 'PRI_jet_leading_pt_pw_1')\n",
      "(139, 'PRI_jet_leading_pt_pw_2')\n",
      "(140, 'PRI_jet_leading_pt_pw_3')\n",
      "(141, 'PRI_jet_leading_pt_pw_4')\n",
      "(142, 'PRI_jet_leading_pt_pw_5')\n",
      "(143, 'PRI_jet_leading_pt_pw_6')\n",
      "(144, 'PRI_jet_leading_eta_pw_1')\n",
      "(145, 'PRI_jet_leading_eta_pw_2')\n",
      "(146, 'PRI_jet_leading_eta_pw_3')\n",
      "(147, 'PRI_jet_leading_eta_pw_4')\n",
      "(148, 'PRI_jet_leading_eta_pw_5')\n",
      "(149, 'PRI_jet_leading_eta_pw_6')\n",
      "(150, 'PRI_jet_leading_phi_pw_1')\n",
      "(151, 'PRI_jet_leading_phi_pw_2')\n",
      "(152, 'PRI_jet_leading_phi_pw_3')\n",
      "(153, 'PRI_jet_leading_phi_pw_4')\n",
      "(154, 'PRI_jet_leading_phi_pw_5')\n",
      "(155, 'PRI_jet_leading_phi_pw_6')\n",
      "(156, 'PRI_jet_subleading_pt_pw_1')\n",
      "(157, 'PRI_jet_subleading_pt_pw_2')\n",
      "(158, 'PRI_jet_subleading_pt_pw_3')\n",
      "(159, 'PRI_jet_subleading_pt_pw_4')\n",
      "(160, 'PRI_jet_subleading_pt_pw_5')\n",
      "(161, 'PRI_jet_subleading_pt_pw_6')\n",
      "(162, 'PRI_jet_subleading_eta_pw_1')\n",
      "(163, 'PRI_jet_subleading_eta_pw_2')\n",
      "(164, 'PRI_jet_subleading_eta_pw_3')\n",
      "(165, 'PRI_jet_subleading_eta_pw_4')\n",
      "(166, 'PRI_jet_subleading_eta_pw_5')\n",
      "(167, 'PRI_jet_subleading_eta_pw_6')\n",
      "(168, 'PRI_jet_subleading_phi_pw_1')\n",
      "(169, 'PRI_jet_subleading_phi_pw_2')\n",
      "(170, 'PRI_jet_subleading_phi_pw_3')\n",
      "(171, 'PRI_jet_subleading_phi_pw_4')\n",
      "(172, 'PRI_jet_subleading_phi_pw_5')\n",
      "(173, 'PRI_jet_subleading_phi_pw_6')\n",
      "(174, 'PRI_jet_all_pt_pw_1')\n",
      "(175, 'PRI_jet_all_pt_pw_2')\n",
      "(176, 'PRI_jet_all_pt_pw_3')\n",
      "(177, 'PRI_jet_all_pt_pw_4')\n",
      "(178, 'PRI_jet_all_pt_pw_5')\n",
      "(179, 'PRI_jet_all_pt_pw_6')\n",
      "(180, 'log(DER_mass_MMC)')\n",
      "(181, 'log(DER_mass_transverse_met_lep)')\n",
      "(182, 'log(DER_mass_vis)')\n",
      "(183, 'log(DER_mass_jet_jet)')\n"
     ]
    }
   ],
   "source": [
    "# list of feature names and indices\n",
    "features = []\n",
    "for i in range(len(feat_names)):\n",
    "    features.append((i,feat_names[i]))\n",
    "\n",
    "print(all_candidates.shape)\n",
    "print(len(features))\n",
    "print(*features, sep='\\n')"
   ]
  },
  {
   "cell_type": "code",
   "execution_count": 92,
   "metadata": {
    "collapsed": true
   },
   "outputs": [],
   "source": [
    "all_candidates,_ ,_ = standardize(all_candidates)"
   ]
  },
  {
   "cell_type": "code",
   "execution_count": 93,
   "metadata": {
    "collapsed": true
   },
   "outputs": [],
   "source": [
    "# model parameters\n",
    "model = dict()\n",
    "model['method'] = 'rr' \n",
    "model['loss'] = 'loglikelihood'\n",
    "model['lambda_'] = 0\n",
    "\n",
    "# model hyperparameter\n",
    "model['gamma'] = 0\n",
    "\n",
    "model['debug_mode'] = 1\n",
    "\n",
    "# R2 type\n",
    "R2_method = 'McFadden' # 'loss', 'Tjur' or 'McFadden' \n",
    "\n",
    "# estimate R2 error through cross validation (1 or 0)\n",
    "cv = 1\n",
    "model['k_fold'] = 10"
   ]
  },
  {
   "cell_type": "code",
   "execution_count": null,
   "metadata": {},
   "outputs": [
    {
     "name": "stdout",
     "output_type": "stream",
     "text": [
      "Number of input features (all the candidates): 184\n",
      "Number samples: 250000\n"
     ]
    },
    {
     "name": "stderr",
     "output_type": "stream",
     "text": [
      "C:\\Users\\utente\\Documents\\GitHub\\Project1_ML\\code\\COMMON\\costs.py:43: RuntimeWarning: overflow encountered in exp\n",
      "  loglikelihood = np.sum(np.log(1+np.exp(tx.dot(w))) - y*(tx.dot(w))) + lambda_*w.T.dot(w)\n"
     ]
    },
    {
     "name": "stdout",
     "output_type": "stream",
     "text": [
      "-------------------------------------------------\n",
      "Feature chosen:  DER_mass_transverse_met_lep_pw_1 (index : 6 )\n",
      "-------------------------------------------------\n",
      "Feature chosen:  DER_deltaeta_jet_jet_pw_2 (index : 25 )\n",
      "-------------------------------------------------\n",
      "Feature chosen:  PRI_tau_pt_pw_1 (index : 78 )\n",
      "-------------------------------------------------\n",
      "Feature chosen:  DER_mass_transverse_met_lep_pw_2 (index : 7 )\n",
      "-------------------------------------------------\n",
      "Feature chosen:  log(DER_mass_MMC) (index : 180 )\n",
      "-------------------------------------------------\n",
      "Feature chosen:  DER_mass_MMC_pw_1 (index : 0 )\n",
      "-------------------------------------------------\n",
      "Feature chosen:  PRI_lep_eta_pw_2 (index : 103 )\n",
      "-------------------------------------------------\n",
      "Feature chosen:  PRI_jet_leading_eta_pw_2 (index : 145 )\n",
      "-------------------------------------------------\n",
      "Feature chosen:  PRI_tau_pt_pw_2 (index : 79 )\n",
      "-------------------------------------------------\n",
      "Feature chosen:  DER_mass_MMC_pw_3 (index : 2 )\n",
      "-------------------------------------------------\n",
      "Feature chosen:  PRI_jet_num_pw_6 (index : 137 )\n",
      "-------------------------------------------------\n",
      "Feature chosen:  DER_met_phi_centrality_pw_3 (index : 68 )\n",
      "-------------------------------------------------\n",
      "Feature chosen:  DER_lep_eta_centrality_pw_2 (index : 73 )\n",
      "-------------------------------------------------\n",
      "Feature chosen:  PRI_tau_pt_pw_3 (index : 80 )\n",
      "-------------------------------------------------\n",
      "Feature chosen:  PRI_tau_pt_pw_4 (index : 81 )\n",
      "-------------------------------------------------\n",
      "Feature chosen:  DER_met_phi_centrality_pw_2 (index : 67 )\n",
      "-------------------------------------------------\n",
      "Feature chosen:  DER_mass_MMC_pw_2 (index : 1 )\n",
      "-------------------------------------------------\n",
      "Feature chosen:  DER_mass_MMC_pw_4 (index : 3 )\n",
      "-------------------------------------------------\n",
      "Feature chosen:  DER_mass_MMC_pw_5 (index : 4 )\n",
      "-------------------------------------------------\n",
      "Feature chosen:  DER_mass_MMC_pw_6 (index : 5 )\n",
      "-------------------------------------------------\n",
      "Feature chosen:  DER_deltar_tau_lep_pw_1 (index : 42 )\n",
      "-------------------------------------------------\n",
      "Feature chosen:  DER_pt_h_pw_1 (index : 18 )\n",
      "-------------------------------------------------\n",
      "Feature chosen:  DER_mass_vis_pw_1 (index : 12 )\n",
      "-------------------------------------------------\n",
      "Feature chosen:  DER_deltar_tau_lep_pw_2 (index : 43 )\n",
      "-------------------------------------------------\n",
      "Feature chosen:  DER_deltar_tau_lep_pw_3 (index : 44 )\n",
      "-------------------------------------------------\n",
      "Feature chosen:  PRI_lep_pt_pw_1 (index : 96 )\n",
      "-------------------------------------------------\n",
      "Feature chosen:  DER_mass_vis_pw_2 (index : 13 )\n",
      "-------------------------------------------------\n",
      "Feature chosen:  DER_mass_transverse_met_lep_pw_4 (index : 9 )\n",
      "-------------------------------------------------\n",
      "Feature chosen:  log(DER_mass_transverse_met_lep) (index : 181 )\n",
      "-------------------------------------------------\n",
      "Feature chosen:  PRI_tau_eta_pw_2 (index : 85 )\n",
      "-------------------------------------------------\n",
      "Feature chosen:  PRI_met_sumet_pw_2 (index : 127 )\n",
      "-------------------------------------------------\n",
      "Feature chosen:  PRI_jet_leading_pt_pw_1 (index : 138 )\n",
      "-------------------------------------------------\n",
      "Feature chosen:  DER_deltaeta_jet_jet_pw_1 (index : 24 )\n",
      "-------------------------------------------------\n",
      "Feature chosen:  DER_deltaeta_jet_jet_pw_3 (index : 26 )\n",
      "-------------------------------------------------\n",
      "Feature chosen:  DER_mass_transverse_met_lep_pw_5 (index : 10 )\n",
      "-------------------------------------------------\n",
      "Feature chosen:  PRI_jet_num_pw_1 (index : 132 )\n",
      "-------------------------------------------------\n",
      "Feature chosen:  PRI_jet_subleading_eta_pw_2 (index : 163 )\n",
      "-------------------------------------------------\n",
      "Feature chosen:  DER_prodeta_jet_jet_pw_1 (index : 36 )\n",
      "-------------------------------------------------\n",
      "Feature chosen:  DER_deltar_tau_lep_pw_4 (index : 45 )\n",
      "-------------------------------------------------\n",
      "Feature chosen:  DER_mass_vis_pw_3 (index : 14 )\n",
      "-------------------------------------------------\n",
      "Feature chosen:  PRI_lep_pt_pw_2 (index : 97 )\n",
      "-------------------------------------------------\n",
      "Feature chosen:  PRI_tau_pt_pw_5 (index : 82 )\n",
      "-------------------------------------------------\n",
      "Feature chosen:  PRI_tau_pt_pw_6 (index : 83 )\n",
      "-------------------------------------------------\n",
      "Feature chosen:  PRI_jet_leading_eta_pw_6 (index : 149 )\n",
      "-------------------------------------------------\n",
      "Feature chosen:  log(DER_mass_jet_jet) (index : 183 )\n",
      "-------------------------------------------------\n",
      "Feature chosen:  PRI_jet_subleading_pt_pw_1 (index : 156 )\n",
      "-------------------------------------------------\n",
      "Feature chosen:  PRI_met_pw_1 (index : 114 )\n",
      "-------------------------------------------------\n",
      "Feature chosen:  PRI_jet_subleading_pt_pw_2 (index : 157 )\n",
      "-------------------------------------------------\n",
      "Feature chosen:  PRI_jet_subleading_pt_pw_3 (index : 158 )\n",
      "-------------------------------------------------\n",
      "Feature chosen:  PRI_jet_num_pw_5 (index : 136 )\n",
      "-------------------------------------------------\n",
      "Feature chosen:  PRI_jet_subleading_pt_pw_4 (index : 159 )\n",
      "-------------------------------------------------\n",
      "Feature chosen:  PRI_jet_leading_pt_pw_2 (index : 139 )\n",
      "-------------------------------------------------\n",
      "Feature chosen:  DER_sum_pt_pw_4 (index : 57 )\n",
      "-------------------------------------------------\n",
      "Feature chosen:  PRI_met_sumet_pw_1 (index : 126 )\n",
      "-------------------------------------------------\n",
      "Feature chosen:  PRI_met_sumet_pw_3 (index : 128 )\n",
      "-------------------------------------------------\n",
      "Feature chosen:  PRI_met_sumet_pw_4 (index : 129 )\n",
      "-------------------------------------------------\n",
      "Feature chosen:  DER_pt_h_pw_2 (index : 19 )\n",
      "-------------------------------------------------\n",
      "Feature chosen:  PRI_met_pw_3 (index : 116 )\n",
      "-------------------------------------------------\n",
      "Feature chosen:  DER_pt_ratio_lep_tau_pw_1 (index : 60 )\n",
      "-------------------------------------------------\n",
      "Feature chosen:  DER_mass_jet_jet_pw_1 (index : 30 )\n",
      "-------------------------------------------------\n",
      "Feature chosen:  log(DER_mass_vis) (index : 182 )\n",
      "-------------------------------------------------\n",
      "Feature chosen:  PRI_jet_subleading_eta_pw_4 (index : 165 )\n",
      "-------------------------------------------------\n",
      "Feature chosen:  DER_deltaeta_jet_jet_pw_6 (index : 29 )\n"
     ]
    }
   ],
   "source": [
    "best_R2adj, idx_features = stepwise(model, R2_method, all_candidates, features, y, cv)"
   ]
  },
  {
   "cell_type": "code",
   "execution_count": 14,
   "metadata": {
    "collapsed": true
   },
   "outputs": [],
   "source": [
    "import winsound\n",
    "frequency = 2000  # Set Frequency To 2500 Hertz\n",
    "duration = 1000  # Set Duration To 1000 ms == 1 second\n",
    "winsound.Beep(frequency, duration)"
   ]
  },
  {
   "cell_type": "code",
   "execution_count": 15,
   "metadata": {},
   "outputs": [
    {
     "name": "stdout",
     "output_type": "stream",
     "text": [
      "step 1 : R2 adjusted = 0.921882239588\n",
      "step 2 : R2 adjusted = 0.928197356762\n",
      "step 3 : R2 adjusted = 0.933647642502\n",
      "step 4 : R2 adjusted = 0.936307679222\n",
      "step 5 : R2 adjusted = 0.938631563252\n",
      "step 6 : R2 adjusted = 0.944136084298\n",
      "step 7 : R2 adjusted = 0.945598169909\n",
      "step 8 : R2 adjusted = 0.946876417958\n",
      "step 9 : R2 adjusted = 0.947774572059\n",
      "step 10 : R2 adjusted = 0.948525077553\n",
      "step 11 : R2 adjusted = 0.949168291786\n",
      "step 12 : R2 adjusted = 0.950066298566\n",
      "step 13 : R2 adjusted = 0.950703673145\n",
      "step 14 : R2 adjusted = 0.951212756781\n",
      "step 15 : R2 adjusted = 0.951666031369\n",
      "step 16 : R2 adjusted = 0.952000985104\n",
      "step 17 : R2 adjusted = 0.952286215627\n",
      "step 18 : R2 adjusted = 0.952539920471\n",
      "step 19 : R2 adjusted = 0.953076835604\n",
      "step 20 : R2 adjusted = 0.953280204673\n",
      "step 21 : R2 adjusted = 0.953853782169\n",
      "step 22 : R2 adjusted = 0.954360267148\n",
      "step 23 : R2 adjusted = 0.954591821981\n",
      "step 24 : R2 adjusted = 0.954795769708\n",
      "step 25 : R2 adjusted = 0.954915543791\n",
      "step 26 : R2 adjusted = 0.955115368533\n",
      "step 27 : R2 adjusted = 0.955332763251\n",
      "step 28 : R2 adjusted = 0.955477932241\n",
      "step 29 : R2 adjusted = 0.955803914765\n",
      "step 30 : R2 adjusted = 0.956003847834\n",
      "step 31 : R2 adjusted = 0.95619276253\n",
      "step 32 : R2 adjusted = 0.956315527867\n",
      "step 33 : R2 adjusted = 0.956401231174\n",
      "step 34 : R2 adjusted = 0.956554437421\n",
      "step 35 : R2 adjusted = 0.956678672295\n",
      "step 36 : R2 adjusted = 0.956778285492\n",
      "step 37 : R2 adjusted = 0.956846757066\n",
      "step 38 : R2 adjusted = 0.956922854084\n",
      "step 39 : R2 adjusted = 0.956983198311\n",
      "step 40 : R2 adjusted = 0.957019139255\n",
      "step 41 : R2 adjusted = 0.957096804768\n",
      "step 42 : R2 adjusted = 0.957152498816\n",
      "step 43 : R2 adjusted = 0.957218800804\n",
      "step 44 : R2 adjusted = 0.95724626519\n",
      "step 45 : R2 adjusted = 0.957275002921\n",
      "step 46 : R2 adjusted = 0.957400465068\n",
      "step 47 : R2 adjusted = 0.957429798883\n",
      "step 48 : R2 adjusted = 0.957457423144\n",
      "step 49 : R2 adjusted = 0.957483297748\n",
      "step 50 : R2 adjusted = 0.957501454034\n",
      "step 51 : R2 adjusted = 0.957514584582\n",
      "step 52 : R2 adjusted = 0.957524524571\n",
      "step 53 : R2 adjusted = 0.957533708813\n",
      "step 54 : R2 adjusted = 0.957593268049\n",
      "step 55 : R2 adjusted = 0.957644048753\n",
      "step 56 : R2 adjusted = 0.957723859966\n",
      "step 57 : R2 adjusted = 0.957734690169\n",
      "step 58 : R2 adjusted = 0.957742369137\n",
      "step 59 : R2 adjusted = 0.9577500389\n",
      "step 60 : R2 adjusted = 0.957805803705\n",
      "step 61 : R2 adjusted = 0.957826476643\n",
      "step 62 : R2 adjusted = 0.957833840862\n",
      "step 63 : R2 adjusted = 0.957837996517\n",
      "step 64 : R2 adjusted = 0.957838463207\n",
      "step 65 : R2 adjusted = 0.957838798472\n",
      "step 66 : R2 adjusted = 0.957838818479\n",
      "-------------------------------------------------------\n",
      "Number of features chosen: 66\n",
      "Indices of features chosen:  [3, 13, 39, 4, 90, 0, 52, 73, 40, 2, 35, 68, 38, 41, 34, 1, 43, 5, 91, 21, 6, 9, 93, 48, 64, 69, 78, 22, 23, 7, 8, 49, 82, 18, 67, 20, 70, 71, 92, 79, 29, 63, 65, 37, 12, 14, 15, 89, 66, 19, 80, 17, 31, 30, 32, 50, 24, 36, 25, 59, 11, 27, 33, 16, 28, 53]\n"
     ]
    }
   ],
   "source": [
    "results_r2_stepwise(best_R2adj[:len(best_R2adj)-1], idx_features)"
   ]
  },
  {
   "cell_type": "code",
   "execution_count": 79,
   "metadata": {},
   "outputs": [
    {
     "data": {
      "text/plain": [
       "(250000, 40)"
      ]
     },
     "execution_count": 79,
     "metadata": {},
     "output_type": "execute_result"
    }
   ],
   "source": [
    "phi = all_candidates[:, idx_features]\n",
    "np.shape(phi)"
   ]
  },
  {
   "cell_type": "code",
   "execution_count": 80,
   "metadata": {},
   "outputs": [
    {
     "name": "stdout",
     "output_type": "stream",
     "text": [
      "tested lambda_:  [  1.00000000e-05   1.07226722e-05   1.14975700e-05   1.23284674e-05\n",
      "   1.32194115e-05   1.41747416e-05   1.51991108e-05   1.62975083e-05\n",
      "   1.74752840e-05   1.87381742e-05   2.00923300e-05   2.15443469e-05\n",
      "   2.31012970e-05   2.47707636e-05   2.65608778e-05   2.84803587e-05\n",
      "   3.05385551e-05   3.27454916e-05   3.51119173e-05   3.76493581e-05\n",
      "   4.03701726e-05   4.32876128e-05   4.64158883e-05   4.97702356e-05\n",
      "   5.33669923e-05   5.72236766e-05   6.13590727e-05   6.57933225e-05\n",
      "   7.05480231e-05   7.56463328e-05   8.11130831e-05   8.69749003e-05\n",
      "   9.32603347e-05   1.00000000e-04   1.07226722e-04   1.14975700e-04\n",
      "   1.23284674e-04   1.32194115e-04   1.41747416e-04   1.51991108e-04\n",
      "   1.62975083e-04   1.74752840e-04   1.87381742e-04   2.00923300e-04\n",
      "   2.15443469e-04   2.31012970e-04   2.47707636e-04   2.65608778e-04\n",
      "   2.84803587e-04   3.05385551e-04   3.27454916e-04   3.51119173e-04\n",
      "   3.76493581e-04   4.03701726e-04   4.32876128e-04   4.64158883e-04\n",
      "   4.97702356e-04   5.33669923e-04   5.72236766e-04   6.13590727e-04\n",
      "   6.57933225e-04   7.05480231e-04   7.56463328e-04   8.11130831e-04\n",
      "   8.69749003e-04   9.32603347e-04   1.00000000e-03   1.07226722e-03\n",
      "   1.14975700e-03   1.23284674e-03   1.32194115e-03   1.41747416e-03\n",
      "   1.51991108e-03   1.62975083e-03   1.74752840e-03   1.87381742e-03\n",
      "   2.00923300e-03   2.15443469e-03   2.31012970e-03   2.47707636e-03\n",
      "   2.65608778e-03   2.84803587e-03   3.05385551e-03   3.27454916e-03\n",
      "   3.51119173e-03   3.76493581e-03   4.03701726e-03   4.32876128e-03\n",
      "   4.64158883e-03   4.97702356e-03   5.33669923e-03   5.72236766e-03\n",
      "   6.13590727e-03   6.57933225e-03   7.05480231e-03   7.56463328e-03\n",
      "   8.11130831e-03   8.69749003e-03   9.32603347e-03   1.00000000e-02] \n",
      "\n",
      "------------------------------------------ cross validation with lambda_ =  1e-05\n",
      "------------------------------------------ cross validation with lambda_ =  1.07226722201e-05\n",
      "------------------------------------------ cross validation with lambda_ =  1.1497569954e-05\n",
      "------------------------------------------ cross validation with lambda_ =  1.23284673944e-05\n",
      "------------------------------------------ cross validation with lambda_ =  1.32194114847e-05\n",
      "------------------------------------------ cross validation with lambda_ =  1.41747416293e-05\n",
      "------------------------------------------ cross validation with lambda_ =  1.51991108295e-05\n",
      "------------------------------------------ cross validation with lambda_ =  1.62975083462e-05\n",
      "------------------------------------------ cross validation with lambda_ =  1.74752840001e-05\n",
      "------------------------------------------ cross validation with lambda_ =  1.87381742286e-05\n",
      "------------------------------------------ cross validation with lambda_ =  2.00923300257e-05\n",
      "------------------------------------------ cross validation with lambda_ =  2.15443469003e-05\n",
      "------------------------------------------ cross validation with lambda_ =  2.31012970008e-05\n",
      "------------------------------------------ cross validation with lambda_ =  2.47707635599e-05\n",
      "------------------------------------------ cross validation with lambda_ =  2.65608778295e-05\n",
      "------------------------------------------ cross validation with lambda_ =  2.84803586844e-05\n",
      "------------------------------------------ cross validation with lambda_ =  3.05385550883e-05\n",
      "------------------------------------------ cross validation with lambda_ =  3.27454916288e-05\n",
      "------------------------------------------ cross validation with lambda_ =  3.51119173422e-05\n",
      "------------------------------------------ cross validation with lambda_ =  3.76493580679e-05\n",
      "------------------------------------------ cross validation with lambda_ =  4.0370172586e-05\n",
      "------------------------------------------ cross validation with lambda_ =  4.32876128108e-05\n",
      "------------------------------------------ cross validation with lambda_ =  4.64158883361e-05\n",
      "------------------------------------------ cross validation with lambda_ =  4.97702356433e-05\n",
      "------------------------------------------ cross validation with lambda_ =  5.33669923121e-05\n",
      "------------------------------------------ cross validation with lambda_ =  5.72236765935e-05\n",
      "------------------------------------------ cross validation with lambda_ =  6.13590727341e-05\n",
      "------------------------------------------ cross validation with lambda_ =  6.57933224658e-05\n",
      "------------------------------------------ cross validation with lambda_ =  7.05480231072e-05\n",
      "------------------------------------------ cross validation with lambda_ =  7.56463327555e-05\n",
      "------------------------------------------ cross validation with lambda_ =  8.1113083079e-05\n",
      "------------------------------------------ cross validation with lambda_ =  8.69749002618e-05\n",
      "------------------------------------------ cross validation with lambda_ =  9.32603346883e-05\n",
      "------------------------------------------ cross validation with lambda_ =  0.0001\n",
      "------------------------------------------ cross validation with lambda_ =  0.000107226722201\n",
      "------------------------------------------ cross validation with lambda_ =  0.00011497569954\n",
      "------------------------------------------ cross validation with lambda_ =  0.000123284673944\n",
      "------------------------------------------ cross validation with lambda_ =  0.000132194114847\n",
      "------------------------------------------ cross validation with lambda_ =  0.000141747416293\n",
      "------------------------------------------ cross validation with lambda_ =  0.000151991108295\n",
      "------------------------------------------ cross validation with lambda_ =  0.000162975083462\n",
      "------------------------------------------ cross validation with lambda_ =  0.000174752840001\n",
      "------------------------------------------ cross validation with lambda_ =  0.000187381742286\n",
      "------------------------------------------ cross validation with lambda_ =  0.000200923300257\n",
      "------------------------------------------ cross validation with lambda_ =  0.000215443469003\n",
      "------------------------------------------ cross validation with lambda_ =  0.000231012970008\n",
      "------------------------------------------ cross validation with lambda_ =  0.000247707635599\n",
      "------------------------------------------ cross validation with lambda_ =  0.000265608778295\n",
      "------------------------------------------ cross validation with lambda_ =  0.000284803586844\n",
      "------------------------------------------ cross validation with lambda_ =  0.000305385550883\n",
      "------------------------------------------ cross validation with lambda_ =  0.000327454916288\n",
      "------------------------------------------ cross validation with lambda_ =  0.000351119173422\n",
      "------------------------------------------ cross validation with lambda_ =  0.000376493580679\n",
      "------------------------------------------ cross validation with lambda_ =  0.00040370172586\n",
      "------------------------------------------ cross validation with lambda_ =  0.000432876128108\n",
      "------------------------------------------ cross validation with lambda_ =  0.000464158883361\n",
      "------------------------------------------ cross validation with lambda_ =  0.000497702356433\n",
      "------------------------------------------ cross validation with lambda_ =  0.000533669923121\n",
      "------------------------------------------ cross validation with lambda_ =  0.000572236765935\n",
      "------------------------------------------ cross validation with lambda_ =  0.000613590727341\n",
      "------------------------------------------ cross validation with lambda_ =  0.000657933224658\n",
      "------------------------------------------ cross validation with lambda_ =  0.000705480231072\n",
      "------------------------------------------ cross validation with lambda_ =  0.000756463327555\n",
      "------------------------------------------ cross validation with lambda_ =  0.00081113083079\n",
      "------------------------------------------ cross validation with lambda_ =  0.000869749002618\n",
      "------------------------------------------ cross validation with lambda_ =  0.000932603346883\n",
      "------------------------------------------ cross validation with lambda_ =  0.001\n",
      "------------------------------------------ cross validation with lambda_ =  0.00107226722201\n",
      "------------------------------------------ cross validation with lambda_ =  0.0011497569954\n",
      "------------------------------------------ cross validation with lambda_ =  0.00123284673944\n"
     ]
    },
    {
     "name": "stdout",
     "output_type": "stream",
     "text": [
      "------------------------------------------ cross validation with lambda_ =  0.00132194114847\n",
      "------------------------------------------ cross validation with lambda_ =  0.00141747416293\n",
      "------------------------------------------ cross validation with lambda_ =  0.00151991108295\n",
      "------------------------------------------ cross validation with lambda_ =  0.00162975083462\n",
      "------------------------------------------ cross validation with lambda_ =  0.00174752840001\n",
      "------------------------------------------ cross validation with lambda_ =  0.00187381742286\n",
      "------------------------------------------ cross validation with lambda_ =  0.00200923300257\n",
      "------------------------------------------ cross validation with lambda_ =  0.00215443469003\n",
      "------------------------------------------ cross validation with lambda_ =  0.00231012970008\n",
      "------------------------------------------ cross validation with lambda_ =  0.00247707635599\n",
      "------------------------------------------ cross validation with lambda_ =  0.00265608778295\n",
      "------------------------------------------ cross validation with lambda_ =  0.00284803586844\n",
      "------------------------------------------ cross validation with lambda_ =  0.00305385550883\n",
      "------------------------------------------ cross validation with lambda_ =  0.00327454916288\n",
      "------------------------------------------ cross validation with lambda_ =  0.00351119173422\n",
      "------------------------------------------ cross validation with lambda_ =  0.00376493580679\n",
      "------------------------------------------ cross validation with lambda_ =  0.0040370172586\n",
      "------------------------------------------ cross validation with lambda_ =  0.00432876128108\n",
      "------------------------------------------ cross validation with lambda_ =  0.00464158883361\n",
      "------------------------------------------ cross validation with lambda_ =  0.00497702356433\n",
      "------------------------------------------ cross validation with lambda_ =  0.00533669923121\n",
      "------------------------------------------ cross validation with lambda_ =  0.00572236765935\n",
      "------------------------------------------ cross validation with lambda_ =  0.00613590727341\n",
      "------------------------------------------ cross validation with lambda_ =  0.00657933224658\n",
      "------------------------------------------ cross validation with lambda_ =  0.00705480231072\n",
      "------------------------------------------ cross validation with lambda_ =  0.00756463327555\n",
      "------------------------------------------ cross validation with lambda_ =  0.0081113083079\n",
      "------------------------------------------ cross validation with lambda_ =  0.00869749002618\n",
      "------------------------------------------ cross validation with lambda_ =  0.00932603346883\n",
      "------------------------------------------ cross validation with lambda_ =  0.01\n",
      "Optimal lambda:  1e-05\n",
      "Associated testing loss:  0.520666764153 \n",
      "\n"
     ]
    },
    {
     "data": {
      "image/png": "[encoded data removed]",
      "text/plain": [
       "<matplotlib.figure.Figure at 0x24912166ef0>"
      ]
     },
     "metadata": {},
     "output_type": "display_data"
    },
    {
     "data": {
      "image/png": "[encoded data removed]",
      "text/plain": [
       "<matplotlib.figure.Figure at 0x24912166048>"
      ]
     },
     "metadata": {},
     "output_type": "display_data"
    }
   ],
   "source": [
    "# ridge regression parameters\n",
    "arg_rr = dict()\n",
    "arg_rr['method'] = 'rr'\n",
    "arg_rr['loss'] = 'rmse'\n",
    "arg_rr['k_fold'] = 10\n",
    "\n",
    "# optimization parameters\n",
    "lambda_min = -5\n",
    "lambda_max = -2\n",
    "lambda_steps = 100\n",
    "\n",
    "# optimize lambda_\n",
    "w_opt, loss_tr, loss_te, lambda_opt, success_rate = optimize_lambda(y, phi, lambda_min, lambda_max, lambda_steps, arg_rr, debug_mode=1)\n",
    "\n",
    "# plot results\n",
    "plt.figure()\n",
    "plt.plot(phi.dot(w_opt))\n",
    "plt.plot(y)\n",
    "plt.xlabel('sample')\n",
    "plt.ylabel('observation')\n",
    "plt.show()\n",
    "\n"
   ]
  },
  {
   "cell_type": "code",
   "execution_count": 81,
   "metadata": {},
   "outputs": [
    {
     "name": "stdout",
     "output_type": "stream",
     "text": [
      "0.688112\n"
     ]
    }
   ],
   "source": [
    "print(success_rate)"
   ]
  },
  {
   "cell_type": "code",
   "execution_count": 82,
   "metadata": {},
   "outputs": [],
   "source": [
    "wrr, loss = ridge_regression(y, phi, 0.0)\n",
    "\n",
    "Y = predict_labels(wrr, phi)\n"
   ]
  },
  {
   "cell_type": "code",
   "execution_count": 83,
   "metadata": {},
   "outputs": [
    {
     "name": "stdout",
     "output_type": "stream",
     "text": [
      "172044\n",
      "77956\n",
      "0.688176\n"
     ]
    }
   ],
   "source": [
    "pos = 0\n",
    "neg = 0\n",
    "for i in range (len(y)):\n",
    "    if Y[i] == y[i]:\n",
    "        pos += 1\n",
    "    else:\n",
    "        neg += 1\n",
    "print(pos)\n",
    "print(neg)\n",
    "\n",
    "success_rate = pos/(pos+neg)\n",
    "print(success_rate)"
   ]
  },
  {
   "cell_type": "code",
   "execution_count": 84,
   "metadata": {},
   "outputs": [
    {
     "name": "stdout",
     "output_type": "stream",
     "text": [
      "-999 are replaced by the median value of the feature\n",
      "---------------------------\n",
      "Features have been set to the power(s): [1, 2, 3]\n",
      "4 logarithmic features have been added.\n",
      "Data have been standardized.\n",
      "---------------------------\n",
      "Data loaded! Shape: \n",
      "(568238, 94)\n"
     ]
    }
   ],
   "source": [
    "from extend_features import *\n",
    "\n",
    "nope, test_data, ids = load_csv_data(my_path + r'\\data\\test.csv', sub_sample=False)\n",
    "\n",
    "feature_names= list(np.genfromtxt(my_path + r'\\data\\test.csv', delimiter=\",\", dtype=str, max_rows = 1)[2:])\n",
    "\n",
    "input_data, Y = handle_outliers(test_data,nope,-999,'median')\n",
    "\n",
    "X_test, _ = extend_features(test_data, feature_names, degree, is_add_log = True)\n",
    "\n",
    "print(\"Data loaded! Shape: \")\n",
    "print(np.shape(X_test))"
   ]
  },
  {
   "cell_type": "code",
   "execution_count": 76,
   "metadata": {},
   "outputs": [
    {
     "name": "stdout",
     "output_type": "stream",
     "text": [
      "(568238, 66)\n"
     ]
    }
   ],
   "source": [
    "X_test = X_test[:, idx_features]\n",
    "\n",
    "print(np.shape(X_test))\n",
    "\n",
    "y_pred = predict_labels(wrr,X_test)\n"
   ]
  },
  {
   "cell_type": "code",
   "execution_count": 77,
   "metadata": {
    "collapsed": true
   },
   "outputs": [],
   "source": [
    "y_pred[np.where(y_pred==0)] = -1"
   ]
  },
  {
   "cell_type": "code",
   "execution_count": 78,
   "metadata": {
    "collapsed": true
   },
   "outputs": [],
   "source": [
    "create_csv_submission(ids, y_pred, \"rov_sub\")"
   ]
  },
  {
   "cell_type": "code",
   "execution_count": null,
   "metadata": {
    "collapsed": true
   },
   "outputs": [],
   "source": []
  }
 ],
 "metadata": {
  "kernelspec": {
   "display_name": "Python 3",
   "language": "python",
   "name": "python3"
  },
  "language_info": {
   "codemirror_mode": {
    "name": "ipython",
    "version": 3
   },
   "file_extension": ".py",
   "mimetype": "text/x-python",
   "name": "python",
   "nbconvert_exporter": "python",
   "pygments_lexer": "ipython3",
   "version": "3.6.2"
  }
 },
 "nbformat": 4,
 "nbformat_minor": 2
}
