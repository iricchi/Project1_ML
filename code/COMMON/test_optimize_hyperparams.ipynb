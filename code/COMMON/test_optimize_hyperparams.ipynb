{
 "cells": [
  {
   "cell_type": "code",
   "execution_count": 10,
   "metadata": {},
   "outputs": [
    {
     "name": "stdout",
     "output_type": "stream",
     "text": [
      "The autoreload extension is already loaded. To reload it, use:\n",
      "  %reload_ext autoreload\n"
     ]
    }
   ],
   "source": [
    "# -*- coding: utf-8 -*-\n",
    "%matplotlib inline\n",
    "%load_ext autoreload\n",
    "%autoreload 2\n",
    "\n",
    "# add path\n",
    "import sys\n",
    "my_path = r'D:\\Documents\\etudes\\epfl\\MA1\\cours\\MachineLearning\\Project1'\n",
    "sys.path.insert(0,my_path + r'\\code\\COMMON')\n",
    "\n",
    "# import\n",
    "import numpy as np\n",
    "import matplotlib.pyplot as plt\n",
    "from optimize_hyperparams import *"
   ]
  },
  {
   "cell_type": "markdown",
   "metadata": {},
   "source": [
    "# Create a dataset"
   ]
  },
  {
   "cell_type": "code",
   "execution_count": 11,
   "metadata": {},
   "outputs": [
    {
     "name": "stdout",
     "output_type": "stream",
     "text": [
      "x:  (1000, 1)\n",
      "y:  (1000,)\n"
     ]
    }
   ],
   "source": [
    "from build_poly import build_poly\n",
    "from standard import standardize \n",
    "\n",
    "# number of samples in the dataset\n",
    "num_data = 1000\n",
    "\n",
    "# features\n",
    "x = np.linspace(0.1, 2 * np.pi, num_data)\n",
    "x = x[:, None]\n",
    "\n",
    "# observations\n",
    "offset = 1\n",
    "noiseLevel = 1\n",
    "y = np.sin(x[:,0]) + offset + noiseLevel * np.random.randn(num_data).T\n",
    "\n",
    "# standardize \n",
    "x, mean_x, std_x = standardize(x)\n",
    "\n",
    "print('x: ', x.shape)\n",
    "print('y: ', y.shape)"
   ]
  },
  {
   "cell_type": "markdown",
   "metadata": {},
   "source": [
    "# Tune degree of the polynomial basis function for ridge regression"
   ]
  },
  {
   "cell_type": "code",
   "execution_count": 12,
   "metadata": {},
   "outputs": [
    {
     "name": "stdout",
     "output_type": "stream",
     "text": [
      "tested degree:  [ 1  2  3  4  5  6  7  8  9 10] \n",
      "\n",
      "------------------------------------------ cross validation with degree =  1\n",
      "0.0\n",
      "0.0\n",
      "0.0\n",
      "0.0\n",
      "0.0\n",
      "0.0\n",
      "0.0\n",
      "0.0\n",
      "0.0\n",
      "0.0\n"
     ]
    },
    {
     "ename": "ValueError",
     "evalue": "too many values to unpack (expected 3)",
     "output_type": "error",
     "traceback": [
      "\u001b[1;31m---------------------------------------------------------------------------\u001b[0m",
      "\u001b[1;31mValueError\u001b[0m                                Traceback (most recent call last)",
      "\u001b[1;32m<ipython-input-12-bee09b87510d>\u001b[0m in \u001b[0;36m<module>\u001b[1;34m()\u001b[0m\n\u001b[0;32m     12\u001b[0m \u001b[1;33m\u001b[0m\u001b[0m\n\u001b[0;32m     13\u001b[0m \u001b[1;31m# optimize degree\u001b[0m\u001b[1;33m\u001b[0m\u001b[1;33m\u001b[0m\u001b[0m\n\u001b[1;32m---> 14\u001b[1;33m \u001b[0mw_opt\u001b[0m\u001b[1;33m,\u001b[0m \u001b[0mloss_tr\u001b[0m\u001b[1;33m,\u001b[0m \u001b[0mloss_te\u001b[0m\u001b[1;33m,\u001b[0m \u001b[0mdegree_opt\u001b[0m \u001b[1;33m=\u001b[0m \u001b[0moptimize_degree\u001b[0m\u001b[1;33m(\u001b[0m\u001b[0my\u001b[0m\u001b[1;33m,\u001b[0m \u001b[0mx\u001b[0m\u001b[1;33m,\u001b[0m \u001b[0mdegree_min\u001b[0m\u001b[1;33m,\u001b[0m \u001b[0mdegree_max\u001b[0m\u001b[1;33m,\u001b[0m \u001b[0mdegree_steps\u001b[0m\u001b[1;33m,\u001b[0m \u001b[0marg_rr\u001b[0m\u001b[1;33m,\u001b[0m \u001b[0mdebug_mode\u001b[0m\u001b[1;33m=\u001b[0m\u001b[1;36m1\u001b[0m\u001b[1;33m)\u001b[0m\u001b[1;33m\u001b[0m\u001b[0m\n\u001b[0m\u001b[0;32m     15\u001b[0m \u001b[1;33m\u001b[0m\u001b[0m\n\u001b[0;32m     16\u001b[0m \u001b[1;31m# plot results\u001b[0m\u001b[1;33m\u001b[0m\u001b[1;33m\u001b[0m\u001b[0m\n",
      "\u001b[1;32mC:\\Users\\utente\\Documents\\GitHub\\Project1_ML\\code\\COMMON\\optimize_hyperparams.py\u001b[0m in \u001b[0;36moptimize_degree\u001b[1;34m(y, x, degree_min, degree_max, degree_steps, args, debug_mode)\u001b[0m\n\u001b[0;32m     82\u001b[0m \u001b[1;33m\u001b[0m\u001b[0m\n\u001b[0;32m     83\u001b[0m         \u001b[1;31m# cross validation with degree_tmp\u001b[0m\u001b[1;33m\u001b[0m\u001b[1;33m\u001b[0m\u001b[0m\n\u001b[1;32m---> 84\u001b[1;33m         \u001b[0mw_tr_tmp\u001b[0m\u001b[1;33m,\u001b[0m \u001b[0mloss_tr_tot_tmp\u001b[0m\u001b[1;33m,\u001b[0m \u001b[0mloss_te_tot_tmp\u001b[0m \u001b[1;33m=\u001b[0m \u001b[0mcross_validation\u001b[0m\u001b[1;33m(\u001b[0m\u001b[0my\u001b[0m\u001b[1;33m,\u001b[0m \u001b[0mphi\u001b[0m\u001b[1;33m,\u001b[0m \u001b[0margs\u001b[0m\u001b[1;33m)\u001b[0m\u001b[1;33m\u001b[0m\u001b[0m\n\u001b[0m\u001b[0;32m     85\u001b[0m \u001b[1;33m\u001b[0m\u001b[0m\n\u001b[0;32m     86\u001b[0m         \u001b[1;31m# store mean losses\u001b[0m\u001b[1;33m\u001b[0m\u001b[1;33m\u001b[0m\u001b[0m\n",
      "\u001b[1;31mValueError\u001b[0m: too many values to unpack (expected 3)"
     ]
    }
   ],
   "source": [
    "# ridge regression parameters\n",
    "arg_rr = dict()\n",
    "arg_rr['method'] = 'rr'\n",
    "arg_rr['loss'] = 'rmse'\n",
    "arg_rr['lambda_'] = 0\n",
    "arg_rr['k_fold'] = 10\n",
    "\n",
    "# optimization parameters\n",
    "degree_min = 1 \n",
    "degree_max = 10\n",
    "degree_steps = 1\n",
    "\n",
    "# optimize degree\n",
    "w_opt, loss_tr, loss_te, degree_opt = optimize_degree(y, x, degree_min, degree_max, degree_steps, arg_rr, debug_mode=1)\n",
    "\n",
    "# plot results\n",
    "plt.figure()\n",
    "plt.plot(build_poly(x, degree_opt).dot(w_opt))\n",
    "plt.plot(y)\n",
    "plt.xlabel('sample')\n",
    "plt.ylabel('observation')\n",
    "plt.show()"
   ]
  },
  {
   "cell_type": "markdown",
   "metadata": {},
   "source": [
    "# Tune lambda_ (regularization) for ridge regression"
   ]
  },
  {
   "cell_type": "code",
   "execution_count": 14,
   "metadata": {},
   "outputs": [
    {
     "name": "stdout",
     "output_type": "stream",
     "text": [
      "tested lambda_:  [  1.00000000e-10   1.66810054e-09   2.78255940e-08   4.64158883e-07\n",
      "   7.74263683e-06   1.29154967e-04   2.15443469e-03   3.59381366e-02\n",
      "   5.99484250e-01   1.00000000e+01] \n",
      "\n",
      "------------------------------------------ cross validation with lambda_ =  1e-10\n",
      "0.0\n",
      "0.0\n",
      "0.0\n",
      "0.0\n",
      "0.0\n",
      "0.0\n",
      "0.0\n",
      "0.0\n",
      "0.0\n",
      "0.0\n",
      "------------------------------------------ cross validation with lambda_ =  1.6681005372e-09\n",
      "0.0\n",
      "0.0\n",
      "0.0\n",
      "0.0\n",
      "0.0\n",
      "0.0\n",
      "0.0\n",
      "0.0\n",
      "0.0\n",
      "0.0\n",
      "------------------------------------------ cross validation with lambda_ =  2.78255940221e-08\n",
      "0.0\n",
      "0.0\n",
      "0.0\n",
      "0.0\n",
      "0.0\n",
      "0.0\n",
      "0.0\n",
      "0.0\n",
      "0.0\n",
      "0.0\n",
      "------------------------------------------ cross validation with lambda_ =  4.64158883361e-07\n",
      "0.0\n",
      "0.0\n",
      "0.0\n",
      "0.0\n",
      "0.0\n",
      "0.0\n",
      "0.0\n",
      "0.0\n",
      "0.0\n",
      "0.0\n",
      "------------------------------------------ cross validation with lambda_ =  7.74263682681e-06\n",
      "0.0\n",
      "0.0\n",
      "0.0\n",
      "0.0\n",
      "0.0\n",
      "0.0\n",
      "0.0\n",
      "0.0\n",
      "0.0\n",
      "0.0\n",
      "------------------------------------------ cross validation with lambda_ =  0.000129154966501\n",
      "0.0\n",
      "0.0\n",
      "0.0\n",
      "0.0\n",
      "0.0\n",
      "0.0\n",
      "0.0\n",
      "0.0\n",
      "0.0\n",
      "0.0\n",
      "------------------------------------------ cross validation with lambda_ =  0.00215443469003\n",
      "0.0\n",
      "0.0\n",
      "0.0\n",
      "0.0\n",
      "0.0\n",
      "0.0\n",
      "0.0\n",
      "0.0\n",
      "0.0\n",
      "0.0\n",
      "------------------------------------------ cross validation with lambda_ =  0.035938136638\n",
      "0.0\n",
      "0.0\n",
      "0.0\n",
      "0.0\n",
      "0.0\n",
      "0.0\n",
      "0.0\n",
      "0.0\n",
      "0.0\n",
      "0.0\n",
      "------------------------------------------ cross validation with lambda_ =  0.599484250319\n",
      "0.0\n",
      "0.0\n",
      "0.0\n",
      "0.0\n",
      "0.0\n",
      "0.0\n",
      "0.0\n",
      "0.0\n",
      "0.0\n",
      "0.0\n",
      "------------------------------------------ cross validation with lambda_ =  10.0\n",
      "0.0\n",
      "0.0\n",
      "0.0\n",
      "0.0\n",
      "0.0\n",
      "0.0\n",
      "0.0\n",
      "0.0\n",
      "0.0\n",
      "0.0\n",
      "Optimal lambda:  1e-10\n",
      "Associated testing loss:  0.985252941154 \n",
      "\n"
     ]
    },
    {
     "data": {
      "image/png": "[encoded data removed]",
      "text/plain": [
       "<matplotlib.figure.Figure at 0x2556c35e7b8>"
      ]
     },
     "metadata": {},
     "output_type": "display_data"
    },
    {
     "data": {
      "image/png": "[encoded data removed]",
      "text/plain": [
       "<matplotlib.figure.Figure at 0x2556c35ee10>"
      ]
     },
     "metadata": {},
     "output_type": "display_data"
    }
   ],
   "source": [
    "# ridge regression parameters\n",
    "arg_rr = dict()\n",
    "arg_rr['method'] = 'rr'\n",
    "arg_rr['loss'] = 'rmse'\n",
    "arg_rr['k_fold'] = 10\n",
    "\n",
    "# build polynomial basis with the optimal degree\n",
    "phi_opt = build_poly(x, 3)\n",
    "\n",
    "# optimization parameters\n",
    "lambda_min = -10 \n",
    "lambda_max = 1\n",
    "lambda_steps = 10\n",
    "\n",
    "# optimize lambda_\n",
    "w_opt, loss_tr, loss_te, lambda_opt, success_rate = optimize_lambda(y, phi_opt, lambda_min, lambda_max, lambda_steps, arg_rr, debug_mode=1)\n",
    "\n",
    "# plot results\n",
    "plt.figure()\n",
    "plt.plot(phi_opt.dot(w_opt))\n",
    "plt.plot(y)\n",
    "plt.xlabel('sample')\n",
    "plt.ylabel('observation')\n",
    "plt.show()"
   ]
  },
  {
   "cell_type": "code",
   "execution_count": null,
   "metadata": {
    "collapsed": true
   },
   "outputs": [],
   "source": []
  }
 ],
 "metadata": {
  "kernelspec": {
   "display_name": "Python 3",
   "language": "python",
   "name": "python3"
  },
  "language_info": {
   "codemirror_mode": {
    "name": "ipython",
    "version": 3
   },
   "file_extension": ".py",
   "mimetype": "text/x-python",
   "name": "python",
   "nbconvert_exporter": "python",
   "pygments_lexer": "ipython3",
   "version": "3.6.1"
  }
 },
 "nbformat": 4,
 "nbformat_minor": 2
}
