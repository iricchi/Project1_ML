{
 "cells": [
  {
   "cell_type": "code",
   "execution_count": 9,
   "metadata": {},
   "outputs": [
    {
     "name": "stdout",
     "output_type": "stream",
     "text": [
      "The autoreload extension is already loaded. To reload it, use:\n",
      "  %reload_ext autoreload\n"
     ]
    }
   ],
   "source": [
    "# -*- coding: utf-8 -*-\n",
    "%matplotlib inline\n",
    "%load_ext autoreload\n",
    "%autoreload 2\n",
    "\n",
    "# add path\n",
    "import sys\n",
    "my_path = r'D:\\Documents\\etudes\\epfl\\MA1\\cours\\MachineLearning\\Project1'\n",
    "sys.path.insert(0,my_path + r'\\code\\COMMON')\n",
    "\n",
    "# import\n",
    "import numpy as np\n",
    "import matplotlib.pyplot as plt\n",
    "from optimize_hyperparams import *"
   ]
  },
  {
   "cell_type": "markdown",
   "metadata": {},
   "source": [
    "# Create a dataset"
   ]
  },
  {
   "cell_type": "code",
   "execution_count": 10,
   "metadata": {},
   "outputs": [
    {
     "name": "stdout",
     "output_type": "stream",
     "text": [
      "x:  (1000, 1)\n",
      "y:  (1000,)\n"
     ]
    }
   ],
   "source": [
    "from build_poly import build_poly\n",
    "from standard import standardize \n",
    "\n",
    "# number of samples in the dataset\n",
    "num_data = 1000\n",
    "\n",
    "# features\n",
    "x = np.linspace(0.1, 2 * np.pi, num_data)\n",
    "x = x[:, None]\n",
    "\n",
    "# observations\n",
    "offset = 1\n",
    "noiseLevel = 0.8\n",
    "y = np.sin(x[:,0]) + offset + noiseLevel * np.random.randn(num_data).T\n",
    "\n",
    "# standardize \n",
    "x, mean_x, std_x = standardize(x)\n",
    "\n",
    "print('x: ', x.shape)\n",
    "print('y: ', y.shape)"
   ]
  },
  {
   "cell_type": "markdown",
   "metadata": {},
   "source": [
    "# Tune degree of the polynomial basis function for ridge regression"
   ]
  },
  {
   "cell_type": "code",
   "execution_count": 11,
   "metadata": {},
   "outputs": [
    {
     "name": "stdout",
     "output_type": "stream",
     "text": [
      "tested degree:  [ 1  2  3  4  5  6  7  8  9 10] \n",
      "\n",
      "------------------------------------------ cross validation with degree =  1\n",
      "------------------------------------------ cross validation with degree =  2\n",
      "------------------------------------------ cross validation with degree =  3\n",
      "------------------------------------------ cross validation with degree =  4\n",
      "------------------------------------------ cross validation with degree =  5\n",
      "------------------------------------------ cross validation with degree =  6\n",
      "------------------------------------------ cross validation with degree =  7\n",
      "------------------------------------------ cross validation with degree =  8\n",
      "------------------------------------------ cross validation with degree =  9\n",
      "------------------------------------------ cross validation with degree =  10\n",
      "Optimal degree:  3\n",
      "Associated testing loss:  0.78880021374 \n",
      "\n"
     ]
    },
    {
     "data": {
      "image/png": "[encoded data removed]",
      "text/plain": [
       "<matplotlib.figure.Figure at 0x2d1987ad518>"
      ]
     },
     "metadata": {},
     "output_type": "display_data"
    }
   ],
   "source": [
    "# ridge regression parameters\n",
    "arg_rr = dict()\n",
    "arg_rr['method'] = 'rr'\n",
    "arg_rr['loss'] = 'rmse'\n",
    "arg_rr['lambda_'] = 0\n",
    "arg_rr['k_fold'] = 10\n",
    "\n",
    "# optimization parameters\n",
    "degree_min = 1 \n",
    "degree_max = 10\n",
    "degree_steps = 1\n",
    "\n",
    "# optimize degree\n",
    "degree_opt = optimize_degree(y, x, degree_min, degree_max, degree_steps, arg_rr)"
   ]
  },
  {
   "cell_type": "markdown",
   "metadata": {},
   "source": [
    "# Tune lambda_ (regularization) for ridge regression"
   ]
  },
  {
   "cell_type": "code",
   "execution_count": 12,
   "metadata": {},
   "outputs": [
    {
     "name": "stdout",
     "output_type": "stream",
     "text": [
      "tested lambda_:  [  1.00000000e-10   1.66810054e-09   2.78255940e-08   4.64158883e-07\n",
      "   7.74263683e-06   1.29154967e-04   2.15443469e-03   3.59381366e-02\n",
      "   5.99484250e-01   1.00000000e+01] \n",
      "\n",
      "------------------------------------------ cross validation with lambda_ =  1e-10\n",
      "------------------------------------------ cross validation with lambda_ =  1.6681005372e-09\n",
      "------------------------------------------ cross validation with lambda_ =  2.78255940221e-08\n",
      "------------------------------------------ cross validation with lambda_ =  4.64158883361e-07\n",
      "------------------------------------------ cross validation with lambda_ =  7.74263682681e-06\n",
      "------------------------------------------ cross validation with lambda_ =  0.000129154966501\n",
      "------------------------------------------ cross validation with lambda_ =  0.00215443469003\n",
      "------------------------------------------ cross validation with lambda_ =  0.035938136638\n",
      "------------------------------------------ cross validation with lambda_ =  0.599484250319\n",
      "------------------------------------------ cross validation with lambda_ =  10.0\n",
      "Optimal lambda:  1e-10\n",
      "Associated testing loss:  1.35444714698 \n",
      "\n"
     ]
    },
    {
     "data": {
      "image/png": "[encoded data removed]",
      "text/plain": [
       "<matplotlib.figure.Figure at 0x2d1997eeef0>"
      ]
     },
     "metadata": {},
     "output_type": "display_data"
    }
   ],
   "source": [
    "# ridge regression parameters\n",
    "arg_rr = dict()\n",
    "arg_rr['method'] = 'rr'\n",
    "arg_rr['loss'] = 'rmse'\n",
    "arg_rr['degree'] = 3\n",
    "arg_rr['k_fold'] = 10\n",
    "\n",
    "# optimization parameters\n",
    "lambda_min = -10 \n",
    "lambda_max = 1\n",
    "lambda_steps = 10\n",
    "\n",
    "# optimize lambda_\n",
    "lambda_opt = optimize_lambda(y, x, lambda_min, lambda_max, lambda_steps, arg_rr)"
   ]
  },
  {
   "cell_type": "markdown",
   "metadata": {},
   "source": [
    "# Tune gamma (step descent) for least square gradient descent"
   ]
  },
  {
   "cell_type": "code",
   "execution_count": 10,
   "metadata": {},
   "outputs": [
    {
     "name": "stdout",
     "output_type": "stream",
     "text": [
      "tested gamma:  [ 1.00002303  1.02593536  1.05251913  1.07979174  1.10777102  1.1364753\n",
      "  1.16592335  1.19613445  1.22712838  1.25892541] \n",
      "\n",
      "------------------------------------------ cross validation with gamma =  1.00002302612\n",
      "Gradient Descent(9/9): loss MSE=0.9064900260980716\n",
      "Gradient Descent(9/9): loss MSE=0.9028486826538079\n",
      "Gradient Descent(9/9): loss MSE=0.9174477762795017\n",
      "Gradient Descent(9/9): loss MSE=0.9154073813778298\n",
      "Gradient Descent(9/9): loss MSE=0.9205347372041236\n",
      "Gradient Descent(9/9): loss MSE=0.9099415323115239\n",
      "Gradient Descent(9/9): loss MSE=0.9199002037791908\n",
      "Gradient Descent(9/9): loss MSE=0.9210133854281195\n",
      "Gradient Descent(9/9): loss MSE=0.9196803592116919\n",
      "Gradient Descent(9/9): loss MSE=0.9344594856593497\n",
      "------------------------------------------ cross validation with gamma =  1.02593536351\n",
      "Gradient Descent(9/9): loss MSE=0.9064900260980716\n",
      "Gradient Descent(9/9): loss MSE=0.9028486826538079\n",
      "Gradient Descent(9/9): loss MSE=0.9174477762795017\n",
      "Gradient Descent(9/9): loss MSE=0.9154073813778298\n",
      "Gradient Descent(9/9): loss MSE=0.9205347372041236\n",
      "Gradient Descent(9/9): loss MSE=0.9099415323115239\n",
      "Gradient Descent(9/9): loss MSE=0.9199002037791908\n",
      "Gradient Descent(9/9): loss MSE=0.9210133854281195\n",
      "Gradient Descent(9/9): loss MSE=0.9196803592116919\n",
      "Gradient Descent(9/9): loss MSE=0.9344594856593497\n",
      "------------------------------------------ cross validation with gamma =  1.05251913467\n",
      "Gradient Descent(9/9): loss MSE=0.9064900260980717\n",
      "Gradient Descent(9/9): loss MSE=0.9028486826538079\n",
      "Gradient Descent(9/9): loss MSE=0.9174477762795017\n",
      "Gradient Descent(9/9): loss MSE=0.91540738137783\n",
      "Gradient Descent(9/9): loss MSE=0.9205347372041236\n",
      "Gradient Descent(9/9): loss MSE=0.9099415323115239\n",
      "Gradient Descent(9/9): loss MSE=0.9199002037791908\n",
      "Gradient Descent(9/9): loss MSE=0.9210133854281195\n",
      "Gradient Descent(9/9): loss MSE=0.9196803592116918\n",
      "Gradient Descent(9/9): loss MSE=0.9344594856593497\n",
      "------------------------------------------ cross validation with gamma =  1.07979173762\n",
      "Gradient Descent(9/9): loss MSE=0.9064900260980718\n",
      "Gradient Descent(9/9): loss MSE=0.9028486826538079\n",
      "Gradient Descent(9/9): loss MSE=0.9174477762795017\n",
      "Gradient Descent(9/9): loss MSE=0.9154073813778301\n",
      "Gradient Descent(9/9): loss MSE=0.9205347372041236\n",
      "Gradient Descent(9/9): loss MSE=0.909941532311524\n",
      "Gradient Descent(9/9): loss MSE=0.9199002037791908\n",
      "Gradient Descent(9/9): loss MSE=0.9210133854281195\n",
      "Gradient Descent(9/9): loss MSE=0.9196803592116918\n",
      "Gradient Descent(9/9): loss MSE=0.9344594856593497\n",
      "------------------------------------------ cross validation with gamma =  1.10777102118\n",
      "Gradient Descent(9/9): loss MSE=0.9064900260980716\n",
      "Gradient Descent(9/9): loss MSE=0.9028486826538079\n",
      "Gradient Descent(9/9): loss MSE=0.9174477762795017\n",
      "Gradient Descent(9/9): loss MSE=0.91540738137783\n",
      "Gradient Descent(9/9): loss MSE=0.9205347372041236\n",
      "Gradient Descent(9/9): loss MSE=0.9099415323115239\n",
      "Gradient Descent(9/9): loss MSE=0.9199002037791908\n",
      "Gradient Descent(9/9): loss MSE=0.9210133854281194\n",
      "Gradient Descent(9/9): loss MSE=0.9196803592116919\n",
      "Gradient Descent(9/9): loss MSE=0.9344594856593498\n",
      "------------------------------------------ cross validation with gamma =  1.13647529669\n",
      "Gradient Descent(9/9): loss MSE=0.9064900260980716\n",
      "Gradient Descent(9/9): loss MSE=0.9028486826538079\n",
      "Gradient Descent(9/9): loss MSE=0.9174477762795017\n",
      "Gradient Descent(9/9): loss MSE=0.9154073813778301\n",
      "Gradient Descent(9/9): loss MSE=0.9205347372041236\n",
      "Gradient Descent(9/9): loss MSE=0.909941532311524\n",
      "Gradient Descent(9/9): loss MSE=0.9199002037791908\n",
      "Gradient Descent(9/9): loss MSE=0.9210133854281194\n",
      "Gradient Descent(9/9): loss MSE=0.9196803592116919\n",
      "Gradient Descent(9/9): loss MSE=0.9344594856593497\n",
      "------------------------------------------ cross validation with gamma =  1.16592334994\n",
      "Gradient Descent(9/9): loss MSE=0.9064900260980718\n",
      "Gradient Descent(9/9): loss MSE=0.9028486826538079\n",
      "Gradient Descent(9/9): loss MSE=0.9174477762795017\n",
      "Gradient Descent(9/9): loss MSE=0.9154073813778301\n",
      "Gradient Descent(9/9): loss MSE=0.9205347372041238\n",
      "Gradient Descent(9/9): loss MSE=0.909941532311524\n",
      "Gradient Descent(9/9): loss MSE=0.9199002037791908\n",
      "Gradient Descent(9/9): loss MSE=0.9210133854281195\n",
      "Gradient Descent(9/9): loss MSE=0.9196803592116919\n",
      "Gradient Descent(9/9): loss MSE=0.9344594856593499\n",
      "------------------------------------------ cross validation with gamma =  1.19613445351\n",
      "Gradient Descent(9/9): loss MSE=0.9064900260980749\n",
      "Gradient Descent(9/9): loss MSE=0.902848682653809\n",
      "Gradient Descent(9/9): loss MSE=0.9174477762795019\n",
      "Gradient Descent(9/9): loss MSE=0.9154073813778301\n",
      "Gradient Descent(9/9): loss MSE=0.9205347372041293\n",
      "Gradient Descent(9/9): loss MSE=0.9099415323115263\n",
      "Gradient Descent(9/9): loss MSE=0.9199002037791931\n",
      "Gradient Descent(9/9): loss MSE=0.92101338542812\n",
      "Gradient Descent(9/9): loss MSE=0.9196803592116927\n",
      "Gradient Descent(9/9): loss MSE=0.9344594856593508\n",
      "------------------------------------------ cross validation with gamma =  1.22712837937\n",
      "Gradient Descent(9/9): loss MSE=0.9064900260981279\n",
      "Gradient Descent(9/9): loss MSE=0.9028486826538301\n",
      "Gradient Descent(9/9): loss MSE=0.9174477762795084\n",
      "Gradient Descent(9/9): loss MSE=0.9154073813778346\n",
      "Gradient Descent(9/9): loss MSE=0.9205347372042133\n",
      "Gradient Descent(9/9): loss MSE=0.9099415323115688\n",
      "Gradient Descent(9/9): loss MSE=0.9199002037792325\n",
      "Gradient Descent(9/9): loss MSE=0.9210133854281296\n",
      "Gradient Descent(9/9): loss MSE=0.9196803592117064\n",
      "Gradient Descent(9/9): loss MSE=0.9344594856593692\n",
      "------------------------------------------ cross validation with gamma =  1.25892541179\n",
      "Gradient Descent(9/9): loss MSE=0.9064900260987766\n",
      "Gradient Descent(9/9): loss MSE=0.9028486826541153\n",
      "Gradient Descent(9/9): loss MSE=0.9174477762796053\n",
      "Gradient Descent(9/9): loss MSE=0.9154073813779052\n",
      "Gradient Descent(9/9): loss MSE=0.9205347372051909\n",
      "Gradient Descent(9/9): loss MSE=0.9099415323120974\n",
      "Gradient Descent(9/9): loss MSE=0.9199002037797317\n",
      "Gradient Descent(9/9): loss MSE=0.9210133854282716\n",
      "Gradient Descent(9/9): loss MSE=0.9196803592118997\n",
      "Gradient Descent(9/9): loss MSE=0.9344594856596202\n",
      "Optimal gamma:  1.25892541179\n",
      "Associated testing loss:  1.23183165243 \n",
      "\n"
     ]
    },
    {
     "data": {
      "image/png": "[encoded data removed]",
      "text/plain": [
       "<matplotlib.figure.Figure at 0x80b441feb8>"
      ]
     },
     "metadata": {},
     "output_type": "display_data"
    }
   ],
   "source": [
    "# least squares gradient descent parameters\n",
    "arg_lsgd = dict()\n",
    "arg_lsgd['method'] = 'lsgd'\n",
    "arg_lsgd['loss'] = 'rmse'\n",
    "arg_lsgd['degree'] = 3\n",
    "arg_lsgd['k_fold'] = 10\n",
    "arg_lsgd['max_iters'] = 10\n",
    "arg_lsgd['initial_w'] = np.zeros(x.shape[1])\n",
    "\n",
    "\n",
    "# optimization parameters\n",
    "gamma_min = 1e-5\n",
    "gamma_max = 1e-1\n",
    "gamma_steps = 10\n",
    "\n",
    "# optimize lambda_\n",
    "gamma_opt = optimize_gamma(y, x, gamma_min, gamma_max, gamma_steps, arg_lsgd)"
   ]
  },
  {
   "cell_type": "code",
   "execution_count": null,
   "metadata": {
    "collapsed": true
   },
   "outputs": [],
   "source": []
  }
 ],
 "metadata": {
  "kernelspec": {
   "display_name": "Python 3",
   "language": "python",
   "name": "python3"
  },
  "language_info": {
   "codemirror_mode": {
    "name": "ipython",
    "version": 3
   },
   "file_extension": ".py",
   "mimetype": "text/x-python",
   "name": "python",
   "nbconvert_exporter": "python",
   "pygments_lexer": "ipython3",
   "version": "3.6.2"
  }
 },
 "nbformat": 4,
 "nbformat_minor": 2
}
