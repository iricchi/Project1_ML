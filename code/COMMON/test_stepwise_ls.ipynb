{
 "cells": [
  {
   "cell_type": "code",
   "execution_count": 9,
   "metadata": {},
   "outputs": [
    {
     "name": "stdout",
     "output_type": "stream",
     "text": [
      "The autoreload extension is already loaded. To reload it, use:\n",
      "  %reload_ext autoreload\n"
     ]
    }
   ],
   "source": [
    "# TO RUN IT: CHANGE MY PATH\n",
    "%matplotlib inline\n",
    "%load_ext autoreload\n",
    "%autoreload 2\n",
    "\n",
    "# change path if necessary\n",
    "import sys\n",
    "my_path = r'/home/ilaria/Scrivania/Machine_Learning/Project_1/Project1_ML'\n",
    "sys.path.insert(0,my_path + r'/code/COMMON')\n",
    "\n",
    "# imports\n",
    "import numpy as np \n",
    "import matplotlib.pyplot as plt\n",
    "\n",
    "from proj1_helpers import predict_labels \n",
    "from implementations import *\n",
    "from labels import idx_2labels\n",
    "from costs import *\n",
    "from optimize_hyperparams import *\n",
    "from cross_validation import *\n",
    "from step_wise import *"
   ]
  },
  {
   "cell_type": "markdown",
   "metadata": {},
   "source": [
    "# Build dataset"
   ]
  },
  {
   "cell_type": "code",
   "execution_count": 10,
   "metadata": {
    "collapsed": true
   },
   "outputs": [],
   "source": [
    "from proj1_helpers import load_csv_data \n",
    "\n",
    "# load raw data\n",
    "y_raw, input_data_raw, ids = load_csv_data(my_path + r'/data/train.csv', sub_sample=False)"
   ]
  },
  {
   "cell_type": "code",
   "execution_count": 11,
   "metadata": {},
   "outputs": [
    {
     "name": "stdout",
     "output_type": "stream",
     "text": [
      "-999 are replaced by the median value of the feature\n"
     ]
    }
   ],
   "source": [
    "from outliers import handle_outliers\n",
    "\n",
    "# handle outliers\n",
    "X0, y = handle_outliers(input_data_raw, y_raw, -999, 'median')"
   ]
  },
  {
   "cell_type": "code",
   "execution_count": 12,
   "metadata": {
    "collapsed": true
   },
   "outputs": [],
   "source": [
    "from standard import standardize\n",
    "\n",
    "# standardize\n",
    "X0, mean_X0, std_X0 = standardize(X0)\n",
    "\n",
    "# set y in {0,1} instead of {-1,1}\n",
    "y[np.where(y==-1)]=0"
   ]
  },
  {
   "cell_type": "markdown",
   "metadata": {},
   "source": [
    "# Least Squares"
   ]
  },
  {
   "cell_type": "code",
   "execution_count": 13,
   "metadata": {
    "collapsed": true
   },
   "outputs": [],
   "source": [
    "# parameters\n",
    "model = dict()\n",
    "model['method'] = 'ls'\n",
    "model['loss'] = 'rmse'\n",
    "\n",
    "# R2 type\n",
    "R2_method = 'McFadden' # or 'loss'\n",
    "\n",
    "# estimate R2 error through cross validation (1 or 0)\n",
    "cv = 0\n",
    "model['k_fold'] = 2"
   ]
  },
  {
   "cell_type": "code",
   "execution_count": 14,
   "metadata": {
    "collapsed": true
   },
   "outputs": [],
   "source": [
    "# step wise candidates\n",
    "all_candidates = X0\n",
    "\n",
    "# adding logarithmic transformation of masses\n",
    "all_candidates = np.concatenate((all_candidates, np.log(1+np.abs(X0[:,0])).reshape(len(X0),1)),axis =1)\n",
    "all_candidates = np.concatenate((all_candidates, np.log(1+np.abs(X0[:,1])).reshape(len(X0),1)),axis =1)\n",
    "all_candidates = np.concatenate((all_candidates, np.log(1+np.abs(X0[:,2])).reshape(len(X0),1)),axis =1)\n",
    "all_candidates = np.concatenate((all_candidates, np.log(1+np.abs(X0[:,5])).reshape(len(X0),1)),axis =1)\n",
    "\n",
    "# get feature names \n",
    "all_features = list(np.genfromtxt(my_path + r'/data/train.csv', delimiter=\",\", dtype=str, max_rows = 1)[2:])\n",
    "\n",
    "# adding logarithm names\n",
    "all_features.append('log(DER_mass_MMC)')\n",
    "all_features.append('log(DER_mass_transverse_met_lep)')\n",
    "all_features.append('log(DER_mass_vis)')\n",
    "all_features.append('log(DER_mass_jet_jet)')\n",
    "\n",
    "# list of feature names and indices\n",
    "features = []\n",
    "for i in range(len(all_features)):\n",
    "    features.append((i,all_features[i]))"
   ]
  },
  {
   "cell_type": "code",
   "execution_count": 15,
   "metadata": {
    "scrolled": true
   },
   "outputs": [
    {
     "name": "stdout",
     "output_type": "stream",
     "text": [
      "-------------------------------------------------\n",
      "Feature chosen:  DER_mass_transverse_met_lep (index : 1 )\n",
      "-------------------------------------------------\n",
      "Feature chosen:  log(DER_mass_MMC) (index : 30 )\n",
      "-------------------------------------------------\n",
      "Feature chosen:  DER_mass_MMC (index : 0 )\n",
      "-------------------------------------------------\n",
      "Feature chosen:  log(DER_mass_jet_jet) (index : 33 )\n",
      "-------------------------------------------------\n",
      "Feature chosen:  log(DER_mass_vis) (index : 32 )\n",
      "-------------------------------------------------\n",
      "Feature chosen:  PRI_tau_pt (index : 13 )\n",
      "-------------------------------------------------\n",
      "Feature chosen:  DER_lep_eta_centrality (index : 12 )\n",
      "-------------------------------------------------\n",
      "Feature chosen:  DER_met_phi_centrality (index : 11 )\n",
      "-------------------------------------------------\n",
      "Feature chosen:  PRI_jet_all_pt (index : 29 )\n",
      "-------------------------------------------------\n",
      "Feature chosen:  PRI_lep_pt (index : 16 )\n",
      "-------------------------------------------------\n",
      "Feature chosen:  DER_pt_ratio_lep_tau (index : 10 )\n",
      "-------------------------------------------------\n",
      "Feature chosen:  DER_deltar_tau_lep (index : 7 )\n",
      "-------------------------------------------------\n",
      "Feature chosen:  PRI_met (index : 19 )\n",
      "-------------------------------------------------\n",
      "Feature chosen:  DER_deltaeta_jet_jet (index : 4 )\n",
      "-------------------------------------------------\n",
      "Feature chosen:  DER_mass_vis (index : 2 )\n",
      "-------------------------------------------------\n",
      "Feature chosen:  PRI_jet_leading_pt (index : 23 )\n",
      "-------------------------------------------------\n",
      "Feature chosen:  DER_pt_tot (index : 8 )\n",
      "-------------------------------------------------\n",
      "Feature chosen:  PRI_met_sumet (index : 21 )\n",
      "-------------------------------------------------\n",
      "Feature chosen:  PRI_jet_num (index : 22 )\n",
      "-------------------------------------------------\n",
      "Feature chosen:  PRI_jet_subleading_pt (index : 26 )\n",
      "-------------------------------------------------\n",
      "Feature chosen:  DER_mass_jet_jet (index : 5 )\n",
      "-------------------------------------------------\n",
      "Feature chosen:  log(DER_mass_transverse_met_lep) (index : 31 )\n",
      "-------------------------------------------------\n",
      "Feature chosen:  DER_prodeta_jet_jet (index : 6 )\n",
      "-------------------------------------------------\n",
      "Feature chosen:  DER_pt_h (index : 3 )\n"
     ]
    }
   ],
   "source": [
    "# step-wise\n",
    "best_R2adj, idx_features = stepwise(model, R2_method, all_candidates, features, y, cv)"
   ]
  },
  {
   "cell_type": "code",
   "execution_count": 16,
   "metadata": {},
   "outputs": [
    {
     "name": "stdout",
     "output_type": "stream",
     "text": [
      "step 1 : R2 adjusted = 0.0320794565365\n",
      "step 2 : R2 adjusted = 0.047166942174\n",
      "step 3 : R2 adjusted = 0.0612482205189\n",
      "step 4 : R2 adjusted = 0.0668010566278\n",
      "step 5 : R2 adjusted = 0.0717001634344\n",
      "step 6 : R2 adjusted = 0.0757292538246\n",
      "step 7 : R2 adjusted = 0.0781177637565\n",
      "step 8 : R2 adjusted = 0.0800173636369\n",
      "step 9 : R2 adjusted = 0.0807079498126\n",
      "step 10 : R2 adjusted = 0.0812871433531\n",
      "step 11 : R2 adjusted = 0.0822125400866\n",
      "step 12 : R2 adjusted = 0.0827256747397\n",
      "step 13 : R2 adjusted = 0.0833855822215\n",
      "step 14 : R2 adjusted = 0.0834893390277\n",
      "step 15 : R2 adjusted = 0.0835659325506\n",
      "step 16 : R2 adjusted = 0.083659872517\n",
      "step 17 : R2 adjusted = 0.0837093679881\n",
      "step 18 : R2 adjusted = 0.0837332227061\n",
      "step 19 : R2 adjusted = 0.0837459084975\n",
      "step 20 : R2 adjusted = 0.0838071786813\n",
      "step 21 : R2 adjusted = 0.0838343878265\n",
      "step 22 : R2 adjusted = 0.0838448106646\n",
      "step 23 : R2 adjusted = 0.0838500404853\n",
      "step 24 : R2 adjusted = 0.0838532382908\n",
      "-------------------------------------------------------\n",
      "Number of features chosen: 24\n",
      "Indices of features chosen:  [1, 30, 0, 33, 32, 13, 12, 11, 29, 16, 10, 7, 19, 4, 2, 23, 8, 21, 22, 26, 5, 31, 6, 3]\n"
     ]
    }
   ],
   "source": [
    "# display selected features\n",
    "results_r2_stepwise(best_R2adj[:len(best_R2adj)-1], idx_features)"
   ]
  },
  {
   "cell_type": "markdown",
   "metadata": {},
   "source": [
    "# Least Squares Gradient Descent"
   ]
  },
  {
   "cell_type": "code",
   "execution_count": null,
   "metadata": {
    "collapsed": true
   },
   "outputs": [],
   "source": [
    "# parameters\n",
    "model = dict()\n",
    "model['method'] = 'lsgd'\n",
    "model['loss'] = 'rmse'\n",
    "\n",
    "# hyperparameters\n",
    "model['max_iters'] = 10000\n",
    "model['gamma'] = 1e-2\n",
    "model['threshold'] = 1e-2\n",
    "\n",
    "# other\n",
    "model['debug_mode'] = 0\n",
    "\n",
    "# R2 type\n",
    "R2_method = 'McFadden' # 'loss', 'Tjur' or 'McFadden' \n",
    "\n",
    "# estimate R2 error through cross validation (1 or 0)\n",
    "cv = 0\n",
    "model['k_fold'] = 5"
   ]
  },
  {
   "cell_type": "code",
   "execution_count": null,
   "metadata": {
    "collapsed": true
   },
   "outputs": [],
   "source": [
    "# step wise candidates\n",
    "all_candidates = X0\n",
    "\n",
    "# get feature names \n",
    "all_features = list(np.genfromtxt(my_path + r'/data/train.csv', delimiter=\",\", dtype=str, max_rows = 1)[2:])\n",
    "\n",
    "# list of feature names and indices\n",
    "features = []\n",
    "for i in range(len(all_features)):\n",
    "    features.append((i,all_features[i]))"
   ]
  },
  {
   "cell_type": "code",
   "execution_count": null,
   "metadata": {},
   "outputs": [],
   "source": [
    "# step-wise\n",
    "best_R2adj, idx_features = stepwise(model, R2_method, all_candidates, features, y, cv)"
   ]
  },
  {
   "cell_type": "code",
   "execution_count": null,
   "metadata": {},
   "outputs": [],
   "source": [
    "# display selected features\n",
    "results_r2_stepwise(best_R2adj[:len(best_R2adj)-1], idx_features)"
   ]
  },
  {
   "cell_type": "markdown",
   "metadata": {},
   "source": [
    "# Least Squares Stochastic Gradient Descent"
   ]
  },
  {
   "cell_type": "code",
   "execution_count": null,
   "metadata": {
    "collapsed": true
   },
   "outputs": [],
   "source": [
    "# parameters\n",
    "model = dict()\n",
    "model['method'] = 'lssgd'\n",
    "model['loss'] = 'rmse'\n",
    "\n",
    "# hyperparameters\n",
    "model['batch_size'] = 50\n",
    "model['max_iters'] = 10000\n",
    "model['gamma'] = 1e-2\n",
    "model['threshold'] = 1e-2\n",
    "\n",
    "# other\n",
    "model['debug_mode'] = 0\n",
    "\n",
    "# R2 type\n",
    "R2_method = 'McFadden' # 'loss', 'Tjur' or 'McFadden' \n",
    "\n",
    "# estimate R2 error through cross validation (1 or 0)\n",
    "cv = 0\n",
    "model['k_fold'] = 5"
   ]
  },
  {
   "cell_type": "code",
   "execution_count": null,
   "metadata": {
    "collapsed": true
   },
   "outputs": [],
   "source": [
    "# step wise candidates\n",
    "all_candidates = X0\n",
    "\n",
    "# get feature names \n",
    "all_features = list(np.genfromtxt(my_path + r'/data/train.csv', delimiter=\",\", dtype=str, max_rows = 1)[2:])\n",
    "\n",
    "# list of feature names and indices\n",
    "features = []\n",
    "for i in range(len(all_features)):\n",
    "    features.append((i,all_features[i]))"
   ]
  },
  {
   "cell_type": "code",
   "execution_count": null,
   "metadata": {},
   "outputs": [],
   "source": [
    "# step-wise\n",
    "best_R2adj, idx_features = stepwise(model, R2_method, all_candidates, features, y, cv)"
   ]
  },
  {
   "cell_type": "code",
   "execution_count": null,
   "metadata": {},
   "outputs": [],
   "source": [
    "# display selected features\n",
    "results_r2_stepwise(best_R2adj[:len(best_R2adj)-1], idx_features)"
   ]
  }
 ],
 "metadata": {
  "kernelspec": {
   "display_name": "Python 3",
   "language": "python",
   "name": "python3"
  },
  "language_info": {
   "codemirror_mode": {
    "name": "ipython",
    "version": 3
   },
   "file_extension": ".py",
   "mimetype": "text/x-python",
   "name": "python",
   "nbconvert_exporter": "python",
   "pygments_lexer": "ipython3",
   "version": "3.6.1"
  }
 },
 "nbformat": 4,
 "nbformat_minor": 2
}
