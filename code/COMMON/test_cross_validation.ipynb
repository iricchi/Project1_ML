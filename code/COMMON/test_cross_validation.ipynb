{
 "cells": [
  {
   "cell_type": "code",
   "execution_count": 10,
   "metadata": {},
   "outputs": [
    {
     "name": "stdout",
     "output_type": "stream",
     "text": [
      "The autoreload extension is already loaded. To reload it, use:\n",
      "  %reload_ext autoreload\n"
     ]
    }
   ],
   "source": [
    "# -*- coding: utf-8 -*-\n",
    "%matplotlib inline\n",
    "%load_ext autoreload\n",
    "%autoreload 2\n",
    "\n",
    "# import\n",
    "import numpy as np\n",
    "import matplotlib.pyplot as plt\n",
    "from cross_validation import *"
   ]
  },
  {
   "cell_type": "markdown",
   "metadata": {},
   "source": [
    "# Create a dataset"
   ]
  },
  {
   "cell_type": "code",
   "execution_count": 11,
   "metadata": {},
   "outputs": [
    {
     "name": "stdout",
     "output_type": "stream",
     "text": [
      "(1000, 1)\n",
      "(1000,)\n"
     ]
    }
   ],
   "source": [
    "from build_poly import build_poly\n",
    "from standard import standardize \n",
    "\n",
    "# number of samples in the dataset\n",
    "num_data = 1000\n",
    "\n",
    "# features\n",
    "x = np.linspace(0.1, 2 * np.pi, num_data)\n",
    "x = x[:, None]\n",
    "\n",
    "# observations\n",
    "offset = 1\n",
    "noiseLevel = 0.1\n",
    "y = np.sin(x[:,0]) + offset + noiseLevel * np.random.randn(num_data).T\n",
    "\n",
    "# standardize \n",
    "x, mean_x, std_x = standardize(x)\n",
    "\n",
    "print('x: ', x.shape)\n",
    "print('y: ', y.shape)"
   ]
  },
  {
   "cell_type": "markdown",
   "metadata": {},
   "source": [
    "# Test cross validation for Least Square "
   ]
  },
  {
   "cell_type": "code",
   "execution_count": 12,
   "metadata": {},
   "outputs": [
    {
     "name": "stdout",
     "output_type": "stream",
     "text": [
      "Number of samples in total:  1000\n",
      "Number of folds:  10  of 100 samples.\n",
      "Mean training loss:  0.115152754505\n",
      "Mean testing loss:  0.115568075492\n"
     ]
    },
    {
     "data": {
      "image/png": "[encoded data removed]",
      "text/plain": [
       "<matplotlib.figure.Figure at 0xa514acbac8>"
      ]
     },
     "metadata": {},
     "output_type": "display_data"
    }
   ],
   "source": [
    "# parameters\n",
    "arg_ls = dict()\n",
    "arg_ls['method'] = 'ls'\n",
    "arg_ls['loss'] = 'rmse'\n",
    "arg_ls['degree'] = 3\n",
    "arg_ls['k_fold'] = 10\n",
    "\n",
    "# cross validation\n",
    "w_tr_tot, loss_tr_tot, loss_te_tot = cross_validation(y, x, arg_ls)\n",
    "\n",
    "# optimal weights minimize the testing error\n",
    "w_opt = w_tr_tot[np.argmin(loss_te_tot)]\n",
    "\n",
    "# plot training and testing losses \n",
    "plt.figure\n",
    "plt.boxplot(np.column_stack((np.array(loss_tr_tot), np.array(loss_te_tot))), labels=['training','testing'])\n",
    "plt.ylabel('loss')\n",
    "plt.title('boxplot')\n",
    "plt.show()"
   ]
  },
  {
   "cell_type": "markdown",
   "metadata": {},
   "source": [
    "# Test cross validation for Ridge Regression "
   ]
  },
  {
   "cell_type": "code",
   "execution_count": 13,
   "metadata": {},
   "outputs": [
    {
     "name": "stdout",
     "output_type": "stream",
     "text": [
      "Number of samples in total:  1000\n",
      "Number of folds:  10  of 100 samples.\n",
      "Mean training loss:  0.858086759739\n",
      "Mean testing loss:  0.85816284801\n"
     ]
    },
    {
     "data": {
      "image/png": "[encoded data removed]",
      "text/plain": [
       "<matplotlib.figure.Figure at 0xa514ab0be0>"
      ]
     },
     "metadata": {},
     "output_type": "display_data"
    }
   ],
   "source": [
    "# parameters\n",
    "arg_rr = dict()\n",
    "arg_rr['method'] = 'rr'\n",
    "arg_rr['loss'] = 'rmse'\n",
    "arg_rr['degree'] = 3\n",
    "arg_rr['k_fold'] = 10\n",
    "arg_rr['lambda_'] = 0.1\n",
    "\n",
    "# cross validation\n",
    "w_tr_tot, loss_tr_tot, loss_te_tot = cross_validation(y, x, arg_rr)\n",
    "\n",
    "# optimal weights minimize the testing error\n",
    "w_opt = w_tr_tot[np.argmin(loss_te_tot)]\n",
    "\n",
    "# plot training and testing losses \n",
    "plt.figure\n",
    "plt.boxplot(np.column_stack((np.array(loss_tr_tot), np.array(loss_te_tot))), labels=['training','testing'])\n",
    "plt.ylabel('loss')\n",
    "plt.title('boxplot')\n",
    "plt.show()"
   ]
  },
  {
   "cell_type": "markdown",
   "metadata": {},
   "source": [
    "# Test cross validation for Least Squares Gradient Descent"
   ]
  },
  {
   "cell_type": "code",
   "execution_count": 14,
   "metadata": {
    "scrolled": true
   },
   "outputs": [
    {
     "name": "stdout",
     "output_type": "stream",
     "text": [
      "Number of samples in total:  1000\n",
      "Number of folds:  10  of 100 samples.\n",
      "Gradient Descent(9/9): loss MSE=0.18864745733803226\n",
      "Gradient Descent(9/9): loss MSE=0.19092523719201862\n",
      "Gradient Descent(9/9): loss MSE=0.19223337515849284\n",
      "Gradient Descent(9/9): loss MSE=0.18851028879435458\n",
      "Gradient Descent(9/9): loss MSE=0.19158641064516418\n",
      "Gradient Descent(9/9): loss MSE=0.1922877522006376\n",
      "Gradient Descent(9/9): loss MSE=0.19337960339938717\n",
      "Gradient Descent(9/9): loss MSE=0.1929302022261674\n",
      "Gradient Descent(9/9): loss MSE=0.19131562231988627\n",
      "Gradient Descent(9/9): loss MSE=0.19320826508364256\n",
      "Mean training loss:  0.618868114028\n",
      "Mean testing loss:  0.618205375153\n"
     ]
    },
    {
     "data": {
      "image/png": "[encoded data removed]",
      "text/plain": [
       "<matplotlib.figure.Figure at 0xa514b80d68>"
      ]
     },
     "metadata": {},
     "output_type": "display_data"
    }
   ],
   "source": [
    "# parameters\n",
    "arg_lsgd = dict()\n",
    "arg_lsgd['method'] = 'lsgd'\n",
    "arg_lsgd['loss'] = 'rmse'\n",
    "arg_lsgd['degree'] = 3\n",
    "arg_lsgd['k_fold'] = 10\n",
    "arg_lsgd['gamma'] = 0.1\n",
    "arg_lsgd['max_iters'] = 10\n",
    "arg_lsgd['initial_w'] = np.zeros(x.shape[1]*arg_lsgd['degree']+1)\n",
    "\n",
    "# cross validation\n",
    "w_tr_tot, loss_tr_tot, loss_te_tot = cross_validation(y, x, arg_lsgd)\n",
    "\n",
    "# optimal weights minimize the testing error\n",
    "w_opt = w_tr_tot[np.argmin(loss_te_tot)]\n",
    "\n",
    "# plot training and testing losses \n",
    "plt.figure\n",
    "plt.boxplot(np.column_stack((np.array(loss_tr_tot), np.array(loss_te_tot))), labels=['training','testing'])\n",
    "plt.ylabel('loss')\n",
    "plt.title('boxplot')\n",
    "plt.show()"
   ]
  },
  {
   "cell_type": "markdown",
   "metadata": {},
   "source": [
    "# Test cross validation for Least Squares Stochastic Gradient Descent"
   ]
  },
  {
   "cell_type": "code",
   "execution_count": 15,
   "metadata": {},
   "outputs": [
    {
     "name": "stdout",
     "output_type": "stream",
     "text": [
      "Number of samples in total:  1000\n",
      "Number of folds:  10  of 100 samples.\n",
      "Stochastic Gradient Descent(9/9): loss MSE=0.24115186260041072\n",
      "Stochastic Gradient Descent(9/9): loss MSE=0.1315725400955149\n",
      "Stochastic Gradient Descent(9/9): loss MSE=0.22603592328501626\n",
      "Stochastic Gradient Descent(9/9): loss MSE=0.17990584121053674\n",
      "Stochastic Gradient Descent(9/9): loss MSE=0.234347251165129\n",
      "Stochastic Gradient Descent(9/9): loss MSE=0.18250590845381154\n",
      "Stochastic Gradient Descent(9/9): loss MSE=0.12787973902908778\n",
      "Stochastic Gradient Descent(9/9): loss MSE=0.16727351444669616\n",
      "Stochastic Gradient Descent(9/9): loss MSE=0.15921690256749388\n",
      "Stochastic Gradient Descent(9/9): loss MSE=0.15037764574803475\n",
      "Mean training loss:  0.6257500283\n",
      "Mean testing loss:  0.6224839707\n"
     ]
    },
    {
     "data": {
      "image/png": "[encoded data removed]",
      "text/plain": [
       "<matplotlib.figure.Figure at 0xa5137b73c8>"
      ]
     },
     "metadata": {},
     "output_type": "display_data"
    }
   ],
   "source": [
    "# parameters\n",
    "arg_lssgd = dict()\n",
    "arg_lssgd['method'] = 'lssgd'\n",
    "arg_lssgd['loss'] = 'rmse'\n",
    "arg_lssgd['degree'] = 3\n",
    "arg_lssgd['k_fold'] = 10\n",
    "arg_lssgd['gamma'] = 0.1\n",
    "arg_lssgd['max_iters'] = 10\n",
    "arg_lssgd['initial_w'] = np.zeros(x.shape[1]*arg_lsgd['degree']+1)\n",
    "arg_lssgd['batch_size'] = 25\n",
    "\n",
    "# cross validation\n",
    "w_tr_tot, loss_tr_tot, loss_te_tot = cross_validation(y, x, arg_lssgd)\n",
    "\n",
    "# optimal weights minimize the testing error\n",
    "w_opt = w_tr_tot[np.argmin(loss_te_tot)]\n",
    "\n",
    "# plot training and testing losses \n",
    "plt.figure\n",
    "plt.boxplot(np.column_stack((np.array(loss_tr_tot), np.array(loss_te_tot))), labels=['training','testing'])\n",
    "plt.ylabel('loss')\n",
    "plt.title('boxplot')\n",
    "plt.show()"
   ]
  },
  {
   "cell_type": "markdown",
   "metadata": {},
   "source": [
    "# Test cross validation for logistic regression"
   ]
  },
  {
   "cell_type": "code",
   "execution_count": 16,
   "metadata": {},
   "outputs": [
    {
     "name": "stdout",
     "output_type": "stream",
     "text": [
      "Number of samples in total:  1000\n",
      "Number of folds:  5  of 200 samples.\n",
      "Logistic Regression (49/49): loss logLikelihood=238.06970695947106\n",
      "Logistic Regression (49/49): loss logLikelihood=238.07669028182207\n",
      "Logistic Regression (49/49): loss logLikelihood=238.08025815598313\n",
      "Logistic Regression (49/49): loss logLikelihood=238.0880697261249\n",
      "Logistic Regression (49/49): loss logLikelihood=238.10261555773394\n",
      "Mean training loss:  238.064470063\n",
      "Mean testing loss:  58.5421681488\n"
     ]
    },
    {
     "data": {
      "image/png": "[encoded data removed]",
      "text/plain": [
       "<matplotlib.figure.Figure at 0xa5148ad8d0>"
      ]
     },
     "metadata": {},
     "output_type": "display_data"
    }
   ],
   "source": [
    "# build labels\n",
    "ylabels = np.zeros(y.shape)\n",
    "ylabels[np.where(y<=1)] = 0\n",
    "ylabels[np.where(y>1)] = 1\n",
    "\n",
    "# parameters\n",
    "arg_lr = dict()\n",
    "arg_lr['method'] = 'lr'\n",
    "arg_lr['loss'] = 'logLikelihood'\n",
    "arg_lr['degree'] = 3\n",
    "arg_lr['k_fold'] = 5\n",
    "arg_lr['max_iters'] = 50\n",
    "arg_lr['initial_w'] = np.zeros(x.shape[1]*arg_lsgd['degree']+1)\n",
    "arg_lr['method_minimization'] = 'newton' # 'gd' (gradient_descent) or 'newton'\n",
    "arg_lr['gamma'] = 1e-4\n",
    "\n",
    "# cross validation\n",
    "w_tr_tot, loss_tr_tot, loss_te_tot = cross_validation(ylabels, x, arg_lr)\n",
    "\n",
    "# optimal weights minimize the testing error\n",
    "w_opt = w_tr_tot[np.argmin(loss_te_tot)]\n",
    "\n",
    "# plot training and testing losses \n",
    "plt.figure\n",
    "plt.boxplot(np.column_stack((np.array(loss_tr_tot), np.array(loss_te_tot))), labels=['training','testing'])\n",
    "plt.ylabel('loss')\n",
    "plt.title('boxplot')\n",
    "plt.show()"
   ]
  },
  {
   "cell_type": "markdown",
   "metadata": {},
   "source": [
    "# Test the regularized logistic regression"
   ]
  },
  {
   "cell_type": "code",
   "execution_count": 9,
   "metadata": {},
   "outputs": [
    {
     "name": "stdout",
     "output_type": "stream",
     "text": [
      "Number of samples in total:  1000\n",
      "Number of folds:  5  of 200 samples.\n",
      "Logistic Regression Regularized (49/49): loss logLikelihood=238.25558491274117\n",
      "Logistic Regression Regularized (49/49): loss logLikelihood=238.26765717700957\n",
      "Logistic Regression Regularized (49/49): loss logLikelihood=238.26713620189688\n",
      "Logistic Regression Regularized (49/49): loss logLikelihood=238.26600303574895\n",
      "Logistic Regression Regularized (49/49): loss logLikelihood=238.28413967845904\n",
      "Mean training loss:  238.248413705\n",
      "Mean testing loss:  58.5863899779\n"
     ]
    },
    {
     "data": {
      "image/png": "[encoded data removed]",
      "text/plain": [
       "<matplotlib.figure.Figure at 0xa514a39c18>"
      ]
     },
     "metadata": {},
     "output_type": "display_data"
    }
   ],
   "source": [
    "# build labels\n",
    "ylabels = np.zeros(y.shape)\n",
    "ylabels[np.where(y<=1)] = 0\n",
    "ylabels[np.where(y>1)] = 1\n",
    "\n",
    "# parameters\n",
    "arg_lrr = dict()\n",
    "arg_lrr['method'] = 'lrr'\n",
    "arg_lrr['loss'] = 'logLikelihood'\n",
    "arg_lrr['degree'] = 3\n",
    "arg_lrr['k_fold'] = 5\n",
    "arg_lrr['max_iters'] = 50\n",
    "arg_lrr['initial_w'] = np.zeros(x.shape[1]*arg_lsgd['degree']+1)\n",
    "arg_lrr['method_minimization'] = 'newton' # 'gd' (gradient_descent) or 'newton'\n",
    "arg_lrr['gamma'] = 1e-4\n",
    "arg_lrr['lambda_'] = 10\n",
    "\n",
    "# cross validation\n",
    "w_tr_tot, loss_tr_tot, loss_te_tot = cross_validation(ylabels, x, arg_lrr)\n",
    "\n",
    "# optimal weights minimize the testing error\n",
    "w_opt = w_tr_tot[np.argmin(loss_te_tot)]\n",
    "\n",
    "# plot training and testing losses \n",
    "plt.figure\n",
    "plt.boxplot(np.column_stack((np.array(loss_tr_tot), np.array(loss_te_tot))), labels=['training','testing'])\n",
    "plt.ylabel('loss')\n",
    "plt.title('boxplot')\n",
    "plt.show()"
   ]
  }
 ],
 "metadata": {
  "kernelspec": {
   "display_name": "Python 3",
   "language": "python",
   "name": "python3"
  },
  "language_info": {
   "codemirror_mode": {
    "name": "ipython",
    "version": 3
   },
   "file_extension": ".py",
   "mimetype": "text/x-python",
   "name": "python",
   "nbconvert_exporter": "python",
   "pygments_lexer": "ipython3",
   "version": "3.6.1"
  }
 },
 "nbformat": 4,
 "nbformat_minor": 2
}
