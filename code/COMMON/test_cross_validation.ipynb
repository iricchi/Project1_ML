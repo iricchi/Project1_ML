{
 "cells": [
  {
   "cell_type": "code",
   "execution_count": 12,
   "metadata": {},
   "outputs": [
    {
     "name": "stdout",
     "output_type": "stream",
     "text": [
      "The autoreload extension is already loaded. To reload it, use:\n",
      "  %reload_ext autoreload\n"
     ]
    }
   ],
   "source": [
    "# -*- coding: utf-8 -*-\n",
    "%matplotlib inline\n",
    "%load_ext autoreload\n",
    "%autoreload 2\n",
    "\n",
    "# import\n",
    "import numpy as np\n",
    "import matplotlib.pyplot as plt\n",
    "from cross_validation import *\n",
    "from build_poly import build_poly"
   ]
  },
  {
   "cell_type": "markdown",
   "metadata": {},
   "source": [
    "# Create a dataset"
   ]
  },
  {
   "cell_type": "code",
   "execution_count": 13,
   "metadata": {},
   "outputs": [
    {
     "name": "stdout",
     "output_type": "stream",
     "text": [
      "x:  (1000, 1)\n",
      "y:  (1000,)\n"
     ]
    }
   ],
   "source": [
    "from standard import standardize \n",
    "\n",
    "# number of samples in the dataset\n",
    "num_data = 1000\n",
    "\n",
    "# features\n",
    "x = np.linspace(0.1, 2 * np.pi, num_data)\n",
    "x = x[:, None]\n",
    "\n",
    "# observations\n",
    "offset = 1\n",
    "noiseLevel = 0.1\n",
    "y = np.sin(x[:,0]) + offset + noiseLevel * np.random.randn(num_data).T\n",
    "\n",
    "# standardize \n",
    "x, mean_x, std_x = standardize(x)\n",
    "\n",
    "# build polynomial basis \n",
    "degree = 3\n",
    "phi = build_poly(x, degree)\n",
    "\n",
    "print('x: ', x.shape)\n",
    "print('y: ', y.shape)"
   ]
  },
  {
   "cell_type": "markdown",
   "metadata": {},
   "source": [
    "# Test cross validation for Least Square "
   ]
  },
  {
   "cell_type": "code",
   "execution_count": 4,
   "metadata": {},
   "outputs": [
    {
     "name": "stdout",
     "output_type": "stream",
     "text": [
      "Number of samples in total:  1000\n",
      "Number of folds:  10  of 100 samples.\n",
      "Mean training loss:  0.112870490652\n",
      "Mean testing loss:  0.113351470369\n"
     ]
    },
    {
     "data": {
      "image/png": "[encoded data removed]",
      "text/plain": [
       "<matplotlib.figure.Figure at 0x524698e128>"
      ]
     },
     "metadata": {},
     "output_type": "display_data"
    }
   ],
   "source": [
    "# parameters\n",
    "arg_ls = dict()\n",
    "arg_ls['method'] = 'ls'\n",
    "arg_ls['loss'] = 'rmse'\n",
    "arg_ls['k_fold'] = 10\n",
    "\n",
    "# cross validation\n",
    "w_tr_tot, loss_tr_tot, loss_te_tot = cross_validation(y, phi, arg_ls)\n",
    "\n",
    "# optimal weights minimize the testing error\n",
    "w_opt = w_tr_tot[np.argmin(loss_te_tot)]\n",
    "\n",
    "# plot training and testing losses \n",
    "plt.figure\n",
    "plt.boxplot(np.column_stack((np.array(loss_tr_tot), np.array(loss_te_tot))), labels=['training','testing'])\n",
    "plt.ylabel('loss')\n",
    "plt.title('boxplot')\n",
    "plt.show()"
   ]
  },
  {
   "cell_type": "markdown",
   "metadata": {},
   "source": [
    "# Test cross validation for Ridge Regression "
   ]
  },
  {
   "cell_type": "code",
   "execution_count": 5,
   "metadata": {},
   "outputs": [
    {
     "name": "stdout",
     "output_type": "stream",
     "text": [
      "Number of samples in total:  1000\n",
      "Number of folds:  10  of 100 samples.\n",
      "Mean training loss:  0.85425889985\n",
      "Mean testing loss:  0.854331120368\n"
     ]
    },
    {
     "data": {
      "image/png": "[encoded data removed]",
      "text/plain": [
       "<matplotlib.figure.Figure at 0x52479b37b8>"
      ]
     },
     "metadata": {},
     "output_type": "display_data"
    }
   ],
   "source": [
    "# parameters\n",
    "arg_rr = dict()\n",
    "arg_rr['method'] = 'rr'\n",
    "arg_rr['loss'] = 'rmse'\n",
    "arg_rr['k_fold'] = 10\n",
    "arg_rr['lambda_'] = 0.1\n",
    "\n",
    "# cross validation\n",
    "w_tr_tot, loss_tr_tot, loss_te_tot = cross_validation(y, phi, arg_rr)\n",
    "\n",
    "# optimal weights minimize the testing error\n",
    "w_opt = w_tr_tot[np.argmin(loss_te_tot)]\n",
    "\n",
    "# plot training and testing losses \n",
    "plt.figure\n",
    "plt.boxplot(np.column_stack((np.array(loss_tr_tot), np.array(loss_te_tot))), labels=['training','testing'])\n",
    "plt.ylabel('loss')\n",
    "plt.title('boxplot')\n",
    "plt.show()"
   ]
  },
  {
   "cell_type": "markdown",
   "metadata": {},
   "source": [
    "# Test cross validation for Least Squares Gradient Descent"
   ]
  },
  {
   "cell_type": "code",
   "execution_count": 9,
   "metadata": {
    "scrolled": true
   },
   "outputs": [
    {
     "name": "stdout",
     "output_type": "stream",
     "text": [
      "Number of samples in total:  1000\n",
      "Number of folds:  10  of 100 samples.\n",
      "Gradient Descent(9/9): loss MSE=0.18714434382673517\n",
      "Gradient Descent(9/9): loss MSE=0.19037433761050623\n",
      "Gradient Descent(9/9): loss MSE=0.19152575898525237\n",
      "Gradient Descent(9/9): loss MSE=0.18734127790316543\n",
      "Gradient Descent(9/9): loss MSE=0.18966433106960923\n",
      "Gradient Descent(9/9): loss MSE=0.19020903750233326\n",
      "Gradient Descent(9/9): loss MSE=0.19209223485376792\n",
      "Gradient Descent(9/9): loss MSE=0.1908761210884737\n",
      "Gradient Descent(9/9): loss MSE=0.18992907348951263\n",
      "Gradient Descent(9/9): loss MSE=0.19098099543609925\n",
      "Mean training loss:  0.616458577473\n",
      "Mean testing loss:  0.61588270566\n"
     ]
    },
    {
     "data": {
      "image/png": "[encoded data removed]",
      "text/plain": [
       "<matplotlib.figure.Figure at 0x5247bf6cc0>"
      ]
     },
     "metadata": {},
     "output_type": "display_data"
    }
   ],
   "source": [
    "# parameters\n",
    "arg_lsgd = dict()\n",
    "arg_lsgd['method'] = 'lsgd'\n",
    "arg_lsgd['loss'] = 'rmse'\n",
    "arg_lsgd['k_fold'] = 10\n",
    "arg_lsgd['gamma'] = 0.1\n",
    "arg_lsgd['max_iters'] = 10\n",
    "arg_lsgd['initial_w'] = np.zeros(phi.shape[1])\n",
    "\n",
    "# cross validation\n",
    "w_tr_tot, loss_tr_tot, loss_te_tot = cross_validation(y, phi, arg_lsgd)\n",
    "\n",
    "# optimal weights minimize the testing error\n",
    "w_opt = w_tr_tot[np.argmin(loss_te_tot)]\n",
    "\n",
    "# plot training and testing losses \n",
    "plt.figure\n",
    "plt.boxplot(np.column_stack((np.array(loss_tr_tot), np.array(loss_te_tot))), labels=['training','testing'])\n",
    "plt.ylabel('loss')\n",
    "plt.title('boxplot')\n",
    "plt.show()"
   ]
  },
  {
   "cell_type": "markdown",
   "metadata": {},
   "source": [
    "# Test cross validation for Least Squares Stochastic Gradient Descent"
   ]
  },
  {
   "cell_type": "code",
   "execution_count": 10,
   "metadata": {},
   "outputs": [
    {
     "name": "stdout",
     "output_type": "stream",
     "text": [
      "Number of samples in total:  1000\n",
      "Number of folds:  10  of 100 samples.\n",
      "Stochastic Gradient Descent(9/9): loss MSE=0.24371734190869263\n",
      "Stochastic Gradient Descent(9/9): loss MSE=0.1364378918617121\n",
      "Stochastic Gradient Descent(9/9): loss MSE=0.22701310486180698\n",
      "Stochastic Gradient Descent(9/9): loss MSE=0.20261444272678142\n",
      "Stochastic Gradient Descent(9/9): loss MSE=0.21817914321210055\n",
      "Stochastic Gradient Descent(9/9): loss MSE=0.16156170468761896\n",
      "Stochastic Gradient Descent(9/9): loss MSE=0.13497683931196883\n",
      "Stochastic Gradient Descent(9/9): loss MSE=0.15431160287667234\n",
      "Stochastic Gradient Descent(9/9): loss MSE=0.1428462066306755\n",
      "Stochastic Gradient Descent(9/9): loss MSE=0.15139203610576768\n",
      "Mean training loss:  0.62358905181\n",
      "Mean testing loss:  0.620691345282\n"
     ]
    },
    {
     "data": {
      "image/png": "[encoded data removed]",
      "text/plain": [
       "<matplotlib.figure.Figure at 0x5247d309e8>"
      ]
     },
     "metadata": {},
     "output_type": "display_data"
    }
   ],
   "source": [
    "# parameters\n",
    "arg_lssgd = dict()\n",
    "arg_lssgd['method'] = 'lssgd'\n",
    "arg_lssgd['loss'] = 'rmse'\n",
    "arg_lssgd['k_fold'] = 10\n",
    "arg_lssgd['gamma'] = 0.1\n",
    "arg_lssgd['max_iters'] = 10\n",
    "arg_lssgd['initial_w'] = np.zeros(phi.shape[1])\n",
    "arg_lssgd['batch_size'] = 25\n",
    "\n",
    "# cross validation\n",
    "w_tr_tot, loss_tr_tot, loss_te_tot = cross_validation(y, phi, arg_lssgd)\n",
    "\n",
    "# optimal weights minimize the testing error\n",
    "w_opt = w_tr_tot[np.argmin(loss_te_tot)]\n",
    "\n",
    "# plot training and testing losses \n",
    "plt.figure\n",
    "plt.boxplot(np.column_stack((np.array(loss_tr_tot), np.array(loss_te_tot))), labels=['training','testing'])\n",
    "plt.ylabel('loss')\n",
    "plt.title('boxplot')\n",
    "plt.show()"
   ]
  },
  {
   "cell_type": "markdown",
   "metadata": {},
   "source": [
    "# Test cross validation for logistic regression"
   ]
  },
  {
   "cell_type": "code",
   "execution_count": 11,
   "metadata": {},
   "outputs": [
    {
     "name": "stdout",
     "output_type": "stream",
     "text": [
      "Number of samples in total:  1000\n",
      "Number of folds:  5  of 200 samples.\n",
      "Logistic Regression (49/49): loss logLikelihood=551.1580897851068\n",
      "Logistic Regression (49/49): loss logLikelihood=551.1912171381596\n",
      "Logistic Regression (49/49): loss logLikelihood=551.2029116231628\n",
      "Logistic Regression (49/49): loss logLikelihood=551.2002655653845\n",
      "Logistic Regression (49/49): loss logLikelihood=551.226658165167\n",
      "Mean training loss:  551.195828455\n",
      "Mean testing loss:  137.800055935\n"
     ]
    },
    {
     "data": {
      "image/png": "[encoded data removed]",
      "text/plain": [
       "<matplotlib.figure.Figure at 0x5247e58940>"
      ]
     },
     "metadata": {},
     "output_type": "display_data"
    }
   ],
   "source": [
    "# build labels\n",
    "ylabels = np.zeros(y.shape)\n",
    "ylabels[np.where(y<=1)] = 0\n",
    "ylabels[np.where(y>1)] = 1\n",
    "\n",
    "# parameters\n",
    "arg_lr = dict()\n",
    "arg_lr['method'] = 'lr'\n",
    "arg_lr['loss'] = 'loglikelihood'\n",
    "arg_lr['degree'] = 3\n",
    "arg_lr['k_fold'] = 5\n",
    "arg_lr['max_iters'] = 50\n",
    "arg_lr['initial_w'] = np.zeros(phi.shape[1])\n",
    "arg_lr['method_minimization'] = 'newton' # 'gd' (gradient_descent) or 'newton'\n",
    "arg_lr['gamma'] = 1e-4\n",
    "\n",
    "# cross validation\n",
    "w_tr_tot, loss_tr_tot, loss_te_tot = cross_validation(ylabels, phi, arg_lr)\n",
    "\n",
    "# optimal weights minimize the testing error\n",
    "w_opt = w_tr_tot[np.argmin(loss_te_tot)]\n",
    "\n",
    "# plot training and testing losses \n",
    "plt.figure\n",
    "plt.boxplot(np.column_stack((np.array(loss_tr_tot), np.array(loss_te_tot))), labels=['training','testing'])\n",
    "plt.ylabel('loss')\n",
    "plt.title('boxplot')\n",
    "plt.show()"
   ]
  },
  {
   "cell_type": "markdown",
   "metadata": {},
   "source": [
    "# Test the regularized logistic regression"
   ]
  },
  {
   "cell_type": "code",
   "execution_count": null,
   "metadata": {},
   "outputs": [],
   "source": [
    "# build labels\n",
    "ylabels = np.zeros(y.shape)\n",
    "ylabels[np.where(y<=1)] = 0\n",
    "ylabels[np.where(y>1)] = 1\n",
    "\n",
    "# parameters\n",
    "arg_lrr = dict()\n",
    "arg_lrr['method'] = 'lrr'\n",
    "arg_lrr['loss'] = 'loglikelihood'\n",
    "arg_lrr['k_fold'] = 5\n",
    "arg_lrr['max_iters'] = 50\n",
    "arg_lrr['initial_w'] = np.zeros(phi.shape[1])\n",
    "arg_lrr['method_minimization'] = 'newton' # 'gd' (gradient_descent) or 'newton'\n",
    "arg_lrr['gamma'] = 1e-4\n",
    "arg_lrr['lambda_'] = 10\n",
    "\n",
    "# cross validation\n",
    "w_tr_tot, loss_tr_tot, loss_te_tot = cross_validation(ylabels, phi, arg_lrr)\n",
    "\n",
    "# optimal weights minimize the testing error\n",
    "w_opt = w_tr_tot[np.argmin(loss_te_tot)]\n",
    "\n",
    "# plot training and testing losses \n",
    "plt.figure\n",
    "plt.boxplot(np.column_stack((np.array(loss_tr_tot), np.array(loss_te_tot))), labels=['training','testing'])\n",
    "plt.ylabel('loss')\n",
    "plt.title('boxplot')\n",
    "plt.show()"
   ]
  },
  {
   "cell_type": "code",
   "execution_count": null,
   "metadata": {
    "collapsed": true
   },
   "outputs": [],
   "source": []
  }
 ],
 "metadata": {
  "kernelspec": {
   "display_name": "Python 3",
   "language": "python",
   "name": "python3"
  },
  "language_info": {
   "codemirror_mode": {
    "name": "ipython",
    "version": 3
   },
   "file_extension": ".py",
   "mimetype": "text/x-python",
   "name": "python",
   "nbconvert_exporter": "python",
   "pygments_lexer": "ipython3",
   "version": "3.6.1"
  }
 },
 "nbformat": 4,
 "nbformat_minor": 2
}
