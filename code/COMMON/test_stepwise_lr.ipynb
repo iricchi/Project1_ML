{
 "cells": [
  {
   "cell_type": "code",
   "execution_count": 1,
   "metadata": {},
   "outputs": [],
   "source": [
    "%matplotlib inline\n",
    "%load_ext autoreload\n",
    "%autoreload 2\n",
    "\n",
    "# change path if necessary\n",
    "import sys\n",
    "my_path = r'D:\\Documents\\etudes\\epfl\\MA1\\cours\\MachineLearning\\Project1' # to be adapated\n",
    "sys.path.insert(0,my_path + r'\\code\\COMMON')\n",
    "\n",
    "# imports\n",
    "import numpy as np \n",
    "import matplotlib.pyplot as plt\n",
    "\n",
    "from implementations import *\n",
    "from labels import idx_2labels\n",
    "from costs import *\n",
    "from optimize_hyperparams import *\n",
    "from cross_validation import *\n",
    "from step_wise import *"
   ]
  },
  {
   "cell_type": "markdown",
   "metadata": {},
   "source": [
    "# Build dataset"
   ]
  },
  {
   "cell_type": "code",
   "execution_count": 2,
   "metadata": {
    "collapsed": true
   },
   "outputs": [],
   "source": [
    "from proj1_helpers import load_csv_data \n",
    "\n",
    "# load raw data\n",
    "y_raw, input_data_raw, ids = load_csv_data(my_path + r'\\data\\train.csv', sub_sample=False)"
   ]
  },
  {
   "cell_type": "code",
   "execution_count": 3,
   "metadata": {},
   "outputs": [
    {
     "name": "stdout",
     "output_type": "stream",
     "text": [
      "-999 are replaced by the mean value of the feature\n"
     ]
    }
   ],
   "source": [
    "from outliers import handle_outliers\n",
    "\n",
    "# handle outliers\n",
    "X_raw, y = handle_outliers(input_data_raw, y_raw, -999, 'mean')\n",
    "\n",
    "# set y in {0,1} instead of {-1,1}\n",
    "y[np.where(y==-1)]=0"
   ]
  },
  {
   "cell_type": "code",
   "execution_count": 4,
   "metadata": {
    "collapsed": true
   },
   "outputs": [],
   "source": [
    "# get feature names \n",
    "all_features_raw = list(np.genfromtxt(my_path + r'/data/train.csv', delimiter=\",\", dtype=str, max_rows = 1)[2:])"
   ]
  },
  {
   "cell_type": "code",
   "execution_count": 5,
   "metadata": {},
   "outputs": [
    {
     "name": "stdout",
     "output_type": "stream",
     "text": [
      "---------------------------\n",
      "Features have been set to the power(s): [1]\n",
      "16 Features of the momentum have been added\n",
      "4 logarithmic features have been added.\n",
      "Data have been standardized.\n",
      "---------------------------\n",
      "(250000, 50)\n"
     ]
    }
   ],
   "source": [
    "from extend_features import extend_features\n",
    "\n",
    "# feature degree\n",
    "degree = 1\n",
    "\n",
    "# extend feature set\n",
    "all_candidates, features = extend_features(X_raw, all_features_raw, degree, is_add_log = True)\n",
    "print(all_candidates.shape)"
   ]
  },
  {
   "cell_type": "markdown",
   "metadata": {},
   "source": [
    "# Feature Selection through step-wise"
   ]
  },
  {
   "cell_type": "code",
   "execution_count": 8,
   "metadata": {
    "collapsed": true
   },
   "outputs": [],
   "source": [
    "# model parameters\n",
    "model = dict()\n",
    "model['method'] = 'lr' # 'lrr' if regularized with a penalization 'lambda_' otherwise 'lr' \n",
    "model['loss'] = 'loglikelihood'\n",
    "\n",
    "# model hyperparameter\n",
    "model['gamma'] = 1e-5\n",
    "\n",
    "# other\n",
    "model['method_minimization'] = 'gd' # 'gd' (gradient_descent) or 'newton' (newton descent leads to non invertible matrice \"S\" which is too big)\n",
    "model['threshold'] = 5000\n",
    "model['max_iters'] = 10000\n",
    "model['debug_mode'] = 0\n",
    "\n",
    "# R2 type\n",
    "R2_method = 'McFadden' \n",
    "\n",
    "# estimate R2 error through cross validation (1 or 0)\n",
    "cv = 0\n",
    "model['k_fold'] = 10"
   ]
  },
  {
   "cell_type": "code",
   "execution_count": 18,
   "metadata": {
    "scrolled": false
   },
   "outputs": [],
   "source": [
    "# step-wise\n",
    "best_R2adj, idx_features = stepwise(model, R2_method, all_candidates, features, y, cv)"
   ]
  },
  {
   "cell_type": "code",
   "execution_count": 19,
   "metadata": {
    "scrolled": false
   },
   "outputs": [
    {
     "name": "stdout",
     "output_type": "stream",
     "text": [
      "step 1 : R2 adjusted = 0.11273281839\n",
      "step 2 : R2 adjusted = 0.138911714063\n",
      "step 3 : R2 adjusted = 0.160446562661\n",
      "step 4 : R2 adjusted = 0.170981704452\n",
      "step 5 : R2 adjusted = 0.189691372766\n",
      "step 6 : R2 adjusted = 0.199239236886\n",
      "step 7 : R2 adjusted = 0.205032612973\n",
      "step 8 : R2 adjusted = 0.20982969592\n",
      "step 9 : R2 adjusted = 0.215580544815\n",
      "step 10 : R2 adjusted = 0.219989927378\n",
      "step 11 : R2 adjusted = 0.232553008358\n",
      "step 12 : R2 adjusted = 0.238736316216\n",
      "step 13 : R2 adjusted = 0.24390953115\n",
      "step 14 : R2 adjusted = 0.246973883723\n",
      "step 15 : R2 adjusted = 0.250598027605\n",
      "step 16 : R2 adjusted = 0.253131936571\n",
      "step 17 : R2 adjusted = 0.257206776152\n",
      "step 18 : R2 adjusted = 0.260088921609\n",
      "step 19 : R2 adjusted = 0.261105222768\n",
      "step 20 : R2 adjusted = 0.262991983819\n",
      "step 21 : R2 adjusted = 0.263875127657\n",
      "step 22 : R2 adjusted = 0.263918698186\n",
      "step 23 : R2 adjusted = 0.263940649509\n",
      "step 24 : R2 adjusted = 0.263980605702\n",
      "step 25 : R2 adjusted = 0.264021473715\n",
      "step 26 : R2 adjusted = 0.264045358707\n",
      "step 27 : R2 adjusted = 0.265177633738\n",
      "step 28 : R2 adjusted = 0.265775492961\n",
      "step 29 : R2 adjusted = 0.266692833643\n",
      "step 30 : R2 adjusted = 0.266703986965\n",
      "step 31 : R2 adjusted = 0.26671337324\n",
      "-------------------------------------------------------\n",
      "Number of features chosen: 31\n",
      "Indices of features chosen:  [1, 13, 4, 46, 0, 11, 44, 43, 7, 2, 16, 48, 10, 6, 49, 22, 45, 12, 19, 23, 32, 24, 17, 14, 39, 42, 30, 31, 47, 38, 20]\n"
     ]
    },
    {
     "data": {
      "image/png": "[encoded data removed]",
      "text/plain": [
       "<matplotlib.figure.Figure at 0x56d1b78cc0>"
      ]
     },
     "metadata": {},
     "output_type": "display_data"
    }
   ],
   "source": [
    "# display selected features\n",
    "results_r2_stepwise(best_R2adj[:len(best_R2adj)-1], idx_features)"
   ]
  },
  {
   "cell_type": "code",
   "execution_count": 31,
   "metadata": {},
   "outputs": [
    {
     "name": "stdout",
     "output_type": "stream",
     "text": [
      "[0.11273281838983562, 0.13891171406280725, 0.16044656266104906, 0.17098170445217648, 0.18969137276638318, 0.19923923688581474, 0.20503261297336955, 0.20982969592001646, 0.21558054481540401, 0.21998992737793899, 0.23255300835750659, 0.23873631621611638, 0.24390953115037492, 0.24697388372327883, 0.25059802760472738, 0.25313193657063432, 0.25720677615235077, 0.26008892160878061, 0.26110522276796772, 0.26299198381858441, 0.26387512765672694, 0.26391869818602426, 0.26394064950932167, 0.26398060570185783, 0.26402147371485107, 0.26404535870678475, 0.2651776337384083, 0.26577549296097336, 0.26669283364303698, 0.26670398696534497, 0.26671337323997568]\n"
     ]
    }
   ],
   "source": [
    "print(best_R2adj[:len(best_R2adj)-1])"
   ]
  },
  {
   "cell_type": "code",
   "execution_count": 32,
   "metadata": {},
   "outputs": [
    {
     "name": "stdout",
     "output_type": "stream",
     "text": [
      "(250000, 31)\n",
      "(250000,)\n"
     ]
    }
   ],
   "source": [
    "# save the selected features\n",
    "Xsw = all_candidates[:, idx_features]\n",
    "print(Xsw.shape)\n",
    "print(y.shape)"
   ]
  },
  {
   "cell_type": "markdown",
   "metadata": {},
   "source": [
    "# Optimization of degree when lambda = 0"
   ]
  },
  {
   "cell_type": "code",
   "execution_count": 40,
   "metadata": {},
   "outputs": [
    {
     "name": "stdout",
     "output_type": "stream",
     "text": [
      "tested degree:  [ 1  2  3  4  5  6  7  8  9 10] \n",
      "\n",
      "------------------------------------------ cross validation with degree =  1\n",
      "0\n",
      "1\n",
      "2\n",
      "------------------------------------------ cross validation with degree =  2\n"
     ]
    },
    {
     "name": "stderr",
     "output_type": "stream",
     "text": [
      "D:\\Documents\\etudes\\epfl\\MA1\\cours\\MachineLearning\\Project1\\code\\COMMON\\standard.py:9: RuntimeWarning: invalid value encountered in true_divide\n",
      "  x = x / std_x\n"
     ]
    },
    {
     "ename": "NameError",
     "evalue": "name 'mean' is not defined",
     "output_type": "error",
     "traceback": [
      "\u001b[1;31m---------------------------------------------------------------------------\u001b[0m",
      "\u001b[1;31mNameError\u001b[0m                                 Traceback (most recent call last)",
      "\u001b[1;32m<ipython-input-40-1e694014aeac>\u001b[0m in \u001b[0;36m<module>\u001b[1;34m()\u001b[0m\n\u001b[0;32m     14\u001b[0m \u001b[1;33m\u001b[0m\u001b[0m\n\u001b[0;32m     15\u001b[0m \u001b[1;31m# optimize degree\u001b[0m\u001b[1;33m\u001b[0m\u001b[1;33m\u001b[0m\u001b[0m\n\u001b[1;32m---> 16\u001b[1;33m \u001b[0mw_opt\u001b[0m\u001b[1;33m,\u001b[0m \u001b[0mloss_tr\u001b[0m\u001b[1;33m,\u001b[0m \u001b[0mloss_te\u001b[0m\u001b[1;33m,\u001b[0m \u001b[0mdegree_opt\u001b[0m \u001b[1;33m=\u001b[0m \u001b[0moptimize_degree\u001b[0m\u001b[1;33m(\u001b[0m\u001b[0my\u001b[0m\u001b[1;33m,\u001b[0m \u001b[0mXsw2\u001b[0m\u001b[1;33m,\u001b[0m \u001b[0mdegree_min\u001b[0m\u001b[1;33m,\u001b[0m \u001b[0mdegree_max\u001b[0m\u001b[1;33m,\u001b[0m \u001b[0mdegree_steps\u001b[0m\u001b[1;33m,\u001b[0m \u001b[0mmodel\u001b[0m\u001b[1;33m,\u001b[0m \u001b[0mdebug_mode\u001b[0m\u001b[1;33m=\u001b[0m\u001b[1;36m1\u001b[0m\u001b[1;33m)\u001b[0m\u001b[1;33m\u001b[0m\u001b[0m\n\u001b[0m\u001b[0;32m     17\u001b[0m \u001b[1;33m\u001b[0m\u001b[0m\n\u001b[0;32m     18\u001b[0m \u001b[1;31m# plot results\u001b[0m\u001b[1;33m\u001b[0m\u001b[1;33m\u001b[0m\u001b[0m\n",
      "\u001b[1;32mD:\\Documents\\etudes\\epfl\\MA1\\cours\\MachineLearning\\Project1\\code\\COMMON\\optimize_hyperparams.py\u001b[0m in \u001b[0;36moptimize_degree\u001b[1;34m(y, x, degree_min, degree_max, degree_steps, args, debug_mode)\u001b[0m\n\u001b[0;32m     88\u001b[0m             \u001b[0mphi_tmp\u001b[0m\u001b[1;33m,\u001b[0m\u001b[0m_\u001b[0m\u001b[1;33m,\u001b[0m\u001b[0m_\u001b[0m \u001b[1;33m=\u001b[0m  \u001b[0mstandardize\u001b[0m\u001b[1;33m(\u001b[0m\u001b[0mphi\u001b[0m\u001b[1;33m[\u001b[0m\u001b[1;36m1\u001b[0m\u001b[1;33m:\u001b[0m\u001b[1;33m,\u001b[0m\u001b[1;33m:\u001b[0m\u001b[1;33m]\u001b[0m\u001b[1;33m)\u001b[0m\u001b[1;33m\u001b[0m\u001b[0m\n\u001b[0;32m     89\u001b[0m             \u001b[0mphi\u001b[0m\u001b[1;33m[\u001b[0m\u001b[1;36m1\u001b[0m\u001b[1;33m:\u001b[0m\u001b[1;33m,\u001b[0m\u001b[1;33m:\u001b[0m\u001b[1;33m]\u001b[0m \u001b[1;33m=\u001b[0m \u001b[0mphi_tmp\u001b[0m\u001b[1;33m\u001b[0m\u001b[0m\n\u001b[1;32m---> 90\u001b[1;33m             \u001b[0mprint\u001b[0m\u001b[1;33m(\u001b[0m\u001b[0mmean\u001b[0m\u001b[1;33m(\u001b[0m\u001b[0mphi\u001b[0m\u001b[1;33m,\u001b[0m \u001b[0maxis\u001b[0m\u001b[1;33m=\u001b[0m\u001b[1;36m0\u001b[0m\u001b[1;33m)\u001b[0m\u001b[1;33m)\u001b[0m\u001b[1;33m\u001b[0m\u001b[0m\n\u001b[0m\u001b[0;32m     91\u001b[0m             \u001b[0mprint\u001b[0m\u001b[1;33m(\u001b[0m\u001b[0mstd\u001b[0m\u001b[1;33m(\u001b[0m\u001b[0mphi\u001b[0m\u001b[1;33m,\u001b[0m \u001b[0maxis\u001b[0m\u001b[1;33m=\u001b[0m\u001b[1;36m0\u001b[0m\u001b[1;33m)\u001b[0m\u001b[1;33m)\u001b[0m\u001b[1;33m\u001b[0m\u001b[0m\n\u001b[0;32m     92\u001b[0m \u001b[1;33m\u001b[0m\u001b[0m\n",
      "\u001b[1;31mNameError\u001b[0m: name 'mean' is not defined"
     ]
    }
   ],
   "source": [
    "# pick Xsw\n",
    "Xsw2 = all_candidates[:, idx_features[:3]]\n",
    "\n",
    "# change optimization parameters\n",
    "model['gamma'] = 1e-5\n",
    "model['max_iters'] = 5000\n",
    "model['threshold'] = 5000\n",
    "\n",
    "# optimization parameters\n",
    "degree_min = 1 \n",
    "degree_max = 10\n",
    "degree_steps = 1\n",
    "model['k_fold'] = 3\n",
    "\n",
    "# optimize degree\n",
    "w_opt, loss_tr, loss_te, degree_opt = optimize_degree(y, Xsw2, degree_min, degree_max, degree_steps, model, debug_mode=1)\n",
    "\n",
    "# plot results\n",
    "plt.figure()\n",
    "plt.plot(build_poly(x, degree_opt).dot(w_opt))\n",
    "plt.plot(y)\n",
    "plt.xlabel('sample')\n",
    "plt.ylabel('observation')\n",
    "plt.show()"
   ]
  },
  {
   "cell_type": "markdown",
   "metadata": {
    "collapsed": true
   },
   "source": [
    "# Optimization of lambda through simple cross validation"
   ]
  },
  {
   "cell_type": "code",
   "execution_count": null,
   "metadata": {
    "collapsed": true
   },
   "outputs": [],
   "source": [
    "# optimization parameters\n",
    "lambda_min = -10 \n",
    "lambda_max = 1\n",
    "lambda_steps = 10\n",
    "model['k_fold'] = 10\n",
    "\n",
    "# optimize lambda_\n",
    "w_opt, loss_tr, loss_te, lambda_opt, success_rate = optimize_lambda(y, Xsw, lambda_min, lambda_max, lambda_steps, arg_rr, debug_mode=1)"
   ]
  }
 ],
 "metadata": {
  "kernelspec": {
   "display_name": "Python 3",
   "language": "python",
   "name": "python3"
  },
  "language_info": {
   "codemirror_mode": {
    "name": "ipython",
    "version": 3
   },
   "file_extension": ".py",
   "mimetype": "text/x-python",
   "name": "python",
   "nbconvert_exporter": "python",
   "pygments_lexer": "ipython3",
   "version": "3.6.1"
  }
 },
 "nbformat": 4,
 "nbformat_minor": 2
}
