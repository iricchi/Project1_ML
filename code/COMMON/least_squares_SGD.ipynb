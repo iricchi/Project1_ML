{
 "cells": [
  {
   "cell_type": "code",
   "execution_count": null,
   "metadata": {
    "collapsed": true
   },
   "outputs": [],
   "source": [
    "# -*- coding: utf-8 -*-"
   ]
  },
  {
   "cell_type": "code",
   "execution_count": null,
   "metadata": {
    "collapsed": true
   },
   "outputs": [],
   "source": [
    "def compute_SGD(y, tx, w):\n",
    "    \"\"\"Compute a stochastic gradient from just few examples B in tx and their corresponding y labels.\"\"\"\n",
    "    \n",
    "    # number of samples in the batch tx\n",
    "    B = len(y)\n",
    "    \n",
    "    # compute the vector of all the errors\n",
    "    e = y-tx.dot(w) \n",
    "\n",
    "    # compute the stochastic gradient\n",
    "    stoch_grad = -(1/B)*tx.T.dot(e)\n",
    "    \n",
    "    return stoch_grad\n",
    "    raise NotImplementedError\n",
    "\n",
    "def least_squares_SGD(y, tx, initial_w, max_iters, gamma):\n",
    "     \"\"\"Stochastic gradient descent algorithm.\"\"\"\n",
    "    \n",
    "    # Define parameters to store w and loss\n",
    "    ws = [initial_w]\n",
    "    losses = []\n",
    "    w = initial_w\n",
    "    \n",
    "    # optimization loop\n",
    "    for n_iter in range(max_iters):\n",
    "                \n",
    "        # pick randomly 'batch_size' samples\n",
    "        batches = batch_iter(y, tx, batch_size, num_batches=1, shuffle=True)\n",
    "        \n",
    "        for samples in batches:\n",
    "\n",
    "            # read samples\n",
    "            y = samples[0]\n",
    "            tx = samples[1]\n",
    "        \n",
    "            # compute new parameters\n",
    "            w = ws[-1] - gamma*compute_stoch_gradient(y, tx, ws[-1])\n",
    "            \n",
    "            # get new loss\n",
    "            loss = compute_mse(y, tx, ws[-1])        \n",
    "        \n",
    "        # store w and loss\n",
    "        ws.append(w)\n",
    "        losses.append(loss)\n",
    "        \n",
    "    print(\"Gradient Descent({bi}/{ti}): loss MSE={l}, w0={w0}, w1={w1}\".format(bi=n_iter, ti=max_iters - 1, l=loss, w0=w[0], w1=w[1]))\n",
    "\n",
    "    raise NotImplementedError\n",
    "    return losses, ws"
   ]
  }
 ],
 "metadata": {
  "kernelspec": {
   "display_name": "Python 3",
   "language": "python",
   "name": "python3"
  },
  "language_info": {
   "codemirror_mode": {
    "name": "ipython",
    "version": 3
   },
   "file_extension": ".py",
   "mimetype": "text/x-python",
   "name": "python",
   "nbconvert_exporter": "python",
   "pygments_lexer": "ipython3",
   "version": "3.6.1"
  }
 },
 "nbformat": 4,
 "nbformat_minor": 2
}
