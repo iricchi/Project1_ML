{
 "cells": [
  {
   "cell_type": "code",
   "execution_count": 2,
   "metadata": {},
   "outputs": [
    {
     "name": "stdout",
     "output_type": "stream",
     "text": [
      "The autoreload extension is already loaded. To reload it, use:\n",
      "  %reload_ext autoreload\n"
     ]
    }
   ],
   "source": [
    "# TO RUN IT: CHANGE MY PATH\n",
    "%matplotlib inline\n",
    "%load_ext autoreload\n",
    "%autoreload 2\n",
    "\n",
    "# change path if necessary\n",
    "import sys\n",
    "my_path = r'D:\\Documents\\etudes\\epfl\\MA1\\cours\\MachineLearning\\Project1'\n",
    "sys.path.insert(0,my_path + r'\\code\\COMMON')\n",
    "\n",
    "# imports\n",
    "import numpy as np \n",
    "import matplotlib.pyplot as plt\n",
    "\n",
    "from implementations import *\n",
    "from labels import idx_2labels\n",
    "from costs import *\n",
    "from optimize_hyperparams import *\n",
    "from cross_validation import *\n",
    "from step_wise import *"
   ]
  },
  {
   "cell_type": "markdown",
   "metadata": {},
   "source": [
    "# Build dataset"
   ]
  },
  {
   "cell_type": "code",
   "execution_count": 3,
   "metadata": {
    "collapsed": true
   },
   "outputs": [],
   "source": [
    "from proj1_helpers import load_csv_data \n",
    "\n",
    "# load raw data\n",
    "y_raw, input_data_raw, ids = load_csv_data(my_path + r'\\data\\train.csv', sub_sample=False)"
   ]
  },
  {
   "cell_type": "code",
   "execution_count": 4,
   "metadata": {},
   "outputs": [
    {
     "name": "stdout",
     "output_type": "stream",
     "text": [
      "-999 are replaced by the median value of the feature\n"
     ]
    }
   ],
   "source": [
    "from outliers import handle_outliers\n",
    "\n",
    "# handle outliers\n",
    "X0, y = handle_outliers(input_data_raw, y_raw, -999, 'median')\n",
    "\n",
    "# set y in {0,1} instead of {-1,1}\n",
    "y[np.where(y==-1)]=0"
   ]
  },
  {
   "cell_type": "code",
   "execution_count": 5,
   "metadata": {
    "collapsed": true
   },
   "outputs": [],
   "source": [
    "# get feature names \n",
    "all_features_raw = list(np.genfromtxt(my_path + r'/data/train.csv', delimiter=\",\", dtype=str, max_rows = 1)[2:])"
   ]
  },
  {
   "cell_type": "code",
   "execution_count": 20,
   "metadata": {},
   "outputs": [],
   "source": [
    "# adding power transformations\n",
    "degree = 1\n",
    "\n",
    "# build polynomial basis function\n",
    "phi = build_poly(X0, degree)\n",
    "\n",
    "# create feature set\n",
    "all_candidates = phi[:,1:]\n",
    "\n",
    "# adding degree names\n",
    "all_features = []\n",
    "for i in range(len(all_features_raw)):\n",
    "    for d in range(degree):\n",
    "        all_features.append(all_features_raw[i] + '_power_' + str(d+1))"
   ]
  },
  {
   "cell_type": "code",
   "execution_count": 21,
   "metadata": {},
   "outputs": [
    {
     "name": "stdout",
     "output_type": "stream",
     "text": [
      "(250000, 30)\n",
      "['DER_mass_MMC_power_1', 'DER_mass_transverse_met_lep_power_1', 'DER_mass_vis_power_1', 'DER_pt_h_power_1', 'DER_deltaeta_jet_jet_power_1', 'DER_mass_jet_jet_power_1', 'DER_prodeta_jet_jet_power_1', 'DER_deltar_tau_lep_power_1', 'DER_pt_tot_power_1', 'DER_sum_pt_power_1', 'DER_pt_ratio_lep_tau_power_1', 'DER_met_phi_centrality_power_1', 'DER_lep_eta_centrality_power_1', 'PRI_tau_pt_power_1', 'PRI_tau_eta_power_1', 'PRI_tau_phi_power_1', 'PRI_lep_pt_power_1', 'PRI_lep_eta_power_1', 'PRI_lep_phi_power_1', 'PRI_met_power_1', 'PRI_met_phi_power_1', 'PRI_met_sumet_power_1', 'PRI_jet_num_power_1', 'PRI_jet_leading_pt_power_1', 'PRI_jet_leading_eta_power_1', 'PRI_jet_leading_phi_power_1', 'PRI_jet_subleading_pt_power_1', 'PRI_jet_subleading_eta_power_1', 'PRI_jet_subleading_phi_power_1', 'PRI_jet_all_pt_power_1']\n"
     ]
    }
   ],
   "source": [
    "print(all_candidates.shape)\n",
    "print(all_features)"
   ]
  },
  {
   "cell_type": "code",
   "execution_count": 22,
   "metadata": {},
   "outputs": [],
   "source": [
    "# adding logarithmic transformation of masses\n",
    "all_candidates = np.concatenate((all_candidates, np.log(1+np.abs(X0[:,0])).reshape(len(X0),1)),axis =1)\n",
    "all_candidates = np.concatenate((all_candidates, np.log(1+np.abs(X0[:,1])).reshape(len(X0),1)),axis =1)\n",
    "all_candidates = np.concatenate((all_candidates, np.log(1+np.abs(X0[:,2])).reshape(len(X0),1)),axis =1)\n",
    "all_candidates = np.concatenate((all_candidates, np.log(1+np.abs(X0[:,5])).reshape(len(X0),1)),axis =1)\n",
    "\n",
    "# adding logarithm names\n",
    "all_features.append('log(DER_mass_MMC)')\n",
    "all_features.append('log(DER_mass_transverse_met_lep)')\n",
    "all_features.append('log(DER_mass_vis)')\n",
    "all_features.append('log(DER_mass_jet_jet)')"
   ]
  },
  {
   "cell_type": "code",
   "execution_count": 23,
   "metadata": {
    "collapsed": true
   },
   "outputs": [],
   "source": [
    "# standardize\n",
    "all_candidates,_ ,_ = standardize(all_candidates) "
   ]
  },
  {
   "cell_type": "code",
   "execution_count": 25,
   "metadata": {
    "scrolled": true
   },
   "outputs": [
    {
     "name": "stdout",
     "output_type": "stream",
     "text": [
      "(250000, 34)\n",
      "['DER_mass_MMC', 'DER_mass_transverse_met_lep', 'DER_mass_vis', 'DER_pt_h', 'DER_deltaeta_jet_jet', 'DER_mass_jet_jet', 'DER_prodeta_jet_jet', 'DER_deltar_tau_lep', 'DER_pt_tot', 'DER_sum_pt', 'DER_pt_ratio_lep_tau', 'DER_met_phi_centrality', 'DER_lep_eta_centrality', 'PRI_tau_pt', 'PRI_tau_eta', 'PRI_tau_phi', 'PRI_lep_pt', 'PRI_lep_eta', 'PRI_lep_phi', 'PRI_met', 'PRI_met_phi', 'PRI_met_sumet', 'PRI_jet_num', 'PRI_jet_leading_pt', 'PRI_jet_leading_eta', 'PRI_jet_leading_phi', 'PRI_jet_subleading_pt', 'PRI_jet_subleading_eta', 'PRI_jet_subleading_phi', 'PRI_jet_all_pt']\n",
      "34\n",
      "[(0, 'DER_mass_MMC_power_1'), (1, 'DER_mass_transverse_met_lep_power_1'), (2, 'DER_mass_vis_power_1'), (3, 'DER_pt_h_power_1'), (4, 'DER_deltaeta_jet_jet_power_1'), (5, 'DER_mass_jet_jet_power_1'), (6, 'DER_prodeta_jet_jet_power_1'), (7, 'DER_deltar_tau_lep_power_1'), (8, 'DER_pt_tot_power_1'), (9, 'DER_sum_pt_power_1'), (10, 'DER_pt_ratio_lep_tau_power_1'), (11, 'DER_met_phi_centrality_power_1'), (12, 'DER_lep_eta_centrality_power_1'), (13, 'PRI_tau_pt_power_1'), (14, 'PRI_tau_eta_power_1'), (15, 'PRI_tau_phi_power_1'), (16, 'PRI_lep_pt_power_1'), (17, 'PRI_lep_eta_power_1'), (18, 'PRI_lep_phi_power_1'), (19, 'PRI_met_power_1'), (20, 'PRI_met_phi_power_1'), (21, 'PRI_met_sumet_power_1'), (22, 'PRI_jet_num_power_1'), (23, 'PRI_jet_leading_pt_power_1'), (24, 'PRI_jet_leading_eta_power_1'), (25, 'PRI_jet_leading_phi_power_1'), (26, 'PRI_jet_subleading_pt_power_1'), (27, 'PRI_jet_subleading_eta_power_1'), (28, 'PRI_jet_subleading_phi_power_1'), (29, 'PRI_jet_all_pt_power_1'), (30, 'log(DER_mass_MMC)'), (31, 'log(DER_mass_transverse_met_lep)'), (32, 'log(DER_mass_vis)'), (33, 'log(DER_mass_jet_jet)')]\n"
     ]
    }
   ],
   "source": [
    "# list of feature names and indices\n",
    "features = []\n",
    "for i in range(len(all_features)):\n",
    "    features.append((i,all_features[i]))\n",
    "\n",
    "print(all_candidates.shape)\n",
    "print(all_features_raw)\n",
    "print(len(features))\n",
    "print(features)"
   ]
  },
  {
   "cell_type": "markdown",
   "metadata": {},
   "source": [
    "# Logistic Regression (no penalization)"
   ]
  },
  {
   "cell_type": "code",
   "execution_count": null,
   "metadata": {
    "collapsed": true
   },
   "outputs": [],
   "source": [
    "# model parameters\n",
    "model = dict()\n",
    "model['method'] = 'lr' # 'lrr' if regularized with a penalization 'lambda_' otherwise 'lr' \n",
    "model['loss'] = 'loglikelihood'\n",
    "\n",
    "# model hyperparameter\n",
    "model['gamma'] = 1e-5\n",
    "\n",
    "# other\n",
    "model['method_minimization'] = 'gd' # 'gd' (gradient_descent) or 'newton' (newton descent leads to non invertible matrice \"S\" which is too big)\n",
    "model['threshold'] = 1\n",
    "model['max_iters'] = 10000\n",
    "model['debug_mode'] = 1\n",
    "\n",
    "# R2 type\n",
    "R2_method = 'McFadden' # 'loss', 'Tjur' or 'McFadden' \n",
    "\n",
    "# estimate R2 error through cross validation (1 or 0)\n",
    "cv = 1\n",
    "model['k_fold'] = 10"
   ]
  },
  {
   "cell_type": "code",
   "execution_count": null,
   "metadata": {
    "collapsed": true
   },
   "outputs": [],
   "source": [
    "# step-wise\n",
    "best_R2adj, idx_features = stepwise(model, R2_method, all_candidates, features, y, cv)"
   ]
  },
  {
   "cell_type": "code",
   "execution_count": null,
   "metadata": {
    "collapsed": true
   },
   "outputs": [],
   "source": [
    "# display selected features\n",
    "results_r2_stepwise(best_R2adj[:len(best_R2adj)-1], idx_features)"
   ]
  },
  {
   "cell_type": "code",
   "execution_count": null,
   "metadata": {
    "collapsed": true
   },
   "outputs": [],
   "source": []
  }
 ],
 "metadata": {
  "kernelspec": {
   "display_name": "Python 3",
   "language": "python",
   "name": "python3"
  },
  "language_info": {
   "codemirror_mode": {
    "name": "ipython",
    "version": 3
   },
   "file_extension": ".py",
   "mimetype": "text/x-python",
   "name": "python",
   "nbconvert_exporter": "python",
   "pygments_lexer": "ipython3",
   "version": "3.6.1"
  }
 },
 "nbformat": 4,
 "nbformat_minor": 2
}
