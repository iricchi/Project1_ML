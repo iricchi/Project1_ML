{
 "cells": [
  {
   "cell_type": "code",
   "execution_count": null,
   "metadata": {
    "collapsed": true
   },
   "outputs": [],
   "source": [
    "# -*- coding: utf-8 -*-"
   ]
  },
  {
   "cell_type": "code",
   "execution_count": null,
   "metadata": {
    "collapsed": true
   },
   "outputs": [],
   "source": [
    "def compute_gradient(y, tx, w):\n",
    "\n",
    "    \"\"\"Compute the gradient.\"\"\"\n",
    "\n",
    "    # number of samples\n",
    "    N = len(y)\n",
    "\n",
    "    # compute the vector of the errors\n",
    "    e = y-tx.dot(w)\n",
    "\n",
    "    # compute the gradient\n",
    "    grad = -(1/N)*tx.T.dot(e)\n",
    "\n",
    "    return grad\n",
    "    raise NotImplementedError\n",
    "\n",
    "def gradient_descent(y, tx, initial_w, max_iters, gamma):\n",
    "\n",
    "    \"\"\"Gradient descent algorithm.\"\"\"\n",
    "    \n",
    "    # define parameters to store w and loss\n",
    "    ws = [initial_w]\n",
    "    losses = []\n",
    "    w = initial_w\n",
    "\n",
    "    # optimization loop\n",
    "    for n_iter in range(max_iters):\n",
    "\n",
    "        # compute new parameters\n",
    "        w = w - gamma*compute_gradient(y, tx, w)\n",
    "\n",
    "        # get new loss\n",
    "        loss = compute_mse(y, tx, w)        \n",
    "\n",
    "        # store w and loss\n",
    "        ws.append(w)\n",
    "        losses.append(loss)\n",
    "\n",
    "    print(\"Gradient Descent({bi}/{ti}): loss MSE={l}, w0={w0}, w1={w1}\".format(bi=n_iter, ti=max_iters - 1, l=loss, w0=w[0], w1=w[1]))\n",
    "\n",
    "    return losses, ws\n",
    "    raise NotImplementedError"
   ]
  }
 ],
 "metadata": {
  "kernelspec": {
   "display_name": "Python 3",
   "language": "python",
   "name": "python3"
  },
  "language_info": {
   "codemirror_mode": {
    "name": "ipython",
    "version": 3
   },
   "file_extension": ".py",
   "mimetype": "text/x-python",
   "name": "python",
   "nbconvert_exporter": "python",
   "pygments_lexer": "ipython3",
   "version": "3.6.1"
  }
 },
 "nbformat": 4,
 "nbformat_minor": 2
}
