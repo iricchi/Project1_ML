{
 "cells": [
  {
   "cell_type": "code",
   "execution_count": null,
   "metadata": {
    "collapsed": true
   },
   "outputs": [],
   "source": [
    "import numpy as np\n",
    "\n",
    "def build_poly(x, degree):\n",
    "    \"\"\"polynomial basis functions for input data x, for j=0 up to j=degree.\"\"\"\n",
    "    \n",
    "    X = np.vander((x[:,0]).T, degree+1, increasing=True)\n",
    "    \n",
    "    for i in range(1,np.shape(x)[1],1):\n",
    "        feat = (x[:,i]).T\n",
    "        vander = np.vander(feat, degree+1, increasing=True)\n",
    "        #remove the column of 1 at the beginning of each vander\n",
    "        vander = np.delete(vander, 0,axis = 1)\n",
    "        #concatenation\n",
    "        X = np.concatenate((X, vander), axis=1)\n",
    "    \n",
    "    return X"
   ]
  }
 ],
 "metadata": {
  "kernelspec": {
   "display_name": "Python 3",
   "language": "python",
   "name": "python3"
  },
  "language_info": {
   "codemirror_mode": {
    "name": "ipython",
    "version": 3
   },
   "file_extension": ".py",
   "mimetype": "text/x-python",
   "name": "python",
   "nbconvert_exporter": "python",
   "pygments_lexer": "ipython3",
   "version": "3.6.1"
  }
 },
 "nbformat": 4,
 "nbformat_minor": 2
}
