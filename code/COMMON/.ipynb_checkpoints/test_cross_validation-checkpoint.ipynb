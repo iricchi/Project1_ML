{
 "cells": [
  {
   "cell_type": "code",
   "execution_count": 1,
   "metadata": {
    "collapsed": true
   },
   "outputs": [],
   "source": [
    "# -*- coding: utf-8 -*-\n",
    "%matplotlib inline\n",
    "%load_ext autoreload\n",
    "%autoreload 2\n",
    "\n",
    "# import\n",
    "import numpy as np\n",
    "import matplotlib.pyplot as plt\n",
    "from cross_validation import *\n",
    "from build_poly import build_poly"
   ]
  },
  {
   "cell_type": "markdown",
   "metadata": {},
   "source": [
    "# Create a dataset"
   ]
  },
  {
   "cell_type": "code",
   "execution_count": 2,
   "metadata": {},
   "outputs": [
    {
     "name": "stdout",
     "output_type": "stream",
     "text": [
      "x:  (1000, 1)\n",
      "y:  (1000,)\n"
     ]
    }
   ],
   "source": [
    "from standard import standardize \n",
    "\n",
    "# number of samples in the dataset\n",
    "num_data = 1000\n",
    "\n",
    "# features\n",
    "x = np.linspace(0.1, 2 * np.pi, num_data)\n",
    "x = x[:, None]\n",
    "\n",
    "# observations\n",
    "offset = 1\n",
    "noiseLevel = 0.1\n",
    "y = np.sin(x[:,0]) + offset + noiseLevel * np.random.randn(num_data).T\n",
    "\n",
    "# standardize \n",
    "x, mean_x, std_x = standardize(x)\n",
    "\n",
    "# build polynomial basis \n",
    "degree = 3\n",
    "phi = build_poly(x, degree)\n",
    "\n",
    "print('x: ', x.shape)\n",
    "print('y: ', y.shape)"
   ]
  },
  {
   "cell_type": "markdown",
   "metadata": {},
   "source": [
    "# Test cross validation for Least Square "
   ]
  },
  {
   "cell_type": "code",
   "execution_count": 4,
   "metadata": {},
   "outputs": [
    {
     "name": "stdout",
     "output_type": "stream",
     "text": [
      "Number of samples in total:  1000\n",
      "Number of folds:  10  of 100 samples.\n",
      "Mean training loss:  0.115576764555\n",
      "Mean testing loss:  0.115860653402\n"
     ]
    },
    {
     "data": {
      "image/png": "[encoded data removed]",
      "text/plain": [
       "<matplotlib.figure.Figure at 0x70e53fabe0>"
      ]
     },
     "metadata": {},
     "output_type": "display_data"
    }
   ],
   "source": [
    "# parameters\n",
    "arg_ls = dict()\n",
    "arg_ls['method'] = 'ls'\n",
    "arg_ls['loss'] = 'rmse'\n",
    "arg_ls['k_fold'] = 10\n",
    "\n",
    "# cross validation\n",
    "w_tr_tot, loss_tr_tot, loss_te_tot = cross_validation(y, phi, arg_ls)\n",
    "\n",
    "# optimal weights minimize the testing error\n",
    "w_opt = w_tr_tot[np.argmin(loss_te_tot)]\n",
    "\n",
    "# plot training and testing losses \n",
    "plt.figure\n",
    "plt.boxplot(np.column_stack((np.array(loss_tr_tot), np.array(loss_te_tot))), labels=['training','testing'])\n",
    "plt.ylabel('loss')\n",
    "plt.title('boxplot')\n",
    "plt.show()"
   ]
  },
  {
   "cell_type": "markdown",
   "metadata": {},
   "source": [
    "# Test cross validation for Ridge Regression "
   ]
  },
  {
   "cell_type": "code",
   "execution_count": 13,
   "metadata": {},
   "outputs": [
    {
     "name": "stdout",
     "output_type": "stream",
     "text": [
      "Number of samples in total:  1000\n",
      "Number of folds:  10  of 100 samples.\n",
      "Mean training loss:  0.858086759739\n",
      "Mean testing loss:  0.85816284801\n"
     ]
    },
    {
     "data": {
      "image/png": "[encoded data removed]",
      "text/plain": [
       "<matplotlib.figure.Figure at 0xa514ab0be0>"
      ]
     },
     "metadata": {},
     "output_type": "display_data"
    }
   ],
   "source": [
    "# parameters\n",
    "arg_rr = dict()\n",
    "arg_rr['method'] = 'rr'\n",
    "arg_rr['loss'] = 'rmse'\n",
    "arg_rr['k_fold'] = 10\n",
    "arg_rr['lambda_'] = 0.1\n",
    "\n",
    "# cross validation\n",
    "w_tr_tot, loss_tr_tot, loss_te_tot = cross_validation(y, phi, arg_rr)\n",
    "\n",
    "# optimal weights minimize the testing error\n",
    "w_opt = w_tr_tot[np.argmin(loss_te_tot)]\n",
    "\n",
    "# plot training and testing losses \n",
    "plt.figure\n",
    "plt.boxplot(np.column_stack((np.array(loss_tr_tot), np.array(loss_te_tot))), labels=['training','testing'])\n",
    "plt.ylabel('loss')\n",
    "plt.title('boxplot')\n",
    "plt.show()"
   ]
  },
  {
   "cell_type": "markdown",
   "metadata": {},
   "source": [
    "# Test cross validation for Least Squares Gradient Descent"
   ]
  },
  {
   "cell_type": "code",
   "execution_count": 14,
   "metadata": {
    "scrolled": true
   },
   "outputs": [
    {
     "name": "stdout",
     "output_type": "stream",
     "text": [
      "Number of samples in total:  1000\n",
      "Number of folds:  10  of 100 samples.\n",
      "Gradient Descent(9/9): loss MSE=0.18864745733803226\n",
      "Gradient Descent(9/9): loss MSE=0.19092523719201862\n",
      "Gradient Descent(9/9): loss MSE=0.19223337515849284\n",
      "Gradient Descent(9/9): loss MSE=0.18851028879435458\n",
      "Gradient Descent(9/9): loss MSE=0.19158641064516418\n",
      "Gradient Descent(9/9): loss MSE=0.1922877522006376\n",
      "Gradient Descent(9/9): loss MSE=0.19337960339938717\n",
      "Gradient Descent(9/9): loss MSE=0.1929302022261674\n",
      "Gradient Descent(9/9): loss MSE=0.19131562231988627\n",
      "Gradient Descent(9/9): loss MSE=0.19320826508364256\n",
      "Mean training loss:  0.618868114028\n",
      "Mean testing loss:  0.618205375153\n"
     ]
    },
    {
     "data": {
      "image/png": "[encoded data removed]",
      "text/plain": [
       "<matplotlib.figure.Figure at 0xa514b80d68>"
      ]
     },
     "metadata": {},
     "output_type": "display_data"
    }
   ],
   "source": [
    "# parameters\n",
    "arg_lsgd = dict()\n",
    "arg_lsgd['method'] = 'lsgd'\n",
    "arg_lsgd['loss'] = 'rmse'\n",
    "arg_lsgd['k_fold'] = 10\n",
    "arg_lsgd['gamma'] = 0.1\n",
    "arg_lsgd['max_iters'] = 10\n",
    "arg_lsgd['initial_w'] = np.zeros(phi.shape[1])\n",
    "\n",
    "# cross validation\n",
    "w_tr_tot, loss_tr_tot, loss_te_tot = cross_validation(y, phi, arg_lsgd)\n",
    "\n",
    "# optimal weights minimize the testing error\n",
    "w_opt = w_tr_tot[np.argmin(loss_te_tot)]\n",
    "\n",
    "# plot training and testing losses \n",
    "plt.figure\n",
    "plt.boxplot(np.column_stack((np.array(loss_tr_tot), np.array(loss_te_tot))), labels=['training','testing'])\n",
    "plt.ylabel('loss')\n",
    "plt.title('boxplot')\n",
    "plt.show()"
   ]
  },
  {
   "cell_type": "markdown",
   "metadata": {},
   "source": [
    "# Test cross validation for Least Squares Stochastic Gradient Descent"
   ]
  },
  {
   "cell_type": "code",
   "execution_count": 15,
   "metadata": {},
   "outputs": [
    {
     "name": "stdout",
     "output_type": "stream",
     "text": [
      "Number of samples in total:  1000\n",
      "Number of folds:  10  of 100 samples.\n",
      "Stochastic Gradient Descent(9/9): loss MSE=0.24115186260041072\n",
      "Stochastic Gradient Descent(9/9): loss MSE=0.1315725400955149\n",
      "Stochastic Gradient Descent(9/9): loss MSE=0.22603592328501626\n",
      "Stochastic Gradient Descent(9/9): loss MSE=0.17990584121053674\n",
      "Stochastic Gradient Descent(9/9): loss MSE=0.234347251165129\n",
      "Stochastic Gradient Descent(9/9): loss MSE=0.18250590845381154\n",
      "Stochastic Gradient Descent(9/9): loss MSE=0.12787973902908778\n",
      "Stochastic Gradient Descent(9/9): loss MSE=0.16727351444669616\n",
      "Stochastic Gradient Descent(9/9): loss MSE=0.15921690256749388\n",
      "Stochastic Gradient Descent(9/9): loss MSE=0.15037764574803475\n",
      "Mean training loss:  0.6257500283\n",
      "Mean testing loss:  0.6224839707\n"
     ]
    },
    {
     "data": {
      "image/png": "[encoded data removed]",
      "text/plain": [
       "<matplotlib.figure.Figure at 0xa5137b73c8>"
      ]
     },
     "metadata": {},
     "output_type": "display_data"
    }
   ],
   "source": [
    "# parameters\n",
    "arg_lssgd = dict()\n",
    "arg_lssgd['method'] = 'lssgd'\n",
    "arg_lssgd['loss'] = 'rmse'\n",
    "arg_lssgd['k_fold'] = 10\n",
    "arg_lssgd['gamma'] = 0.1\n",
    "arg_lssgd['max_iters'] = 10\n",
    "arg_lssgd['initial_w'] = np.zeros(phi.shape[1])\n",
    "arg_lssgd['batch_size'] = 25\n",
    "\n",
    "# cross validation\n",
    "w_tr_tot, loss_tr_tot, loss_te_tot = cross_validation(y, phi, arg_lssgd)\n",
    "\n",
    "# optimal weights minimize the testing error\n",
    "w_opt = w_tr_tot[np.argmin(loss_te_tot)]\n",
    "\n",
    "# plot training and testing losses \n",
    "plt.figure\n",
    "plt.boxplot(np.column_stack((np.array(loss_tr_tot), np.array(loss_te_tot))), labels=['training','testing'])\n",
    "plt.ylabel('loss')\n",
    "plt.title('boxplot')\n",
    "plt.show()"
   ]
  },
  {
   "cell_type": "markdown",
   "metadata": {},
   "source": [
    "# Test cross validation for logistic regression"
   ]
  },
  {
   "cell_type": "code",
   "execution_count": 4,
   "metadata": {},
   "outputs": [
    {
     "name": "stdout",
     "output_type": "stream",
     "text": [
      "Number of samples in total:  1000\n",
      "Number of folds:  5  of 200 samples.\n",
      "Logistic Regression (49/49): loss logLikelihood=238.05008555452395\n",
      "Logistic Regression (49/49): loss logLikelihood=238.0596340935675\n",
      "Logistic Regression (49/49): loss logLikelihood=238.0703830014227\n",
      "Logistic Regression (49/49): loss logLikelihood=238.07110679531198\n",
      "Logistic Regression (49/49): loss logLikelihood=238.0843102072434\n",
      "Mean training loss:  238.06710393\n",
      "Mean testing loss:  58.5423913482\n"
     ]
    },
    {
     "data": {
      "image/png": "[encoded data removed]",
      "text/plain": [
       "<matplotlib.figure.Figure at 0x71b8607a58>"
      ]
     },
     "metadata": {},
     "output_type": "display_data"
    }
   ],
   "source": [
    "# build labels\n",
    "ylabels = np.zeros(y.shape)\n",
    "ylabels[np.where(y<=1)] = 0\n",
    "ylabels[np.where(y>1)] = 1\n",
    "\n",
    "# parameters\n",
    "arg_lr = dict()\n",
    "arg_lr['method'] = 'lr'\n",
    "arg_lr['loss'] = 'logLikelihood'\n",
    "arg_lr['degree'] = 3\n",
    "arg_lr['k_fold'] = 5\n",
    "arg_lr['max_iters'] = 50\n",
    "arg_lr['initial_w'] = np.zeros(phi.shape[1])\n",
    "arg_lr['method_minimization'] = 'newton' # 'gd' (gradient_descent) or 'newton'\n",
    "arg_lr['gamma'] = 1e-4\n",
    "\n",
    "# cross validation\n",
    "w_tr_tot, loss_tr_tot, loss_te_tot = cross_validation(ylabels, phi, arg_lr)\n",
    "\n",
    "# optimal weights minimize the testing error\n",
    "w_opt = w_tr_tot[np.argmin(loss_te_tot)]\n",
    "\n",
    "# plot training and testing losses \n",
    "plt.figure\n",
    "plt.boxplot(np.column_stack((np.array(loss_tr_tot), np.array(loss_te_tot))), labels=['training','testing'])\n",
    "plt.ylabel('loss')\n",
    "plt.title('boxplot')\n",
    "plt.show()"
   ]
  },
  {
   "cell_type": "markdown",
   "metadata": {},
   "source": [
    "# Test the regularized logistic regression"
   ]
  },
  {
   "cell_type": "code",
   "execution_count": 5,
   "metadata": {},
   "outputs": [
    {
     "name": "stdout",
     "output_type": "stream",
     "text": [
      "Number of samples in total:  1000\n",
      "Number of folds:  5  of 200 samples.\n",
      "Logistic Regression Regularized (49/49): loss logLikelihood=238.24382334489798\n",
      "Logistic Regression Regularized (49/49): loss logLikelihood=238.2556184699385\n",
      "Logistic Regression Regularized (49/49): loss logLikelihood=238.26467633368355\n",
      "Logistic Regression Regularized (49/49): loss logLikelihood=238.26245768537567\n",
      "Logistic Regression Regularized (49/49): loss logLikelihood=238.27738184701875\n",
      "Mean training loss:  238.260791536\n",
      "Mean testing loss:  58.5889487884\n"
     ]
    },
    {
     "data": {
      "image/png": "[encoded data removed]",
      "text/plain": [
       "<matplotlib.figure.Figure at 0x71b634fe48>"
      ]
     },
     "metadata": {},
     "output_type": "display_data"
    }
   ],
   "source": [
    "# build labels\n",
    "ylabels = np.zeros(y.shape)\n",
    "ylabels[np.where(y<=1)] = 0\n",
    "ylabels[np.where(y>1)] = 1\n",
    "\n",
    "# parameters\n",
    "arg_lrr = dict()\n",
    "arg_lrr['method'] = 'lrr'\n",
    "arg_lrr['loss'] = 'logLikelihood'\n",
    "arg_lrr['k_fold'] = 5\n",
    "arg_lrr['max_iters'] = 50\n",
    "arg_lrr['initial_w'] = np.zeros(phi.shape[1])\n",
    "arg_lrr['method_minimization'] = 'newton' # 'gd' (gradient_descent) or 'newton'\n",
    "arg_lrr['gamma'] = 1e-4\n",
    "arg_lrr['lambda_'] = 10\n",
    "\n",
    "# cross validation\n",
    "w_tr_tot, loss_tr_tot, loss_te_tot = cross_validation(ylabels, phi, arg_lrr)\n",
    "\n",
    "# optimal weights minimize the testing error\n",
    "w_opt = w_tr_tot[np.argmin(loss_te_tot)]\n",
    "\n",
    "# plot training and testing losses \n",
    "plt.figure\n",
    "plt.boxplot(np.column_stack((np.array(loss_tr_tot), np.array(loss_te_tot))), labels=['training','testing'])\n",
    "plt.ylabel('loss')\n",
    "plt.title('boxplot')\n",
    "plt.show()"
   ]
  },
  {
   "cell_type": "code",
   "execution_count": null,
   "metadata": {
    "collapsed": true
   },
   "outputs": [],
   "source": []
  }
 ],
 "metadata": {
  "kernelspec": {
   "display_name": "Python 3",
   "language": "python",
   "name": "python3"
  },
  "language_info": {
   "codemirror_mode": {
    "name": "ipython",
    "version": 3
   },
   "file_extension": ".py",
   "mimetype": "text/x-python",
   "name": "python",
   "nbconvert_exporter": "python",
   "pygments_lexer": "ipython3",
   "version": "3.6.1"
  }
 },
 "nbformat": 4,
 "nbformat_minor": 2
}
