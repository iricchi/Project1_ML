{
 "cells": [
  {
   "cell_type": "code",
   "execution_count": null,
   "metadata": {},
   "outputs": [],
   "source": [
    "# TO RUN IT: CHANGE MY PATH\n",
    "%matplotlib inline\n",
    "%load_ext autoreload\n",
    "%autoreload 2\n",
    "\n",
    "# change path if necessary\n",
    "import sys\n",
    "my_path = r'D:\\Documents\\etudes\\epfl\\MA1\\cours\\MachineLearning\\Project1'\n",
    "sys.path.insert(0,my_path + r'\\code\\COMMON')\n",
    "\n",
    "# imports\n",
    "import numpy as np \n",
    "import matplotlib.pyplot as plt\n",
    "\n",
    "from proj1_helpers import predict_labels \n",
    "from implementations import *\n",
    "from labels import idx_2labels\n",
    "from costs import *\n",
    "from optimize_hyperparams import *\n",
    "from cross_validation import *\n",
    "from step_wise_CHANGE_R2 import *"
   ]
  },
  {
   "cell_type": "markdown",
   "metadata": {},
   "source": [
    "# Build dataset"
   ]
  },
  {
   "cell_type": "code",
   "execution_count": null,
   "metadata": {
    "collapsed": true
   },
   "outputs": [],
   "source": [
    "from proj1_helpers import load_csv_data \n",
    "\n",
    "# load raw data\n",
    "y_raw, input_data_raw, ids = load_csv_data(my_path + r'\\data\\train.csv', sub_sample=False)"
   ]
  },
  {
   "cell_type": "code",
   "execution_count": null,
   "metadata": {},
   "outputs": [],
   "source": [
    "from outliers import handle_outliers\n",
    "\n",
    "# handle outliers\n",
    "X0, y = handle_outliers(input_data_raw, y_raw, -999, 'median')"
   ]
  },
  {
   "cell_type": "code",
   "execution_count": null,
   "metadata": {
    "collapsed": true
   },
   "outputs": [],
   "source": [
    "from standard import standardize\n",
    "\n",
    "# standardize\n",
    "X0, mean_X0, std_X0 = standardize(X0)\n",
    "\n",
    "# set y in {0,1} instead of {-1,1}\n",
    "y[np.where(y==-1)]=0"
   ]
  },
  {
   "cell_type": "markdown",
   "metadata": {},
   "source": [
    "# Least Squares"
   ]
  },
  {
   "cell_type": "code",
   "execution_count": null,
   "metadata": {
    "collapsed": true
   },
   "outputs": [],
   "source": [
    "# parameters\n",
    "model = dict()\n",
    "model['method'] = 'ls'\n",
    "model['loss'] = 'rmse'\n",
    "\n",
    "# R2 type\n",
    "R2_method = 'McFadden' # 'loss', 'Tjur' or 'McFadden'\n",
    "\n",
    "# estimate R2 error through cross validation (1 or 0)\n",
    "cv = 0\n",
    "model['k_fold'] = 5"
   ]
  },
  {
   "cell_type": "code",
   "execution_count": null,
   "metadata": {
    "collapsed": true
   },
   "outputs": [],
   "source": [
    "# step wise candidates\n",
    "all_candidates = X0\n",
    "\n",
    "# get feature names \n",
    "all_features = list(np.genfromtxt(my_path + r'/data/train.csv', delimiter=\",\", dtype=str, max_rows = 1)[2:])\n",
    "\n",
    "# list of feature names and indices\n",
    "features = []\n",
    "for i in range(len(all_features)):\n",
    "    features.append((i,all_features[i]))"
   ]
  },
  {
   "cell_type": "code",
   "execution_count": null,
   "metadata": {},
   "outputs": [],
   "source": [
    "# step-wise\n",
    "best_R2adj, idx_features = stepwise(model, R2_method, all_candidates, features, y, cv)"
   ]
  },
  {
   "cell_type": "code",
   "execution_count": null,
   "metadata": {},
   "outputs": [],
   "source": [
    "# display selected features\n",
    "results_r2_stepwise(best_R2adj[:len(best_R2adj)-1], idx_features)"
   ]
  },
  {
   "cell_type": "markdown",
   "metadata": {},
   "source": [
    "# Least Squares Gradient Descent"
   ]
  },
  {
   "cell_type": "code",
   "execution_count": null,
   "metadata": {
    "collapsed": true
   },
   "outputs": [],
   "source": [
    "# parameters\n",
    "model = dict()\n",
    "model['method'] = 'lsgd'\n",
    "model['loss'] = 'rmse'\n",
    "\n",
    "# hyperparameters\n",
    "model['max_iters'] = 10000\n",
    "model['gamma'] = 1e-2\n",
    "model['threshold'] = 1e-2\n",
    "\n",
    "# other\n",
    "model['debug_mode'] = 0\n",
    "\n",
    "# R2 type\n",
    "R2_method = 'McFadden' # 'loss', 'Tjur' or 'McFadden' \n",
    "\n",
    "# estimate R2 error through cross validation (1 or 0)\n",
    "cv = 0\n",
    "model['k_fold'] = 5"
   ]
  },
  {
   "cell_type": "code",
   "execution_count": null,
   "metadata": {
    "collapsed": true
   },
   "outputs": [],
   "source": [
    "# step wise candidates\n",
    "all_candidates = X0\n",
    "\n",
    "# get feature names \n",
    "all_features = list(np.genfromtxt(my_path + r'/data/train.csv', delimiter=\",\", dtype=str, max_rows = 1)[2:])\n",
    "\n",
    "# list of feature names and indices\n",
    "features = []\n",
    "for i in range(len(all_features)):\n",
    "    features.append((i,all_features[i]))"
   ]
  },
  {
   "cell_type": "code",
   "execution_count": null,
   "metadata": {},
   "outputs": [],
   "source": [
    "# step-wise\n",
    "best_R2adj, idx_features = stepwise(model, R2_method, all_candidates, features, y, cv)"
   ]
  },
  {
   "cell_type": "code",
   "execution_count": null,
   "metadata": {},
   "outputs": [],
   "source": [
    "# display selected features\n",
    "results_r2_stepwise(best_R2adj[:len(best_R2adj)-1], idx_features)"
   ]
  },
  {
   "cell_type": "markdown",
   "metadata": {},
   "source": [
    "# Least Squares Stochastic Gradient Descent"
   ]
  },
  {
   "cell_type": "code",
   "execution_count": null,
   "metadata": {
    "collapsed": true
   },
   "outputs": [],
   "source": [
    "# parameters\n",
    "model = dict()\n",
    "model['method'] = 'lssgd'\n",
    "model['loss'] = 'rmse'\n",
    "\n",
    "# hyperparameters\n",
    "model['batch_size'] = 50\n",
    "model['max_iters'] = 10000\n",
    "model['gamma'] = 1e-2\n",
    "model['threshold'] = 1e-2\n",
    "\n",
    "# other\n",
    "model['debug_mode'] = 0\n",
    "\n",
    "# R2 type\n",
    "R2_method = 'McFadden' # 'loss', 'Tjur' or 'McFadden' \n",
    "\n",
    "# estimate R2 error through cross validation (1 or 0)\n",
    "cv = 0\n",
    "model['k_fold'] = 5"
   ]
  },
  {
   "cell_type": "code",
   "execution_count": null,
   "metadata": {
    "collapsed": true
   },
   "outputs": [],
   "source": [
    "# step wise candidates\n",
    "all_candidates = X0\n",
    "\n",
    "# get feature names \n",
    "all_features = list(np.genfromtxt(my_path + r'/data/train.csv', delimiter=\",\", dtype=str, max_rows = 1)[2:])\n",
    "\n",
    "# list of feature names and indices\n",
    "features = []\n",
    "for i in range(len(all_features)):\n",
    "    features.append((i,all_features[i]))"
   ]
  },
  {
   "cell_type": "code",
   "execution_count": null,
   "metadata": {},
   "outputs": [],
   "source": [
    "# step-wise\n",
    "best_R2adj, idx_features = stepwise(model, R2_method, all_candidates, features, y, cv)"
   ]
  },
  {
   "cell_type": "code",
   "execution_count": null,
   "metadata": {},
   "outputs": [],
   "source": [
    "# display selected features\n",
    "results_r2_stepwise(best_R2adj[:len(best_R2adj)-1], idx_features)"
   ]
  },
  {
   "cell_type": "markdown",
   "metadata": {},
   "source": [
    "# Logistic Regression (regularized or not)"
   ]
  },
  {
   "cell_type": "code",
   "execution_count": null,
   "metadata": {
    "collapsed": true
   },
   "outputs": [],
   "source": [
    "# model parameters\n",
    "model = dict()\n",
    "model['method'] = 'lr' # 'lrr' if regularized with a penalization 'lambda_' otherwise 'lr' \n",
    "model['loss'] = 'loglikelihood'\n",
    "model['method_minimization'] = 'gd' # 'gd' (gradient_descent) or 'newton'\n",
    "model['threshold'] = 1\n",
    "\n",
    "# model hyperparameters\n",
    "model['max_iters'] = 10000\n",
    "model['gamma'] = 1e-5\n",
    "model['lambda_'] = 1e-5 # otpimize if cv = 1\n",
    "\n",
    "# other\n",
    "model['debug_mode'] = 0\n",
    "\n",
    "# R2 type\n",
    "R2_method = 'McFadden' # 'loss', 'Tjur' or 'McFadden' \n",
    "\n",
    "# estimate R2 error through cross validation (1 or 0)\n",
    "cv = 0\n",
    "model['k_fold'] = 5"
   ]
  },
  {
   "cell_type": "code",
   "execution_count": null,
   "metadata": {
    "collapsed": true
   },
   "outputs": [],
   "source": [
    "# step wise candidates\n",
    "all_candidates = X0\n",
    "\n",
    "# get feature names \n",
    "all_features = list(np.genfromtxt(my_path + r'/data/train.csv', delimiter=\",\", dtype=str, max_rows = 1)[2:])\n",
    "\n",
    "# list of feature names and indices\n",
    "features = []\n",
    "for i in range(len(all_features)):\n",
    "    features.append((i,all_features[i]))"
   ]
  },
  {
   "cell_type": "code",
   "execution_count": null,
   "metadata": {},
   "outputs": [],
   "source": [
    "# step-wise\n",
    "best_R2adj, idx_features = stepwise(model, R2_method, all_candidates, features, y, cv)"
   ]
  },
  {
   "cell_type": "code",
   "execution_count": null,
   "metadata": {
    "collapsed": true
   },
   "outputs": [],
   "source": [
    "# display selected features\n",
    "results_r2_stepwise(best_R2adj[:len(best_R2adj)-1], idx_features)"
   ]
  }
 ],
 "metadata": {
  "kernelspec": {
   "display_name": "Python 3",
   "language": "python",
   "name": "python3"
  },
  "language_info": {
   "codemirror_mode": {
    "name": "ipython",
    "version": 3
   },
   "file_extension": ".py",
   "mimetype": "text/x-python",
   "name": "python",
   "nbconvert_exporter": "python",
   "pygments_lexer": "ipython3",
   "version": "3.6.1"
  }
 },
 "nbformat": 4,
 "nbformat_minor": 2
}
