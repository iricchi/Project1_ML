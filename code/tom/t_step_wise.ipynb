{
 "cells": [
  {
   "cell_type": "code",
   "execution_count": 14,
   "metadata": {},
   "outputs": [
    {
     "name": "stdout",
     "output_type": "stream",
     "text": [
      "The autoreload extension is already loaded. To reload it, use:\n",
      "  %reload_ext autoreload\n"
     ]
    }
   ],
   "source": [
    "# -*- coding: utf-8 -*-\n",
    "%matplotlib inline\n",
    "%load_ext autoreload\n",
    "%autoreload 2\n",
    "\n",
    "# add path\n",
    "import sys\n",
    "my_path = r'D:\\Documents\\etudes\\epfl\\MA1\\cours\\MachineLearning\\Project1'\n",
    "sys.path.insert(0,my_path + r'\\code\\COMMON')\n",
    "\n",
    "# basic imports \n",
    "import numpy as np\n",
    "import matplotlib.pyplot as plt"
   ]
  },
  {
   "cell_type": "markdown",
   "metadata": {},
   "source": [
    "# Build dataset"
   ]
  },
  {
   "cell_type": "code",
   "execution_count": 13,
   "metadata": {},
   "outputs": [
    {
     "name": "stdout",
     "output_type": "stream",
     "text": [
      "samples with -999 are removed from the dataset \n"
     ]
    }
   ],
   "source": [
    "from proj1_helpers import load_csv_data \n",
    "from outliers import handle_outliers\n",
    "from standard import standardize\n",
    "\n",
    "# load raw data\n",
    "y_raw, input_data_raw, ids = load_csv_data(my_path + r'\\data\\train.csv', sub_sample=False)\n",
    "\n",
    "# handle outliers\n",
    "X, y = handle_outliers(input_data_raw, y_raw, -999, True)\n",
    "\n",
    "# standardize\n",
    "X, mean_x, std_x = standardize(X)"
   ]
  },
  {
   "cell_type": "markdown",
   "metadata": {},
   "source": [
    "# Step-wise ridge-regression backward"
   ]
  },
  {
   "cell_type": "code",
   "execution_count": 8,
   "metadata": {
    "collapsed": true
   },
   "outputs": [],
   "source": [
    "# initialize with all features\n",
    "ind_f = range(1,30)\n",
    "\n",
    "# store\n",
    "ind_f_tot = []\n",
    "loss_tot = []\n",
    "degree_opt_tot = []\n",
    "\n",
    "# parameters\n",
    "degree_min = 1\n",
    "degree_max = 5\n",
    "lambda_ = 0\n",
    "k_fold = 10\n",
    "\n",
    "for i in range(1,30):\n",
    "    \n",
    "    rmse_te_i = float('inf')\n",
    "    degree_opt_i = np.empty((1,))\n",
    "    ind_f_i = np.empty((1,30-i))\n",
    "    \n",
    "    for j in range(1,30-i):\n",
    "        \n",
    "        ind_f_j = np.delete(ind_f, j)\n",
    "\n",
    "        # ----------------------------- fit  \n",
    "        degree_opt_j, rmse_tr_j, rmse_te_j = cross_validation_degree_ridge_regression(y, X[:,ind_f_tmp], lambda_, degree_min, degree_max, k_fold)\n",
    "        \n",
    "        # ----------------------------- compare  \n",
    "        if rmse_te_j < rmse_te_i:\n",
    "            rmse_te_i = rmse_te_j\n",
    "            degree_opt_i = degree_opt_j\n",
    "            ind_f_i = ind_f_j\n",
    "\n",
    "    # ----------------------------- update \n",
    "    ind_f_tot.append(ind_f_i)\n",
    "    loss_tot.append(rmse_te_i)\n",
    "    degree_opt_tot.append(degree_opt_tot)\n",
    "\n",
    "    "
   ]
  },
  {
   "cell_type": "code",
   "execution_count": 11,
   "metadata": {},
   "outputs": [
    {
     "name": "stdout",
     "output_type": "stream",
     "text": [
      "[  2.12199579e-314   4.94065646e-324]\n",
      "[  2.12199579e-314   1.00000000e+000]\n"
     ]
    }
   ],
   "source": [
    "\n",
    "a = np.empty((2,))\n",
    "print(a)\n",
    "a[1]=1\n",
    "print(a)"
   ]
  },
  {
   "cell_type": "code",
   "execution_count": 15,
   "metadata": {},
   "outputs": [
    {
     "data": {
      "text/plain": [
       "[<matplotlib.lines.Line2D at 0xde4b3b4eb8>]"
      ]
     },
     "execution_count": 15,
     "metadata": {},
     "output_type": "execute_result"
    },
    {
     "data": {
      "image/png": "[encoded data removed]",
      "text/plain": [
       "<matplotlib.figure.Figure at 0xde49468940>"
      ]
     },
     "metadata": {},
     "output_type": "display_data"
    }
   ],
   "source": [
    "plt.plot(y)"
   ]
  },
  {
   "cell_type": "code",
   "execution_count": 22,
   "metadata": {},
   "outputs": [
    {
     "name": "stdout",
     "output_type": "stream",
     "text": [
      "1\n",
      "2\n",
      "3\n",
      "4\n",
      "0\n"
     ]
    }
   ],
   "source": [
    "def f(a, b, f, e, c='c1', d=0):\n",
    "    print(a)\n",
    "    print(b)\n",
    "    if c=='c1':\n",
    "        print(f)\n",
    "    print(e)\n",
    "    print(d)\n",
    "\n",
    "f(1,2,3,4,'c1')"
   ]
  },
  {
   "cell_type": "code",
   "execution_count": 23,
   "metadata": {},
   "outputs": [
    {
     "data": {
      "text/plain": [
       "array([  0.1       ,   0.16681005,   0.27825594,   0.46415888,\n",
       "         0.77426368,   1.29154967,   2.15443469,   3.59381366,\n",
       "         5.9948425 ,  10.        ])"
      ]
     },
     "execution_count": 23,
     "metadata": {},
     "output_type": "execute_result"
    }
   ],
   "source": [
    "np.logspace(-1,1,10)"
   ]
  },
  {
   "cell_type": "code",
   "execution_count": null,
   "metadata": {
    "collapsed": true
   },
   "outputs": [],
   "source": []
  }
 ],
 "metadata": {
  "kernelspec": {
   "display_name": "Python 3",
   "language": "python",
   "name": "python3"
  },
  "language_info": {
   "codemirror_mode": {
    "name": "ipython",
    "version": 3
   },
   "file_extension": ".py",
   "mimetype": "text/x-python",
   "name": "python",
   "nbconvert_exporter": "python",
   "pygments_lexer": "ipython3",
   "version": "3.6.1"
  }
 },
 "nbformat": 4,
 "nbformat_minor": 2
}
