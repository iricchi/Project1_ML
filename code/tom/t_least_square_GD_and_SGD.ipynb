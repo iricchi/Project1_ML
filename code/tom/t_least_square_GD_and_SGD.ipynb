{
 "cells": [
  {
   "cell_type": "code",
   "execution_count": 13,
   "metadata": {},
   "outputs": [
    {
     "name": "stdout",
     "output_type": "stream",
     "text": [
      "The autoreload extension is already loaded. To reload it, use:\n",
      "  %reload_ext autoreload\n"
     ]
    }
   ],
   "source": [
    "# -*- coding: utf-8 -*-\n",
    "%matplotlib inline\n",
    "%load_ext autoreload\n",
    "%autoreload 2\n",
    "\n",
    "# add path\n",
    "import sys\n",
    "my_path = r'D:\\Documents\\etudes\\epfl\\MA1\\cours\\MachineLearning\\Project1'\n",
    "sys.path.insert(0,my_path + r'\\code\\COMMON')\n",
    "\n",
    "# import \n",
    "import numpy as np\n",
    "from implementations import *\n",
    "import matplotlib.pyplot as plt"
   ]
  },
  {
   "cell_type": "markdown",
   "metadata": {},
   "source": [
    "# Build dataset"
   ]
  },
  {
   "cell_type": "code",
   "execution_count": 10,
   "metadata": {},
   "outputs": [
    {
     "name": "stdout",
     "output_type": "stream",
     "text": [
      "-999 are replaced by the median value of the feature\n"
     ]
    }
   ],
   "source": [
    "from proj1_helpers import load_csv_data \n",
    "from outliers import handle_outliers\n",
    "from standard import standardize\n",
    "\n",
    "# load raw data\n",
    "y_raw, input_data_raw, ids = load_csv_data(my_path + r'\\data\\train.csv', sub_sample=False)\n",
    "\n",
    "# handle outliers\n",
    "X, y = handle_outliers(input_data_raw, y_raw, -999, 'median')\n",
    "\n",
    "# standardize\n",
    "X, mean_X, std_X = standardize(X)"
   ]
  },
  {
   "cell_type": "markdown",
   "metadata": {},
   "source": [
    "# Feature names and index"
   ]
  },
  {
   "cell_type": "code",
   "execution_count": 11,
   "metadata": {},
   "outputs": [
    {
     "name": "stdout",
     "output_type": "stream",
     "text": [
      "DER_mass_MMC ( index: 0 )\n",
      "DER_mass_transverse_met_lep ( index: 1 )\n",
      "DER_mass_vis ( index: 2 )\n",
      "DER_pt_h ( index: 3 )\n",
      "DER_deltaeta_jet_jet ( index: 4 )\n",
      "DER_mass_jet_jet ( index: 5 )\n",
      "DER_prodeta_jet_jet ( index: 6 )\n",
      "DER_deltar_tau_lep ( index: 7 )\n",
      "DER_pt_tot ( index: 8 )\n",
      "DER_sum_pt ( index: 9 )\n",
      "DER_pt_ratio_lep_tau ( index: 10 )\n",
      "DER_met_phi_centrality ( index: 11 )\n",
      "DER_lep_eta_centrality ( index: 12 )\n",
      "PRI_tau_pt ( index: 13 )\n",
      "PRI_tau_eta ( index: 14 )\n",
      "PRI_tau_phi ( index: 15 )\n",
      "PRI_lep_pt ( index: 16 )\n",
      "PRI_lep_eta ( index: 17 )\n",
      "PRI_lep_phi ( index: 18 )\n",
      "PRI_met ( index: 19 )\n",
      "PRI_met_phi ( index: 20 )\n",
      "PRI_met_sumet ( index: 21 )\n",
      "PRI_jet_num ( index: 22 )\n",
      "PRI_jet_leading_pt ( index: 23 )\n",
      "PRI_jet_leading_eta ( index: 24 )\n",
      "PRI_jet_leading_phi ( index: 25 )\n",
      "PRI_jet_subleading_pt ( index: 26 )\n",
      "PRI_jet_subleading_eta ( index: 27 )\n",
      "PRI_jet_subleading_phi ( index: 28 )\n",
      "PRI_jet_all_pt ( index: 29 )\n"
     ]
    }
   ],
   "source": [
    "# names of the features \n",
    "featureNames = np.genfromtxt(my_path + r'\\data\\train.csv', delimiter=\",\", dtype=str, max_rows = 1)[2:]\n",
    "\n",
    "for ind, name in enumerate(featureNames):\n",
    "    print(name, '( index:', ind, ')')"
   ]
  },
  {
   "cell_type": "markdown",
   "metadata": {},
   "source": [
    "# Least squares Gradient descent"
   ]
  },
  {
   "cell_type": "code",
   "execution_count": 23,
   "metadata": {
    "scrolled": true
   },
   "outputs": [
    {
     "name": "stdout",
     "output_type": "stream",
     "text": [
      "0.712611735603\n",
      "0.712611735603 ? 0.001\n",
      "True\n",
      "Gradient Descent(1/149): loss MSE=0.45918278322313527\n"
     ]
    },
    {
     "data": {
      "image/png": "[encoded data removed]",
      "text/plain": [
       "<matplotlib.figure.Figure at 0x6524dd1ba8>"
      ]
     },
     "metadata": {},
     "output_type": "display_data"
    },
    {
     "data": {
      "image/png": "[encoded data removed]",
      "text/plain": [
       "<matplotlib.figure.Figure at 0x6523dd36d8>"
      ]
     },
     "metadata": {},
     "output_type": "display_data"
    }
   ],
   "source": [
    "from implementations import least_squares_GD\n",
    "\n",
    "# input parameters \n",
    "initial_w = np.zeros(X.shape[1])\n",
    "max_iters = 150\n",
    "gamma = 1e-1\n",
    "\n",
    "# least squares GD\n",
    "w_tot, loss_tot = least_squares_GD(y, X, initial_w, max_iters, gamma)\n",
    "\n",
    "# plot results\n",
    "plt.figure()\n",
    "plt.plot(loss_tot)\n",
    "plt.xlabel('iteration')\n",
    "plt.ylabel('loss')\n",
    "plt.figure()\n",
    "plt.plot(X.dot(w_tot[-1]))\n",
    "plt.plot(y)\n",
    "plt.xlabel('sample')\n",
    "plt.ylabel('observation')\n",
    "plt.show()"
   ]
  },
  {
   "cell_type": "code",
   "execution_count": null,
   "metadata": {
    "collapsed": true
   },
   "outputs": [],
   "source": []
  }
 ],
 "metadata": {
  "kernelspec": {
   "display_name": "Python 3",
   "language": "python",
   "name": "python3"
  },
  "language_info": {
   "codemirror_mode": {
    "name": "ipython",
    "version": 3
   },
   "file_extension": ".py",
   "mimetype": "text/x-python",
   "name": "python",
   "nbconvert_exporter": "python",
   "pygments_lexer": "ipython3",
   "version": "3.6.1"
  }
 },
 "nbformat": 4,
 "nbformat_minor": 2
}
