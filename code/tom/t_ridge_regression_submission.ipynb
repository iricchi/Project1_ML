{
 "cells": [
  {
   "cell_type": "code",
   "execution_count": null,
   "metadata": {},
   "outputs": [],
   "source": [
    "# -*- coding: utf-8 -*-\n",
    "%matplotlib inline\n",
    "%load_ext autoreload\n",
    "%autoreload 2\n",
    "\n",
    "# add path\n",
    "import sys\n",
    "my_path = r'D:\\Documents\\etudes\\epfl\\MA1\\cours\\MachineLearning\\Project1'\n",
    "sys.path.insert(0,my_path + r'\\code\\COMMON')\n",
    "\n",
    "# import \n",
    "import numpy as np\n",
    "from implementations import *\n"
   ]
  },
  {
   "cell_type": "markdown",
   "metadata": {},
   "source": [
    "# Load and pre-process training dataset"
   ]
  },
  {
   "cell_type": "code",
   "execution_count": null,
   "metadata": {},
   "outputs": [],
   "source": [
    "from proj1_helpers import load_csv_data \n",
    "from outliers import handle_outliers\n",
    "from standard import standardize\n",
    "\n",
    "# load raw data\n",
    "y_raw_tr, input_data_raw_tr, ids_tr = load_csv_data(my_path + r'\\data\\train.csv', sub_sample=False)\n",
    "\n",
    "# handle outliers\n",
    "X0_tr, y_tr = handle_outliers(input_data_raw_tr, y_raw_tr, -999, 'median')\n",
    "\n",
    "# standardize\n",
    "X0_tr, mean_X0_tr, std_X0_tr = standardize(X0_tr)"
   ]
  },
  {
   "cell_type": "markdown",
   "metadata": {},
   "source": [
    "# Training"
   ]
  },
  {
   "cell_type": "code",
   "execution_count": null,
   "metadata": {
    "scrolled": true
   },
   "outputs": [],
   "source": [
    "from implementations import ridge_regression\n",
    "from build_poly import build_poly\n",
    "\n",
    "# choose the features\n",
    "ind_features = [12, 13, 1, 11, 22, 4, 19, 29, 16, 3, 23, 2, 7, 6, 21, 26, 18, 28, 9, 20, 14]\n",
    "X_tr = X0_tr[:, ind_features]\n",
    "print(X_tr.shape)\n",
    "\n",
    "# build polynomial basis function\n",
    "degree = 6\n",
    "phi_tr = build_poly(X_tr, degree)\n",
    "\n",
    "# training\n",
    "lambda_ = 0\n",
    "wrr_tr, loss_tr = ridge_regression(y, phi_tr, lambda_)"
   ]
  },
  {
   "cell_type": "markdown",
   "metadata": {},
   "source": [
    "# Load and pre-process testing dataset"
   ]
  },
  {
   "cell_type": "code",
   "execution_count": null,
   "metadata": {
    "collapsed": true
   },
   "outputs": [],
   "source": [
    "from proj1_helpers import load_csv_data \n",
    "from outliers import handle_outliers\n",
    "\n",
    "# load \n",
    "path_data_test = r'C:\\Users\\Tom\\Desktop'\n",
    "y_raw_te, input_data_raw_te, ids_te = load_csv_data(path_data_test + r'\\test.csv', sub_sample=False)\n",
    "\n",
    "# handle outliers\n",
    "X0_te, y_te = handle_outliers(input_data_raw, y_raw_te, -999, 'median')\n",
    "\n",
    "# standardize\n",
    "X0_te, mean_X0_te, std_X0_te = standardize(X0)"
   ]
  },
  {
   "cell_type": "markdown",
   "metadata": {},
   "source": [
    "# Prediction"
   ]
  },
  {
   "cell_type": "code",
   "execution_count": null,
   "metadata": {
    "collapsed": true
   },
   "outputs": [],
   "source": [
    "from proj1_helpers import predict_labels\n",
    "\n",
    "# build the function\n",
    "phi_te = build_poly(X_te[:,ind_features], degree)\n",
    "\n",
    "# predict\n",
    "y_pred = predict_labels(w_tr, phi_te)"
   ]
  },
  {
   "cell_type": "markdown",
   "metadata": {},
   "source": [
    "# Create cvs submission"
   ]
  },
  {
   "cell_type": "code",
   "execution_count": null,
   "metadata": {
    "collapsed": true
   },
   "outputs": [],
   "source": [
    "from proj1_helpers import create_csv_submission\n",
    "\n",
    "# create cvs submission\n",
    "create_csv_submission(ids_te, y_pred, \"23_10_sub\")"
   ]
  }
 ],
 "metadata": {
  "kernelspec": {
   "display_name": "Python 3",
   "language": "python",
   "name": "python3"
  },
  "language_info": {
   "codemirror_mode": {
    "name": "ipython",
    "version": 3
   },
   "file_extension": ".py",
   "mimetype": "text/x-python",
   "name": "python",
   "nbconvert_exporter": "python",
   "pygments_lexer": "ipython3",
   "version": "3.6.1"
  }
 },
 "nbformat": 4,
 "nbformat_minor": 2
}
