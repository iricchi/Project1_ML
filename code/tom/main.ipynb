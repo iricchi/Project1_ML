{
 "cells": [
  {
   "cell_type": "code",
   "execution_count": 1,
   "metadata": {
    "collapsed": true
   },
   "outputs": [],
   "source": [
    "# -*- coding: utf-8 -*-"
   ]
  },
  {
   "cell_type": "code",
   "execution_count": 1,
   "metadata": {
    "collapsed": true
   },
   "outputs": [],
   "source": [
    "# add path\n",
    "import sys\n",
    "my_path = r'D:\\Documents\\etudes\\epfl\\MA1\\cours\\MachineLearning\\Project1'\n",
    "sys.path.insert(0,my_path + r'\\code\\COMMON')\n",
    "\n",
    "# import external modules\n",
    "import numpy as np\n",
    "import matplotlib.pyplot as plt\n",
    "\n",
    "# import internal modules\n",
    "from proj1_helpers import load_csv_data \n",
    "from implementations import *"
   ]
  },
  {
   "cell_type": "code",
   "execution_count": 4,
   "metadata": {},
   "outputs": [
    {
     "name": "stdout",
     "output_type": "stream",
     "text": [
      "0\n",
      "[4]\n",
      "[[1 2]]\n",
      "\n",
      "1\n",
      "[4]\n",
      "[[1 2]]\n",
      "\n",
      "2\n",
      "[8]\n",
      "[[1 4]]\n",
      "\n",
      "3\n",
      "[8]\n",
      "[[1 4]]\n",
      "\n",
      "4\n",
      "[10]\n",
      "[[1 5]]\n",
      "\n",
      "5\n",
      "[8]\n",
      "[[1 4]]\n",
      "\n",
      "6\n",
      "[8]\n",
      "[[1 4]]\n",
      "\n",
      "7\n",
      "[8]\n",
      "[[1 4]]\n",
      "\n",
      "8\n",
      "[4]\n",
      "[[1 2]]\n",
      "\n",
      "9\n",
      "[8]\n",
      "[[1 4]]\n",
      "\n",
      "10\n",
      "[4]\n",
      "[[1 2]]\n",
      "\n",
      "11\n",
      "[10]\n",
      "[[1 5]]\n",
      "\n",
      "12\n",
      "[10]\n",
      "[[1 5]]\n",
      "\n",
      "13\n",
      "[4]\n",
      "[[1 2]]\n",
      "\n",
      "14\n",
      "[4]\n",
      "[[1 2]]\n",
      "\n",
      "Gradient Descent(14/14): loss MSE=0.003576772265949291, w0=0.6438243224662001, w1=1.6992324960884\n"
     ]
    },
    {
     "data": {
      "text/plain": [
       "([array([ 0.,  0.]),\n",
       "  array([ 0.4,  0.8]),\n",
       "  array([ 0.6,  1.2]),\n",
       "  array([ 0.86,  2.24]),\n",
       "  array([ 0.678,  1.512]),\n",
       "  array([ 0.8542,  2.393 ]),\n",
       "  array([ 0.61158,  1.42252]),\n",
       "  array([ 0.781414,  2.101856]),\n",
       "  array([ 0.6625302,  1.6263208]),\n",
       "  array([ 0.67101302,  1.64328644]),\n",
       "  array([ 0.74659714,  1.94562293]),\n",
       "  array([ 0.68281284,  1.81805433]),\n",
       "  array([ 0.70550439,  1.93151209]),\n",
       "  array([ 0.66919791,  1.74997967]),\n",
       "  array([ 0.65228219,  1.71614822]),\n",
       "  array([ 0.64382432,  1.6992325 ])],\n",
       " [8.0,\n",
       "  2.0,\n",
       "  3.379999999999999,\n",
       "  1.6562000000000006,\n",
       "  1.5523219999999978,\n",
       "  2.9432232199999948,\n",
       "  1.4421793777999998,\n",
       "  0.70666789512200057,\n",
       "  0.0035979117576200015,\n",
       "  0.285647974925544,\n",
       "  0.203421845048814,\n",
       "  0.02574532565539003,\n",
       "  0.0659080336777986,\n",
       "  0.014307089063797164,\n",
       "  0.003576772265949291])"
      ]
     },
     "execution_count": 4,
     "metadata": {},
     "output_type": "execute_result"
    }
   ],
   "source": [
    "y = np.array([4,8,10])\n",
    "X = np.array([[1,2],[1,4],[1,5]])\n",
    "\n",
    "w_initials = np.zeros(X.shape[1])\n",
    "max_iters = 15\n",
    "gamma = 0.1\n",
    "\n",
    "least_squares_SGD(y, X, w_initials, max_iters, gamma)"
   ]
  },
  {
   "cell_type": "code",
   "execution_count": 4,
   "metadata": {
    "scrolled": false
   },
   "outputs": [
    {
     "name": "stdout",
     "output_type": "stream",
     "text": [
      "[10]\n",
      "[[1 5]]\n",
      "\n",
      "[10]\n",
      "[[1 5]]\n",
      "\n",
      "[8]\n",
      "[[1 4]]\n",
      "\n",
      "[8]\n",
      "[[1 4]]\n",
      "\n",
      "[4]\n",
      "[[1 2]]\n",
      "\n",
      "[4]\n",
      "[[1 2]]\n",
      "\n",
      "[4]\n",
      "[[1 2]]\n",
      "\n",
      "[8]\n",
      "[[1 4]]\n",
      "\n",
      "[10]\n",
      "[[1 5]]\n",
      "\n",
      "[8]\n",
      "[[1 4]]\n",
      "\n"
     ]
    }
   ],
   "source": [
    "for k in np.arange(10):\n",
    "    \n",
    "    batches = batch_iter(y, X, 1, num_batches=1, shuffle=True)\n",
    "\n",
    "    for samples in batches:\n",
    "\n",
    "        print(samples[0])\n",
    "        print(samples[1])\n",
    "        print()"
   ]
  },
  {
   "cell_type": "markdown",
   "metadata": {},
   "source": [
    "# Load Data"
   ]
  },
  {
   "cell_type": "code",
   "execution_count": 38,
   "metadata": {
    "collapsed": true
   },
   "outputs": [],
   "source": [
    "y, input_data, ids = load_csv_data(my_path + r'\\data\\train.csv', sub_sample=False)"
   ]
  },
  {
   "cell_type": "code",
   "execution_count": 39,
   "metadata": {},
   "outputs": [
    {
     "data": {
      "text/plain": [
       "(250000, 30)"
      ]
     },
     "execution_count": 39,
     "metadata": {},
     "output_type": "execute_result"
    }
   ],
   "source": [
    "np.shape(input_data)"
   ]
  },
  {
   "cell_type": "markdown",
   "metadata": {},
   "source": [
    "# Process the Counting -999"
   ]
  },
  {
   "cell_type": "code",
   "execution_count": 40,
   "metadata": {
    "scrolled": true
   },
   "outputs": [
    {
     "name": "stdout",
     "output_type": "stream",
     "text": [
      "[38114, 0, 0, 0, 177457, 177457, 177457, 0, 0, 0, 0, 0, 177457, 0, 0, 0, 0, 0, 0, 0, 0, 0, 0, 99913, 99913, 99913, 177457, 177457, 177457, 0]\n"
     ]
    }
   ],
   "source": [
    "nine_count = []\n",
    "\n",
    "for i in range(0, np.shape(input_data)[1],1):\n",
    "    nine_count.append(np.shape(np.where((input_data.T)[i]==-999))[1])\n",
    "\n",
    "print(nine_count)"
   ]
  },
  {
   "cell_type": "markdown",
   "metadata": {},
   "source": [
    "# Removal of the -999 lines"
   ]
  },
  {
   "cell_type": "code",
   "execution_count": 41,
   "metadata": {},
   "outputs": [
    {
     "name": "stdout",
     "output_type": "stream",
     "text": [
      "(array([ 0,  0,  0, ..., 28, 28, 28], dtype=int64), array([     2,     10,     14, ..., 249997, 249998, 249999], dtype=int64))\n"
     ]
    },
    {
     "data": {
      "text/plain": [
       "(68109,)"
      ]
     },
     "execution_count": 41,
     "metadata": {},
     "output_type": "execute_result"
    }
   ],
   "source": [
    "print(np.where((input_data.T)[:]==-999))\n",
    "\n",
    "X_no_999 = np.delete(input_data, np.where((input_data.T)[:]==-999), axis=0)\n",
    "y_no_999 = np.delete(y, np.where((input_data.T)[:]==-999), axis=0)\n",
    "\n",
    "np.shape(X_no_999)\n",
    "np.shape(y_no_999)"
   ]
  },
  {
   "cell_type": "markdown",
   "metadata": {},
   "source": [
    "# Plotting distributions vs. log-distributions\n",
    "\n",
    "Problems: \n",
    "-negative numbers cannot be logged, for now i did abs but it's not fair.\n",
    "-zero can't be logged, i added one."
   ]
  },
  {
   "cell_type": "code",
   "execution_count": null,
   "metadata": {
    "collapsed": true
   },
   "outputs": [],
   "source": [
    "for i in range(0, np.shape(input_data)[1],1):\n",
    "    plt.subplot(121)\n",
    "    plt.hist([(in_data.T)[i]], bins=400, log=False,color='r', alpha=0.5,histtype='stepfilled')\n",
    "    plt.subplot(122)\n",
    "    plt.hist([np.log(1+np.abs(in_data.T)[i])], bins=400, log=False,color='b', alpha=0.5,histtype='stepfilled')\n",
    "    plt.show()"
   ]
  },
  {
   "cell_type": "markdown",
   "metadata": {},
   "source": [
    "# Split input data"
   ]
  },
  {
   "cell_type": "code",
   "execution_count": 42,
   "metadata": {},
   "outputs": [
    {
     "name": "stdout",
     "output_type": "stream",
     "text": [
      "(68109, 30)\n",
      "(68109, 13)\n",
      "(68109, 17)\n",
      "(68109,)\n"
     ]
    }
   ],
   "source": [
    "# primitive data\n",
    "x_pri = X_no_999[:,:13]\n",
    "\n",
    "# derived features from primitive data\n",
    "x_der = X_no_999[:,13:]\n",
    "\n",
    "print(X_no_999.shape)\n",
    "print(x_pri.shape)\n",
    "print(x_der.shape)\n",
    "print(y_no_999.shape)"
   ]
  },
  {
   "cell_type": "markdown",
   "metadata": {},
   "source": [
    "# Least Square GD"
   ]
  },
  {
   "cell_type": "code",
   "execution_count": 43,
   "metadata": {},
   "outputs": [
    {
     "name": "stdout",
     "output_type": "stream",
     "text": [
      "Gradient Descent(9/9): loss MSE=9.030576889717227e+113, w0=-2.078515220740841e+52, w1=1.0457293247425486e+52\n"
     ]
    },
    {
     "ename": "ValueError",
     "evalue": "shapes (68109,17) and (30,) not aligned: 17 (dim 1) != 30 (dim 0)",
     "output_type": "error",
     "traceback": [
      "\u001b[1;31m---------------------------------------------------------------------------\u001b[0m",
      "\u001b[1;31mValueError\u001b[0m                                Traceback (most recent call last)",
      "\u001b[1;32m<ipython-input-43-98c0ad7be113>\u001b[0m in \u001b[0;36m<module>\u001b[1;34m()\u001b[0m\n\u001b[0;32m      8\u001b[0m \u001b[1;33m\u001b[0m\u001b[0m\n\u001b[0;32m      9\u001b[0m \u001b[1;31m# DER\u001b[0m\u001b[1;33m\u001b[0m\u001b[1;33m\u001b[0m\u001b[0m\n\u001b[1;32m---> 10\u001b[1;33m \u001b[0mw_ls\u001b[0m\u001b[1;33m,\u001b[0m \u001b[0mloss_ls\u001b[0m \u001b[1;33m=\u001b[0m \u001b[0mleast_squares_GD\u001b[0m\u001b[1;33m(\u001b[0m\u001b[0myb\u001b[0m\u001b[1;33m,\u001b[0m \u001b[0mx_der\u001b[0m\u001b[1;33m,\u001b[0m \u001b[0minitial_w\u001b[0m\u001b[1;33m,\u001b[0m \u001b[0mmax_iters\u001b[0m\u001b[1;33m,\u001b[0m \u001b[0mgamma\u001b[0m\u001b[1;33m)\u001b[0m\u001b[1;33m\u001b[0m\u001b[0m\n\u001b[0m",
      "\u001b[1;32mD:\\Documents\\etudes\\epfl\\MA1\\cours\\MachineLearning\\Project1\\code\\COMMON\\implementations.py\u001b[0m in \u001b[0;36mleast_squares_GD\u001b[1;34m(y, tx, initial_w, max_iters, gamma)\u001b[0m\n\u001b[0;32m     48\u001b[0m \u001b[1;33m\u001b[0m\u001b[0m\n\u001b[0;32m     49\u001b[0m         \u001b[1;31m# compute new parameters\u001b[0m\u001b[1;33m\u001b[0m\u001b[1;33m\u001b[0m\u001b[0m\n\u001b[1;32m---> 50\u001b[1;33m         \u001b[0mw\u001b[0m \u001b[1;33m=\u001b[0m \u001b[0mw\u001b[0m \u001b[1;33m-\u001b[0m \u001b[0mgamma\u001b[0m\u001b[1;33m*\u001b[0m\u001b[0mcompute_gradient\u001b[0m\u001b[1;33m(\u001b[0m\u001b[0my\u001b[0m\u001b[1;33m,\u001b[0m \u001b[0mtx\u001b[0m\u001b[1;33m,\u001b[0m \u001b[0mw\u001b[0m\u001b[1;33m)\u001b[0m\u001b[1;33m\u001b[0m\u001b[0m\n\u001b[0m\u001b[0;32m     51\u001b[0m \u001b[1;33m\u001b[0m\u001b[0m\n\u001b[0;32m     52\u001b[0m         \u001b[1;31m# get new loss\u001b[0m\u001b[1;33m\u001b[0m\u001b[1;33m\u001b[0m\u001b[0m\n",
      "\u001b[1;32mD:\\Documents\\etudes\\epfl\\MA1\\cours\\MachineLearning\\Project1\\code\\COMMON\\implementations.py\u001b[0m in \u001b[0;36mcompute_gradient\u001b[1;34m(y, tx, w)\u001b[0m\n\u001b[0;32m     27\u001b[0m \u001b[1;33m\u001b[0m\u001b[0m\n\u001b[0;32m     28\u001b[0m     \u001b[1;31m# compute the vector of the errors\u001b[0m\u001b[1;33m\u001b[0m\u001b[1;33m\u001b[0m\u001b[0m\n\u001b[1;32m---> 29\u001b[1;33m     \u001b[0me\u001b[0m \u001b[1;33m=\u001b[0m \u001b[0my\u001b[0m\u001b[1;33m-\u001b[0m\u001b[0mtx\u001b[0m\u001b[1;33m.\u001b[0m\u001b[0mdot\u001b[0m\u001b[1;33m(\u001b[0m\u001b[0mw\u001b[0m\u001b[1;33m)\u001b[0m\u001b[1;33m\u001b[0m\u001b[0m\n\u001b[0m\u001b[0;32m     30\u001b[0m \u001b[1;33m\u001b[0m\u001b[0m\n\u001b[0;32m     31\u001b[0m     \u001b[1;31m# compute the gradient\u001b[0m\u001b[1;33m\u001b[0m\u001b[1;33m\u001b[0m\u001b[0m\n",
      "\u001b[1;31mValueError\u001b[0m: shapes (68109,17) and (30,) not aligned: 17 (dim 1) != 30 (dim 0)"
     ]
    }
   ],
   "source": [
    "# PRI and DER \n",
    "initial_w = np.zeros(X_no_999.shape[1])\n",
    "max_iters = 10\n",
    "gamma = 0.1\n",
    "w_ls, loss_ls = least_squares_GD(y_no_999, y_no_999, initial_w, max_iters, gamma)\n",
    "\n",
    "# DER\n",
    "w_ls, loss_ls = least_squares_GD(yb, x_der, initial_w, max_iters, gamma)"
   ]
  },
  {
   "cell_type": "markdown",
   "metadata": {},
   "source": [
    "# Least Square SGD"
   ]
  },
  {
   "cell_type": "code",
   "execution_count": null,
   "metadata": {
    "collapsed": true
   },
   "outputs": [],
   "source": [
    "# params \n",
    "initial_w = np.zeros(input_data.shape)\n",
    "max_iters = 10\n",
    "gamma = 0.1\n",
    "\n",
    "# PRI and DER\n",
    "w_ls, loss_ls = least_squares_SGD(yb, in_data, initial_w, max_iters, gamma)\n",
    "\n",
    "# DER\n",
    "w_ls, loss_ls = least_squares_SGD(yb, x_der, initial_w, max_iters, gamma)"
   ]
  }
 ],
 "metadata": {
  "kernelspec": {
   "display_name": "Python 3",
   "language": "python",
   "name": "python3"
  },
  "language_info": {
   "codemirror_mode": {
    "name": "ipython",
    "version": 3
   },
   "file_extension": ".py",
   "mimetype": "text/x-python",
   "name": "python",
   "nbconvert_exporter": "python",
   "pygments_lexer": "ipython3",
   "version": "3.6.1"
  }
 },
 "nbformat": 4,
 "nbformat_minor": 2
}
