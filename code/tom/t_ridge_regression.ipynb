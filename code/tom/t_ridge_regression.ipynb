{
 "cells": [
  {
   "cell_type": "code",
   "execution_count": 5,
   "metadata": {},
   "outputs": [
    {
     "name": "stdout",
     "output_type": "stream",
     "text": [
      "The autoreload extension is already loaded. To reload it, use:\n",
      "  %reload_ext autoreload\n"
     ]
    }
   ],
   "source": [
    "# -*- coding: utf-8 -*-\n",
    "%matplotlib inline\n",
    "%load_ext autoreload\n",
    "%autoreload 2\n",
    "\n",
    "# add path\n",
    "import sys\n",
    "my_path = r'D:\\Documents\\etudes\\epfl\\MA1\\cours\\MachineLearning\\Project1'\n",
    "sys.path.insert(0,my_path + r'\\code\\COMMON')\n",
    "\n",
    "# basic imports \n",
    "import numpy as np\n",
    "from t_optimize_hyperparameters import *"
   ]
  },
  {
   "cell_type": "markdown",
   "metadata": {},
   "source": [
    "# Build dataset"
   ]
  },
  {
   "cell_type": "code",
   "execution_count": 16,
   "metadata": {},
   "outputs": [
    {
     "name": "stdout",
     "output_type": "stream",
     "text": [
      "-999 are replaced by the median value of the feature\n"
     ]
    }
   ],
   "source": [
    "from proj1_helpers import load_csv_data \n",
    "from outliers import handle_outliers\n",
    "from standard import standardize\n",
    "\n",
    "# load raw data\n",
    "y_raw, input_data_raw, ids = load_csv_data(my_path + r'\\data\\train.csv', sub_sample=False)\n",
    "\n",
    "# handle outliers\n",
    "X0, y = handle_outliers(input_data_raw, y_raw, -999, 'median')\n",
    "\n",
    "# standardize\n",
    "X0, mean_X0, std_X0 = standardize(X0)"
   ]
  },
  {
   "cell_type": "markdown",
   "metadata": {},
   "source": [
    "# Build ridge regression model"
   ]
  },
  {
   "cell_type": "code",
   "execution_count": 17,
   "metadata": {},
   "outputs": [
    {
     "name": "stdout",
     "output_type": "stream",
     "text": [
      "(250000, 21)\n"
     ]
    }
   ],
   "source": [
    "# choose the features\n",
    "ind_features = [12, 13, 1, 11, 22, 4, 19, 29, 16, 3, 23, 2, 7, 6, 21, 26, 18, 28, 9, 20, 14]\n",
    "X = X0[:, ind_features]\n",
    "print(X.shape)\n",
    "\n",
    "# ridge regression parameters\n",
    "arg_rr = dict()\n",
    "arg_rr['method'] = 'rr'\n",
    "arg_rr['loss'] = 'rmse'"
   ]
  },
  {
   "cell_type": "markdown",
   "metadata": {},
   "source": [
    "# Optimize the degree of the polynomial basis function"
   ]
  },
  {
   "cell_type": "code",
   "execution_count": 18,
   "metadata": {
    "scrolled": true
   },
   "outputs": [
    {
     "name": "stdout",
     "output_type": "stream",
     "text": [
      "tested degree:  [ 1  2  3  4  5  6  7  8  9 10 11 12] \n",
      "\n",
      "------------------------------------------ test with degree =  1\n",
      "Number of samples in total:  250000\n",
      "Number of folds:  10  of 25000 samples.\n",
      "Mean training loss:  0.830327387154\n",
      "Mean testing loss:  0.830423178062\n",
      "------------------------------------------ test with degree =  2\n",
      "Number of samples in total:  250000\n",
      "Number of folds:  10  of 25000 samples.\n",
      "Mean training loss:  0.805280833595\n",
      "Mean testing loss:  0.806600851947\n",
      "------------------------------------------ test with degree =  3\n",
      "Number of samples in total:  250000\n",
      "Number of folds:  10  of 25000 samples.\n",
      "Mean training loss:  0.797852339823\n",
      "Mean testing loss:  1.1242637322\n",
      "------------------------------------------ test with degree =  4\n",
      "Number of samples in total:  250000\n",
      "Number of folds:  10  of 25000 samples.\n",
      "Mean training loss:  1.18130486629\n",
      "Mean testing loss:  5.74657297322\n",
      "------------------------------------------ test with degree =  5\n",
      "Number of samples in total:  250000\n",
      "Number of folds:  10  of 25000 samples.\n",
      "Mean training loss:  0.787525412332\n",
      "Mean testing loss:  59.9374627331\n",
      "------------------------------------------ test with degree =  6\n",
      "Number of samples in total:  250000\n",
      "Number of folds:  10  of 25000 samples.\n",
      "Mean training loss:  0.785253879398\n",
      "Mean testing loss:  966.123648394\n",
      "------------------------------------------ test with degree =  7\n",
      "Number of samples in total:  250000\n",
      "Number of folds:  10  of 25000 samples.\n",
      "Mean training loss:  1.02315008556\n",
      "Mean testing loss:  11010.1209177\n",
      "------------------------------------------ test with degree =  8\n",
      "Number of samples in total:  250000\n",
      "Number of folds:  10  of 25000 samples.\n",
      "Mean training loss:  5.98414725815\n",
      "Mean testing loss:  563508.930599\n",
      "------------------------------------------ test with degree =  9\n",
      "Number of samples in total:  250000\n",
      "Number of folds:  10  of 25000 samples.\n",
      "Mean training loss:  2.99131753938\n",
      "Mean testing loss:  674389.131793\n",
      "------------------------------------------ test with degree =  10\n",
      "Number of samples in total:  250000\n",
      "Number of folds:  10  of 25000 samples.\n",
      "Mean training loss:  2.30074830724\n",
      "Mean testing loss:  2534407.11577\n",
      "------------------------------------------ test with degree =  11\n",
      "Number of samples in total:  250000\n",
      "Number of folds:  10  of 25000 samples.\n",
      "Mean training loss:  4.28655311573\n",
      "Mean testing loss:  11134244.9411\n",
      "------------------------------------------ test with degree =  12\n",
      "Number of samples in total:  250000\n",
      "Number of folds:  10  of 25000 samples.\n",
      "Mean training loss:  5.45820450459\n",
      "Mean testing loss:  5912758460.2\n",
      "------------------------\n",
      "Optimal degree:  6\n",
      "Associated testing loss:  0.784667712526 \n",
      "\n"
     ]
    },
    {
     "data": {
      "image/png": "[encoded data removed]",
      "text/plain": [
       "<matplotlib.figure.Figure at 0x44fe3b3080>"
      ]
     },
     "metadata": {},
     "output_type": "display_data"
    }
   ],
   "source": [
    "# other hyperparameters\n",
    "arg_rr['lambda_'] = 0\n",
    "\n",
    "# optimization parameters\n",
    "degree_min = 1 \n",
    "degree_max = 12\n",
    "degree_steps = 1\n",
    "arg_rr['k_fold'] = 10\n",
    "\n",
    "# optimize degree\n",
    "degree_opt = optimize_degree(y, X, degree_min, degree_max, degree_steps, arg_rr)"
   ]
  },
  {
   "cell_type": "markdown",
   "metadata": {},
   "source": [
    "# Optimize the lambda_ for regularization"
   ]
  },
  {
   "cell_type": "code",
   "execution_count": 19,
   "metadata": {},
   "outputs": [
    {
     "name": "stdout",
     "output_type": "stream",
     "text": [
      "tested lambda_:  [  1.00000000e-20   1.29154967e-18   1.66810054e-16   2.15443469e-14\n",
      "   2.78255940e-12   3.59381366e-10   4.64158883e-08   5.99484250e-06\n",
      "   7.74263683e-04   1.00000000e-01] \n",
      "\n",
      "------------------------------------------ cross validation with lambda_ =  1e-20\n",
      "Number of samples in total:  250000\n",
      "Number of folds:  10  of 25000 samples.\n",
      "Mean training loss:  0.785262639721\n",
      "Mean testing loss:  966.123655818\n",
      "------------------------------------------ cross validation with lambda_ =  1.29154966501e-18\n",
      "Number of samples in total:  250000\n",
      "Number of folds:  10  of 25000 samples.\n",
      "Mean training loss:  0.786383889946\n",
      "Mean testing loss:  966.124606033\n",
      "------------------------------------------ cross validation with lambda_ =  1.6681005372e-16\n",
      "Number of samples in total:  250000\n",
      "Number of folds:  10  of 25000 samples.\n",
      "Mean training loss:  0.91371396817\n",
      "Mean testing loss:  966.232579031\n",
      "------------------------------------------ cross validation with lambda_ =  2.15443469003e-14\n",
      "Number of samples in total:  250000\n",
      "Number of folds:  10  of 25000 samples.\n",
      "Mean training loss:  4.39434571493\n",
      "Mean testing loss:  967.380741579\n",
      "------------------------------------------ cross validation with lambda_ =  2.78255940221e-12\n",
      "Number of samples in total:  250000\n",
      "Number of folds:  10  of 25000 samples.\n",
      "Mean training loss:  17.7181846572\n",
      "Mean testing loss:  972.119741296\n",
      "------------------------------------------ cross validation with lambda_ =  3.5938136638e-10\n",
      "Number of samples in total:  250000\n",
      "Number of folds:  10  of 25000 samples.\n",
      "Mean training loss:  6.56621535551\n",
      "Mean testing loss:  941.846484455\n",
      "------------------------------------------ cross validation with lambda_ =  4.64158883361e-08\n",
      "Number of samples in total:  250000\n",
      "Number of folds:  10  of 25000 samples.\n",
      "Mean training loss:  5.08071630389\n",
      "Mean testing loss:  932.067247692\n",
      "------------------------------------------ cross validation with lambda_ =  5.99484250319e-06\n",
      "Number of samples in total:  250000\n",
      "Number of folds:  10  of 25000 samples.\n",
      "Mean training loss:  9.08742175149\n",
      "Mean testing loss:  924.366621953\n",
      "------------------------------------------ cross validation with lambda_ =  0.000774263682681\n",
      "Number of samples in total:  250000\n",
      "Number of folds:  10  of 25000 samples.\n",
      "Mean training loss:  14.3225058701\n",
      "Mean testing loss:  939.744154167\n",
      "------------------------------------------ cross validation with lambda_ =  0.1\n",
      "Number of samples in total:  250000\n",
      "Number of folds:  10  of 25000 samples.\n",
      "Mean training loss:  22.2774391902\n",
      "Mean testing loss:  977.568266588\n",
      "------------------------\n",
      "Optimal lambda:  1e-20\n",
      "Associated testing loss:  0.784688747361 \n",
      "\n"
     ]
    },
    {
     "data": {
      "image/png": "[encoded data removed]",
      "text/plain": [
       "<matplotlib.figure.Figure at 0x44fdbbd0b8>"
      ]
     },
     "metadata": {},
     "output_type": "display_data"
    }
   ],
   "source": [
    "# ridge regression parameters\n",
    "arg_rr = dict()\n",
    "arg_rr['method'] = 'rr'\n",
    "arg_rr['loss'] = 'rmse'\n",
    "arg_rr['degree'] = degree_opt\n",
    "arg_rr['k_fold'] = 10\n",
    "\n",
    "# optimization parameters\n",
    "lambda_min = -20 \n",
    "lambda_max = -1\n",
    "lambda_steps = 10\n",
    "\n",
    "# optimize lambda_\n",
    "lambda_opt = optimize_lambda(y, X, lambda_min, lambda_max, lambda_steps, arg_rr)"
   ]
  },
  {
   "cell_type": "code",
   "execution_count": null,
   "metadata": {
    "collapsed": true
   },
   "outputs": [],
   "source": []
  }
 ],
 "metadata": {
  "kernelspec": {
   "display_name": "Python 3",
   "language": "python",
   "name": "python3"
  },
  "language_info": {
   "codemirror_mode": {
    "name": "ipython",
    "version": 3
   },
   "file_extension": ".py",
   "mimetype": "text/x-python",
   "name": "python",
   "nbconvert_exporter": "python",
   "pygments_lexer": "ipython3",
   "version": "3.6.1"
  }
 },
 "nbformat": 4,
 "nbformat_minor": 2
}
