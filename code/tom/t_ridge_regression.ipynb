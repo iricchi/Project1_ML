{
 "cells": [
  {
   "cell_type": "code",
   "execution_count": 99,
   "metadata": {},
   "outputs": [
    {
     "name": "stdout",
     "output_type": "stream",
     "text": [
      "The autoreload extension is already loaded. To reload it, use:\n",
      "  %reload_ext autoreload\n"
     ]
    }
   ],
   "source": [
    "# -*- coding: utf-8 -*-\n",
    "%matplotlib inline\n",
    "%load_ext autoreload\n",
    "%autoreload 2\n",
    "\n",
    "# add path\n",
    "import sys\n",
    "my_path = r'D:\\Documents\\etudes\\epfl\\MA1\\cours\\MachineLearning\\Project1'\n",
    "sys.path.insert(0,my_path + r'\\code\\COMMON')\n",
    "\n",
    "# import \n",
    "import numpy as np\n",
    "from implementations import *\n"
   ]
  },
  {
   "cell_type": "markdown",
   "metadata": {},
   "source": [
    "# Load data"
   ]
  },
  {
   "cell_type": "code",
   "execution_count": 2,
   "metadata": {
    "collapsed": true
   },
   "outputs": [],
   "source": [
    "from proj1_helpers import load_csv_data \n",
    "\n",
    "# load \n",
    "y_raw, input_data_raw, ids = load_csv_data(my_path + r'\\data\\train.csv', sub_sample=False)"
   ]
  },
  {
   "cell_type": "markdown",
   "metadata": {},
   "source": [
    "# Handle outliers"
   ]
  },
  {
   "cell_type": "code",
   "execution_count": 100,
   "metadata": {
    "collapsed": true
   },
   "outputs": [],
   "source": [
    "from outliers import handle_outliers\n",
    "\n",
    "# outliers\n",
    "X, y = handle_outliers(input_data_raw, y_raw, -999, True)"
   ]
  },
  {
   "cell_type": "markdown",
   "metadata": {},
   "source": [
    "# Standardize"
   ]
  },
  {
   "cell_type": "code",
   "execution_count": 4,
   "metadata": {
    "collapsed": true
   },
   "outputs": [],
   "source": [
    "from standard import standardize\n",
    "\n",
    "# standardize\n",
    "X, mean_x, std_x = standardize(X)"
   ]
  },
  {
   "cell_type": "markdown",
   "metadata": {},
   "source": [
    "# Feature names and index"
   ]
  },
  {
   "cell_type": "code",
   "execution_count": 5,
   "metadata": {},
   "outputs": [
    {
     "name": "stdout",
     "output_type": "stream",
     "text": [
      "DER_mass_MMC ( index: 0 )\n",
      "DER_mass_transverse_met_lep ( index: 1 )\n",
      "DER_mass_vis ( index: 2 )\n",
      "DER_pt_h ( index: 3 )\n",
      "DER_deltaeta_jet_jet ( index: 4 )\n",
      "DER_mass_jet_jet ( index: 5 )\n",
      "DER_prodeta_jet_jet ( index: 6 )\n",
      "DER_deltar_tau_lep ( index: 7 )\n",
      "DER_pt_tot ( index: 8 )\n",
      "DER_sum_pt ( index: 9 )\n",
      "DER_pt_ratio_lep_tau ( index: 10 )\n",
      "DER_met_phi_centrality ( index: 11 )\n",
      "DER_lep_eta_centrality ( index: 12 )\n",
      "PRI_tau_pt ( index: 13 )\n",
      "PRI_tau_eta ( index: 14 )\n",
      "PRI_tau_phi ( index: 15 )\n",
      "PRI_lep_pt ( index: 16 )\n",
      "PRI_lep_eta ( index: 17 )\n",
      "PRI_lep_phi ( index: 18 )\n",
      "PRI_met ( index: 19 )\n",
      "PRI_met_phi ( index: 20 )\n",
      "PRI_met_sumet ( index: 21 )\n",
      "PRI_jet_num ( index: 22 )\n",
      "PRI_jet_leading_pt ( index: 23 )\n",
      "PRI_jet_leading_eta ( index: 24 )\n",
      "PRI_jet_leading_phi ( index: 25 )\n",
      "PRI_jet_subleading_pt ( index: 26 )\n",
      "PRI_jet_subleading_eta ( index: 27 )\n",
      "PRI_jet_subleading_phi ( index: 28 )\n",
      "PRI_jet_all_pt ( index: 29 )\n"
     ]
    }
   ],
   "source": [
    "# names of the features \n",
    "featureNames = np.genfromtxt(my_path + r'\\data\\train.csv', delimiter=\",\", dtype=str, max_rows = 1)[2:]\n",
    "\n",
    "for ind, name in enumerate(featureNames):\n",
    "    print(name, '( index:', ind, ')')"
   ]
  },
  {
   "cell_type": "markdown",
   "metadata": {},
   "source": [
    "# Split data into training and testing sets"
   ]
  },
  {
   "cell_type": "code",
   "execution_count": 66,
   "metadata": {},
   "outputs": [
    {
     "name": "stdout",
     "output_type": "stream",
     "text": [
      "training samples: 40868\n",
      "testing samples: 27246\n"
     ]
    }
   ],
   "source": [
    "from split_data import split_data\n",
    "\n",
    "# ratio (training)\n",
    "ratio = 0.6\n",
    "seed = 1\n",
    "\n",
    "# split\n",
    "X_tr, y_tr, X_te, y_te = split_data(X, y, ratio, seed)\n",
    "\n",
    "print('training samples:', X_tr.shape[0])\n",
    "print('testing samples:', X_te.shape[0])"
   ]
  },
  {
   "cell_type": "markdown",
   "metadata": {},
   "source": [
    "# Training"
   ]
  },
  {
   "cell_type": "code",
   "execution_count": 84,
   "metadata": {
    "scrolled": true
   },
   "outputs": [],
   "source": [
    "from build_poly import build_poly\n",
    "\n",
    "# choose features\n",
    "ind_features = [1, 13, 6, 11, 7, 2, 16, 10, 12, 21, 19, 5, 9, 23, 0, 26, 3, 22, 4, 18, 28]\n",
    "\n",
    "# degree of polynomial basis function\n",
    "degree = 8\n",
    "\n",
    "# lambda\n",
    "lambda_ = 1.6e-12\n",
    "\n",
    "# build the function\n",
    "phi_tr = build_poly(X_tr[:,ind_features], degree)\n",
    "\n",
    "# ridge regression\n",
    "w_rr, loss_rr = ridge_regression(y_tr, phi_tr, lambda_)"
   ]
  },
  {
   "cell_type": "markdown",
   "metadata": {},
   "source": [
    "# Testing"
   ]
  },
  {
   "cell_type": "code",
   "execution_count": 83,
   "metadata": {},
   "outputs": [
    {
     "name": "stdout",
     "output_type": "stream",
     "text": [
      "labels:  68114\n",
      "classification error:  18.25956103648242\n"
     ]
    }
   ],
   "source": [
    "from proj1_helpers import predict_labels\n",
    "\n",
    "# build the function\n",
    "phi_te = build_poly(X_te[:,ind_features], degree)\n",
    "\n",
    "# predict\n",
    "y_pred = predict_labels(w_rr, phi_te)\n",
    "\n",
    "# classification_error error\n",
    "classification_error_error = len(np.argwhere(y_te-y_pred))/len(y_te)*100\n",
    "\n",
    "print(\"labels: \", y.shape[0])\n",
    "print(\"classification error: \", classification_error_error)"
   ]
  },
  {
   "cell_type": "markdown",
   "metadata": {},
   "source": [
    "# Optimize the degree when lambda is 0"
   ]
  },
  {
   "cell_type": "code",
   "execution_count": 71,
   "metadata": {},
   "outputs": [
    {
     "name": "stdout",
     "output_type": "stream",
     "text": [
      "Number of samples in total:  68114\n",
      "Number of folds:  10  of 6811 samples.\n",
      "optimal degree (lambda=0):  4\n"
     ]
    },
    {
     "data": {
      "image/png": "[encoded data removed]",
      "text/plain": [
       "<matplotlib.figure.Figure at 0x6c5ebf8be0>"
      ]
     },
     "metadata": {},
     "output_type": "display_data"
    }
   ],
   "source": [
    "from cross_validation_ridge_regression import *\n",
    "\n",
    "# choose features\n",
    "ind_features = [1, 13, 6, 11, 7, 2, 16, 10, 12, 21, 19, 5, 9, 23, 0, 26, 3, 22, 4, 18, 28]\n",
    "\n",
    "# parameters\n",
    "degree_min = 1\n",
    "degree_max = 8\n",
    "lambda_ = 0\n",
    "k_fold = 10\n",
    "\n",
    "# cross validation\n",
    "degree_opt, rmse_tr, rmse_te = cross_validation_degree_ridge_regression(y, X[:,ind_features], lambda_, degree_min, degree_max, k_fold)\n",
    "\n",
    "print('optimal degree (lambda=0): ', degree_opt)"
   ]
  },
  {
   "cell_type": "markdown",
   "metadata": {},
   "source": [
    "# Optimize lambda with the previous degree"
   ]
  },
  {
   "cell_type": "code",
   "execution_count": 65,
   "metadata": {},
   "outputs": [
    {
     "name": "stdout",
     "output_type": "stream",
     "text": [
      "Number of samples in total:  68114\n",
      "Number of folds:  10  of 6811 samples.\n",
      "optimal lambda (degree= 4 ):  1.63789370695e-12\n"
     ]
    },
    {
     "data": {
      "image/png": "[encoded data removed]",
      "text/plain": [
       "<matplotlib.figure.Figure at 0x6c3ce8b240>"
      ]
     },
     "metadata": {},
     "output_type": "display_data"
    }
   ],
   "source": [
    "from cross_validation_ridge_regression import *\n",
    "\n",
    "# choose features\n",
    "ind_features = [1, 13, 6, 11, 7, 2, 16, 10, 12, 21, 19, 5, 9, 23, 0, 26, 3, 22, 4, 18, 28]\n",
    "\n",
    "# parameters\n",
    "lambda_min = -20\n",
    "lambda_max = 3\n",
    "lambda_steps = 15\n",
    "lambda_ = 0\n",
    "k_fold = 10\n",
    "\n",
    "# cross validation\n",
    "lambda_opt, rmse_tr, rmse_te = cross_validation_lambda_ridge_regression(y, X[:,ind_features], degree_opt, lambda_min, lambda_max, lambda_steps, k_fold, 1)\n",
    "\n",
    "print('optimal lambda (degree=',degree_opt,'): ', lambda_opt)"
   ]
  },
  {
   "cell_type": "markdown",
   "metadata": {},
   "source": [
    "# Mean and variance of the training and testing error"
   ]
  },
  {
   "cell_type": "code",
   "execution_count": 93,
   "metadata": {},
   "outputs": [
    {
     "name": "stdout",
     "output_type": "stream",
     "text": [
      "Number of samples in total:  68114\n",
      "Number of folds:  20  of 3405 samples.\n",
      "Number of samples in total:  68114\n",
      "Number of folds:  20  of 3405 samples.\n",
      "Number of samples in total:  68114\n",
      "Number of folds:  20  of 3405 samples.\n"
     ]
    },
    {
     "data": {
      "image/png": "[encoded data removed]",
      "text/plain": [
       "<matplotlib.figure.Figure at 0x6c3e062198>"
      ]
     },
     "metadata": {},
     "output_type": "display_data"
    },
    {
     "data": {
      "image/png": "[encoded data removed]",
      "text/plain": [
       "<matplotlib.figure.Figure at 0x6c3e051160>"
      ]
     },
     "metadata": {},
     "output_type": "display_data"
    },
    {
     "data": {
      "image/png": "[encoded data removed]",
      "text/plain": [
       "<matplotlib.figure.Figure at 0x6c01856d30>"
      ]
     },
     "metadata": {},
     "output_type": "display_data"
    }
   ],
   "source": [
    "from cross_validation_ridge_regression import *\n",
    "\n",
    "# hyper-parameters (optimal)\n",
    "lambda_ = 1.63e-12\n",
    "degree = 4\n",
    "k_fold = 50\n",
    "mean_rmse_tr, mean_rmse_te, std_rmse_tr, std_rmse_te = cross_validation_rmse_ridge_regression(y, X, lambda_, degree, k_fold)\n",
    "\n",
    "# hyper-parameters (overfitting)\n",
    "lambda_ = 0\n",
    "degree = 15\n",
    "mean_rmse_tr, mean_rmse_te, std_rmse_tr, std_rmse_te = cross_validation_rmse_ridge_regression(y, X, lambda_, degree, k_fold)\n",
    "\n",
    "# hyper-parameters (underfitting)\n",
    "lambda_ = 10\n",
    "degree = 2\n",
    "mean_rmse_tr, mean_rmse_te, std_rmse_tr, std_rmse_te = cross_validation_rmse_ridge_regression(y, X, lambda_, degree, k_fold)"
   ]
  },
  {
   "cell_type": "markdown",
   "metadata": {},
   "source": [
    "# Mean and variance of the training and testing classification error"
   ]
  },
  {
   "cell_type": "code",
   "execution_count": 101,
   "metadata": {
    "scrolled": true
   },
   "outputs": [
    {
     "name": "stdout",
     "output_type": "stream",
     "text": [
      "Number of samples in total:  68114\n",
      "Number of folds:  50  of 1362 samples.\n"
     ]
    },
    {
     "ename": "KeyboardInterrupt",
     "evalue": "",
     "output_type": "error",
     "traceback": [
      "\u001b[1;31m---------------------------------------------------------------------------\u001b[0m",
      "\u001b[1;31mKeyboardInterrupt\u001b[0m                         Traceback (most recent call last)",
      "\u001b[1;32m<ipython-input-101-d2a95d774fe6>\u001b[0m in \u001b[0;36m<module>\u001b[1;34m()\u001b[0m\n\u001b[0;32m      5\u001b[0m \u001b[0mdegree\u001b[0m \u001b[1;33m=\u001b[0m \u001b[1;36m4\u001b[0m\u001b[1;33m\u001b[0m\u001b[0m\n\u001b[0;32m      6\u001b[0m \u001b[0mk_fold\u001b[0m \u001b[1;33m=\u001b[0m \u001b[1;36m50\u001b[0m\u001b[1;33m\u001b[0m\u001b[0m\n\u001b[1;32m----> 7\u001b[1;33m \u001b[0mmean_classification_error\u001b[0m\u001b[1;33m,\u001b[0m \u001b[0mstd_classification_error\u001b[0m \u001b[1;33m=\u001b[0m \u001b[0mcross_validation_classification_ridge_regression\u001b[0m\u001b[1;33m(\u001b[0m\u001b[0my\u001b[0m\u001b[1;33m,\u001b[0m \u001b[0mX\u001b[0m\u001b[1;33m,\u001b[0m \u001b[0mlambda_\u001b[0m\u001b[1;33m,\u001b[0m \u001b[0mdegree\u001b[0m\u001b[1;33m,\u001b[0m \u001b[0mk_fold\u001b[0m\u001b[1;33m)\u001b[0m\u001b[1;33m\u001b[0m\u001b[0m\n\u001b[0m\u001b[0;32m      8\u001b[0m \u001b[0mprint\u001b[0m\u001b[1;33m(\u001b[0m\u001b[1;34m'\\n lambda: '\u001b[0m\u001b[1;33m,\u001b[0m \u001b[0mlambda_\u001b[0m\u001b[1;33m,\u001b[0m \u001b[1;34m'degree:'\u001b[0m\u001b[1;33m,\u001b[0m \u001b[0mdegree\u001b[0m\u001b[1;33m)\u001b[0m\u001b[1;33m\u001b[0m\u001b[0m\n\u001b[0;32m      9\u001b[0m \u001b[0mprint\u001b[0m\u001b[1;33m(\u001b[0m\u001b[1;34m'mean classification error:'\u001b[0m\u001b[1;33m,\u001b[0m \u001b[0mmean_classification_error\u001b[0m\u001b[1;33m)\u001b[0m\u001b[1;33m\u001b[0m\u001b[0m\n",
      "\u001b[1;32mD:\\Documents\\etudes\\epfl\\MA1\\cours\\MachineLearning\\Project1\\code\\COMMON\\cross_validation_ridge_regression.py\u001b[0m in \u001b[0;36mcross_validation_classification_ridge_regression\u001b[1;34m(y, x, lambda_, degree, k_fold)\u001b[0m\n\u001b[0;32m    187\u001b[0m         \u001b[1;31m# build data with polynomial degree\u001b[0m\u001b[1;33m\u001b[0m\u001b[1;33m\u001b[0m\u001b[0m\n\u001b[0;32m    188\u001b[0m         \u001b[0mphi_te\u001b[0m \u001b[1;33m=\u001b[0m \u001b[0mbuild_poly\u001b[0m\u001b[1;33m(\u001b[0m\u001b[0mx_te\u001b[0m\u001b[1;33m,\u001b[0m \u001b[0mdegree\u001b[0m\u001b[1;33m)\u001b[0m\u001b[1;33m\u001b[0m\u001b[0m\n\u001b[1;32m--> 189\u001b[1;33m         \u001b[0mphi_tr\u001b[0m \u001b[1;33m=\u001b[0m \u001b[0mbuild_poly\u001b[0m\u001b[1;33m(\u001b[0m\u001b[0mx_tr\u001b[0m\u001b[1;33m,\u001b[0m \u001b[0mdegree\u001b[0m\u001b[1;33m)\u001b[0m\u001b[1;33m\u001b[0m\u001b[0m\n\u001b[0m\u001b[0;32m    190\u001b[0m \u001b[1;33m\u001b[0m\u001b[0m\n\u001b[0;32m    191\u001b[0m         \u001b[1;31m# ridge regression\u001b[0m\u001b[1;33m\u001b[0m\u001b[1;33m\u001b[0m\u001b[0m\n",
      "\u001b[1;32mD:\\Documents\\etudes\\epfl\\MA1\\cours\\MachineLearning\\Project1\\code\\COMMON\\build_poly.py\u001b[0m in \u001b[0;36mbuild_poly\u001b[1;34m(x, degree)\u001b[0m\n\u001b[0;32m     12\u001b[0m         \u001b[0mvander\u001b[0m \u001b[1;33m=\u001b[0m \u001b[0mnp\u001b[0m\u001b[1;33m.\u001b[0m\u001b[0mdelete\u001b[0m\u001b[1;33m(\u001b[0m\u001b[0mvander\u001b[0m\u001b[1;33m,\u001b[0m \u001b[1;36m0\u001b[0m\u001b[1;33m,\u001b[0m\u001b[0maxis\u001b[0m \u001b[1;33m=\u001b[0m \u001b[1;36m1\u001b[0m\u001b[1;33m)\u001b[0m\u001b[1;33m\u001b[0m\u001b[0m\n\u001b[0;32m     13\u001b[0m         \u001b[1;31m#concatenation\u001b[0m\u001b[1;33m\u001b[0m\u001b[1;33m\u001b[0m\u001b[0m\n\u001b[1;32m---> 14\u001b[1;33m         \u001b[0mX\u001b[0m \u001b[1;33m=\u001b[0m \u001b[0mnp\u001b[0m\u001b[1;33m.\u001b[0m\u001b[0mconcatenate\u001b[0m\u001b[1;33m(\u001b[0m\u001b[1;33m(\u001b[0m\u001b[0mX\u001b[0m\u001b[1;33m,\u001b[0m \u001b[0mvander\u001b[0m\u001b[1;33m)\u001b[0m\u001b[1;33m,\u001b[0m \u001b[0maxis\u001b[0m\u001b[1;33m=\u001b[0m\u001b[1;36m1\u001b[0m\u001b[1;33m)\u001b[0m\u001b[1;33m\u001b[0m\u001b[0m\n\u001b[0m\u001b[0;32m     15\u001b[0m \u001b[1;33m\u001b[0m\u001b[0m\n\u001b[0;32m     16\u001b[0m     \u001b[1;32mreturn\u001b[0m \u001b[0mX\u001b[0m\u001b[1;33m\u001b[0m\u001b[0m\n",
      "\u001b[1;31mKeyboardInterrupt\u001b[0m: "
     ]
    }
   ],
   "source": [
    "from cross_validation_ridge_regression import *\n",
    "\n",
    "# hyper-parameters (optimal)\n",
    "lambda_ = 1.63e-12\n",
    "degree = 4\n",
    "k_fold = 50\n",
    "mean_classification_error, std_classification_error = cross_validation_classification_ridge_regression(y, X, lambda_, degree, k_fold)\n",
    "print('\\n lambda: ', lambda_, 'degree:', degree)\n",
    "print('mean classification error:', mean_classification_error)\n",
    "print('variance classification error:', std_classification_error**2, '\\n')\n",
    "\n",
    "# hyper-parameters (overfitting)\n",
    "lambda_ = 0\n",
    "degree = 15\n",
    "mean_classification_error, std_classification_error = cross_validation_classification_ridge_regression(y, X, lambda_, degree, k_fold)\n",
    "print('\\n lambda: ', lambda_, 'degree:', degree)\n",
    "print('mean classification error:', mean_classification_error)\n",
    "print('variance classification error:', std_classification_error**2, '\\n')\n",
    "\n",
    "# hyper-parameters (underfitting)\n",
    "lambda_ = 10\n",
    "degree = 2\n",
    "mean_classification_error, std_classification_error = cross_validation_classification_ridge_regression(y, X, lambda_, degree, k_fold)\n",
    "print('\\nlambda: ', lambda_, 'degree:', degree)\n",
    "print('mean classification error:', mean_classification_error)\n",
    "print('variance classification error:', std_classification_error**2, '\\n')"
   ]
  },
  {
   "cell_type": "code",
   "execution_count": null,
   "metadata": {
    "collapsed": true
   },
   "outputs": [],
   "source": []
  }
 ],
 "metadata": {
  "kernelspec": {
   "display_name": "Python 3",
   "language": "python",
   "name": "python3"
  },
  "language_info": {
   "codemirror_mode": {
    "name": "ipython",
    "version": 3
   },
   "file_extension": ".py",
   "mimetype": "text/x-python",
   "name": "python",
   "nbconvert_exporter": "python",
   "pygments_lexer": "ipython3",
   "version": "3.6.1"
  }
 },
 "nbformat": 4,
 "nbformat_minor": 2
}
