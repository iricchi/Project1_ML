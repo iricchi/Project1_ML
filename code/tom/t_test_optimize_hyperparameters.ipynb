{
 "cells": [
  {
   "cell_type": "code",
   "execution_count": 15,
   "metadata": {},
   "outputs": [
    {
     "name": "stdout",
     "output_type": "stream",
     "text": [
      "The autoreload extension is already loaded. To reload it, use:\n",
      "  %reload_ext autoreload\n"
     ]
    }
   ],
   "source": [
    "# -*- coding: utf-8 -*-\n",
    "%matplotlib inline\n",
    "%load_ext autoreload\n",
    "%autoreload 2\n",
    "\n",
    "# add path\n",
    "import sys\n",
    "my_path = r'D:\\Documents\\etudes\\epfl\\MA1\\cours\\MachineLearning\\Project1'\n",
    "sys.path.insert(0,my_path + r'\\code\\COMMON')\n",
    "\n",
    "# import\n",
    "import numpy as np\n",
    "import matplotlib.pyplot as plt\n",
    "from t_optimize_hyperparameters import *"
   ]
  },
  {
   "cell_type": "markdown",
   "metadata": {},
   "source": [
    "# Create a dataset"
   ]
  },
  {
   "cell_type": "code",
   "execution_count": 2,
   "metadata": {},
   "outputs": [
    {
     "name": "stdout",
     "output_type": "stream",
     "text": [
      "x:  (1000, 1)\n",
      "y:  (1000,)\n"
     ]
    }
   ],
   "source": [
    "from build_poly import build_poly\n",
    "from standard import standardize \n",
    "\n",
    "# number of samples in the dataset\n",
    "num_data = 1000\n",
    "\n",
    "# features\n",
    "x = np.linspace(0.1, 2 * np.pi, num_data)\n",
    "x = x[:, None]\n",
    "\n",
    "# observations\n",
    "offset = 1\n",
    "noiseLevel = 0.8\n",
    "y = np.sin(x[:,0]) + offset + noiseLevel * np.random.randn(num_data).T\n",
    "\n",
    "# standardize \n",
    "x, mean_x, std_x = standardize(x)\n",
    "\n",
    "print('x: ', x.shape)\n",
    "print('y: ', y.shape)"
   ]
  },
  {
   "cell_type": "markdown",
   "metadata": {},
   "source": [
    "# Tune degree of the polynomial basis function for ridge regression"
   ]
  },
  {
   "cell_type": "code",
   "execution_count": 10,
   "metadata": {},
   "outputs": [
    {
     "name": "stdout",
     "output_type": "stream",
     "text": [
      "tested degree:  [1 2 3 4 5 6]\n",
      "Number of samples in total:  1000\n",
      "Number of folds:  10  of 100 samples.\n",
      "Mean training loss:  0.920157689537\n",
      "Mean testing loss:  0.921570144967\n",
      "Number of samples in total:  1000\n",
      "Number of folds:  10  of 100 samples.\n",
      "Mean training loss:  0.919774379043\n",
      "Mean testing loss:  0.922484624867\n",
      "Number of samples in total:  1000\n",
      "Number of folds:  10  of 100 samples.\n",
      "Mean training loss:  0.792685298934\n",
      "Mean testing loss:  0.794207202749\n",
      "Number of samples in total:  1000\n",
      "Number of folds:  10  of 100 samples.\n",
      "Mean training loss:  0.792393232327\n",
      "Mean testing loss:  0.795318979687\n",
      "Number of samples in total:  1000\n",
      "Number of folds:  10  of 100 samples.\n",
      "Mean training loss:  0.788094515966\n",
      "Mean testing loss:  0.792493090957\n",
      "Number of samples in total:  1000\n",
      "Number of folds:  10  of 100 samples.\n",
      "Mean training loss:  0.787581218576\n",
      "Mean testing loss:  0.79250169432\n",
      "------------------------\n",
      "Optimal degree:  6\n",
      "Associated testing loss:  0.676471904041\n"
     ]
    },
    {
     "data": {
      "image/png": "[encoded data removed]",
      "text/plain": [
       "<matplotlib.figure.Figure at 0x19821688d0>"
      ]
     },
     "metadata": {},
     "output_type": "display_data"
    }
   ],
   "source": [
    "# ridge regression parameters\n",
    "arg_rr = dict()\n",
    "arg_rr['method'] = 'rr'\n",
    "arg_rr['loss'] = 'rmse'\n",
    "arg_rr['lambda_'] = 0\n",
    "arg_rr['k_fold'] = 10\n",
    "\n",
    "# optimization parameters\n",
    "degree_min = 1 \n",
    "degree_max = 7\n",
    "degree_steps = 1\n",
    "\n",
    "# optimize degree\n",
    "lambda_opt = optimize_degree(y, x, degree_min, degree_max, degree_steps, arg_rr)"
   ]
  },
  {
   "cell_type": "markdown",
   "metadata": {},
   "source": [
    "# Tune lambda_ (regularization) for ridge regression"
   ]
  },
  {
   "cell_type": "code",
   "execution_count": 11,
   "metadata": {},
   "outputs": [
    {
     "name": "stdout",
     "output_type": "stream",
     "text": [
      "tested lambda_:  [  1.00000000e-10   1.66810054e-09   2.78255940e-08   4.64158883e-07\n",
      "   7.74263683e-06   1.29154967e-04   2.15443469e-03   3.59381366e-02\n",
      "   5.99484250e-01   1.00000000e+01]\n",
      "Number of samples in total:  1000\n",
      "Number of folds:  10  of 100 samples.\n",
      "Mean training loss:  0.792685299437\n",
      "Mean testing loss:  0.794207203253\n",
      "Number of samples in total:  1000\n",
      "Number of folds:  10  of 100 samples.\n",
      "Mean training loss:  0.792685307331\n",
      "Mean testing loss:  0.794207211157\n",
      "Number of samples in total:  1000\n",
      "Number of folds:  10  of 100 samples.\n",
      "Mean training loss:  0.792685438998\n",
      "Mean testing loss:  0.794207343009\n",
      "Number of samples in total:  1000\n",
      "Number of folds:  10  of 100 samples.\n",
      "Mean training loss:  0.792687635344\n",
      "Mean testing loss:  0.794209542429\n",
      "Number of samples in total:  1000\n",
      "Number of folds:  10  of 100 samples.\n",
      "Mean training loss:  0.792724271703\n",
      "Mean testing loss:  0.794246230053\n",
      "Number of samples in total:  1000\n",
      "Number of folds:  10  of 100 samples.\n",
      "Mean training loss:  0.793335152163\n",
      "Mean testing loss:  0.794857961847\n",
      "Number of samples in total:  1000\n",
      "Number of folds:  10  of 100 samples.\n",
      "Mean training loss:  0.803456397789\n",
      "Mean testing loss:  0.804992387927\n",
      "Number of samples in total:  1000\n",
      "Number of folds:  10  of 100 samples.\n",
      "Mean training loss:  0.956545094177\n",
      "Mean testing loss:  0.958139081095\n",
      "Number of samples in total:  1000\n",
      "Number of folds:  10  of 100 samples.\n",
      "Mean training loss:  2.31764468977\n",
      "Mean testing loss:  2.3185370422\n",
      "Number of samples in total:  1000\n",
      "Number of folds:  10  of 100 samples.\n",
      "Mean training loss:  8.39317265463\n",
      "Mean testing loss:  8.39342840596\n",
      "------------------------\n",
      "Optimal lambda:  1e-10\n",
      "Associated testing loss:  0.68381035787\n"
     ]
    },
    {
     "data": {
      "image/png": "[encoded data removed]",
      "text/plain": [
       "<matplotlib.figure.Figure at 0x19825d7748>"
      ]
     },
     "metadata": {},
     "output_type": "display_data"
    }
   ],
   "source": [
    "# ridge regression parameters\n",
    "arg_rr = dict()\n",
    "arg_rr['method'] = 'rr'\n",
    "arg_rr['loss'] = 'rmse'\n",
    "arg_rr['degree'] = 3\n",
    "arg_rr['k_fold'] = 10\n",
    "\n",
    "# optimization parameters\n",
    "lambda_min = -10 \n",
    "lambda_max = 1\n",
    "lambda_steps = 10\n",
    "\n",
    "# optimize lambda_\n",
    "lambda_opt = optimize_lambda(y, x, lambda_min, lambda_max, lambda_steps, arg_rr)"
   ]
  },
  {
   "cell_type": "markdown",
   "metadata": {},
   "source": [
    "# Tune gamma (step descent) for least square gradient descent"
   ]
  },
  {
   "cell_type": "code",
   "execution_count": 20,
   "metadata": {},
   "outputs": [
    {
     "name": "stdout",
     "output_type": "stream",
     "text": [
      "tested gamma:  [  1.00000000e-05   1.11200000e-02   2.22300000e-02   3.33400000e-02\n",
      "   4.44500000e-02   5.55600000e-02   6.66700000e-02   7.77800000e-02\n",
      "   8.88900000e-02   1.00000000e-01]\n",
      "Number of samples in total:  1000\n",
      "Number of folds:  10  of 100 samples.\n",
      "Gradient Descent(9/9): loss MSE=1.0732664058187333\n",
      "Gradient Descent(9/9): loss MSE=1.1031155033565518\n",
      "Gradient Descent(9/9): loss MSE=1.1043467768757451\n",
      "Gradient Descent(9/9): loss MSE=1.066145398835193\n",
      "Gradient Descent(9/9): loss MSE=1.0600613659856304\n",
      "Gradient Descent(9/9): loss MSE=1.0812637968162289\n",
      "Gradient Descent(9/9): loss MSE=1.0882234573197227\n",
      "Gradient Descent(9/9): loss MSE=1.089959875715535\n",
      "Gradient Descent(9/9): loss MSE=1.0719826825309868\n",
      "Gradient Descent(9/9): loss MSE=1.0919388301568702\n",
      "Mean training loss:  1.47172224915\n",
      "Mean testing loss:  1.46913559765\n",
      "Number of samples in total:  1000\n",
      "Number of folds:  10  of 100 samples.\n",
      "Gradient Descent(9/9): loss MSE=0.8414590547717429\n",
      "Gradient Descent(9/9): loss MSE=0.8628596512857113\n",
      "Gradient Descent(9/9): loss MSE=0.8639550614123795\n",
      "Gradient Descent(9/9): loss MSE=0.8433586391125679\n",
      "Gradient Descent(9/9): loss MSE=0.834526180726999\n",
      "Gradient Descent(9/9): loss MSE=0.8460279733100142\n",
      "Gradient Descent(9/9): loss MSE=0.8498458527779886\n",
      "Gradient Descent(9/9): loss MSE=0.8592517492380363\n",
      "Gradient Descent(9/9): loss MSE=0.849041884335815\n",
      "Gradient Descent(9/9): loss MSE=0.8590186776313988\n",
      "Mean training loss:  1.3045369018\n",
      "Mean testing loss:  1.30299555602\n",
      "Number of samples in total:  1000\n",
      "Number of folds:  10  of 100 samples.\n",
      "Gradient Descent(9/9): loss MSE=0.7145148854333254\n",
      "Gradient Descent(9/9): loss MSE=0.7324247240737256\n",
      "Gradient Descent(9/9): loss MSE=0.7307437837966939\n",
      "Gradient Descent(9/9): loss MSE=0.7170628009714455\n",
      "Gradient Descent(9/9): loss MSE=0.7103791117430008\n",
      "Gradient Descent(9/9): loss MSE=0.7158452832918583\n",
      "Gradient Descent(9/9): loss MSE=0.7211383312789694\n",
      "Gradient Descent(9/9): loss MSE=0.7306782713755385\n",
      "Gradient Descent(9/9): loss MSE=0.7232562864254332\n",
      "Gradient Descent(9/9): loss MSE=0.728637733082834\n",
      "Mean training loss:  1.20203893768\n",
      "Mean testing loss:  1.20113528806\n",
      "Number of samples in total:  1000\n",
      "Number of folds:  10  of 100 samples.\n",
      "Gradient Descent(9/9): loss MSE=0.6419383131092198\n",
      "Gradient Descent(9/9): loss MSE=0.6581864155992874\n",
      "Gradient Descent(9/9): loss MSE=0.6539225896717304\n",
      "Gradient Descent(9/9): loss MSE=0.6430327023344666\n",
      "Gradient Descent(9/9): loss MSE=0.6391093571897217\n",
      "Gradient Descent(9/9): loss MSE=0.6409705079237885\n",
      "Gradient Descent(9/9): loss MSE=0.6481343532698991\n",
      "Gradient Descent(9/9): loss MSE=0.656002013535339\n",
      "Gradient Descent(9/9): loss MSE=0.6496381531182693\n",
      "Gradient Descent(9/9): loss MSE=0.6528397551701779\n",
      "Mean training loss:  1.13873730098\n",
      "Mean testing loss:  1.13827542655\n",
      "Number of samples in total:  1000\n",
      "Number of folds:  10  of 100 samples.\n",
      "Gradient Descent(9/9): loss MSE=0.5983057560735372\n",
      "Gradient Descent(9/9): loss MSE=0.6135553564503519\n",
      "Gradient Descent(9/9): loss MSE=0.6074899945008859\n",
      "Gradient Descent(9/9): loss MSE=0.5978737587449049\n",
      "Gradient Descent(9/9): loss MSE=0.5961378291270846\n",
      "Gradient Descent(9/9): loss MSE=0.5959156800044846\n",
      "Gradient Descent(9/9): loss MSE=0.6042988593249349\n",
      "Gradient Descent(9/9): loss MSE=0.6104848242758534\n",
      "Gradient Descent(9/9): loss MSE=0.604623532269971\n",
      "Gradient Descent(9/9): loss MSE=0.6067625441331675\n",
      "Mean training loss:  1.09866316749\n",
      "Mean testing loss:  1.09853714847\n",
      "Number of samples in total:  1000\n",
      "Number of folds:  10  of 100 samples.\n",
      "Gradient Descent(9/9): loss MSE=0.5704436365841442\n",
      "Gradient Descent(9/9): loss MSE=0.5849597316591756\n",
      "Gradient Descent(9/9): loss MSE=0.5777941808727148\n",
      "Gradient Descent(9/9): loss MSE=0.5689137277947801\n",
      "Gradient Descent(9/9): loss MSE=0.5686395465293064\n",
      "Gradient Descent(9/9): loss MSE=0.5672567394667972\n",
      "Gradient Descent(9/9): loss MSE=0.5761869076761087\n",
      "Gradient Descent(9/9): loss MSE=0.5810852394020743\n",
      "Gradient Descent(9/9): loss MSE=0.5755586992707961\n",
      "Gradient Descent(9/9): loss MSE=0.5771713266818357\n",
      "Mean training loss:  1.07218242767\n",
      "Mean testing loss:  1.07232505685\n",
      "Number of samples in total:  1000\n",
      "Number of folds:  10  of 100 samples.\n",
      "Gradient Descent(9/9): loss MSE=0.5513350154111791\n",
      "Gradient Descent(9/9): loss MSE=0.5652562601885732\n",
      "Gradient Descent(9/9): loss MSE=0.5574847023240744\n",
      "Gradient Descent(9/9): loss MSE=0.5491485042392658\n",
      "Gradient Descent(9/9): loss MSE=0.5497432950911193\n",
      "Gradient Descent(9/9): loss MSE=0.5477471222161934\n",
      "Gradient Descent(9/9): loss MSE=0.5567643370748463\n",
      "Gradient Descent(9/9): loss MSE=0.5607496351856245\n",
      "Gradient Descent(9/9): loss MSE=0.5555031556138532\n",
      "Gradient Descent(9/9): loss MSE=0.5568562948940579\n",
      "Mean training loss:  1.05360930088\n",
      "Mean testing loss:  1.05397242784\n",
      "Number of samples in total:  1000\n",
      "Number of folds:  10  of 100 samples.\n",
      "Gradient Descent(9/9): loss MSE=0.5371638159131318\n",
      "Gradient Descent(9/9): loss MSE=0.5505869211282948\n",
      "Gradient Descent(9/9): loss MSE=0.5425237381726028\n",
      "Gradient Descent(9/9): loss MSE=0.5346551413613354\n",
      "Gradient Descent(9/9): loss MSE=0.535699289091419\n",
      "Gradient Descent(9/9): loss MSE=0.5334076153402838\n",
      "Gradient Descent(9/9): loss MSE=0.5422502113735463\n",
      "Gradient Descent(9/9): loss MSE=0.5455906065042401\n",
      "Gradient Descent(9/9): loss MSE=0.540596906014104\n",
      "Gradient Descent(9/9): loss MSE=0.5418278852258774\n",
      "Mean training loss:  1.03963304106\n",
      "Mean testing loss:  1.040179348\n",
      "Number of samples in total:  1000\n",
      "Number of folds:  10  of 100 samples.\n",
      "Gradient Descent(9/9): loss MSE=0.525831247662684\n",
      "Gradient Descent(9/9): loss MSE=0.5388329930309159\n",
      "Gradient Descent(9/9): loss MSE=0.5306663485265909\n",
      "Gradient Descent(9/9): loss MSE=0.5232247988983658\n",
      "Gradient Descent(9/9): loss MSE=0.5244436651314233\n",
      "Gradient Descent(9/9): loss MSE=0.5220361321797831\n",
      "Gradient Descent(9/9): loss MSE=0.5305763863548066\n",
      "Gradient Descent(9/9): loss MSE=0.5334445448018852\n",
      "Gradient Descent(9/9): loss MSE=0.5286813599282837\n",
      "Gradient Descent(9/9): loss MSE=0.5298633276004132\n",
      "Mean training loss:  1.02834722893\n",
      "Mean testing loss:  1.02904647046\n",
      "Number of samples in total:  1000\n",
      "Number of folds:  10  of 100 samples.\n",
      "Gradient Descent(9/9): loss MSE=0.5161803893908153\n",
      "Gradient Descent(9/9): loss MSE=0.5288227563404719\n",
      "Gradient Descent(9/9): loss MSE=0.5206595432721982\n",
      "Gradient Descent(9/9): loss MSE=0.5136158542777206\n",
      "Gradient Descent(9/9): loss MSE=0.5148405742624076\n",
      "Gradient Descent(9/9): loss MSE=0.5124146355222367\n",
      "Gradient Descent(9/9): loss MSE=0.5206031759046845\n",
      "Gradient Descent(9/9): loss MSE=0.5231052378934248\n",
      "Gradient Descent(9/9): loss MSE=0.5185513457542879\n",
      "Gradient Descent(9/9): loss MSE=0.519725160456291\n",
      "Mean training loss:  1.01866721627\n",
      "Mean testing loss:  1.0194944407\n",
      "------------------------\n",
      "Optimal gamma:  0.1\n",
      "Associated testing loss:  0.920292298073\n"
     ]
    },
    {
     "data": {
      "image/png": "[encoded data removed]",
      "text/plain": [
       "<matplotlib.figure.Figure at 0x198268f710>"
      ]
     },
     "metadata": {},
     "output_type": "display_data"
    }
   ],
   "source": [
    "# least squares gradient descent parameters\n",
    "arg_lsgd = dict()\n",
    "arg_lsgd['method'] = 'lsgd'\n",
    "arg_lsgd['loss'] = 'rmse'\n",
    "arg_lsgd['degree'] = 3\n",
    "arg_lsgd['k_fold'] = 10\n",
    "arg_lsgd['max_iters'] = 10\n",
    "arg_lsgd['initial_w'] = np.zeros(x.shape[1]*arg_lsgd['degree']+1)\n",
    "\n",
    "\n",
    "# optimization parameters\n",
    "gamma_min = 1e-5\n",
    "gamma_max = 1e-1\n",
    "gamma_steps = 10\n",
    "\n",
    "# optimize lambda_\n",
    "gamma_opt = optimize_gamma(y, x, gamma_min, gamma_max, gamma_steps, arg_lsgd)"
   ]
  },
  {
   "cell_type": "code",
   "execution_count": null,
   "metadata": {
    "collapsed": true
   },
   "outputs": [],
   "source": []
  }
 ],
 "metadata": {
  "kernelspec": {
   "display_name": "Python 3",
   "language": "python",
   "name": "python3"
  },
  "language_info": {
   "codemirror_mode": {
    "name": "ipython",
    "version": 3
   },
   "file_extension": ".py",
   "mimetype": "text/x-python",
   "name": "python",
   "nbconvert_exporter": "python",
   "pygments_lexer": "ipython3",
   "version": "3.6.1"
  }
 },
 "nbformat": 4,
 "nbformat_minor": 2
}
