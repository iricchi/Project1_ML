{
 "cells": [
  {
   "cell_type": "code",
   "execution_count": 1,
   "metadata": {},
   "outputs": [],
   "source": [
    "# -*- coding: utf-8 -*-\n",
    "%matplotlib inline\n",
    "%load_ext autoreload\n",
    "%autoreload 2\n",
    "\n",
    "# add path\n",
    "import sys\n",
    "my_path = r'D:\\Documents\\etudes\\epfl\\MA1\\cours\\MachineLearning\\Project1'\n",
    "sys.path.insert(0,my_path + r'\\code\\COMMON')\n",
    "\n",
    "# import\n",
    "import numpy as np\n",
    "import matplotlib.pyplot as plt\n",
    "from t_optimize_hyperparameters import *"
   ]
  },
  {
   "cell_type": "markdown",
   "metadata": {},
   "source": [
    "# Create a dataset"
   ]
  },
  {
   "cell_type": "code",
   "execution_count": 2,
   "metadata": {},
   "outputs": [
    {
     "name": "stdout",
     "output_type": "stream",
     "text": [
      "x:  (1000, 1)\n",
      "y:  (1000,)\n"
     ]
    }
   ],
   "source": [
    "from build_poly import build_poly\n",
    "from standard import standardize \n",
    "\n",
    "# number of samples in the dataset\n",
    "num_data = 1000\n",
    "\n",
    "# features\n",
    "x = np.linspace(0.1, 2 * np.pi, num_data)\n",
    "x = x[:, None]\n",
    "\n",
    "# observations\n",
    "offset = 1\n",
    "noiseLevel = 0.8\n",
    "y = np.sin(x[:,0]) + offset + noiseLevel * np.random.randn(num_data).T\n",
    "\n",
    "# standardize \n",
    "x, mean_x, std_x = standardize(x)\n",
    "\n",
    "print('x: ', x.shape)\n",
    "print('y: ', y.shape)"
   ]
  },
  {
   "cell_type": "markdown",
   "metadata": {},
   "source": [
    "# Tune degree of the polynomial basis function for ridge regression"
   ]
  },
  {
   "cell_type": "code",
   "execution_count": 10,
   "metadata": {},
   "outputs": [
    {
     "name": "stdout",
     "output_type": "stream",
     "text": [
      "tested degree:  [1 2 3 4 5 6]\n",
      "Number of samples in total:  1000\n",
      "Number of folds:  10  of 100 samples.\n",
      "Mean training loss:  0.920157689537\n",
      "Mean testing loss:  0.921570144967\n",
      "Number of samples in total:  1000\n",
      "Number of folds:  10  of 100 samples.\n",
      "Mean training loss:  0.919774379043\n",
      "Mean testing loss:  0.922484624867\n",
      "Number of samples in total:  1000\n",
      "Number of folds:  10  of 100 samples.\n",
      "Mean training loss:  0.792685298934\n",
      "Mean testing loss:  0.794207202749\n",
      "Number of samples in total:  1000\n",
      "Number of folds:  10  of 100 samples.\n",
      "Mean training loss:  0.792393232327\n",
      "Mean testing loss:  0.795318979687\n",
      "Number of samples in total:  1000\n",
      "Number of folds:  10  of 100 samples.\n",
      "Mean training loss:  0.788094515966\n",
      "Mean testing loss:  0.792493090957\n",
      "Number of samples in total:  1000\n",
      "Number of folds:  10  of 100 samples.\n",
      "Mean training loss:  0.787581218576\n",
      "Mean testing loss:  0.79250169432\n",
      "------------------------\n",
      "Optimal degree:  6\n",
      "Associated testing loss:  0.676471904041\n"
     ]
    },
    {
     "data": {
      "image/png": "[encoded data removed]",
      "text/plain": [
       "<matplotlib.figure.Figure at 0x19821688d0>"
      ]
     },
     "metadata": {},
     "output_type": "display_data"
    }
   ],
   "source": [
    "# ridge regression parameters\n",
    "arg_rr = dict()\n",
    "arg_rr['method'] = 'rr'\n",
    "arg_rr['loss'] = 'rmse'\n",
    "arg_rr['lambda_'] = 0\n",
    "arg_rr['k_fold'] = 10\n",
    "\n",
    "# optimization parameters\n",
    "degree_min = 1 \n",
    "degree_max = 7\n",
    "degree_steps = 1\n",
    "\n",
    "# optimize degree\n",
    "lambda_opt = optimize_degree(y, x, degree_min, degree_max, degree_steps, arg_rr)"
   ]
  },
  {
   "cell_type": "markdown",
   "metadata": {},
   "source": [
    "# Tune lambda_ (regularization) for ridge regression"
   ]
  },
  {
   "cell_type": "code",
   "execution_count": 11,
   "metadata": {},
   "outputs": [
    {
     "name": "stdout",
     "output_type": "stream",
     "text": [
      "tested lambda_:  [  1.00000000e-10   1.66810054e-09   2.78255940e-08   4.64158883e-07\n",
      "   7.74263683e-06   1.29154967e-04   2.15443469e-03   3.59381366e-02\n",
      "   5.99484250e-01   1.00000000e+01]\n",
      "Number of samples in total:  1000\n",
      "Number of folds:  10  of 100 samples.\n",
      "Mean training loss:  0.792685299437\n",
      "Mean testing loss:  0.794207203253\n",
      "Number of samples in total:  1000\n",
      "Number of folds:  10  of 100 samples.\n",
      "Mean training loss:  0.792685307331\n",
      "Mean testing loss:  0.794207211157\n",
      "Number of samples in total:  1000\n",
      "Number of folds:  10  of 100 samples.\n",
      "Mean training loss:  0.792685438998\n",
      "Mean testing loss:  0.794207343009\n",
      "Number of samples in total:  1000\n",
      "Number of folds:  10  of 100 samples.\n",
      "Mean training loss:  0.792687635344\n",
      "Mean testing loss:  0.794209542429\n",
      "Number of samples in total:  1000\n",
      "Number of folds:  10  of 100 samples.\n",
      "Mean training loss:  0.792724271703\n",
      "Mean testing loss:  0.794246230053\n",
      "Number of samples in total:  1000\n",
      "Number of folds:  10  of 100 samples.\n",
      "Mean training loss:  0.793335152163\n",
      "Mean testing loss:  0.794857961847\n",
      "Number of samples in total:  1000\n",
      "Number of folds:  10  of 100 samples.\n",
      "Mean training loss:  0.803456397789\n",
      "Mean testing loss:  0.804992387927\n",
      "Number of samples in total:  1000\n",
      "Number of folds:  10  of 100 samples.\n",
      "Mean training loss:  0.956545094177\n",
      "Mean testing loss:  0.958139081095\n",
      "Number of samples in total:  1000\n",
      "Number of folds:  10  of 100 samples.\n",
      "Mean training loss:  2.31764468977\n",
      "Mean testing loss:  2.3185370422\n",
      "Number of samples in total:  1000\n",
      "Number of folds:  10  of 100 samples.\n",
      "Mean training loss:  8.39317265463\n",
      "Mean testing loss:  8.39342840596\n",
      "------------------------\n",
      "Optimal lambda:  1e-10\n",
      "Associated testing loss:  0.68381035787\n"
     ]
    },
    {
     "data": {
      "image/png": "[encoded data removed]",
      "text/plain": [
       "<matplotlib.figure.Figure at 0x19825d7748>"
      ]
     },
     "metadata": {},
     "output_type": "display_data"
    }
   ],
   "source": [
    "# ridge regression parameters\n",
    "arg_rr = dict()\n",
    "arg_rr['method'] = 'rr'\n",
    "arg_rr['loss'] = 'rmse'\n",
    "arg_rr['degree'] = 3\n",
    "arg_rr['k_fold'] = 10\n",
    "\n",
    "# optimization parameters\n",
    "lambda_min = -10 \n",
    "lambda_max = 1\n",
    "lambda_steps = 10\n",
    "\n",
    "# optimize lambda_\n",
    "lambda_opt = optimize_lambda(y, x, lambda_min, lambda_max, lambda_steps, arg_rr)"
   ]
  },
  {
   "cell_type": "markdown",
   "metadata": {},
   "source": [
    "# Tune gamma (step descent) for least square gradient descent"
   ]
  },
  {
   "cell_type": "code",
   "execution_count": null,
   "metadata": {
    "collapsed": true
   },
   "outputs": [],
   "source": [
    "# least squares gradient descent parameters\n",
    "arg_lsgd = dict()\n",
    "arg_lsgd['method'] = 'lsgd'\n",
    "arg_lsgd['loss'] = 'rmse'\n",
    "arg_lsgd['degree'] = 3\n",
    "arg_lsgd['k_fold'] = 10\n",
    "arg_lsgd['max_iters'] = 10\n",
    "arg_lsgd['initial_w'] = np.zeros(x.shape[1]*arg_lsgd['degree']+1)\n",
    "\n",
    "\n",
    "# optimization parameters\n",
    "gamma_min = 1e-5\n",
    "gamma_max = 1e-1\n",
    "gamma_steps = 10\n",
    "\n",
    "# optimize lambda_\n",
    "lambda_opt = optimize_lambda(y, x, gamma_min, gamma_max, gamma_steps, arg_rr)"
   ]
  }
 ],
 "metadata": {
  "kernelspec": {
   "display_name": "Python 3",
   "language": "python",
   "name": "python3"
  },
  "language_info": {
   "codemirror_mode": {
    "name": "ipython",
    "version": 3
   },
   "file_extension": ".py",
   "mimetype": "text/x-python",
   "name": "python",
   "nbconvert_exporter": "python",
   "pygments_lexer": "ipython3",
   "version": "3.6.1"
  }
 },
 "nbformat": 4,
 "nbformat_minor": 2
}
