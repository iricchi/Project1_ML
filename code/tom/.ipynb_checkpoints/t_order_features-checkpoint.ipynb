{
 "cells": [
  {
   "cell_type": "code",
   "execution_count": 5,
   "metadata": {},
   "outputs": [
    {
     "name": "stdout",
     "output_type": "stream",
     "text": [
      "The autoreload extension is already loaded. To reload it, use:\n",
      "  %reload_ext autoreload\n"
     ]
    }
   ],
   "source": [
    "# -*- coding: utf-8 -*-\n",
    "%matplotlib inline\n",
    "%load_ext autoreload\n",
    "%autoreload 2\n",
    "\n",
    "# add path\n",
    "import sys\n",
    "my_path = r'D:\\Documents\\etudes\\epfl\\MA1\\cours\\MachineLearning\\Project1'\n",
    "sys.path.insert(0,my_path + r'\\code\\COMMON')\n",
    "\n",
    "# basic imports \n",
    "import numpy as np\n",
    "import matplotlib.pyplot as plt\n",
    "from optimize_hyperparams import *"
   ]
  },
  {
   "cell_type": "markdown",
   "metadata": {},
   "source": [
    "# Build dataset"
   ]
  },
  {
   "cell_type": "code",
   "execution_count": 2,
   "metadata": {},
   "outputs": [
    {
     "name": "stdout",
     "output_type": "stream",
     "text": [
      "-999 are replaced by the median value of the feature\n"
     ]
    }
   ],
   "source": [
    "from proj1_helpers import load_csv_data \n",
    "from outliers import handle_outliers\n",
    "from standard import standardize\n",
    "\n",
    "# load raw data\n",
    "y_raw, input_data_raw, ids = load_csv_data(my_path + r'\\data\\train.csv', sub_sample=False)\n",
    "\n",
    "# handle outliers\n",
    "X, y = handle_outliers(input_data_raw, y_raw, -999, 'median')\n",
    "\n",
    "# standardize\n",
    "X, mean_x, std_x = standardize(X)"
   ]
  },
  {
   "cell_type": "markdown",
   "metadata": {},
   "source": [
    "# Least squares backward"
   ]
  },
  {
   "cell_type": "code",
   "execution_count": 8,
   "metadata": {},
   "outputs": [
    {
     "name": "stdout",
     "output_type": "stream",
     "text": [
      "tested degree:  [ 1  2  3  4  5  6  7  8  9 10] \n",
      "\n",
      "------------------------------------------ cross validation with degree =  1\n",
      "------------------------------------------ cross validation with degree =  2\n",
      "------------------------------------------ cross validation with degree =  3\n",
      "------------------------------------------ cross validation with degree =  4\n"
     ]
    },
    {
     "name": "stderr",
     "output_type": "stream",
     "text": [
      "D:\\Documents\\etudes\\epfl\\MA1\\cours\\MachineLearning\\Project1\\code\\COMMON\\costs.py:43: RuntimeWarning: overflow encountered in exp\n",
      "  loglikelihood = np.sum(np.log(1+np.exp(tx.dot(w))) - y*(tx.dot(w))) + lambda_*w.T.dot(w)\n"
     ]
    },
    {
     "name": "stdout",
     "output_type": "stream",
     "text": [
      "------------------------------------------ cross validation with degree =  5\n",
      "------------------------------------------ cross validation with degree =  6\n",
      "------------------------------------------ cross validation with degree =  7\n",
      "------------------------------------------ cross validation with degree =  8\n",
      "------------------------------------------ cross validation with degree =  9\n",
      "------------------------------------------ cross validation with degree =  10\n",
      "Optimal degree:  3\n",
      "Associated testing loss:  5483.34179905 \n",
      "\n",
      "tested degree:  [ 1  2  3  4  5  6  7  8  9 10] \n",
      "\n",
      "------------------------------------------ cross validation with degree =  1\n",
      "------------------------------------------ cross validation with degree =  2\n",
      "------------------------------------------ cross validation with degree =  3\n",
      "------------------------------------------ cross validation with degree =  4\n",
      "------------------------------------------ cross validation with degree =  5\n",
      "------------------------------------------ cross validation with degree =  6\n"
     ]
    },
    {
     "ename": "KeyboardInterrupt",
     "evalue": "",
     "output_type": "error",
     "traceback": [
      "\u001b[1;31m---------------------------------------------------------------------------\u001b[0m",
      "\u001b[1;31mKeyboardInterrupt\u001b[0m                         Traceback (most recent call last)",
      "\u001b[1;32m<ipython-input-8-17efe0030f04>\u001b[0m in \u001b[0;36m<module>\u001b[1;34m()\u001b[0m\n\u001b[0;32m     34\u001b[0m \u001b[1;33m\u001b[0m\u001b[0m\n\u001b[0;32m     35\u001b[0m         \u001b[1;31m# fit\u001b[0m\u001b[1;33m\u001b[0m\u001b[1;33m\u001b[0m\u001b[0m\n\u001b[1;32m---> 36\u001b[1;33m         \u001b[0mw_opt_j\u001b[0m\u001b[1;33m,\u001b[0m \u001b[0mloss_tr_j\u001b[0m\u001b[1;33m,\u001b[0m \u001b[0mloss_te_j\u001b[0m\u001b[1;33m,\u001b[0m \u001b[0mdegree_opt_j\u001b[0m \u001b[1;33m=\u001b[0m \u001b[0moptimize_degree\u001b[0m\u001b[1;33m(\u001b[0m\u001b[0my\u001b[0m\u001b[1;33m,\u001b[0m \u001b[0mX\u001b[0m\u001b[1;33m[\u001b[0m\u001b[1;33m:\u001b[0m\u001b[1;33m,\u001b[0m\u001b[0mind_f_j\u001b[0m\u001b[1;33m]\u001b[0m\u001b[1;33m,\u001b[0m \u001b[0mdegree_min\u001b[0m\u001b[1;33m,\u001b[0m \u001b[0mdegree_max\u001b[0m\u001b[1;33m,\u001b[0m \u001b[0mdegree_steps\u001b[0m\u001b[1;33m,\u001b[0m \u001b[0marg_ls\u001b[0m\u001b[1;33m,\u001b[0m \u001b[0mdebug_mode\u001b[0m\u001b[1;33m=\u001b[0m\u001b[1;36m1\u001b[0m\u001b[1;33m)\u001b[0m\u001b[1;33m\u001b[0m\u001b[0m\n\u001b[0m\u001b[0;32m     37\u001b[0m \u001b[1;33m\u001b[0m\u001b[0m\n\u001b[0;32m     38\u001b[0m         \u001b[1;31m# compare\u001b[0m\u001b[1;33m\u001b[0m\u001b[1;33m\u001b[0m\u001b[0m\n",
      "\u001b[1;32mD:\\Documents\\etudes\\epfl\\MA1\\cours\\MachineLearning\\Project1\\code\\COMMON\\optimize_hyperparams.py\u001b[0m in \u001b[0;36moptimize_degree\u001b[1;34m(y, x, degree_min, degree_max, degree_steps, args, debug_mode)\u001b[0m\n\u001b[0;32m     77\u001b[0m \u001b[1;33m\u001b[0m\u001b[0m\n\u001b[0;32m     78\u001b[0m         \u001b[1;31m# build polynomial basis function\u001b[0m\u001b[1;33m\u001b[0m\u001b[1;33m\u001b[0m\u001b[0m\n\u001b[1;32m---> 79\u001b[1;33m         \u001b[0mphi\u001b[0m \u001b[1;33m=\u001b[0m \u001b[0mbuild_poly\u001b[0m\u001b[1;33m(\u001b[0m\u001b[0mx\u001b[0m\u001b[1;33m,\u001b[0m \u001b[0mdegree_tmp\u001b[0m\u001b[1;33m)\u001b[0m\u001b[1;33m\u001b[0m\u001b[0m\n\u001b[0m\u001b[0;32m     80\u001b[0m \u001b[1;33m\u001b[0m\u001b[0m\n\u001b[0;32m     81\u001b[0m         \u001b[1;31m# cross validation with degree_tmp\u001b[0m\u001b[1;33m\u001b[0m\u001b[1;33m\u001b[0m\u001b[0m\n",
      "\u001b[1;32mD:\\Documents\\etudes\\epfl\\MA1\\cours\\MachineLearning\\Project1\\code\\COMMON\\build_poly.py\u001b[0m in \u001b[0;36mbuild_poly\u001b[1;34m(x, degree)\u001b[0m\n\u001b[0;32m     12\u001b[0m         \u001b[0mvander\u001b[0m \u001b[1;33m=\u001b[0m \u001b[0mnp\u001b[0m\u001b[1;33m.\u001b[0m\u001b[0mdelete\u001b[0m\u001b[1;33m(\u001b[0m\u001b[0mvander\u001b[0m\u001b[1;33m,\u001b[0m \u001b[1;36m0\u001b[0m\u001b[1;33m,\u001b[0m\u001b[0maxis\u001b[0m \u001b[1;33m=\u001b[0m \u001b[1;36m1\u001b[0m\u001b[1;33m)\u001b[0m\u001b[1;33m\u001b[0m\u001b[0m\n\u001b[0;32m     13\u001b[0m         \u001b[1;31m#concatenation\u001b[0m\u001b[1;33m\u001b[0m\u001b[1;33m\u001b[0m\u001b[0m\n\u001b[1;32m---> 14\u001b[1;33m         \u001b[0mX\u001b[0m \u001b[1;33m=\u001b[0m \u001b[0mnp\u001b[0m\u001b[1;33m.\u001b[0m\u001b[0mconcatenate\u001b[0m\u001b[1;33m(\u001b[0m\u001b[1;33m(\u001b[0m\u001b[0mX\u001b[0m\u001b[1;33m,\u001b[0m \u001b[0mvander\u001b[0m\u001b[1;33m)\u001b[0m\u001b[1;33m,\u001b[0m \u001b[0maxis\u001b[0m\u001b[1;33m=\u001b[0m\u001b[1;36m1\u001b[0m\u001b[1;33m)\u001b[0m\u001b[1;33m\u001b[0m\u001b[0m\n\u001b[0m\u001b[0;32m     15\u001b[0m \u001b[1;33m\u001b[0m\u001b[0m\n\u001b[0;32m     16\u001b[0m     \u001b[1;32mreturn\u001b[0m \u001b[0mX\u001b[0m\u001b[1;33m\u001b[0m\u001b[0m\n",
      "\u001b[1;31mKeyboardInterrupt\u001b[0m: "
     ]
    },
    {
     "data": {
      "image/png": "[encoded data removed]",
      "text/plain": [
       "<matplotlib.figure.Figure at 0x6b9b3f1780>"
      ]
     },
     "metadata": {},
     "output_type": "display_data"
    }
   ],
   "source": [
    "# initialize with all features\n",
    "ind_f = range(1,30)\n",
    "\n",
    "# store\n",
    "ind_f_tot = []\n",
    "loss_tot = []\n",
    "degree_opt_tot = []\n",
    "\n",
    "# ridge regression parameters\n",
    "arg_ls = dict()\n",
    "arg_ls['method'] = 'ls'\n",
    "arg_ls['loss'] = 'loglikelihood'\n",
    "arg_ls['max_iters'] = 100\n",
    "arg_ls['k_fold'] = 10\n",
    "arg_ls['lambda_'] = 0\n",
    "\n",
    "# parameters\n",
    "degree_min = 1\n",
    "degree_max = 5\n",
    "degree_steps = 1\n",
    "k_fold = 5\n",
    "\n",
    "for i in range(1,30):\n",
    "    \n",
    "    # regression with 30-i features\n",
    "    loss_te_i = float('inf')\n",
    "    degree_opt_i = np.empty((1,))\n",
    "    ind_f_i = np.empty((1,30-i))\n",
    "    \n",
    "    for j in range(1,30-i):\n",
    "        \n",
    "        # remove feature j\n",
    "        ind_f_j = np.delete(ind_f, j)\n",
    "\n",
    "        # fit  \n",
    "        w_opt_j, loss_tr_j, loss_te_j, degree_opt_j = optimize_degree(y, X[:,ind_f_j], degree_min, degree_max, degree_steps, arg_ls, debug_mode=1)\n",
    "        \n",
    "        # compare  \n",
    "        if loss_te_j < loss_te_i:\n",
    "            loss_te_i = loss_te_j\n",
    "            degree_opt_i = degree_opt_j\n",
    "            ind_f_i = ind_f_j\n",
    "\n",
    "    # store \n",
    "    ind_f_tot.append(ind_f_i)\n",
    "    loss_tot.append(loss_te_i)\n",
    "    degree_opt_tot.append(degree_opt_i)\n",
    "\n",
    "# results\n",
    "plt.figure"
   ]
  },
  {
   "cell_type": "code",
   "execution_count": null,
   "metadata": {
    "collapsed": true
   },
   "outputs": [],
   "source": []
  }
 ],
 "metadata": {
  "kernelspec": {
   "display_name": "Python 3",
   "language": "python",
   "name": "python3"
  },
  "language_info": {
   "codemirror_mode": {
    "name": "ipython",
    "version": 3
   },
   "file_extension": ".py",
   "mimetype": "text/x-python",
   "name": "python",
   "nbconvert_exporter": "python",
   "pygments_lexer": "ipython3",
   "version": "3.6.1"
  }
 },
 "nbformat": 4,
 "nbformat_minor": 2
}
