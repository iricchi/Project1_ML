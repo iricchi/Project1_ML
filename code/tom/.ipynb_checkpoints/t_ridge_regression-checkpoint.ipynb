{
 "cells": [
  {
   "cell_type": "code",
   "execution_count": 5,
   "metadata": {},
   "outputs": [
    {
     "name": "stdout",
     "output_type": "stream",
     "text": [
      "The autoreload extension is already loaded. To reload it, use:\n",
      "  %reload_ext autoreload\n"
     ]
    }
   ],
   "source": [
    "# -*- coding: utf-8 -*-\n",
    "%matplotlib inline\n",
    "%load_ext autoreload\n",
    "%autoreload 2\n",
    "\n",
    "# add path\n",
    "import sys\n",
    "my_path = r'D:\\Documents\\etudes\\epfl\\MA1\\cours\\MachineLearning\\Project1'\n",
    "sys.path.insert(0,my_path + r'\\code\\COMMON')\n",
    "\n",
    "# basic imports \n",
    "import numpy as np\n",
    "from t_optimize_hyperparameters import *"
   ]
  },
  {
   "cell_type": "markdown",
   "metadata": {},
   "source": [
    "# Build dataset"
   ]
  },
  {
   "cell_type": "code",
   "execution_count": 2,
   "metadata": {},
   "outputs": [
    {
     "name": "stdout",
     "output_type": "stream",
     "text": [
      "samples with -999 are removed from the dataset \n"
     ]
    }
   ],
   "source": [
    "from proj1_helpers import load_csv_data \n",
    "from outliers import handle_outliers\n",
    "from standard import standardize\n",
    "\n",
    "# load raw data\n",
    "y_raw, input_data_raw, ids = load_csv_data(my_path + r'\\data\\train.csv', sub_sample=False)\n",
    "\n",
    "# handle outliers\n",
    "X0, y = handle_outliers(input_data_raw, y_raw, -999, True)\n",
    "\n",
    "# standardize\n",
    "X0, mean_X0, std_X0 = standardize(X0)"
   ]
  },
  {
   "cell_type": "markdown",
   "metadata": {},
   "source": [
    "# Build ridge regression model"
   ]
  },
  {
   "cell_type": "code",
   "execution_count": 3,
   "metadata": {},
   "outputs": [
    {
     "name": "stdout",
     "output_type": "stream",
     "text": [
      "(68114, 21)\n"
     ]
    }
   ],
   "source": [
    "# choose the features\n",
    "ind_features = [12, 13, 1, 11, 22, 4, 19, 29, 16, 3, 23, 2, 7, 6, 21, 26, 18, 28, 9, 20, 14]\n",
    "X = X0[:, ind_features]\n",
    "print(X.shape)\n",
    "\n",
    "# ridge regression parameters\n",
    "arg_rr = dict()\n",
    "arg_rr['method'] = 'rr'\n",
    "arg_rr['loss'] = 'rmse'"
   ]
  },
  {
   "cell_type": "markdown",
   "metadata": {},
   "source": [
    "# Optimize the degree of the polynomial basis function"
   ]
  },
  {
   "cell_type": "code",
   "execution_count": 8,
   "metadata": {
    "scrolled": true
   },
   "outputs": [
    {
     "name": "stdout",
     "output_type": "stream",
     "text": [
      "tested degree:  [ 1  2  3  4  5  6  7  8  9 10 11] \n",
      "\n",
      "------------------------ test with degree =  1 ------------------------\n",
      "Number of samples in total:  68114\n",
      "Number of folds:  10  of 6811 samples.\n",
      "Mean training loss:  0.868371653968\n",
      "Mean testing loss:  0.868679955098\n",
      "------------------------ test with degree =  2 ------------------------\n",
      "Number of samples in total:  68114\n",
      "Number of folds:  10  of 6811 samples.\n",
      "Mean training loss:  0.823975571415\n",
      "Mean testing loss:  0.824908004471\n",
      "------------------------ test with degree =  3 ------------------------\n",
      "Number of samples in total:  68114\n",
      "Number of folds:  10  of 6811 samples.\n",
      "Mean training loss:  0.806557838083\n",
      "Mean testing loss:  0.810484458129\n",
      "------------------------ test with degree =  4 ------------------------\n",
      "Number of samples in total:  68114\n",
      "Number of folds:  10  of 6811 samples.\n",
      "Mean training loss:  0.801046061512\n",
      "Mean testing loss:  0.808856096922\n",
      "------------------------ test with degree =  5 ------------------------\n",
      "Number of samples in total:  68114\n",
      "Number of folds:  10  of 6811 samples.\n",
      "Mean training loss:  0.799331341842\n",
      "Mean testing loss:  0.80562571893\n",
      "------------------------ test with degree =  6 ------------------------\n",
      "Number of samples in total:  68114\n",
      "Number of folds:  10  of 6811 samples.\n",
      "Mean training loss:  0.796850326266\n",
      "Mean testing loss:  1.0159424073\n",
      "------------------------ test with degree =  7 ------------------------\n",
      "Number of samples in total:  68114\n",
      "Number of folds:  10  of 6811 samples.\n",
      "Mean training loss:  0.791405769556\n",
      "Mean testing loss:  1.68988168526\n",
      "------------------------ test with degree =  8 ------------------------\n",
      "Number of samples in total:  68114\n",
      "Number of folds:  10  of 6811 samples.\n",
      "Mean training loss:  0.78328184958\n",
      "Mean testing loss:  3.15848402657\n",
      "------------------------ test with degree =  9 ------------------------\n",
      "Number of samples in total:  68114\n",
      "Number of folds:  10  of 6811 samples.\n",
      "Mean training loss:  0.780209294684\n",
      "Mean testing loss:  14.7401830399\n",
      "------------------------ test with degree =  10 ------------------------\n",
      "Number of samples in total:  68114\n",
      "Number of folds:  10  of 6811 samples.\n",
      "Mean training loss:  0.994840709841\n",
      "Mean testing loss:  81.3094398063\n",
      "------------------------ test with degree =  11 ------------------------\n",
      "Number of samples in total:  68114\n",
      "Number of folds:  10  of 6811 samples.\n",
      "Mean training loss:  1.46048865822\n",
      "Mean testing loss:  348.220859709\n",
      "------------------------\n",
      "Optimal degree:  9\n",
      "Associated testing loss:  0.775837674989 \n",
      "\n"
     ]
    },
    {
     "data": {
      "image/png": "[encoded data removed]",
      "text/plain": [
       "<matplotlib.figure.Figure at 0x44f9a6f5f8>"
      ]
     },
     "metadata": {},
     "output_type": "display_data"
    }
   ],
   "source": [
    "# other hyperparameters\n",
    "arg_rr['lambda_'] = 0\n",
    "\n",
    "# optimization parameters\n",
    "degree_min = 1 \n",
    "degree_max = 12\n",
    "degree_steps = 1\n",
    "arg_rr['k_fold'] = 10\n",
    "\n",
    "# optimize degree\n",
    "degree_opt = optimize_degree(y, X, degree_min, degree_max, degree_steps, arg_rr)"
   ]
  },
  {
   "cell_type": "markdown",
   "metadata": {},
   "source": [
    "# Optimize the lambda_ for regularization"
   ]
  },
  {
   "cell_type": "code",
   "execution_count": 9,
   "metadata": {},
   "outputs": [
    {
     "ename": "NameError",
     "evalue": "name 'x' is not defined",
     "output_type": "error",
     "traceback": [
      "\u001b[1;31m---------------------------------------------------------------------------\u001b[0m",
      "\u001b[1;31mNameError\u001b[0m                                 Traceback (most recent call last)",
      "\u001b[1;32m<ipython-input-9-163d929fd5ca>\u001b[0m in \u001b[0;36m<module>\u001b[1;34m()\u001b[0m\n\u001b[0;32m     12\u001b[0m \u001b[1;33m\u001b[0m\u001b[0m\n\u001b[0;32m     13\u001b[0m \u001b[1;31m# optimize lambda_\u001b[0m\u001b[1;33m\u001b[0m\u001b[1;33m\u001b[0m\u001b[0m\n\u001b[1;32m---> 14\u001b[1;33m \u001b[0mlambda_opt\u001b[0m \u001b[1;33m=\u001b[0m \u001b[0moptimize_lambda\u001b[0m\u001b[1;33m(\u001b[0m\u001b[0my\u001b[0m\u001b[1;33m,\u001b[0m \u001b[0mx\u001b[0m\u001b[1;33m,\u001b[0m \u001b[0mlambda_min\u001b[0m\u001b[1;33m,\u001b[0m \u001b[0mlambda_max\u001b[0m\u001b[1;33m,\u001b[0m \u001b[0mlambda_steps\u001b[0m\u001b[1;33m,\u001b[0m \u001b[0marg_rr\u001b[0m\u001b[1;33m)\u001b[0m\u001b[1;33m\u001b[0m\u001b[0m\n\u001b[0m",
      "\u001b[1;31mNameError\u001b[0m: name 'x' is not defined"
     ]
    }
   ],
   "source": [
    "# ridge regression parameters\n",
    "arg_rr = dict()\n",
    "arg_rr['method'] = 'rr'\n",
    "arg_rr['loss'] = 'rmse'\n",
    "arg_rr['degree'] = 9\n",
    "arg_rr['k_fold'] = 10\n",
    "\n",
    "# optimization parameters\n",
    "lambda_min = -10 \n",
    "lambda_max = 1\n",
    "lambda_steps = 10\n",
    "\n",
    "# optimize lambda_\n",
    "lambda_opt = optimize_lambda(y, X, lambda_min, lambda_max, lambda_steps, arg_rr)"
   ]
  },
  {
   "cell_type": "code",
   "execution_count": null,
   "metadata": {
    "collapsed": true
   },
   "outputs": [],
   "source": []
  }
 ],
 "metadata": {
  "kernelspec": {
   "display_name": "Python 3",
   "language": "python",
   "name": "python3"
  },
  "language_info": {
   "codemirror_mode": {
    "name": "ipython",
    "version": 3
   },
   "file_extension": ".py",
   "mimetype": "text/x-python",
   "name": "python",
   "nbconvert_exporter": "python",
   "pygments_lexer": "ipython3",
   "version": "3.6.1"
  }
 },
 "nbformat": 4,
 "nbformat_minor": 2
}
