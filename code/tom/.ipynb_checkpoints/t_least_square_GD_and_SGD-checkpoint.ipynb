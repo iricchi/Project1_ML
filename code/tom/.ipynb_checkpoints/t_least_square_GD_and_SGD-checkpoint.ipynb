{
 "cells": [
  {
   "cell_type": "code",
   "execution_count": 9,
   "metadata": {},
   "outputs": [
    {
     "name": "stdout",
     "output_type": "stream",
     "text": [
      "The autoreload extension is already loaded. To reload it, use:\n",
      "  %reload_ext autoreload\n"
     ]
    }
   ],
   "source": [
    "# -*- coding: utf-8 -*-\n",
    "%matplotlib inline\n",
    "%load_ext autoreload\n",
    "%autoreload 2\n",
    "\n",
    "# add path\n",
    "import sys\n",
    "my_path = r'D:\\Documents\\etudes\\epfl\\MA1\\cours\\MachineLearning\\Project1'\n",
    "sys.path.insert(0,my_path + r'\\code\\COMMON')\n",
    "\n",
    "# import \n",
    "import numpy as np\n",
    "from implementations import *\n"
   ]
  },
  {
   "cell_type": "markdown",
   "metadata": {},
   "source": [
    "# Load training sets "
   ]
  },
  {
   "cell_type": "code",
   "execution_count": 12,
   "metadata": {
    "collapsed": true
   },
   "outputs": [],
   "source": [
    "from proj1_helpers import load_csv_data \n",
    "\n",
    "# load \n",
    "y_raw, input_data_raw, ids = load_csv_data(my_path + r'\\data\\train.csv', sub_sample=False)"
   ]
  },
  {
   "cell_type": "markdown",
   "metadata": {},
   "source": [
    "# Handle outliers"
   ]
  },
  {
   "cell_type": "code",
   "execution_count": 13,
   "metadata": {
    "collapsed": true
   },
   "outputs": [],
   "source": [
    "from outliers import handle_outliers\n",
    "\n",
    "# outliers\n",
    "X, y = handle_outliers(input_data_raw, y_raw, -999, True)"
   ]
  },
  {
   "cell_type": "markdown",
   "metadata": {},
   "source": [
    "# Separate PRI and DER in the input data"
   ]
  },
  {
   "cell_type": "code",
   "execution_count": 14,
   "metadata": {},
   "outputs": [
    {
     "name": "stdout",
     "output_type": "stream",
     "text": [
      "['DER_mass_MMC' 'DER_mass_transverse_met_lep' 'DER_mass_vis' 'DER_pt_h'\n",
      " 'DER_deltaeta_jet_jet' 'DER_mass_jet_jet' 'DER_prodeta_jet_jet'\n",
      " 'DER_deltar_tau_lep' 'DER_pt_tot' 'DER_sum_pt' 'DER_pt_ratio_lep_tau'\n",
      " 'DER_met_phi_centrality' 'DER_lep_eta_centrality' 'PRI_tau_pt'\n",
      " 'PRI_tau_eta' 'PRI_tau_phi' 'PRI_lep_pt' 'PRI_lep_eta' 'PRI_lep_phi'\n",
      " 'PRI_met' 'PRI_met_phi' 'PRI_met_sumet' 'PRI_jet_num' 'PRI_jet_leading_pt'\n",
      " 'PRI_jet_leading_eta' 'PRI_jet_leading_phi' 'PRI_jet_subleading_pt'\n",
      " 'PRI_jet_subleading_eta' 'PRI_jet_subleading_phi' 'PRI_jet_all_pt']\n",
      "all:  (68114, 30)\n",
      "der:  (68114, 13)\n",
      "pri:  (68114, 17)\n",
      "labels:  (68114,)\n"
     ]
    }
   ],
   "source": [
    "# names of the features \n",
    "featureNames = np.genfromtxt(my_path + r'\\data\\train.csv', delimiter=\",\", dtype=str, max_rows = 1)[2:]\n",
    "print(featureNames)\n",
    "\n",
    "# derived features from primitive data\n",
    "X_der = X[:,:13]\n",
    "\n",
    "# primitive data\n",
    "X_pri = X[:,13:]\n",
    "\n",
    "print(\"all: \", X.shape)\n",
    "print(\"der: \",X_der.shape)\n",
    "print(\"pri: \",X_pri.shape)\n",
    "print(\"labels: \",y.shape)"
   ]
  },
  {
   "cell_type": "markdown",
   "metadata": {},
   "source": [
    "# Least squares Gradient descent"
   ]
  },
  {
   "cell_type": "code",
   "execution_count": 42,
   "metadata": {
    "scrolled": true
   },
   "outputs": [
    {
     "name": "stdout",
     "output_type": "stream",
     "text": [
      "Gradient Descent(29/29): loss MSE=3.6504329243978196e-11, w0=-0.0002784715567133101, w1=-4.204503469274103e-05\n"
     ]
    },
    {
     "data": {
      "image/png": "[encoded data removed]",
      "text/plain": [
       "<matplotlib.figure.Figure at 0x70eeb33d68>"
      ]
     },
     "metadata": {},
     "output_type": "display_data"
    }
   ],
   "source": [
    "import matplotlib.pyplot as plt\n",
    "\n",
    "# choose features\n",
    "ind_features = [1]\n",
    "\n",
    "# initialize weights\n",
    "initial_w = np.zeros(X.shape[1])\n",
    "\n",
    "# number of iterations\n",
    "max_iters = 30\n",
    "\n",
    "# step for the GD\n",
    "gamma = 1e-6\n",
    "\n",
    "# least squares GD\n",
    "w_ls, loss_ls = least_squares_GD(y[ind_features], X[ind_features,:], initial_w, max_iters, gamma)\n",
    "\n",
    "# plot losses\n",
    "plt.figure()\n",
    "plt.plot(range(max_iters), loss_ls)\n",
    "plt.show()"
   ]
  },
  {
   "cell_type": "markdown",
   "metadata": {},
   "source": [
    "# Load testing sets and handle outliers"
   ]
  },
  {
   "cell_type": "code",
   "execution_count": null,
   "metadata": {
    "collapsed": true
   },
   "outputs": [],
   "source": [
    "from proj1_helpers import load_csv_data \n",
    "from outliers import handle_outliers\n",
    "\n",
    "# load \n",
    "y_te_raw, input_data_te_raw, ids_te = load_csv_data(my_path + r'\\data\\test.csv', sub_sample=False)\n",
    "\n",
    "# outliers\n",
    "X, y = handle_outliers(input_data_raw, y_raw, -999, True)"
   ]
  },
  {
   "cell_type": "code",
   "execution_count": 16,
   "metadata": {},
   "outputs": [
    {
     "data": {
      "text/plain": [
       "<matplotlib.figure.Figure at 0x70c6cf4f60>"
      ]
     },
     "execution_count": 16,
     "metadata": {},
     "output_type": "execute_result"
    },
    {
     "data": {
      "text/plain": [
       "<matplotlib.figure.Figure at 0x70c6cf4f60>"
      ]
     },
     "metadata": {},
     "output_type": "display_data"
    }
   ],
   "source": [
    "# classify\n",
    "a"
   ]
  },
  {
   "cell_type": "code",
   "execution_count": null,
   "metadata": {
    "collapsed": true
   },
   "outputs": [],
   "source": [
    "import matplotlib.pyplot as plt\n"
   ]
  }
 ],
 "metadata": {
  "kernelspec": {
   "display_name": "Python 3",
   "language": "python",
   "name": "python3"
  },
  "language_info": {
   "codemirror_mode": {
    "name": "ipython",
    "version": 3
   },
   "file_extension": ".py",
   "mimetype": "text/x-python",
   "name": "python",
   "nbconvert_exporter": "python",
   "pygments_lexer": "ipython3",
   "version": "3.6.1"
  }
 },
 "nbformat": 4,
 "nbformat_minor": 2
}
