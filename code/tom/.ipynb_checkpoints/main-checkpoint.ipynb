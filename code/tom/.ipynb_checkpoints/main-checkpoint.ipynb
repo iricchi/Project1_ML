{
 "cells": [
  {
   "cell_type": "code",
   "execution_count": 1,
   "metadata": {
    "collapsed": true
   },
   "outputs": [],
   "source": [
    "# -*- coding: utf-8 -*-"
   ]
  },
  {
   "cell_type": "code",
   "execution_count": 2,
   "metadata": {
    "collapsed": true
   },
   "outputs": [],
   "source": [
    "# add path\n",
    "import sys\n",
    "my_path = r'D:\\Documents\\etudes\\epfl\\MA1\\cours\\MachineLearning\\Project1'\n",
    "sys.path.insert(0,my_path + r'\\code\\COMMON')\n",
    "\n",
    "# import external modules\n",
    "import numpy as np\n",
    "import matplotlib.pyplot as plt\n",
    "\n",
    "# import internal modules\n",
    "from proj1_helpers import load_csv_data \n",
    "from implementations import *"
   ]
  },
  {
   "cell_type": "markdown",
   "metadata": {},
   "source": [
    "# Load Data"
   ]
  },
  {
   "cell_type": "code",
   "execution_count": 4,
   "metadata": {
    "collapsed": true
   },
   "outputs": [],
   "source": [
    "y, input_data, ids = load_csv_data(my_path + r'\\data\\train.csv', sub_sample=False)"
   ]
  },
  {
   "cell_type": "code",
   "execution_count": 5,
   "metadata": {},
   "outputs": [
    {
     "data": {
      "text/plain": [
       "(250000, 30)"
      ]
     },
     "execution_count": 5,
     "metadata": {},
     "output_type": "execute_result"
    }
   ],
   "source": [
    "np.shape(input_data)"
   ]
  },
  {
   "cell_type": "markdown",
   "metadata": {},
   "source": [
    "# Process the Counting -999"
   ]
  },
  {
   "cell_type": "code",
   "execution_count": 6,
   "metadata": {
    "scrolled": true
   },
   "outputs": [
    {
     "name": "stdout",
     "output_type": "stream",
     "text": [
      "[38114, 0, 0, 0, 177457, 177457, 177457, 0, 0, 0, 0, 0, 177457, 0, 0, 0, 0, 0, 0, 0, 0, 0, 0, 99913, 99913, 99913, 177457, 177457, 177457, 0]\n"
     ]
    }
   ],
   "source": [
    "nine_count = []\n",
    "\n",
    "for i in range(0, np.shape(input_data)[1],1):\n",
    "    nine_count.append(np.shape(np.where((input_data.T)[i]==-999))[1])\n",
    "\n",
    "print(nine_count)"
   ]
  },
  {
   "cell_type": "markdown",
   "metadata": {},
   "source": [
    "# Removal of the -999 lines"
   ]
  },
  {
   "cell_type": "code",
   "execution_count": 17,
   "metadata": {},
   "outputs": [
    {
     "name": "stdout",
     "output_type": "stream",
     "text": [
      "(array([ 0,  0,  0, ..., 28, 28, 28], dtype=int64), array([     2,     10,     14, ..., 249997, 249998, 249999], dtype=int64))\n"
     ]
    },
    {
     "data": {
      "text/plain": [
       "-1.0"
      ]
     },
     "execution_count": 17,
     "metadata": {},
     "output_type": "execute_result"
    }
   ],
   "source": [
    "print(np.where((input_data.T)[:]==-999))\n",
    "\n",
    "X_no_999 = np.delete(input_data, np.where((input_data.T)[:]==-999), axis=0)\n",
    "y_no_999 = np.delete(y, np.where((input_data.T)[:]==-999), axis=0)\n",
    "\n",
    "np.shape(X_no_999)\n",
    "np.shape(y_no_999)\n"
   ]
  },
  {
   "cell_type": "markdown",
   "metadata": {},
   "source": [
    "# Plotting distributions vs. log-distributions\n",
    "\n",
    "Problems: \n",
    "-negative numbers cannot be logged, for now i did abs but it's not fair.\n",
    "-zero can't be logged, i added one."
   ]
  },
  {
   "cell_type": "code",
   "execution_count": null,
   "metadata": {
    "collapsed": true
   },
   "outputs": [],
   "source": [
    "for i in range(0, np.shape(input_data)[1],1):\n",
    "    plt.subplot(121)\n",
    "    plt.hist([(in_data.T)[i]], bins=400, log=False,color='r', alpha=0.5,histtype='stepfilled')\n",
    "    plt.subplot(122)\n",
    "    plt.hist([np.log(1+np.abs(in_data.T)[i])], bins=400, log=False,color='b', alpha=0.5,histtype='stepfilled')\n",
    "    plt.show()"
   ]
  },
  {
   "cell_type": "markdown",
   "metadata": {},
   "source": [
    "# Split input data"
   ]
  },
  {
   "cell_type": "code",
   "execution_count": 8,
   "metadata": {},
   "outputs": [
    {
     "name": "stdout",
     "output_type": "stream",
     "text": [
      "all:  (68109, 30)\n",
      "der:  (68109, 13)\n",
      "pri:  (68109, 17)\n",
      "labels:  (68109,)\n"
     ]
    }
   ],
   "source": [
    "# primitive data\n",
    "x_pri = X_no_999[:,:13]\n",
    "\n",
    "# derived features from primitive data\n",
    "x_der = X_no_999[:,13:]\n",
    "\n",
    "print(\"all: \", X_no_999.shape)\n",
    "print(\"der: \",x_pri.shape)\n",
    "print(\"pri: \",x_der.shape)\n",
    "print(\"labels: \",y_no_999.shape)"
   ]
  },
  {
   "cell_type": "markdown",
   "metadata": {},
   "source": [
    "# Least Square GD"
   ]
  },
  {
   "cell_type": "code",
   "execution_count": 16,
   "metadata": {},
   "outputs": [
    {
     "name": "stdout",
     "output_type": "stream",
     "text": [
      "(68109,)\n",
      "(68109, 2)\n",
      "[ 0.  0.]\n",
      "Gradient Descent(499/499): loss MSE=0.49954677469745284, w0=0.0005479514643856236, w1=-0.0005951279894987428\n"
     ]
    }
   ],
   "source": [
    "# PRI and DER \n",
    "initial_w = np.zeros(X_no_999.shape[1])\n",
    "max_iters = 500\n",
    "gamma = 0.000001\n",
    "#w_ls, loss_ls = least_squares_GD(y_no_999, X_no_999, initial_w, max_iters, gamma)\n",
    "\n",
    "# DER\n",
    "initial_w = np.zeros(x_der.shape[1])\n",
    "max_iters = 500\n",
    "gamma = 0.00001\n",
    "#w_ls, loss_ls = least_squares_GD(y_no_999, x_der, initial_w, max_iters, gamma)\n",
    "\n",
    "# 2 features\n",
    "x_der_12 = x_der[:,:2]\n",
    "initial_w = np.zeros(x_der_12.shape[1])\n",
    "max_iters = 500\n",
    "gamma = 0.0001\n",
    "\n",
    "print(y_no_999.shape)\n",
    "print(x_der_12.shape)\n",
    "print(initial_w)\n",
    "\n",
    "w_ls, loss_ls = least_squares_GD(y_no_999, x_der_12, initial_w, max_iters, gamma)"
   ]
  },
  {
   "cell_type": "markdown",
   "metadata": {},
   "source": [
    "# Least Square SGD"
   ]
  },
  {
   "cell_type": "code",
   "execution_count": 21,
   "metadata": {},
   "outputs": [
    {
     "name": "stdout",
     "output_type": "stream",
     "text": [
      "Gradient Descent(499/499): loss MSE=1.103099596225925, w0=-0.0003815810007730835, w1=-0.002314638849754636\n",
      "Gradient Descent(499/499): loss MSE=558887792.6928523, w0=36.10157261296971, w1=1.508332176384426\n"
     ]
    }
   ],
   "source": [
    "# PRI and DER \n",
    "initial_w = np.zeros(X_no_999.shape[1])\n",
    "max_iters = 500\n",
    "gamma = 0.000001\n",
    "w_ls, loss_ls = least_squares_SGD(y_no_999, X_no_999, initial_w, max_iters, gamma)\n",
    "\n",
    "# DER\n",
    "initial_w = np.zeros(x_der.shape[1])\n",
    "max_iters = 500\n",
    "gamma = 0.00001\n",
    "w_ls, loss_ls = least_squares_SGD(y_no_999, x_der, initial_w, max_iters, gamma)"
   ]
  },
  {
   "cell_type": "code",
   "execution_count": null,
   "metadata": {
    "collapsed": true
   },
   "outputs": [],
   "source": []
  }
 ],
 "metadata": {
  "kernelspec": {
   "display_name": "Python 3",
   "language": "python",
   "name": "python3"
  },
  "language_info": {
   "codemirror_mode": {
    "name": "ipython",
    "version": 3
   },
   "file_extension": ".py",
   "mimetype": "text/x-python",
   "name": "python",
   "nbconvert_exporter": "python",
   "pygments_lexer": "ipython3",
   "version": "3.6.1"
  }
 },
 "nbformat": 4,
 "nbformat_minor": 2
}
