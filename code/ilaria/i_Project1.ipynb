{
 "cells": [
  {
   "cell_type": "markdown",
   "metadata": {},
   "source": [
    "# Project - my version"
   ]
  },
  {
   "cell_type": "code",
   "execution_count": 10,
   "metadata": {
    "collapsed": true
   },
   "outputs": [],
   "source": [
    "import sys\n",
    "\n",
    "my_path = r'/home/ilaria/Scrivania/Machine_Learning/Project_1/Project1_ML'\n",
    "sys.path.insert(0,my_path + r'/code/COMMON')\n",
    "\n",
    "import numpy as np\n",
    "import matplotlib.pyplot as plt\n",
    "from proj1_helpers import load_csv_data \n",
    "from implementations import least_squares"
   ]
  },
  {
   "cell_type": "code",
   "execution_count": 11,
   "metadata": {
    "collapsed": true
   },
   "outputs": [],
   "source": [
    "yb, input_data, ids = load_csv_data(my_path + r'/data/train.csv', sub_sample=False)"
   ]
  },
  {
   "cell_type": "code",
   "execution_count": 12,
   "metadata": {},
   "outputs": [
    {
     "data": {
      "text/plain": [
       "(250000, 30)"
      ]
     },
     "execution_count": 12,
     "metadata": {},
     "output_type": "execute_result"
    }
   ],
   "source": [
    "input_data.shape"
   ]
  },
  {
   "cell_type": "code",
   "execution_count": 13,
   "metadata": {
    "collapsed": true
   },
   "outputs": [],
   "source": [
    "for i in range(input_data.shape[1]):\n",
    "    input_data[np.where(input_data[:,i]==-999),i] = 0\n"
   ]
  },
  {
   "cell_type": "markdown",
   "metadata": {},
   "source": [
    "##  R^2 adjusted - choosing the features"
   ]
  },
  {
   "cell_type": "code",
   "execution_count": 14,
   "metadata": {
    "collapsed": true
   },
   "outputs": [],
   "source": [
    "# Subdived the X features space in single features\n",
    "all_features = np.genfromtxt(my_path + r'/data/train.csv', delimiter=\",\", dtype=str, max_rows = 1)[2:]\n",
    "\n",
    "features = []\n",
    "for i in range(len(all_features)):\n",
    "    features.append((i,all_features[i]))\n",
    "    \n"
   ]
  },
  {
   "cell_type": "code",
   "execution_count": 15,
   "metadata": {},
   "outputs": [
    {
     "name": "stdout",
     "output_type": "stream",
     "text": [
      "-------------------------------------------------\n",
      "Feature chosen:  DER_mass_transverse_met_lep\n",
      "-------------------------------------------------\n",
      "Feature chosen:  PRI_tau_pt\n",
      "-------------------------------------------------\n",
      "Feature chosen:  DER_prodeta_jet_jet\n",
      "-------------------------------------------------\n",
      "Feature chosen:  DER_met_phi_centrality\n",
      "-------------------------------------------------\n",
      "Feature chosen:  DER_deltar_tau_lep\n",
      "-------------------------------------------------\n",
      "Feature chosen:  DER_mass_vis\n",
      "-------------------------------------------------\n",
      "Feature chosen:  PRI_lep_pt\n",
      "-------------------------------------------------\n",
      "Feature chosen:  DER_pt_ratio_lep_tau\n",
      "-------------------------------------------------\n",
      "Feature chosen:  DER_lep_eta_centrality\n",
      "-------------------------------------------------\n",
      "Feature chosen:  PRI_met_sumet\n",
      "-------------------------------------------------\n",
      "Feature chosen:  PRI_met\n",
      "-------------------------------------------------\n",
      "Feature chosen:  DER_mass_jet_jet\n",
      "-------------------------------------------------\n",
      "Feature chosen:  DER_sum_pt\n",
      "-------------------------------------------------\n",
      "Feature chosen:  PRI_jet_leading_pt\n",
      "-------------------------------------------------\n",
      "Feature chosen:  DER_mass_MMC\n",
      "-------------------------------------------------\n",
      "Feature chosen:  PRI_jet_subleading_pt\n",
      "-------------------------------------------------\n",
      "Feature chosen:  DER_pt_h\n",
      "-------------------------------------------------\n",
      "Feature chosen:  PRI_jet_num\n",
      "-------------------------------------------------\n",
      "Feature chosen:  DER_deltaeta_jet_jet\n",
      "-------------------------------------------------\n",
      "Feature chosen:  PRI_lep_phi\n",
      "-------------------------------------------------\n",
      "Feature chosen:  PRI_jet_subleading_phi\n"
     ]
    }
   ],
   "source": [
    "# STEP-WISE\n",
    "all_candidates = input_data\n",
    "\n",
    "n = all_candidates.shape[0] #needed for the R^2 adjusted\n",
    "num = all_candidates.shape[1]\n",
    "H = np.ones((n,1)) #offset\n",
    "\n",
    "#Initialization only with offsets (lack of info)\n",
    "X = H\n",
    "K = 0 #needed for the R^2 adjusted\n",
    "w0 = np.linalg.inv(X.T.dot(X)).dot(X.T).dot(yb)\n",
    "\n",
    "y = X.dot(w0) # our model output\n",
    "e = yb - y\n",
    "sse = np.sum(e**2)\n",
    "sst = np.sum((yb - yb.mean())**2)\n",
    "R2 = np.abs((sst-sse)/sst)\n",
    "R2adj_0 = R2 - (K/(n-K-1)*(1-R2))\n",
    "\n",
    "#fix the R2adj_max\n",
    "\n",
    "R2adj_max = R2adj_0\n",
    "ind_max = 0  # this index will show us which is the best feature chosen\n",
    "del(X)\n",
    "idx_features = []\n",
    "best_R2adj = []\n",
    "\n",
    "for j in range(num):\n",
    "    R2_adj = []\n",
    "    for i in range(all_candidates.shape[1]):\n",
    "        \n",
    "        X = np.concatenate((H,all_candidates[:,i].reshape(n,1)), axis=1)\n",
    "        ws = np.linalg.inv(X.T.dot(X)).dot(X.T).dot(yb)\n",
    "        k = len(ws) -1 # k is the number of regressor I use -> -1 because I don't consider the offset\n",
    "        \n",
    "        y = X.dot(ws)\n",
    "        e = yb - y\n",
    "        SSE = np.sum(e**2)\n",
    "        SST = np.sum((yb- yb.mean())**2)\n",
    "        R2 = np.abs((SST-SSE)/SST)\n",
    "        R2_adj.append(R2 - (k/(n-k-1)*(1-R2)))\n",
    "        \n",
    "    R2adj_chosen = np.max(R2_adj)\n",
    "    best_R2adj.append(R2adj_chosen)\n",
    "    idx_chosen = np.argmax(R2_adj)\n",
    "    \n",
    "    if R2adj_chosen > R2adj_max:\n",
    "        R2adj_max = R2adj_chosen\n",
    "        ind_max = idx_chosen\n",
    "        \n",
    "        #idx_features.append(np.where(all_candidates[:,ind_max] == input_data))\n",
    "        H = np.concatenate((H, all_candidates[:,ind_max].reshape(n,1)), axis = 1)\n",
    "        \n",
    "        all_candidates = np.delete(all_candidates,ind_max,1)\n",
    "        print('-------------------------------------------------')\n",
    "        print('Feature chosen: ', features[ind_max][1])\n",
    "        idx_features.append(features[ind_max][0])\n",
    "        del(features[ind_max])\n",
    "        \n",
    "        del(X)\n",
    "        \n",
    "    else:\n",
    "        break\n",
    "        \n"
   ]
  },
  {
   "cell_type": "code",
   "execution_count": 12,
   "metadata": {},
   "outputs": [
    {
     "data": {
      "text/plain": [
       "[0.12349810213950073,\n",
       " 0.15812705121789919,\n",
       " 0.17951656712263689,\n",
       " 0.19145139756206597,\n",
       " 0.20056837340415318,\n",
       " 0.20941610738860805,\n",
       " 0.21772431095196917,\n",
       " 0.22603930769897096,\n",
       " 0.23221052586314267,\n",
       " 0.23507151106960303,\n",
       " 0.24089710530398334,\n",
       " 0.24276279305340798,\n",
       " 0.24496721328203927,\n",
       " 0.2467242281031215,\n",
       " 0.24712956555998059,\n",
       " 0.24727284460920373,\n",
       " 0.24733914906148918,\n",
       " 0.24735847303902625,\n",
       " 0.24737703922184925,\n",
       " 0.24738269455494491,\n",
       " 0.24738361708392093,\n",
       " 0.24738297499122325]"
      ]
     },
     "execution_count": 12,
     "metadata": {},
     "output_type": "execute_result"
    }
   ],
   "source": [
    "best_R2adj"
   ]
  },
  {
   "cell_type": "code",
   "execution_count": 13,
   "metadata": {},
   "outputs": [
    {
     "data": {
      "text/plain": [
       "[1, 13, 6, 11, 7, 2, 16, 10, 12, 21, 19, 5, 9, 23, 0, 26, 3, 22, 4, 18, 28]"
      ]
     },
     "execution_count": 13,
     "metadata": {},
     "output_type": "execute_result"
    }
   ],
   "source": [
    "idx_features"
   ]
  },
  {
   "cell_type": "code",
   "execution_count": 14,
   "metadata": {
    "collapsed": true
   },
   "outputs": [],
   "source": [
    "# Reading file: data set for testing \n",
    "#yb_te, data_test, ids_test = load_csv_data(my_path + r'/data/test.csv', sub_sample=False)"
   ]
  },
  {
   "cell_type": "code",
   "execution_count": 15,
   "metadata": {
    "collapsed": true
   },
   "outputs": [],
   "source": [
    "tx = input_data[:,idx_features]"
   ]
  },
  {
   "cell_type": "code",
   "execution_count": 16,
   "metadata": {
    "collapsed": true
   },
   "outputs": [],
   "source": [
    "w_ls, losses_ls = least_squares(yb,tx)"
   ]
  },
  {
   "cell_type": "code",
   "execution_count": 18,
   "metadata": {},
   "outputs": [
    {
     "data": {
      "text/plain": [
       "0.34848545500222522"
      ]
     },
     "execution_count": 18,
     "metadata": {},
     "output_type": "execute_result"
    }
   ],
   "source": [
    "losses_ls"
   ]
  },
  {
   "cell_type": "code",
   "execution_count": 17,
   "metadata": {
    "collapsed": true
   },
   "outputs": [],
   "source": [
    "y_mymodel = tx.dot(w_ls)"
   ]
  },
  {
   "cell_type": "code",
   "execution_count": 19,
   "metadata": {},
   "outputs": [
    {
     "data": {
      "image/png": "[encoded data removed]",
      "text/plain": [
       "<matplotlib.figure.Figure at 0x7f3ae37ca160>"
      ]
     },
     "metadata": {},
     "output_type": "display_data"
    }
   ],
   "source": [
    "plt.scatter(input_data[:,1], input_data[:,13])\n",
    "plt.show()"
   ]
  },
  {
   "cell_type": "code",
   "execution_count": 21,
   "metadata": {},
   "outputs": [
    {
     "data": {
      "image/png": "[encoded data removed]",
      "text/plain": [
       "<matplotlib.figure.Figure at 0x7f3aed019b00>"
      ]
     },
     "metadata": {},
     "output_type": "display_data"
    }
   ],
   "source": [
    "plt.scatter(input_data[:,6], input_data[:,11])\n",
    "plt.show()"
   ]
  },
  {
   "cell_type": "code",
   "execution_count": null,
   "metadata": {
    "collapsed": true
   },
   "outputs": [],
   "source": []
  }
 ],
 "metadata": {
  "kernelspec": {
   "display_name": "Python 3",
   "language": "python",
   "name": "python3"
  },
  "language_info": {
   "codemirror_mode": {
    "name": "ipython",
    "version": 3
   },
   "file_extension": ".py",
   "mimetype": "text/x-python",
   "name": "python",
   "nbconvert_exporter": "python",
   "pygments_lexer": "ipython3",
   "version": "3.6.1"
  }
 },
 "nbformat": 4,
 "nbformat_minor": 2
}
