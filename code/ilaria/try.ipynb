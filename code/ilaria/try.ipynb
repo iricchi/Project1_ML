{
 "cells": [
  {
   "cell_type": "markdown",
   "metadata": {},
   "source": [
    "# Least Squares selection of the 30 features"
   ]
  },
  {
   "cell_type": "code",
   "execution_count": 1,
   "metadata": {},
   "outputs": [],
   "source": [
    "# TO RUN IT: CHANGE MY PATH\n",
    "%matplotlib inline\n",
    "%load_ext autoreload\n",
    "%autoreload 2\n",
    "import os\n",
    "# change path if necessary\n",
    "import sys\n",
    "my_path = r'/home/ilaria/Scrivania/Machine_Learning/Project_1/Project1_ML'\n",
    "sys.path.insert(0,my_path + r'/code/COMMON')\n",
    "\n",
    "# imports\n",
    "import numpy as np \n",
    "import matplotlib.pyplot as plt\n",
    "\n",
    "from proj1_helpers import predict_labels \n",
    "from implementations import *\n",
    "from labels import idx_2labels\n",
    "from costs import *\n",
    "from optimize_hyperparams import *\n",
    "from cross_validation import *\n",
    "from step_wise import *\n",
    "from extend_features import *"
   ]
  },
  {
   "cell_type": "markdown",
   "metadata": {},
   "source": [
    "# Build Dataset "
   ]
  },
  {
   "cell_type": "code",
   "execution_count": 2,
   "metadata": {
    "collapsed": true
   },
   "outputs": [],
   "source": [
    "from proj1_helpers import load_csv_data \n",
    "\n",
    "# load raw data\n",
    "y_raw, input_data_raw, ids = load_csv_data(my_path + r'/data/train.csv', sub_sample=False)"
   ]
  },
  {
   "cell_type": "code",
   "execution_count": 3,
   "metadata": {},
   "outputs": [
    {
     "name": "stdout",
     "output_type": "stream",
     "text": [
      "-999 are replaced by the mean value of the feature\n"
     ]
    }
   ],
   "source": [
    "from outliers import handle_outliers\n",
    "\n",
    "# handle outliers\n",
    "X0, y = handle_outliers(input_data_raw, y_raw, -999, 'mean')"
   ]
  },
  {
   "cell_type": "code",
   "execution_count": 4,
   "metadata": {
    "collapsed": true
   },
   "outputs": [],
   "source": [
    "# set y in {0,1} instead of {-1,1}\n",
    "y[np.where(y==-1)]=0"
   ]
  },
  {
   "cell_type": "markdown",
   "metadata": {},
   "source": [
    "# Build features"
   ]
  },
  {
   "cell_type": "code",
   "execution_count": 76,
   "metadata": {},
   "outputs": [
    {
     "data": {
      "text/plain": [
       "(250000, 30)"
      ]
     },
     "execution_count": 76,
     "metadata": {},
     "output_type": "execute_result"
    }
   ],
   "source": [
    "# get feature names \n",
    "names = list(np.genfromtxt(my_path + r'/data/train.csv', delimiter=\",\", dtype=str, max_rows = 1)[2:])\n",
    "features_names = []\n",
    "for i in range(len(names)):\n",
    "    features_names.append(names[i])\n",
    "    \n",
    "all_candidates = X0\n",
    "all_candidates.shape"
   ]
  },
  {
   "cell_type": "code",
   "execution_count": 5,
   "metadata": {},
   "outputs": [
    {
     "ename": "NameError",
     "evalue": "name 'features_names' is not defined",
     "output_type": "error",
     "traceback": [
      "\u001b[0;31m---------------------------------------------------------------------------\u001b[0m",
      "\u001b[0;31mNameError\u001b[0m                                 Traceback (most recent call last)",
      "\u001b[0;32m<ipython-input-5-562139a4fc4e>\u001b[0m in \u001b[0;36m<module>\u001b[0;34m()\u001b[0m\n\u001b[1;32m      1\u001b[0m \u001b[0mfeatures\u001b[0m \u001b[0;34m=\u001b[0m \u001b[0;34m[\u001b[0m\u001b[0;34m]\u001b[0m\u001b[0;34m\u001b[0m\u001b[0m\n\u001b[0;32m----> 2\u001b[0;31m \u001b[0;32mfor\u001b[0m \u001b[0mi\u001b[0m \u001b[0;32min\u001b[0m \u001b[0mrange\u001b[0m\u001b[0;34m(\u001b[0m\u001b[0mlen\u001b[0m\u001b[0;34m(\u001b[0m\u001b[0mfeatures_names\u001b[0m\u001b[0;34m)\u001b[0m\u001b[0;34m)\u001b[0m\u001b[0;34m:\u001b[0m\u001b[0;34m\u001b[0m\u001b[0m\n\u001b[0m\u001b[1;32m      3\u001b[0m     \u001b[0mfeatures\u001b[0m\u001b[0;34m.\u001b[0m\u001b[0mappend\u001b[0m\u001b[0;34m(\u001b[0m\u001b[0;34m(\u001b[0m\u001b[0mi\u001b[0m\u001b[0;34m,\u001b[0m\u001b[0mfeatures_names\u001b[0m\u001b[0;34m[\u001b[0m\u001b[0mi\u001b[0m\u001b[0;34m]\u001b[0m\u001b[0;34m)\u001b[0m\u001b[0;34m)\u001b[0m\u001b[0;34m\u001b[0m\u001b[0m\n",
      "\u001b[0;31mNameError\u001b[0m: name 'features_names' is not defined"
     ]
    }
   ],
   "source": [
    "features = []\n",
    "for i in range(len(features_names)):\n",
    "    features.append((i,features_names[i]))"
   ]
  },
  {
   "cell_type": "code",
   "execution_count": 7,
   "metadata": {},
   "outputs": [
    {
     "name": "stdout",
     "output_type": "stream",
     "text": [
      "---------------------------\n",
      "Features have been set to the power(s): [1]\n",
      "16 Features of the momentum have been added\n",
      "4 logarithmic features have been added.\n",
      "Data have been standardized.\n",
      "---------------------------\n"
     ]
    }
   ],
   "source": [
    "names = list(np.genfromtxt(my_path + r'/data/train.csv', delimiter=\",\", dtype=str, max_rows = 1)[2:])\n",
    "log = True\n",
    "degree = 1\n",
    "X0, features = extend_features(input_data_raw, names, degree, log)\n",
    "all_candidates = X0"
   ]
  },
  {
   "cell_type": "code",
   "execution_count": 8,
   "metadata": {},
   "outputs": [
    {
     "data": {
      "text/plain": [
       "(250000, 50)"
      ]
     },
     "execution_count": 8,
     "metadata": {},
     "output_type": "execute_result"
    }
   ],
   "source": [
    "all_candidates.shape"
   ]
  },
  {
   "cell_type": "code",
   "execution_count": 9,
   "metadata": {},
   "outputs": [
    {
     "name": "stdout",
     "output_type": "stream",
     "text": [
      "cv: 0 L0: 0.761666237967\n",
      "R2adj_chosen: 0.0320794565365\n",
      "--------------------------------------------------------------------------------------------\n",
      "Feature chosen:  DER_mass_transverse_met_lep_power_1 (index : 1 ) |  R2adj =  0.0320794565365\n",
      "R2adj_chosen: 0.0411265530781\n",
      "--------------------------------------------------------------------------------------------\n",
      "Feature chosen:  PRI_tau_pt_power_1 (index : 13 ) |  R2adj =  0.0411265530781\n",
      "R2adj_chosen: 0.0476859241161\n",
      "--------------------------------------------------------------------------------------------\n",
      "Feature chosen:  DER_deltaeta_jet_jet_power_1 (index : 4 ) |  R2adj =  0.0476859241161\n",
      "R2adj_chosen: 0.0513540500361\n",
      "--------------------------------------------------------------------------------------------\n",
      "Feature chosen:  DER_met_phi_centrality_power_1 (index : 11 ) |  R2adj =  0.0513540500361\n",
      "R2adj_chosen: 0.0541217005304\n",
      "--------------------------------------------------------------------------------------------\n",
      "Feature chosen:  log(DER_mass_MMC) (index : 46 ) |  R2adj =  0.0541217005304\n",
      "R2adj_chosen: 0.0619509471832\n",
      "--------------------------------------------------------------------------------------------\n",
      "Feature chosen:  DER_mass_MMC_power_1 (index : 0 ) |  R2adj =  0.0619509471832\n",
      "R2adj_chosen: 0.0636698162768\n",
      "--------------------------------------------------------------------------------------------\n",
      "Feature chosen:  PRI_jet_leading_pt_mom_module (index : 44 ) |  R2adj =  0.0636698162768\n",
      "R2adj_chosen: 0.0645875366324\n",
      "--------------------------------------------------------------------------------------------\n",
      "Feature chosen:  DER_deltar_tau_lep_power_1 (index : 7 ) |  R2adj =  0.0645875366324\n",
      "R2adj_chosen: 0.065537927064\n",
      "--------------------------------------------------------------------------------------------\n",
      "Feature chosen:  DER_lep_eta_centrality_power_1 (index : 12 ) |  R2adj =  0.065537927064\n",
      "R2adj_chosen: 0.0663104102943\n",
      "--------------------------------------------------------------------------------------------\n",
      "Feature chosen:  PRI_tau_pt_mom_module (index : 42 ) |  R2adj =  0.0663104102943\n",
      "R2adj_chosen: 0.0670029136786\n",
      "--------------------------------------------------------------------------------------------\n",
      "Feature chosen:  log(DER_mass_vis) (index : 49 ) |  R2adj =  0.0670029136786\n",
      "R2adj_chosen: 0.0676125537267\n",
      "--------------------------------------------------------------------------------------------\n",
      "Feature chosen:  DER_mass_vis_power_1 (index : 2 ) |  R2adj =  0.0676125537267\n",
      "R2adj_chosen: 0.0685500923705\n",
      "--------------------------------------------------------------------------------------------\n",
      "Feature chosen:  PRI_lep_pt_power_1 (index : 16 ) |  R2adj =  0.0685500923705\n",
      "R2adj_chosen: 0.0701328057152\n",
      "--------------------------------------------------------------------------------------------\n",
      "Feature chosen:  DER_pt_ratio_lep_tau_power_1 (index : 10 ) |  R2adj =  0.0701328057152\n",
      "R2adj_chosen: 0.0708869018379\n",
      "--------------------------------------------------------------------------------------------\n",
      "Feature chosen:  PRI_lep_pt_mom_module (index : 43 ) |  R2adj =  0.0708869018379\n",
      "R2adj_chosen: 0.071204342374\n",
      "--------------------------------------------------------------------------------------------\n",
      "Feature chosen:  log(DER_mass_MMC) (index : 47 ) |  R2adj =  0.071204342374\n",
      "R2adj_chosen: 0.0715130336785\n",
      "--------------------------------------------------------------------------------------------\n",
      "Feature chosen:  PRI_jet_subleading_pt_mom_module (index : 45 ) |  R2adj =  0.0715130336785\n",
      "R2adj_chosen: 0.0721154218984\n",
      "--------------------------------------------------------------------------------------------\n",
      "Feature chosen:  PRI_jet_num_power_1 (index : 22 ) |  R2adj =  0.0721154218984\n",
      "R2adj_chosen: 0.0727543538223\n",
      "--------------------------------------------------------------------------------------------\n",
      "Feature chosen:  DER_prodeta_jet_jet_power_1 (index : 6 ) |  R2adj =  0.0727543538223\n",
      "R2adj_chosen: 0.0730407667631\n",
      "--------------------------------------------------------------------------------------------\n",
      "Feature chosen:  PRI_jet_leading_pt_power_1 (index : 23 ) |  R2adj =  0.0730407667631\n",
      "R2adj_chosen: 0.0734366365681\n",
      "--------------------------------------------------------------------------------------------\n",
      "Feature chosen:  PRI_met_power_1 (index : 19 ) |  R2adj =  0.0734366365681\n",
      "R2adj_chosen: 0.0737501026612\n",
      "--------------------------------------------------------------------------------------------\n",
      "Feature chosen:  log(DER_mass_transverse_met_lep) (index : 48 ) |  R2adj =  0.0737501026612\n",
      "R2adj_chosen: 0.0738255571317\n",
      "--------------------------------------------------------------------------------------------\n",
      "Feature chosen:  PRI_met_sumet_power_1 (index : 21 ) |  R2adj =  0.0738255571317\n",
      "R2adj_chosen: 0.0738659884399\n",
      "--------------------------------------------------------------------------------------------\n",
      "Feature chosen:  DER_mass_jet_jet_power_1 (index : 5 ) |  R2adj =  0.0738659884399\n",
      "R2adj_chosen: 0.0739037116954\n",
      "--------------------------------------------------------------------------------------------\n",
      "Feature chosen:  DER_pt_tot_power_1 (index : 8 ) |  R2adj =  0.0739037116954\n",
      "R2adj_chosen: 0.0739213928267\n",
      "--------------------------------------------------------------------------------------------\n",
      "Feature chosen:  PRI_jet_all_pt_power_1 (index : 29 ) |  R2adj =  0.0739213928267\n",
      "R2adj_chosen: 0.0739306257123\n",
      "--------------------------------------------------------------------------------------------\n",
      "Feature chosen:  PRI_jet_leading_pt_mom_comp1 (index : 32 ) |  R2adj =  0.0739306257123\n",
      "R2adj_chosen: 0.073932622376\n",
      "--------------------------------------------------------------------------------------------\n",
      "Feature chosen:  PRI_lep_pt_mom_comp1 (index : 31 ) |  R2adj =  0.073932622376\n",
      "R2adj_chosen: 0.0739346491071\n",
      "--------------------------------------------------------------------------------------------\n",
      "Feature chosen:  PRI_tau_pt_mom_comp1 (index : 30 ) |  R2adj =  0.0739346491071\n",
      "R2adj_chosen: 0.0739426062325\n",
      "--------------------------------------------------------------------------------------------\n",
      "Feature chosen:  PRI_jet_subleading_pt_mom_comp1 (index : 33 ) |  R2adj =  0.0739426062325\n",
      "R2adj_chosen: 0.0739415357684\n"
     ]
    }
   ],
   "source": [
    "# STEPWISE WITH LEAST SQUARE\n",
    "# parameters\n",
    "model = dict()\n",
    "model['method'] = 'ls'\n",
    "model['loss'] = 'rmse'\n",
    "#model['gamma'] = 1e-3\n",
    "#model['max_iters'] = 5000\n",
    "#model['threshold'] = 1e-4\n",
    "#model['debug_mode'] = 1\n",
    "#model['method_minimization'] = 'gd'\n",
    "\n",
    "# R2 type\n",
    "R2_method = 'McFadden' # or 'loss'\n",
    "\n",
    "# estimate R2 error through cross validation (1 or 0)\n",
    "cv = 0\n",
    "\n",
    "best_R2adj, idx_features = stepwise(model, R2_method, all_candidates, features, y, cv)"
   ]
  },
  {
   "cell_type": "code",
   "execution_count": 10,
   "metadata": {},
   "outputs": [
    {
     "name": "stdout",
     "output_type": "stream",
     "text": [
      "step 1 : R2 adjusted = 0.0320794565365\n",
      "step 2 : R2 adjusted = 0.0411265530781\n",
      "step 3 : R2 adjusted = 0.0476859241161\n",
      "step 4 : R2 adjusted = 0.0513540500361\n",
      "step 5 : R2 adjusted = 0.0541217005304\n",
      "step 6 : R2 adjusted = 0.0619509471832\n",
      "step 7 : R2 adjusted = 0.0636698162768\n",
      "step 8 : R2 adjusted = 0.0645875366324\n",
      "step 9 : R2 adjusted = 0.065537927064\n",
      "step 10 : R2 adjusted = 0.0663104102943\n",
      "step 11 : R2 adjusted = 0.0670029136786\n",
      "step 12 : R2 adjusted = 0.0676125537267\n",
      "step 13 : R2 adjusted = 0.0685500923705\n",
      "step 14 : R2 adjusted = 0.0701328057152\n",
      "step 15 : R2 adjusted = 0.0708869018379\n",
      "step 16 : R2 adjusted = 0.071204342374\n",
      "step 17 : R2 adjusted = 0.0715130336785\n",
      "step 18 : R2 adjusted = 0.0721154218984\n",
      "step 19 : R2 adjusted = 0.0727543538223\n",
      "step 20 : R2 adjusted = 0.0730407667631\n",
      "step 21 : R2 adjusted = 0.0734366365681\n",
      "step 22 : R2 adjusted = 0.0737501026612\n",
      "step 23 : R2 adjusted = 0.0738255571317\n",
      "step 24 : R2 adjusted = 0.0738659884399\n",
      "step 25 : R2 adjusted = 0.0739037116954\n",
      "step 26 : R2 adjusted = 0.0739213928267\n",
      "step 27 : R2 adjusted = 0.0739306257123\n",
      "step 28 : R2 adjusted = 0.073932622376\n",
      "step 29 : R2 adjusted = 0.0739346491071\n",
      "step 30 : R2 adjusted = 0.0739426062325\n",
      "-------------------------------------------------------\n",
      "Number of features chosen: 30\n",
      "Indices of features chosen:  [1, 13, 4, 11, 46, 0, 44, 7, 12, 42, 49, 2, 16, 10, 43, 47, 45, 22, 6, 23, 19, 48, 21, 5, 8, 29, 32, 31, 30, 33]\n"
     ]
    }
   ],
   "source": [
    "# display selected features\n",
    "results_r2_stepwise(best_R2adj[:len(best_R2adj)-1], idx_features)"
   ]
  },
  {
   "cell_type": "code",
   "execution_count": 11,
   "metadata": {},
   "outputs": [
    {
     "data": {
      "text/plain": [
       "(250000, 30)"
      ]
     },
     "execution_count": 11,
     "metadata": {},
     "output_type": "execute_result"
    }
   ],
   "source": [
    "X = X0[:,idx_features]\n",
    "X.shape"
   ]
  },
  {
   "cell_type": "markdown",
   "metadata": {},
   "source": [
    "# Adding new features : logarithm + momentum (module and first component)"
   ]
  },
  {
   "cell_type": "code",
   "execution_count": 85,
   "metadata": {},
   "outputs": [
    {
     "name": "stdout",
     "output_type": "stream",
     "text": [
      "(250000, 21)\n"
     ]
    }
   ],
   "source": [
    "# adding the 4 logarithm of the masses\n",
    "#index_log = [0,1,2,5]\n",
    "#for i, indx in enumerate(index_log):\n",
    "#    X = np.concatenate((X, np.log(1+np.abs(X0[:,indx])).reshape(len(X),1)), axis = 1)\n",
    "\n",
    "#print(X.shape)\n",
    "\n",
    "# adding momentum\n",
    "#features_4 = X0[:,[13,16,23,26]]\n",
    "#eta_angles = X0[:, [14,17,24,27]]\n",
    "#phi_angles = X0[:,[15,18,25,28]]        \n",
    "\n",
    "#P_mom_comp1 = features_4*np.cos(phi_angles)\n",
    "#P_mom_mod = features_4*np.cosh(eta_angles)\n",
    "\n",
    "#X = np.concatenate((X, P_mom_mod), axis = 1)\n",
    "#print(X.shape)\n",
    "#X = np.concatenate((X,P_mom_comp1), axis = 1)\n",
    "#print(X.shape)"
   ]
  },
  {
   "cell_type": "code",
   "execution_count": 86,
   "metadata": {
    "collapsed": true
   },
   "outputs": [],
   "source": [
    "# standardize\n",
    "\n",
    "#X, _,_ = standardize(X)"
   ]
  },
  {
   "cell_type": "markdown",
   "metadata": {},
   "source": [
    "# Apply the logistic regression with parameter fixed"
   ]
  },
  {
   "cell_type": "code",
   "execution_count": 12,
   "metadata": {
    "collapsed": true
   },
   "outputs": [],
   "source": [
    "initial_w = np.ones(X.shape[1])\n",
    "max_iters = 1000\n",
    "gamma = 1e-4\n",
    "method = 'gd'\n",
    "\n",
    "w, loss = logistic_regression(y,X,initial_w,max_iters, gamma, method)"
   ]
  },
  {
   "cell_type": "code",
   "execution_count": 13,
   "metadata": {},
   "outputs": [
    {
     "data": {
      "text/plain": [
       "(250000,)"
      ]
     },
     "execution_count": 13,
     "metadata": {},
     "output_type": "execute_result"
    }
   ],
   "source": [
    "yc = predict_labels_log(w[-1],X)\n",
    "yc.shape"
   ]
  },
  {
   "cell_type": "code",
   "execution_count": 14,
   "metadata": {},
   "outputs": [
    {
     "name": "stdout",
     "output_type": "stream",
     "text": [
      "182497\n",
      "67503\n",
      "0.729988\n"
     ]
    }
   ],
   "source": [
    "pos = 0\n",
    "neg = 0\n",
    "for i in range (len(y)):\n",
    "    if y[i] == yc[i]:\n",
    "        pos += 1\n",
    "    else:\n",
    "        neg += 1\n",
    "print(pos)\n",
    "print(neg)\n",
    "\n",
    "success_rate = pos/(pos+neg)\n",
    "print(success_rate)"
   ]
  },
  {
   "cell_type": "markdown",
   "metadata": {},
   "source": [
    "# Load the datatest"
   ]
  },
  {
   "cell_type": "code",
   "execution_count": 15,
   "metadata": {},
   "outputs": [
    {
     "name": "stdout",
     "output_type": "stream",
     "text": [
      "Data loaded! Shape: \n",
      "(568238, 30)\n"
     ]
    }
   ],
   "source": [
    "y, test_data, ids = load_csv_data(r'/home/ilaria/Scrivania/Machine_Learning/Project_1/test.csv', sub_sample=False)\n",
    "\n",
    "print(\"Data loaded! Shape: \")\n",
    "print(np.shape(test_data))"
   ]
  },
  {
   "cell_type": "code",
   "execution_count": 16,
   "metadata": {},
   "outputs": [
    {
     "name": "stdout",
     "output_type": "stream",
     "text": [
      "-999 are replaced by the mean value of the feature\n"
     ]
    }
   ],
   "source": [
    "input_data, Y = handle_outliers(test_data,y,-999,'mean')"
   ]
  },
  {
   "cell_type": "code",
   "execution_count": 94,
   "metadata": {},
   "outputs": [
    {
     "name": "stdout",
     "output_type": "stream",
     "text": [
      "(568238, 17)\n",
      "(568238, 21)\n"
     ]
    }
   ],
   "source": [
    "#X = input_data[:,idx_features]\n",
    "#print(X.shape)\n",
    "\n",
    "# adding the 4 logarithm of the masses\n",
    "#index_log = [0,1,2,5]\n",
    "#for i, indx in enumerate(index_log):\n",
    "#    X = np.concatenate((X, np.log(1+np.abs(X[:,indx])).reshape(len(X),1)), axis = 1)\n",
    "\n",
    "#print(X.shape)\n",
    "\n",
    "# adding momentum\n",
    "#features_4 = input_data[:,[13,16,23,26]]\n",
    "#eta_angles = input_data[:, [14,17,24,27]]\n",
    "#phi_angles = input_data[:,[15,18,25,28]]        \n",
    "\n",
    "#P_mom_comp1 = features_4*np.cos(phi_angles)\n",
    "#P_mom_mod = features_4*np.cosh(eta_angles)\n",
    "\n",
    "#X = np.concatenate((X, P_mom_mod), axis = 1)\n",
    "#print(X.shape)\n",
    "#X = np.concatenate((X, P_mom_comp1), axis = 1)\n",
    "#print(X.shape)\n",
    "\n",
    "#X, _,_ = standardize(X)"
   ]
  },
  {
   "cell_type": "code",
   "execution_count": 23,
   "metadata": {},
   "outputs": [
    {
     "name": "stdout",
     "output_type": "stream",
     "text": [
      "---------------------------\n",
      "Features have been set to the power(s): [1]\n",
      "16 Features of the momentum have been added\n",
      "4 logarithmic features have been added.\n",
      "Data have been standardized.\n",
      "---------------------------\n"
     ]
    }
   ],
   "source": [
    "names = list(np.genfromtxt(my_path + r'/data/train.csv', delimiter=\",\", dtype=str, max_rows = 1)[2:])\n",
    "log = True\n",
    "degree = 1\n",
    "X0, features = extend_features(input_data, names, degree, log)"
   ]
  },
  {
   "cell_type": "code",
   "execution_count": 24,
   "metadata": {},
   "outputs": [
    {
     "data": {
      "text/plain": [
       "(568238, 30)"
      ]
     },
     "execution_count": 24,
     "metadata": {},
     "output_type": "execute_result"
    }
   ],
   "source": [
    "X = X0[:,idx_features] \n",
    "X.shape"
   ]
  },
  {
   "cell_type": "code",
   "execution_count": 25,
   "metadata": {},
   "outputs": [],
   "source": [
    "y_pred = predict_labels_log(w[-1],X)"
   ]
  },
  {
   "cell_type": "code",
   "execution_count": 26,
   "metadata": {
    "collapsed": true
   },
   "outputs": [],
   "source": [
    "y_pred[np.where(y_pred==0)] = -1"
   ]
  },
  {
   "cell_type": "code",
   "execution_count": 27,
   "metadata": {
    "collapsed": true
   },
   "outputs": [],
   "source": [
    "create_csv_submission(ids, y_pred, \"b_sub\")"
   ]
  },
  {
   "cell_type": "code",
   "execution_count": null,
   "metadata": {
    "collapsed": true
   },
   "outputs": [],
   "source": []
  }
 ],
 "metadata": {
  "kernelspec": {
   "display_name": "Python 3",
   "language": "python",
   "name": "python3"
  },
  "language_info": {
   "codemirror_mode": {
    "name": "ipython",
    "version": 3
   },
   "file_extension": ".py",
   "mimetype": "text/x-python",
   "name": "python",
   "nbconvert_exporter": "python",
   "pygments_lexer": "ipython3",
   "version": "3.6.1"
  }
 },
 "nbformat": 4,
 "nbformat_minor": 2
}
