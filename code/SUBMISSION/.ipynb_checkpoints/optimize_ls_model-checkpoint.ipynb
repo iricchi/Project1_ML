{
 "cells": [
  {
   "cell_type": "code",
   "execution_count": 1,
   "metadata": {},
   "outputs": [],
   "source": [
    "# TO RUN IT: CHANGE MY PATH\n",
    "%matplotlib inline\n",
    "%load_ext autoreload\n",
    "%autoreload 2\n",
    "import os\n",
    "# change path if necessary\n",
    "import sys\n",
    "my_path = r'D:\\Documents\\etudes\\epfl\\MA1\\cours\\MachineLearning\\Project1'\n",
    "sys.path.insert(0,my_path + r'/code/SUBMISSION')\n",
    "\n",
    "# imports\n",
    "import numpy as np \n",
    "import matplotlib.pyplot as plt\n",
    "\n",
    "from proj1_helpers import predict_labels \n",
    "from implementations_enhanced import *\n",
    "from costs import *\n",
    "from optimize_hyperparams import *\n",
    "from cross_validation import *\n",
    "from step_wise import *\n",
    "from extend_features import *"
   ]
  },
  {
   "cell_type": "markdown",
   "metadata": {},
   "source": [
    "# Build dataset"
   ]
  },
  {
   "cell_type": "code",
   "execution_count": 2,
   "metadata": {
    "collapsed": true
   },
   "outputs": [],
   "source": [
    "from proj1_helpers import load_csv_data \n",
    "\n",
    "# load raw data\n",
    "y_raw, input_data_raw, ids = load_csv_data(my_path + r'/data/train.csv', sub_sample=False)"
   ]
  },
  {
   "cell_type": "code",
   "execution_count": 3,
   "metadata": {},
   "outputs": [
    {
     "name": "stdout",
     "output_type": "stream",
     "text": [
      "-999 are replaced by the mean value of the feature\n"
     ]
    }
   ],
   "source": [
    "from outliers import handle_outliers\n",
    "\n",
    "# handle outliers\n",
    "X0, y = handle_outliers(input_data_raw, y_raw, -999, 'mean')"
   ]
  },
  {
   "cell_type": "code",
   "execution_count": 4,
   "metadata": {
    "collapsed": true
   },
   "outputs": [],
   "source": [
    "# set y in {0,1} instead of {-1,1}\n",
    "y[np.where(y==-1)]=0"
   ]
  },
  {
   "cell_type": "markdown",
   "metadata": {},
   "source": [
    "# Build features"
   ]
  },
  {
   "cell_type": "code",
   "execution_count": 5,
   "metadata": {},
   "outputs": [
    {
     "name": "stdout",
     "output_type": "stream",
     "text": [
      "---------------------------\n",
      "Features have been set to the power(s): [1]\n",
      "16 Features of the momentum have been added\n",
      "4 logarithmic features have been added.\n"
     ]
    }
   ],
   "source": [
    "# get feature names \n",
    "names = list(np.genfromtxt(my_path + r'/data/train.csv', delimiter=\",\", dtype=str, max_rows = 1)[2:])\n",
    "degree = 1\n",
    "\n",
    "# extend features (adding log transformations, momentum features)\n",
    "X0, features = extend_features(X0, names, degree, is_add_log=True)"
   ]
  },
  {
   "cell_type": "code",
   "execution_count": 6,
   "metadata": {},
   "outputs": [],
   "source": [
    "# standardize candidates to give to the stepwise\n",
    "X0 ,_,_ = standardize(X0)\n",
    "\n",
    "# stepwise input\n",
    "all_candidates = X0"
   ]
  },
  {
   "cell_type": "markdown",
   "metadata": {},
   "source": [
    "# Least Squares"
   ]
  },
  {
   "cell_type": "code",
   "execution_count": 7,
   "metadata": {
    "collapsed": true
   },
   "outputs": [],
   "source": [
    "# parameters\n",
    "model = dict()\n",
    "model['method'] = 'ls'\n",
    "model['loss'] = 'rmse'\n",
    "\n",
    "# R2 type\n",
    "R2_method = 'McFadden' # or 'loss'\n",
    "\n",
    "# estimate R2 error through cross validation (1 or 0)\n",
    "cv = 0\n",
    "model['k_fold'] = 5\n",
    "\n",
    "# other\n",
    "model['debug_mode'] = 1"
   ]
  },
  {
   "cell_type": "code",
   "execution_count": 10,
   "metadata": {
    "scrolled": true
   },
   "outputs": [
    {
     "name": "stdout",
     "output_type": "stream",
     "text": [
      "--------------------------------------------------------------------------------------------\n",
      "Feature chosen:  DER_sum_pt_power_1 (index : 9 ) |  R2adj =  0.0320794565365\n",
      "--------------------------------------------------------------------------------------------\n",
      "Feature chosen:  PRI_lep_pt_mom_comp2 (index : 35 ) |  R2adj =  0.0411265530781\n",
      "--------------------------------------------------------------------------------------------\n",
      "Feature chosen:  PRI_lep_eta_power_1 (index : 17 ) |  R2adj =  0.0476859241161\n",
      "--------------------------------------------------------------------------------------------\n",
      "Feature chosen:  PRI_jet_subleading_phi_power_1 (index : 28 ) |  R2adj =  0.0513540500361\n",
      "--------------------------------------------------------------------------------------------\n"
     ]
    },
    {
     "ename": "IndexError",
     "evalue": "list index out of range",
     "output_type": "error",
     "traceback": [
      "\u001b[1;31m---------------------------------------------------------------------------\u001b[0m",
      "\u001b[1;31mIndexError\u001b[0m                                Traceback (most recent call last)",
      "\u001b[1;32m<ipython-input-10-96bd39f58c13>\u001b[0m in \u001b[0;36m<module>\u001b[1;34m()\u001b[0m\n\u001b[0;32m      4\u001b[0m \u001b[1;33m\u001b[0m\u001b[0m\n\u001b[0;32m      5\u001b[0m \u001b[1;31m# stepwise\u001b[0m\u001b[1;33m\u001b[0m\u001b[1;33m\u001b[0m\u001b[0m\n\u001b[1;32m----> 6\u001b[1;33m \u001b[0mbest_R2adj\u001b[0m\u001b[1;33m,\u001b[0m \u001b[0midx_features\u001b[0m \u001b[1;33m=\u001b[0m \u001b[0mstepwise\u001b[0m\u001b[1;33m(\u001b[0m\u001b[0mmodel\u001b[0m\u001b[1;33m,\u001b[0m \u001b[0mR2_method\u001b[0m\u001b[1;33m,\u001b[0m \u001b[0mall_candidates\u001b[0m\u001b[1;33m,\u001b[0m \u001b[0mfeatures_in\u001b[0m\u001b[1;33m,\u001b[0m \u001b[0my\u001b[0m\u001b[1;33m,\u001b[0m \u001b[0mcv\u001b[0m\u001b[1;33m)\u001b[0m\u001b[1;33m\u001b[0m\u001b[0m\n\u001b[0m",
      "\u001b[1;32mD:\\Documents\\etudes\\epfl\\MA1\\cours\\MachineLearning\\Project1/code/SUBMISSION\\step_wise.py\u001b[0m in \u001b[0;36mstepwise\u001b[1;34m(model, R2_method, all_candidates, features, y_true, cv)\u001b[0m\n\u001b[0;32m    206\u001b[0m \u001b[1;33m\u001b[0m\u001b[0m\n\u001b[0;32m    207\u001b[0m             \u001b[0mprint\u001b[0m\u001b[1;33m(\u001b[0m\u001b[1;34m'--------------------------------------------------------------------------------------------'\u001b[0m\u001b[1;33m)\u001b[0m\u001b[1;33m\u001b[0m\u001b[0m\n\u001b[1;32m--> 208\u001b[1;33m             \u001b[0mprint\u001b[0m\u001b[1;33m(\u001b[0m\u001b[1;34m'Feature chosen: '\u001b[0m\u001b[1;33m,\u001b[0m \u001b[0mfeatures\u001b[0m\u001b[1;33m[\u001b[0m\u001b[0mind_max\u001b[0m\u001b[1;33m]\u001b[0m\u001b[1;33m[\u001b[0m\u001b[1;36m1\u001b[0m\u001b[1;33m]\u001b[0m\u001b[1;33m,\u001b[0m \u001b[1;34m'(index :'\u001b[0m\u001b[1;33m,\u001b[0m \u001b[0mfeatures\u001b[0m\u001b[1;33m[\u001b[0m\u001b[0mind_max\u001b[0m\u001b[1;33m]\u001b[0m\u001b[1;33m[\u001b[0m\u001b[1;36m0\u001b[0m\u001b[1;33m]\u001b[0m\u001b[1;33m,\u001b[0m \u001b[1;34m') |'\u001b[0m\u001b[1;33m,\u001b[0m \u001b[1;34m' R2adj = '\u001b[0m\u001b[1;33m,\u001b[0m \u001b[0mR2adj_chosen\u001b[0m\u001b[1;33m)\u001b[0m\u001b[1;33m\u001b[0m\u001b[0m\n\u001b[0m\u001b[0;32m    209\u001b[0m \u001b[1;33m\u001b[0m\u001b[0m\n\u001b[0;32m    210\u001b[0m             \u001b[0midx_features\u001b[0m\u001b[1;33m.\u001b[0m\u001b[0mappend\u001b[0m\u001b[1;33m(\u001b[0m\u001b[0mfeatures\u001b[0m\u001b[1;33m[\u001b[0m\u001b[0mind_max\u001b[0m\u001b[1;33m]\u001b[0m\u001b[1;33m[\u001b[0m\u001b[1;36m0\u001b[0m\u001b[1;33m]\u001b[0m\u001b[1;33m)\u001b[0m\u001b[1;33m\u001b[0m\u001b[0m\n",
      "\u001b[1;31mIndexError\u001b[0m: list index out of range"
     ]
    }
   ],
   "source": [
    "# stepwise\n",
    "best_R2adj, idx_features = stepwise(model, R2_method, all_candidates, features, y, cv)"
   ]
  },
  {
   "cell_type": "code",
   "execution_count": 9,
   "metadata": {},
   "outputs": [
    {
     "name": "stdout",
     "output_type": "stream",
     "text": [
      "step 1 : R2 adjusted = 0.0320794565365\n",
      "step 2 : R2 adjusted = 0.0411265530781\n",
      "step 3 : R2 adjusted = 0.0476859241161\n",
      "step 4 : R2 adjusted = 0.0513540500361\n",
      "step 5 : R2 adjusted = 0.0541217005304\n",
      "step 6 : R2 adjusted = 0.0619509471832\n",
      "step 7 : R2 adjusted = 0.0636698162768\n",
      "step 8 : R2 adjusted = 0.0645875366324\n",
      "step 9 : R2 adjusted = 0.065537927064\n",
      "step 10 : R2 adjusted = 0.0663104102943\n",
      "step 11 : R2 adjusted = 0.0670029136786\n",
      "step 12 : R2 adjusted = 0.0676125537267\n",
      "step 13 : R2 adjusted = 0.0685500923705\n",
      "step 14 : R2 adjusted = 0.0701328057152\n",
      "step 15 : R2 adjusted = 0.0708869018379\n",
      "step 16 : R2 adjusted = 0.071204342374\n",
      "step 17 : R2 adjusted = 0.0715130336785\n",
      "step 18 : R2 adjusted = 0.0721154218984\n",
      "step 19 : R2 adjusted = 0.0727543538223\n",
      "step 20 : R2 adjusted = 0.0730407667631\n",
      "step 21 : R2 adjusted = 0.0734366365681\n",
      "step 22 : R2 adjusted = 0.0737501026612\n",
      "step 23 : R2 adjusted = 0.0738255571317\n",
      "step 24 : R2 adjusted = 0.0738659884399\n",
      "step 25 : R2 adjusted = 0.0739037116954\n",
      "step 26 : R2 adjusted = 0.0739213928267\n",
      "step 27 : R2 adjusted = 0.0739306257123\n",
      "step 28 : R2 adjusted = 0.073932622376\n",
      "step 29 : R2 adjusted = 0.0739346491071\n",
      "step 30 : R2 adjusted = 0.0739426062325\n",
      "-------------------------------------------------------\n",
      "Number of features chosen: 30\n",
      "Indices of features chosen:  [1, 13, 4, 11, 46, 0, 44, 7, 12, 42, 49, 2, 16, 10, 43, 47, 45, 22, 6, 23, 19, 48, 21, 5, 8, 29, 32, 31, 30, 33]\n"
     ]
    }
   ],
   "source": [
    "# display selected features\n",
    "results_r2_stepwise(best_R2adj[:len(best_R2adj)-1], idx_features)"
   ]
  },
  {
   "cell_type": "code",
   "execution_count": null,
   "metadata": {
    "collapsed": true
   },
   "outputs": [],
   "source": [
    "plt.plot(best_R2adj)\n",
    "plt.title('Best R2 adjusted')\n",
    "plt.xlabel('Num features')\n",
    "plt.ylabel('R2_adj values')\n",
    "plt.show()\n",
    "plt.savefig(\"R2LS\")"
   ]
  },
  {
   "cell_type": "markdown",
   "metadata": {},
   "source": [
    "# Cross validation with feature selected"
   ]
  },
  {
   "cell_type": "markdown",
   "metadata": {},
   "source": [
    "### Degree optimization + training/testing losses"
   ]
  },
  {
   "cell_type": "code",
   "execution_count": null,
   "metadata": {
    "collapsed": true
   },
   "outputs": [],
   "source": [
    "# feature selection\n",
    "X = X0[:,idx_features]\n",
    "\n",
    "# Set parameters\n",
    "model['initial_w'] = np.zeros(X.shape[1])\n",
    "deg_min = 1\n",
    "deg_max = 7\n",
    "deg_steps = 1\n",
    "\n",
    "\n",
    "w_tr_tot, loss_tr_tot, loss_te_tot, deg_opt, success_rate  = optimize_degree(y, X, deg_min, deg_max, deg_steps, model, debug_mode=1)\n"
   ]
  },
  {
   "cell_type": "code",
   "execution_count": null,
   "metadata": {
    "collapsed": true
   },
   "outputs": [],
   "source": [
    "mean_tr = np.mean(loss_tr_tot)\n",
    "mean_te = np.mean(loss_te_tot)\n",
    "var_tr = np.var(loss_tr_tot)\n",
    "var_te = np.var(loss_te_tot)\n",
    "\n",
    "print(\"TRAINING:\")\n",
    "print('Mean = ', mean_tr, ' | Var = ', var_tr)\n",
    "print('---------------------------------------------------')\n",
    "print(\"TESTING:\")\n",
    "print('Mean = ', mean_te, ' | Var = ', var_te)\n",
    "print('\\n')\n",
    "print(\"Success Rate : \", success_rate)"
   ]
  },
  {
   "cell_type": "code",
   "execution_count": null,
   "metadata": {
    "collapsed": true
   },
   "outputs": [],
   "source": [
    "print(\"Optimum degree : \", deg_opt)"
   ]
  },
  {
   "cell_type": "markdown",
   "metadata": {},
   "source": [
    "# Least Squares Gradient Descent"
   ]
  },
  {
   "cell_type": "markdown",
   "metadata": {},
   "source": [
    "## Build features"
   ]
  },
  {
   "cell_type": "code",
   "execution_count": null,
   "metadata": {
    "collapsed": true
   },
   "outputs": [],
   "source": [
    "X0, y = handle_outliers(input_data_raw, y_raw, -999, 'mean')\n",
    "# set y in {0,1} instead of {-1,1}\n",
    "y[np.where(y==-1)]=0\n",
    "\n",
    "# get feature names \n",
    "names = list(np.genfromtxt(my_path + r'/data/train.csv', delimiter=\",\", dtype=str, max_rows = 1)[2:])\n",
    "log = True\n",
    "degree = 1\n",
    "X0, features = extend_features(X0, names, degree, log)"
   ]
  },
  {
   "cell_type": "code",
   "execution_count": null,
   "metadata": {
    "collapsed": true
   },
   "outputs": [],
   "source": [
    "all_candidates = X0\n",
    "all_candidates, _,_ = standardize(X0)\n",
    "all_candidates.shape"
   ]
  },
  {
   "cell_type": "code",
   "execution_count": null,
   "metadata": {
    "collapsed": true
   },
   "outputs": [],
   "source": [
    "# parameters\n",
    "model = dict()\n",
    "model['method'] = 'lsgd'\n",
    "model['loss'] = 'rmse'\n",
    "\n",
    "# hyperparameters\n",
    "model['max_iters'] = 5000\n",
    "model['gamma'] = 1e-1\n",
    "model['threshold'] = 1e-4\n",
    "\n",
    "\n",
    "# other\n",
    "model['debug_mode'] = 1\n",
    "\n",
    "# R2 type\n",
    "R2_method = 'McFadden' # 'loss' or 'McFadden' \n",
    "\n",
    "# estimate R2 error through cross validation (1 or 0)\n",
    "cv = 0\n",
    "model['k_fold'] = 10"
   ]
  },
  {
   "cell_type": "code",
   "execution_count": null,
   "metadata": {
    "collapsed": true,
    "scrolled": true
   },
   "outputs": [],
   "source": [
    "# step-wise\n",
    "best_R2adj, idx_features = stepwise(model, R2_method, all_candidates, features, y, cv)"
   ]
  },
  {
   "cell_type": "code",
   "execution_count": null,
   "metadata": {
    "collapsed": true
   },
   "outputs": [],
   "source": [
    "duration = 1  # second\n",
    "freq = 440  # Hz\n",
    "os.system('play --no-show-progress --null --channels 1 synth %s sine %f' % (duration, freq))"
   ]
  },
  {
   "cell_type": "code",
   "execution_count": null,
   "metadata": {
    "collapsed": true
   },
   "outputs": [],
   "source": [
    "# display selected features\n",
    "results_r2_stepwise(best_R2adj[:len(best_R2adj)-1], idx_features)"
   ]
  },
  {
   "cell_type": "code",
   "execution_count": null,
   "metadata": {
    "collapsed": true
   },
   "outputs": [],
   "source": [
    "best_R2adj"
   ]
  },
  {
   "cell_type": "code",
   "execution_count": null,
   "metadata": {
    "collapsed": true
   },
   "outputs": [],
   "source": [
    "plt.plot(best_R2adj)\n",
    "plt.title('Best R2 adjusted')\n",
    "plt.xlabel('Num features')\n",
    "plt.ylabel('R2_adj values')\n",
    "plt.show()\n",
    "plt.savefig(\"R2LS\")"
   ]
  },
  {
   "cell_type": "markdown",
   "metadata": {},
   "source": [
    "# Cross validation with feature selected"
   ]
  },
  {
   "cell_type": "markdown",
   "metadata": {},
   "source": [
    "### Degree optimization"
   ]
  },
  {
   "cell_type": "code",
   "execution_count": null,
   "metadata": {
    "collapsed": true,
    "scrolled": true
   },
   "outputs": [],
   "source": [
    "# ------------------------------- BUILD THE MODEL WITH THE SELECTED FEATURES \n",
    "X = X0[:,idx_features]\n",
    "\n",
    "# Set parameters\n",
    "model['initial_w'] = np.zeros(X.shape[1])\n",
    "model['gamma'] = 1e-2\n",
    "model['max_iters'] = 5000\n",
    "model['debug_mode'] = 1\n",
    "deg_min = 1\n",
    "deg_max = 7\n",
    "deg_steps = 1\n",
    "\n",
    "\n",
    "w_tr_tot, loss_tr_tot, loss_te_tot, deg_opt, success_rate  = optimize_degree(y, X, deg_min, deg_max, deg_steps, model, debug_mode=1)\n",
    "#w_tr_tot, loss_tr_tot, loss_te_tot, success_rate = cross_validation(y,X,model,debug_mode=1)"
   ]
  },
  {
   "cell_type": "code",
   "execution_count": null,
   "metadata": {
    "collapsed": true
   },
   "outputs": [],
   "source": [
    "mean_tr = np.mean(loss_tr_tot)\n",
    "mean_te = np.mean(loss_te_tot)\n",
    "var_tr = np.var(loss_tr_tot)\n",
    "var_te = np.var(loss_te_tot)\n",
    "\n",
    "print(\"TRAINING:\")\n",
    "print('Mean = ', mean_tr, ' | Var = ', var_tr)\n",
    "print('---------------------------------------------------')\n",
    "print(\"TESTING:\")\n",
    "print('Mean = ', mean_te, ' | Var = ', var_te)\n",
    "print('\\n')\n",
    "print(\"Success Rate : \", success_rate)"
   ]
  },
  {
   "cell_type": "code",
   "execution_count": null,
   "metadata": {
    "collapsed": true
   },
   "outputs": [],
   "source": [
    "deg_opt"
   ]
  },
  {
   "cell_type": "code",
   "execution_count": null,
   "metadata": {
    "collapsed": true
   },
   "outputs": [],
   "source": [
    "duration = 1  # second\n",
    "freq = 440  # Hz\n",
    "os.system('play --no-show-progress --null --channels 1 synth %s sine %f' % (duration, freq))"
   ]
  },
  {
   "cell_type": "markdown",
   "metadata": {},
   "source": [
    "# Least Squares Stochastic Gradient Descent"
   ]
  },
  {
   "cell_type": "markdown",
   "metadata": {},
   "source": [
    "## Build features "
   ]
  },
  {
   "cell_type": "code",
   "execution_count": null,
   "metadata": {
    "collapsed": true
   },
   "outputs": [],
   "source": [
    "X0, y = handle_outliers(input_data_raw, y_raw, -999, 'mean')\n",
    "# set y in {0,1} instead of {-1,1}\n",
    "y[np.where(y==-1)]=0\n",
    "\n",
    "# get feature names \n",
    "names = list(np.genfromtxt(my_path + r'/data/train.csv', delimiter=\",\", dtype=str, max_rows = 1)[2:])\n",
    "log = True\n",
    "degree = 1\n",
    "X0, features= extend_features(X0, names, degree,log)"
   ]
  },
  {
   "cell_type": "code",
   "execution_count": null,
   "metadata": {
    "collapsed": true
   },
   "outputs": [],
   "source": [
    "all_candidates = X0\n",
    "print(all_candidates.shape)\n",
    "print(len(features))"
   ]
  },
  {
   "cell_type": "code",
   "execution_count": null,
   "metadata": {
    "collapsed": true
   },
   "outputs": [],
   "source": [
    "# parameters\n",
    "model = dict()\n",
    "model['method'] = 'lssgd'\n",
    "model['loss'] = 'rmse'\n",
    "\n",
    "# hyperparameters\n",
    "model['batch_size'] = 50\n",
    "model['max_iters'] = 25\n",
    "model['gamma'] = 1e-1\n",
    "model['threshold'] = 1e-4\n",
    "\n",
    "# other\n",
    "model['debug_mode'] = 0\n",
    "\n",
    "# R2 type\n",
    "R2_method = 'McFadden' # 'loss', 'Tjur' or 'McFadden' \n",
    "\n",
    "# estimate R2 error through cross validation (1 or 0)\n",
    "cv = 0\n",
    "model['k_fold'] = 10"
   ]
  },
  {
   "cell_type": "code",
   "execution_count": null,
   "metadata": {
    "collapsed": true
   },
   "outputs": [],
   "source": [
    "# step-wise\n",
    "best_R2adj, idx_features = stepwise(model, R2_method, all_candidates, features, y, cv)"
   ]
  },
  {
   "cell_type": "code",
   "execution_count": null,
   "metadata": {
    "collapsed": true
   },
   "outputs": [],
   "source": [
    "# display selected features\n",
    "results_r2_stepwise(best_R2adj[:len(best_R2adj)-1], idx_features)"
   ]
  },
  {
   "cell_type": "code",
   "execution_count": null,
   "metadata": {
    "collapsed": true
   },
   "outputs": [],
   "source": [
    "duration = 1  # second\n",
    "freq = 440  # Hz\n",
    "os.system('play --no-show-progress --null --channels 1 synth %s sine %f' % (duration, freq))"
   ]
  },
  {
   "cell_type": "markdown",
   "metadata": {},
   "source": [
    "# Cross validation with feature selected"
   ]
  },
  {
   "cell_type": "code",
   "execution_count": null,
   "metadata": {
    "collapsed": true,
    "scrolled": true
   },
   "outputs": [],
   "source": [
    "# ------------------------------- BUILD THE MODEL WITH THE SELECTED FEATURES \n",
    "X = X0[:,idx_features]\n",
    "\n",
    "# Set parameters\n",
    "model['initial_w'] = np.zeros(X.shape[1])\n",
    "#model['debug_mode'] = 1\n",
    "deg_min = 1\n",
    "deg_max = 7\n",
    "deg_steps = 1\n",
    "\n",
    "\n",
    "w_tr_tot, loss_tr_tot, loss_te_tot, deg_opt, success_rate  = optimize_degree(y, X, deg_min, deg_max, deg_steps, model, debug_mode=1)\n"
   ]
  },
  {
   "cell_type": "code",
   "execution_count": null,
   "metadata": {
    "collapsed": true
   },
   "outputs": [],
   "source": [
    "mean_tr = np.mean(loss_tr_tot)\n",
    "mean_te = np.mean(loss_te_tot)\n",
    "var_tr = np.var(loss_tr_tot)\n",
    "var_te = np.var(loss_te_tot)\n",
    "\n",
    "print(\"TRAINING:\")\n",
    "print('Mean = ', mean_tr, ' | Var = ', var_tr)\n",
    "print('---------------------------------------------------')\n",
    "print(\"TESTING:\")\n",
    "print('Mean = ', mean_te, ' | Var = ', var_te)\n",
    "print('\\n')\n",
    "print(\"Success Rate : \", success_rate)"
   ]
  },
  {
   "cell_type": "code",
   "execution_count": null,
   "metadata": {
    "collapsed": true
   },
   "outputs": [],
   "source": [
    "duration = 1  # second\n",
    "freq = 440  # Hz\n",
    "os.system('play --no-show-progress --null --channels 1 synth %s sine %f' % (duration, freq))"
   ]
  },
  {
   "cell_type": "code",
   "execution_count": null,
   "metadata": {
    "collapsed": true
   },
   "outputs": [],
   "source": []
  }
 ],
 "metadata": {
  "kernelspec": {
   "display_name": "Python 3",
   "language": "python",
   "name": "python3"
  },
  "language_info": {
   "codemirror_mode": {
    "name": "ipython",
    "version": 3
   },
   "file_extension": ".py",
   "mimetype": "text/x-python",
   "name": "python",
   "nbconvert_exporter": "python",
   "pygments_lexer": "ipython3",
   "version": "3.6.1"
  }
 },
 "nbformat": 4,
 "nbformat_minor": 2
}
